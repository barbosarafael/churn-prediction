{
 "cells": [
  {
   "cell_type": "markdown",
   "metadata": {},
   "source": [
    "# Exploratory Data Analysis\n",
    "\n",
    "This notebook will be used to perform exploratory data analysis on the customer churn dataset. Not will be a deep exploration of the data, but rather a general overview of the dataset and its characteristics."
   ]
  },
  {
   "cell_type": "markdown",
   "metadata": {},
   "source": [
    "## 1. About dataset\n",
    "\n",
    "The data set includes information about:\n",
    "\n",
    "- Customers who left within the last month – the column is called Churn\n",
    "- Services that each customer has signed up for – phone, multiple lines, internet, online security, online backup, device protection, tech support, and streaming TV and movies\n",
    "- Customer account information – how long they’ve been a customer, contract, payment method, paperless billing, monthly charges, and total charges\n",
    "- Demographic info about customers – gender, age range, and if they have partners and dependents\n",
    "\n",
    "Dictionary:\n",
    "\n",
    "- CustomerID: A unique ID that identifies each customer.\n",
    "- Gender: The customer’s gender: Male, Female\n",
    "- Age: The customer’s current age, in years, at the time the fiscal quarter ended.\n",
    "- Senior Citizen: Indicates if the customer is 65 or older: Yes, No\n",
    "- Married (Partner): Indicates if the customer is married: Yes, No\n",
    "- Dependents: Indicates if the customer lives with any dependents: Yes, No. Dependents could be children, parents, grandparents, etc.\n",
    "- Number of Dependents: Indicates the number of dependents that live with the customer.\n",
    "- Phone Service: Indicates if the customer subscribes to home phone service with the company: Yes, No\n",
    "- Multiple Lines: Indicates if the customer subscribes to multiple telephone lines with the company: Yes, No\n",
    "- Internet Service: Indicates if the customer subscribes to Internet service with the company: No, DSL, Fiber Optic, Cable.\n",
    "- Online Security: Indicates if the customer subscribes to an additional online security service provided by the company: Yes, No\n",
    "- Online Backup: Indicates if the customer subscribes to an additional online backup service provided by the company: Yes, No\n",
    "- Device Protection Plan: Indicates if the customer subscribes to an additional device protection plan for their Internet equipment - provided by the company: Yes, No\n",
    "- Premium Tech Support: Indicates if the customer subscribes to an additional technical support plan from the company with reduced wait times: Yes, No\n",
    "- Streaming TV: Indicates if the customer uses their Internet service to stream television programing from a third party provider: - Yes, No. The company does not charge an additional fee for this service.\n",
    "- Streaming Movies: Indicates if the customer uses their Internet service to stream movies from a third party provider: Yes, No The - company does not charge an additional fee for this service.\n",
    "- Contract: Indicates the customer’s current contract type: Month-to-Month, One Year, Two Year.\n",
    "- Paperless Billing: Indicates if the customer has chosen paperless billing: Yes, No\n",
    "- Payment Method: Indicates how the customer pays their bill: Bank Withdrawal, Credit Card, Mailed Check\n",
    "- Monthly Charge: Indicates the customer’s current total monthly charge for all their services from the company.\n",
    "- Total Charges: Indicates the customer’s total charges, calculated to the end of the quarter specified above.\n",
    "- Tenure: Indicates the total amount of months that the customer has been with the company.\n",
    "- Churn: Yes = the customer left the company this quarter. No = the customer remained with the company. Directly related to Churn Value."
   ]
  },
  {
   "cell_type": "markdown",
   "metadata": {},
   "source": [
    "## 2. A first look"
   ]
  },
  {
   "cell_type": "code",
   "execution_count": 1,
   "metadata": {},
   "outputs": [],
   "source": [
    "#---- Libs \n",
    "\n",
    "# Data analysis\n",
    "\n",
    "import pandas as pd \n",
    "import numpy as np\n",
    "\n",
    "# Data visualization\n",
    "\n",
    "import plotly.express as px\n",
    "\n",
    "# Configs\n",
    "\n",
    "pd.set_option('display.max_columns', None)"
   ]
  },
  {
   "cell_type": "code",
   "execution_count": 2,
   "metadata": {},
   "outputs": [
    {
     "data": {
      "text/html": [
       "<div>\n",
       "<style scoped>\n",
       "    .dataframe tbody tr th:only-of-type {\n",
       "        vertical-align: middle;\n",
       "    }\n",
       "\n",
       "    .dataframe tbody tr th {\n",
       "        vertical-align: top;\n",
       "    }\n",
       "\n",
       "    .dataframe thead th {\n",
       "        text-align: right;\n",
       "    }\n",
       "</style>\n",
       "<table border=\"1\" class=\"dataframe\">\n",
       "  <thead>\n",
       "    <tr style=\"text-align: right;\">\n",
       "      <th></th>\n",
       "      <th>customerID</th>\n",
       "      <th>gender</th>\n",
       "      <th>SeniorCitizen</th>\n",
       "      <th>Partner</th>\n",
       "      <th>Dependents</th>\n",
       "      <th>tenure</th>\n",
       "      <th>PhoneService</th>\n",
       "      <th>MultipleLines</th>\n",
       "      <th>InternetService</th>\n",
       "      <th>OnlineSecurity</th>\n",
       "      <th>OnlineBackup</th>\n",
       "      <th>DeviceProtection</th>\n",
       "      <th>TechSupport</th>\n",
       "      <th>StreamingTV</th>\n",
       "      <th>StreamingMovies</th>\n",
       "      <th>Contract</th>\n",
       "      <th>PaperlessBilling</th>\n",
       "      <th>PaymentMethod</th>\n",
       "      <th>MonthlyCharges</th>\n",
       "      <th>TotalCharges</th>\n",
       "      <th>Churn</th>\n",
       "    </tr>\n",
       "  </thead>\n",
       "  <tbody>\n",
       "    <tr>\n",
       "      <th>0</th>\n",
       "      <td>4950-BDEUX</td>\n",
       "      <td>Male</td>\n",
       "      <td>0</td>\n",
       "      <td>No</td>\n",
       "      <td>No</td>\n",
       "      <td>35</td>\n",
       "      <td>No</td>\n",
       "      <td>No phone service</td>\n",
       "      <td>DSL</td>\n",
       "      <td>No</td>\n",
       "      <td>No</td>\n",
       "      <td>Yes</td>\n",
       "      <td>No</td>\n",
       "      <td>Yes</td>\n",
       "      <td>Yes</td>\n",
       "      <td>Month-to-month</td>\n",
       "      <td>No</td>\n",
       "      <td>Electronic check</td>\n",
       "      <td>49.20</td>\n",
       "      <td>1701.65</td>\n",
       "      <td>No</td>\n",
       "    </tr>\n",
       "    <tr>\n",
       "      <th>1</th>\n",
       "      <td>7993-NQLJE</td>\n",
       "      <td>Male</td>\n",
       "      <td>0</td>\n",
       "      <td>Yes</td>\n",
       "      <td>Yes</td>\n",
       "      <td>15</td>\n",
       "      <td>Yes</td>\n",
       "      <td>No</td>\n",
       "      <td>Fiber optic</td>\n",
       "      <td>Yes</td>\n",
       "      <td>No</td>\n",
       "      <td>No</td>\n",
       "      <td>No</td>\n",
       "      <td>No</td>\n",
       "      <td>No</td>\n",
       "      <td>Month-to-month</td>\n",
       "      <td>No</td>\n",
       "      <td>Mailed check</td>\n",
       "      <td>75.10</td>\n",
       "      <td>1151.55</td>\n",
       "      <td>No</td>\n",
       "    </tr>\n",
       "    <tr>\n",
       "      <th>2</th>\n",
       "      <td>7321-ZNSLA</td>\n",
       "      <td>Male</td>\n",
       "      <td>0</td>\n",
       "      <td>Yes</td>\n",
       "      <td>Yes</td>\n",
       "      <td>13</td>\n",
       "      <td>No</td>\n",
       "      <td>No phone service</td>\n",
       "      <td>DSL</td>\n",
       "      <td>Yes</td>\n",
       "      <td>Yes</td>\n",
       "      <td>No</td>\n",
       "      <td>Yes</td>\n",
       "      <td>No</td>\n",
       "      <td>No</td>\n",
       "      <td>Two year</td>\n",
       "      <td>No</td>\n",
       "      <td>Mailed check</td>\n",
       "      <td>40.55</td>\n",
       "      <td>590.35</td>\n",
       "      <td>No</td>\n",
       "    </tr>\n",
       "    <tr>\n",
       "      <th>3</th>\n",
       "      <td>4922-CVPDX</td>\n",
       "      <td>Female</td>\n",
       "      <td>0</td>\n",
       "      <td>Yes</td>\n",
       "      <td>No</td>\n",
       "      <td>26</td>\n",
       "      <td>Yes</td>\n",
       "      <td>No</td>\n",
       "      <td>DSL</td>\n",
       "      <td>No</td>\n",
       "      <td>Yes</td>\n",
       "      <td>Yes</td>\n",
       "      <td>No</td>\n",
       "      <td>Yes</td>\n",
       "      <td>Yes</td>\n",
       "      <td>Two year</td>\n",
       "      <td>Yes</td>\n",
       "      <td>Credit card (automatic)</td>\n",
       "      <td>73.50</td>\n",
       "      <td>1905.7</td>\n",
       "      <td>No</td>\n",
       "    </tr>\n",
       "    <tr>\n",
       "      <th>4</th>\n",
       "      <td>2903-YYTBW</td>\n",
       "      <td>Male</td>\n",
       "      <td>0</td>\n",
       "      <td>Yes</td>\n",
       "      <td>Yes</td>\n",
       "      <td>1</td>\n",
       "      <td>Yes</td>\n",
       "      <td>No</td>\n",
       "      <td>DSL</td>\n",
       "      <td>No</td>\n",
       "      <td>No</td>\n",
       "      <td>No</td>\n",
       "      <td>No</td>\n",
       "      <td>No</td>\n",
       "      <td>No</td>\n",
       "      <td>Month-to-month</td>\n",
       "      <td>No</td>\n",
       "      <td>Electronic check</td>\n",
       "      <td>44.55</td>\n",
       "      <td>44.55</td>\n",
       "      <td>No</td>\n",
       "    </tr>\n",
       "  </tbody>\n",
       "</table>\n",
       "</div>"
      ],
      "text/plain": [
       "   customerID  gender  SeniorCitizen Partner Dependents  tenure PhoneService  \\\n",
       "0  4950-BDEUX    Male              0      No         No      35           No   \n",
       "1  7993-NQLJE    Male              0     Yes        Yes      15          Yes   \n",
       "2  7321-ZNSLA    Male              0     Yes        Yes      13           No   \n",
       "3  4922-CVPDX  Female              0     Yes         No      26          Yes   \n",
       "4  2903-YYTBW    Male              0     Yes        Yes       1          Yes   \n",
       "\n",
       "      MultipleLines InternetService OnlineSecurity OnlineBackup  \\\n",
       "0  No phone service             DSL             No           No   \n",
       "1                No     Fiber optic            Yes           No   \n",
       "2  No phone service             DSL            Yes          Yes   \n",
       "3                No             DSL             No          Yes   \n",
       "4                No             DSL             No           No   \n",
       "\n",
       "  DeviceProtection TechSupport StreamingTV StreamingMovies        Contract  \\\n",
       "0              Yes          No         Yes             Yes  Month-to-month   \n",
       "1               No          No          No              No  Month-to-month   \n",
       "2               No         Yes          No              No        Two year   \n",
       "3              Yes          No         Yes             Yes        Two year   \n",
       "4               No          No          No              No  Month-to-month   \n",
       "\n",
       "  PaperlessBilling            PaymentMethod  MonthlyCharges TotalCharges Churn  \n",
       "0               No         Electronic check           49.20      1701.65    No  \n",
       "1               No             Mailed check           75.10      1151.55    No  \n",
       "2               No             Mailed check           40.55       590.35    No  \n",
       "3              Yes  Credit card (automatic)           73.50       1905.7    No  \n",
       "4               No         Electronic check           44.55        44.55    No  "
      ]
     },
     "execution_count": 2,
     "metadata": {},
     "output_type": "execute_result"
    }
   ],
   "source": [
    "#--- Load data\n",
    "\n",
    "train = pd.read_csv('../data/processed/train.csv')\n",
    "\n",
    "train.head()"
   ]
  },
  {
   "cell_type": "code",
   "execution_count": 3,
   "metadata": {},
   "outputs": [
    {
     "name": "stdout",
     "output_type": "stream",
     "text": [
      "<class 'pandas.core.frame.DataFrame'>\n",
      "RangeIndex: 5634 entries, 0 to 5633\n",
      "Data columns (total 21 columns):\n",
      " #   Column            Non-Null Count  Dtype  \n",
      "---  ------            --------------  -----  \n",
      " 0   customerID        5634 non-null   object \n",
      " 1   gender            5634 non-null   object \n",
      " 2   SeniorCitizen     5634 non-null   int64  \n",
      " 3   Partner           5634 non-null   object \n",
      " 4   Dependents        5634 non-null   object \n",
      " 5   tenure            5634 non-null   int64  \n",
      " 6   PhoneService      5634 non-null   object \n",
      " 7   MultipleLines     5634 non-null   object \n",
      " 8   InternetService   5634 non-null   object \n",
      " 9   OnlineSecurity    5634 non-null   object \n",
      " 10  OnlineBackup      5634 non-null   object \n",
      " 11  DeviceProtection  5634 non-null   object \n",
      " 12  TechSupport       5634 non-null   object \n",
      " 13  StreamingTV       5634 non-null   object \n",
      " 14  StreamingMovies   5634 non-null   object \n",
      " 15  Contract          5634 non-null   object \n",
      " 16  PaperlessBilling  5634 non-null   object \n",
      " 17  PaymentMethod     5634 non-null   object \n",
      " 18  MonthlyCharges    5634 non-null   float64\n",
      " 19  TotalCharges      5634 non-null   object \n",
      " 20  Churn             5634 non-null   object \n",
      "dtypes: float64(1), int64(2), object(18)\n",
      "memory usage: 924.5+ KB\n"
     ]
    }
   ],
   "source": [
    "#--- Info about data\n",
    "\n",
    "train.info()"
   ]
  },
  {
   "cell_type": "markdown",
   "metadata": {},
   "source": [
    "## 3. Univariable analysis"
   ]
  },
  {
   "cell_type": "markdown",
   "metadata": {},
   "source": [
    "### 3.0. Churn"
   ]
  },
  {
   "cell_type": "code",
   "execution_count": 4,
   "metadata": {},
   "outputs": [
    {
     "data": {
      "application/vnd.plotly.v1+json": {
       "config": {
        "plotlyServerURL": "https://plot.ly"
       },
       "data": [
        {
         "hovertemplate": "Churn=%{x}<br>count=%{y}<br>text=%{text}<extra></extra>",
         "legendgroup": "",
         "marker": {
          "color": "#1f77b4",
          "opacity": 0.8,
          "pattern": {
           "shape": ""
          }
         },
         "name": "",
         "orientation": "v",
         "showlegend": false,
         "text": [
          "4139 (73.5%)",
          "1495 (26.5%)"
         ],
         "textposition": "outside",
         "type": "bar",
         "x": [
          "No",
          "Yes"
         ],
         "xaxis": "x",
         "y": {
          "bdata": "KxDXBQ==",
          "dtype": "i2"
         },
         "yaxis": "y"
        }
       ],
       "layout": {
        "bargap": 0.1,
        "barmode": "relative",
        "legend": {
         "tracegroupgap": 0
        },
        "margin": {
         "t": 60
        },
        "template": {
         "data": {
          "bar": [
           {
            "error_x": {
             "color": "#2a3f5f"
            },
            "error_y": {
             "color": "#2a3f5f"
            },
            "marker": {
             "line": {
              "color": "white",
              "width": 0.5
             },
             "pattern": {
              "fillmode": "overlay",
              "size": 10,
              "solidity": 0.2
             }
            },
            "type": "bar"
           }
          ],
          "barpolar": [
           {
            "marker": {
             "line": {
              "color": "white",
              "width": 0.5
             },
             "pattern": {
              "fillmode": "overlay",
              "size": 10,
              "solidity": 0.2
             }
            },
            "type": "barpolar"
           }
          ],
          "carpet": [
           {
            "aaxis": {
             "endlinecolor": "#2a3f5f",
             "gridcolor": "#C8D4E3",
             "linecolor": "#C8D4E3",
             "minorgridcolor": "#C8D4E3",
             "startlinecolor": "#2a3f5f"
            },
            "baxis": {
             "endlinecolor": "#2a3f5f",
             "gridcolor": "#C8D4E3",
             "linecolor": "#C8D4E3",
             "minorgridcolor": "#C8D4E3",
             "startlinecolor": "#2a3f5f"
            },
            "type": "carpet"
           }
          ],
          "choropleth": [
           {
            "colorbar": {
             "outlinewidth": 0,
             "ticks": ""
            },
            "type": "choropleth"
           }
          ],
          "contour": [
           {
            "colorbar": {
             "outlinewidth": 0,
             "ticks": ""
            },
            "colorscale": [
             [
              0,
              "#0d0887"
             ],
             [
              0.1111111111111111,
              "#46039f"
             ],
             [
              0.2222222222222222,
              "#7201a8"
             ],
             [
              0.3333333333333333,
              "#9c179e"
             ],
             [
              0.4444444444444444,
              "#bd3786"
             ],
             [
              0.5555555555555556,
              "#d8576b"
             ],
             [
              0.6666666666666666,
              "#ed7953"
             ],
             [
              0.7777777777777778,
              "#fb9f3a"
             ],
             [
              0.8888888888888888,
              "#fdca26"
             ],
             [
              1,
              "#f0f921"
             ]
            ],
            "type": "contour"
           }
          ],
          "contourcarpet": [
           {
            "colorbar": {
             "outlinewidth": 0,
             "ticks": ""
            },
            "type": "contourcarpet"
           }
          ],
          "heatmap": [
           {
            "colorbar": {
             "outlinewidth": 0,
             "ticks": ""
            },
            "colorscale": [
             [
              0,
              "#0d0887"
             ],
             [
              0.1111111111111111,
              "#46039f"
             ],
             [
              0.2222222222222222,
              "#7201a8"
             ],
             [
              0.3333333333333333,
              "#9c179e"
             ],
             [
              0.4444444444444444,
              "#bd3786"
             ],
             [
              0.5555555555555556,
              "#d8576b"
             ],
             [
              0.6666666666666666,
              "#ed7953"
             ],
             [
              0.7777777777777778,
              "#fb9f3a"
             ],
             [
              0.8888888888888888,
              "#fdca26"
             ],
             [
              1,
              "#f0f921"
             ]
            ],
            "type": "heatmap"
           }
          ],
          "histogram": [
           {
            "marker": {
             "pattern": {
              "fillmode": "overlay",
              "size": 10,
              "solidity": 0.2
             }
            },
            "type": "histogram"
           }
          ],
          "histogram2d": [
           {
            "colorbar": {
             "outlinewidth": 0,
             "ticks": ""
            },
            "colorscale": [
             [
              0,
              "#0d0887"
             ],
             [
              0.1111111111111111,
              "#46039f"
             ],
             [
              0.2222222222222222,
              "#7201a8"
             ],
             [
              0.3333333333333333,
              "#9c179e"
             ],
             [
              0.4444444444444444,
              "#bd3786"
             ],
             [
              0.5555555555555556,
              "#d8576b"
             ],
             [
              0.6666666666666666,
              "#ed7953"
             ],
             [
              0.7777777777777778,
              "#fb9f3a"
             ],
             [
              0.8888888888888888,
              "#fdca26"
             ],
             [
              1,
              "#f0f921"
             ]
            ],
            "type": "histogram2d"
           }
          ],
          "histogram2dcontour": [
           {
            "colorbar": {
             "outlinewidth": 0,
             "ticks": ""
            },
            "colorscale": [
             [
              0,
              "#0d0887"
             ],
             [
              0.1111111111111111,
              "#46039f"
             ],
             [
              0.2222222222222222,
              "#7201a8"
             ],
             [
              0.3333333333333333,
              "#9c179e"
             ],
             [
              0.4444444444444444,
              "#bd3786"
             ],
             [
              0.5555555555555556,
              "#d8576b"
             ],
             [
              0.6666666666666666,
              "#ed7953"
             ],
             [
              0.7777777777777778,
              "#fb9f3a"
             ],
             [
              0.8888888888888888,
              "#fdca26"
             ],
             [
              1,
              "#f0f921"
             ]
            ],
            "type": "histogram2dcontour"
           }
          ],
          "mesh3d": [
           {
            "colorbar": {
             "outlinewidth": 0,
             "ticks": ""
            },
            "type": "mesh3d"
           }
          ],
          "parcoords": [
           {
            "line": {
             "colorbar": {
              "outlinewidth": 0,
              "ticks": ""
             }
            },
            "type": "parcoords"
           }
          ],
          "pie": [
           {
            "automargin": true,
            "type": "pie"
           }
          ],
          "scatter": [
           {
            "fillpattern": {
             "fillmode": "overlay",
             "size": 10,
             "solidity": 0.2
            },
            "type": "scatter"
           }
          ],
          "scatter3d": [
           {
            "line": {
             "colorbar": {
              "outlinewidth": 0,
              "ticks": ""
             }
            },
            "marker": {
             "colorbar": {
              "outlinewidth": 0,
              "ticks": ""
             }
            },
            "type": "scatter3d"
           }
          ],
          "scattercarpet": [
           {
            "marker": {
             "colorbar": {
              "outlinewidth": 0,
              "ticks": ""
             }
            },
            "type": "scattercarpet"
           }
          ],
          "scattergeo": [
           {
            "marker": {
             "colorbar": {
              "outlinewidth": 0,
              "ticks": ""
             }
            },
            "type": "scattergeo"
           }
          ],
          "scattergl": [
           {
            "marker": {
             "colorbar": {
              "outlinewidth": 0,
              "ticks": ""
             }
            },
            "type": "scattergl"
           }
          ],
          "scattermap": [
           {
            "marker": {
             "colorbar": {
              "outlinewidth": 0,
              "ticks": ""
             }
            },
            "type": "scattermap"
           }
          ],
          "scattermapbox": [
           {
            "marker": {
             "colorbar": {
              "outlinewidth": 0,
              "ticks": ""
             }
            },
            "type": "scattermapbox"
           }
          ],
          "scatterpolar": [
           {
            "marker": {
             "colorbar": {
              "outlinewidth": 0,
              "ticks": ""
             }
            },
            "type": "scatterpolar"
           }
          ],
          "scatterpolargl": [
           {
            "marker": {
             "colorbar": {
              "outlinewidth": 0,
              "ticks": ""
             }
            },
            "type": "scatterpolargl"
           }
          ],
          "scatterternary": [
           {
            "marker": {
             "colorbar": {
              "outlinewidth": 0,
              "ticks": ""
             }
            },
            "type": "scatterternary"
           }
          ],
          "surface": [
           {
            "colorbar": {
             "outlinewidth": 0,
             "ticks": ""
            },
            "colorscale": [
             [
              0,
              "#0d0887"
             ],
             [
              0.1111111111111111,
              "#46039f"
             ],
             [
              0.2222222222222222,
              "#7201a8"
             ],
             [
              0.3333333333333333,
              "#9c179e"
             ],
             [
              0.4444444444444444,
              "#bd3786"
             ],
             [
              0.5555555555555556,
              "#d8576b"
             ],
             [
              0.6666666666666666,
              "#ed7953"
             ],
             [
              0.7777777777777778,
              "#fb9f3a"
             ],
             [
              0.8888888888888888,
              "#fdca26"
             ],
             [
              1,
              "#f0f921"
             ]
            ],
            "type": "surface"
           }
          ],
          "table": [
           {
            "cells": {
             "fill": {
              "color": "#EBF0F8"
             },
             "line": {
              "color": "white"
             }
            },
            "header": {
             "fill": {
              "color": "#C8D4E3"
             },
             "line": {
              "color": "white"
             }
            },
            "type": "table"
           }
          ]
         },
         "layout": {
          "annotationdefaults": {
           "arrowcolor": "#2a3f5f",
           "arrowhead": 0,
           "arrowwidth": 1
          },
          "autotypenumbers": "strict",
          "coloraxis": {
           "colorbar": {
            "outlinewidth": 0,
            "ticks": ""
           }
          },
          "colorscale": {
           "diverging": [
            [
             0,
             "#8e0152"
            ],
            [
             0.1,
             "#c51b7d"
            ],
            [
             0.2,
             "#de77ae"
            ],
            [
             0.3,
             "#f1b6da"
            ],
            [
             0.4,
             "#fde0ef"
            ],
            [
             0.5,
             "#f7f7f7"
            ],
            [
             0.6,
             "#e6f5d0"
            ],
            [
             0.7,
             "#b8e186"
            ],
            [
             0.8,
             "#7fbc41"
            ],
            [
             0.9,
             "#4d9221"
            ],
            [
             1,
             "#276419"
            ]
           ],
           "sequential": [
            [
             0,
             "#0d0887"
            ],
            [
             0.1111111111111111,
             "#46039f"
            ],
            [
             0.2222222222222222,
             "#7201a8"
            ],
            [
             0.3333333333333333,
             "#9c179e"
            ],
            [
             0.4444444444444444,
             "#bd3786"
            ],
            [
             0.5555555555555556,
             "#d8576b"
            ],
            [
             0.6666666666666666,
             "#ed7953"
            ],
            [
             0.7777777777777778,
             "#fb9f3a"
            ],
            [
             0.8888888888888888,
             "#fdca26"
            ],
            [
             1,
             "#f0f921"
            ]
           ],
           "sequentialminus": [
            [
             0,
             "#0d0887"
            ],
            [
             0.1111111111111111,
             "#46039f"
            ],
            [
             0.2222222222222222,
             "#7201a8"
            ],
            [
             0.3333333333333333,
             "#9c179e"
            ],
            [
             0.4444444444444444,
             "#bd3786"
            ],
            [
             0.5555555555555556,
             "#d8576b"
            ],
            [
             0.6666666666666666,
             "#ed7953"
            ],
            [
             0.7777777777777778,
             "#fb9f3a"
            ],
            [
             0.8888888888888888,
             "#fdca26"
            ],
            [
             1,
             "#f0f921"
            ]
           ]
          },
          "colorway": [
           "#636efa",
           "#EF553B",
           "#00cc96",
           "#ab63fa",
           "#FFA15A",
           "#19d3f3",
           "#FF6692",
           "#B6E880",
           "#FF97FF",
           "#FECB52"
          ],
          "font": {
           "color": "#2a3f5f"
          },
          "geo": {
           "bgcolor": "white",
           "lakecolor": "white",
           "landcolor": "white",
           "showlakes": true,
           "showland": true,
           "subunitcolor": "#C8D4E3"
          },
          "hoverlabel": {
           "align": "left"
          },
          "hovermode": "closest",
          "mapbox": {
           "style": "light"
          },
          "paper_bgcolor": "white",
          "plot_bgcolor": "white",
          "polar": {
           "angularaxis": {
            "gridcolor": "#EBF0F8",
            "linecolor": "#EBF0F8",
            "ticks": ""
           },
           "bgcolor": "white",
           "radialaxis": {
            "gridcolor": "#EBF0F8",
            "linecolor": "#EBF0F8",
            "ticks": ""
           }
          },
          "scene": {
           "xaxis": {
            "backgroundcolor": "white",
            "gridcolor": "#DFE8F3",
            "gridwidth": 2,
            "linecolor": "#EBF0F8",
            "showbackground": true,
            "ticks": "",
            "zerolinecolor": "#EBF0F8"
           },
           "yaxis": {
            "backgroundcolor": "white",
            "gridcolor": "#DFE8F3",
            "gridwidth": 2,
            "linecolor": "#EBF0F8",
            "showbackground": true,
            "ticks": "",
            "zerolinecolor": "#EBF0F8"
           },
           "zaxis": {
            "backgroundcolor": "white",
            "gridcolor": "#DFE8F3",
            "gridwidth": 2,
            "linecolor": "#EBF0F8",
            "showbackground": true,
            "ticks": "",
            "zerolinecolor": "#EBF0F8"
           }
          },
          "shapedefaults": {
           "line": {
            "color": "#2a3f5f"
           }
          },
          "ternary": {
           "aaxis": {
            "gridcolor": "#DFE8F3",
            "linecolor": "#A2B1C6",
            "ticks": ""
           },
           "baxis": {
            "gridcolor": "#DFE8F3",
            "linecolor": "#A2B1C6",
            "ticks": ""
           },
           "bgcolor": "white",
           "caxis": {
            "gridcolor": "#DFE8F3",
            "linecolor": "#A2B1C6",
            "ticks": ""
           }
          },
          "title": {
           "x": 0.05
          },
          "xaxis": {
           "automargin": true,
           "gridcolor": "#EBF0F8",
           "linecolor": "#EBF0F8",
           "ticks": "",
           "title": {
            "standoff": 15
           },
           "zerolinecolor": "#EBF0F8",
           "zerolinewidth": 2
          },
          "yaxis": {
           "automargin": true,
           "gridcolor": "#EBF0F8",
           "linecolor": "#EBF0F8",
           "ticks": "",
           "title": {
            "standoff": 15
           },
           "zerolinecolor": "#EBF0F8",
           "zerolinewidth": 2
          }
         }
        },
        "title": {
         "text": "Churn Distribution of Customers"
        },
        "xaxis": {
         "anchor": "y",
         "domain": [
          0,
          1
         ],
         "showgrid": false,
         "title": {
          "text": ""
         }
        },
        "yaxis": {
         "anchor": "x",
         "domain": [
          0,
          1
         ],
         "showgrid": false,
         "showticklabels": false,
         "title": {
          "text": "Qtd of users"
         }
        }
       }
      }
     },
     "metadata": {},
     "output_type": "display_data"
    }
   ],
   "source": [
    "#--- Churn distribution\n",
    "\n",
    "df_churn_distribution = train['Churn'].value_counts().reset_index()\n",
    "\n",
    "# Calculate percentages\n",
    "total = df_churn_distribution['count'].sum()\n",
    "df_churn_distribution['percentage'] = df_churn_distribution['count'] / total * 100\n",
    "\n",
    "fig = px.bar(\n",
    "    data_frame = df_churn_distribution,\n",
    "    x = 'Churn',\n",
    "    y = 'count',\n",
    "    template = 'plotly_white',\n",
    "    color_discrete_sequence=[\"#1f77b4\"],  # Soft blue color\n",
    "    opacity=0.8,  # Slight transparency, \n",
    "    text = df_churn_distribution['count'].astype(str) + ' (' + df_churn_distribution['percentage'].round(1).astype(str) + '%)'\n",
    "    )\n",
    "\n",
    "fig.update_layout(\n",
    "    title=\"Churn Distribution of Customers\",\n",
    "    xaxis_title=\"\",\n",
    "    yaxis_title=\"Qtd of users\",\n",
    "    bargap=0.1,  # Reduce space between bars\n",
    "    xaxis=dict(showgrid=False),\n",
    "    yaxis=dict(showgrid=False, showticklabels=False)\n",
    ")\n",
    "\n",
    "# Position the text labels\n",
    "fig.update_traces(textposition='outside')\n",
    "\n",
    "fig"
   ]
  },
  {
   "cell_type": "code",
   "execution_count": 5,
   "metadata": {},
   "outputs": [
    {
     "data": {
      "text/plain": [
       "5634"
      ]
     },
     "execution_count": 5,
     "metadata": {},
     "output_type": "execute_result"
    }
   ],
   "source": [
    "#---- Quantity of unique customers\n",
    "\n",
    "train['customerID'].nunique()"
   ]
  },
  {
   "cell_type": "markdown",
   "metadata": {},
   "source": [
    "### 3.1. Categorical variables"
   ]
  },
  {
   "cell_type": "code",
   "execution_count": null,
   "metadata": {},
   "outputs": [
    {
     "data": {
      "application/vnd.plotly.v1+json": {
       "config": {
        "plotlyServerURL": "https://plot.ly"
       },
       "data": [
        {
         "hovertemplate": "Churn=No<br>gender=%{x}<br>percentage=%{y}<br>label=%{text}<extra></extra>",
         "legendgroup": "No",
         "marker": {
          "color": "#636efa",
          "opacity": 0.8,
          "pattern": {
           "shape": ""
          }
         },
         "name": "No",
         "orientation": "v",
         "showlegend": true,
         "text": [
          "2055 (73.4%)",
          "2084 (73.6%)"
         ],
         "textangle": 0,
         "textposition": "inside",
         "type": "bar",
         "x": [
          "Female",
          "Male"
         ],
         "xaxis": "x",
         "y": {
          "bdata": "mpmZmZlZUkBmZmZmZmZSQA==",
          "dtype": "f8"
         },
         "yaxis": "y"
        },
        {
         "hovertemplate": "Churn=Yes<br>gender=%{x}<br>percentage=%{y}<br>label=%{text}<extra></extra>",
         "legendgroup": "Yes",
         "marker": {
          "color": "#EF553B",
          "opacity": 0.8,
          "pattern": {
           "shape": ""
          }
         },
         "name": "Yes",
         "orientation": "v",
         "showlegend": true,
         "text": [
          "746 (26.6%)",
          "749 (26.4%)"
         ],
         "textangle": 0,
         "textposition": "inside",
         "type": "bar",
         "x": [
          "Female",
          "Male"
         ],
         "xaxis": "x",
         "y": {
          "bdata": "mpmZmZmZOkBmZmZmZmY6QA==",
          "dtype": "f8"
         },
         "yaxis": "y"
        }
       ],
       "layout": {
        "bargap": 0.1,
        "barmode": "relative",
        "legend": {
         "title": {
          "text": "Churn"
         },
         "tracegroupgap": 0
        },
        "margin": {
         "t": 60
        },
        "template": {
         "data": {
          "bar": [
           {
            "error_x": {
             "color": "#2a3f5f"
            },
            "error_y": {
             "color": "#2a3f5f"
            },
            "marker": {
             "line": {
              "color": "white",
              "width": 0.5
             },
             "pattern": {
              "fillmode": "overlay",
              "size": 10,
              "solidity": 0.2
             }
            },
            "type": "bar"
           }
          ],
          "barpolar": [
           {
            "marker": {
             "line": {
              "color": "white",
              "width": 0.5
             },
             "pattern": {
              "fillmode": "overlay",
              "size": 10,
              "solidity": 0.2
             }
            },
            "type": "barpolar"
           }
          ],
          "carpet": [
           {
            "aaxis": {
             "endlinecolor": "#2a3f5f",
             "gridcolor": "#C8D4E3",
             "linecolor": "#C8D4E3",
             "minorgridcolor": "#C8D4E3",
             "startlinecolor": "#2a3f5f"
            },
            "baxis": {
             "endlinecolor": "#2a3f5f",
             "gridcolor": "#C8D4E3",
             "linecolor": "#C8D4E3",
             "minorgridcolor": "#C8D4E3",
             "startlinecolor": "#2a3f5f"
            },
            "type": "carpet"
           }
          ],
          "choropleth": [
           {
            "colorbar": {
             "outlinewidth": 0,
             "ticks": ""
            },
            "type": "choropleth"
           }
          ],
          "contour": [
           {
            "colorbar": {
             "outlinewidth": 0,
             "ticks": ""
            },
            "colorscale": [
             [
              0,
              "#0d0887"
             ],
             [
              0.1111111111111111,
              "#46039f"
             ],
             [
              0.2222222222222222,
              "#7201a8"
             ],
             [
              0.3333333333333333,
              "#9c179e"
             ],
             [
              0.4444444444444444,
              "#bd3786"
             ],
             [
              0.5555555555555556,
              "#d8576b"
             ],
             [
              0.6666666666666666,
              "#ed7953"
             ],
             [
              0.7777777777777778,
              "#fb9f3a"
             ],
             [
              0.8888888888888888,
              "#fdca26"
             ],
             [
              1,
              "#f0f921"
             ]
            ],
            "type": "contour"
           }
          ],
          "contourcarpet": [
           {
            "colorbar": {
             "outlinewidth": 0,
             "ticks": ""
            },
            "type": "contourcarpet"
           }
          ],
          "heatmap": [
           {
            "colorbar": {
             "outlinewidth": 0,
             "ticks": ""
            },
            "colorscale": [
             [
              0,
              "#0d0887"
             ],
             [
              0.1111111111111111,
              "#46039f"
             ],
             [
              0.2222222222222222,
              "#7201a8"
             ],
             [
              0.3333333333333333,
              "#9c179e"
             ],
             [
              0.4444444444444444,
              "#bd3786"
             ],
             [
              0.5555555555555556,
              "#d8576b"
             ],
             [
              0.6666666666666666,
              "#ed7953"
             ],
             [
              0.7777777777777778,
              "#fb9f3a"
             ],
             [
              0.8888888888888888,
              "#fdca26"
             ],
             [
              1,
              "#f0f921"
             ]
            ],
            "type": "heatmap"
           }
          ],
          "histogram": [
           {
            "marker": {
             "pattern": {
              "fillmode": "overlay",
              "size": 10,
              "solidity": 0.2
             }
            },
            "type": "histogram"
           }
          ],
          "histogram2d": [
           {
            "colorbar": {
             "outlinewidth": 0,
             "ticks": ""
            },
            "colorscale": [
             [
              0,
              "#0d0887"
             ],
             [
              0.1111111111111111,
              "#46039f"
             ],
             [
              0.2222222222222222,
              "#7201a8"
             ],
             [
              0.3333333333333333,
              "#9c179e"
             ],
             [
              0.4444444444444444,
              "#bd3786"
             ],
             [
              0.5555555555555556,
              "#d8576b"
             ],
             [
              0.6666666666666666,
              "#ed7953"
             ],
             [
              0.7777777777777778,
              "#fb9f3a"
             ],
             [
              0.8888888888888888,
              "#fdca26"
             ],
             [
              1,
              "#f0f921"
             ]
            ],
            "type": "histogram2d"
           }
          ],
          "histogram2dcontour": [
           {
            "colorbar": {
             "outlinewidth": 0,
             "ticks": ""
            },
            "colorscale": [
             [
              0,
              "#0d0887"
             ],
             [
              0.1111111111111111,
              "#46039f"
             ],
             [
              0.2222222222222222,
              "#7201a8"
             ],
             [
              0.3333333333333333,
              "#9c179e"
             ],
             [
              0.4444444444444444,
              "#bd3786"
             ],
             [
              0.5555555555555556,
              "#d8576b"
             ],
             [
              0.6666666666666666,
              "#ed7953"
             ],
             [
              0.7777777777777778,
              "#fb9f3a"
             ],
             [
              0.8888888888888888,
              "#fdca26"
             ],
             [
              1,
              "#f0f921"
             ]
            ],
            "type": "histogram2dcontour"
           }
          ],
          "mesh3d": [
           {
            "colorbar": {
             "outlinewidth": 0,
             "ticks": ""
            },
            "type": "mesh3d"
           }
          ],
          "parcoords": [
           {
            "line": {
             "colorbar": {
              "outlinewidth": 0,
              "ticks": ""
             }
            },
            "type": "parcoords"
           }
          ],
          "pie": [
           {
            "automargin": true,
            "type": "pie"
           }
          ],
          "scatter": [
           {
            "fillpattern": {
             "fillmode": "overlay",
             "size": 10,
             "solidity": 0.2
            },
            "type": "scatter"
           }
          ],
          "scatter3d": [
           {
            "line": {
             "colorbar": {
              "outlinewidth": 0,
              "ticks": ""
             }
            },
            "marker": {
             "colorbar": {
              "outlinewidth": 0,
              "ticks": ""
             }
            },
            "type": "scatter3d"
           }
          ],
          "scattercarpet": [
           {
            "marker": {
             "colorbar": {
              "outlinewidth": 0,
              "ticks": ""
             }
            },
            "type": "scattercarpet"
           }
          ],
          "scattergeo": [
           {
            "marker": {
             "colorbar": {
              "outlinewidth": 0,
              "ticks": ""
             }
            },
            "type": "scattergeo"
           }
          ],
          "scattergl": [
           {
            "marker": {
             "colorbar": {
              "outlinewidth": 0,
              "ticks": ""
             }
            },
            "type": "scattergl"
           }
          ],
          "scattermap": [
           {
            "marker": {
             "colorbar": {
              "outlinewidth": 0,
              "ticks": ""
             }
            },
            "type": "scattermap"
           }
          ],
          "scattermapbox": [
           {
            "marker": {
             "colorbar": {
              "outlinewidth": 0,
              "ticks": ""
             }
            },
            "type": "scattermapbox"
           }
          ],
          "scatterpolar": [
           {
            "marker": {
             "colorbar": {
              "outlinewidth": 0,
              "ticks": ""
             }
            },
            "type": "scatterpolar"
           }
          ],
          "scatterpolargl": [
           {
            "marker": {
             "colorbar": {
              "outlinewidth": 0,
              "ticks": ""
             }
            },
            "type": "scatterpolargl"
           }
          ],
          "scatterternary": [
           {
            "marker": {
             "colorbar": {
              "outlinewidth": 0,
              "ticks": ""
             }
            },
            "type": "scatterternary"
           }
          ],
          "surface": [
           {
            "colorbar": {
             "outlinewidth": 0,
             "ticks": ""
            },
            "colorscale": [
             [
              0,
              "#0d0887"
             ],
             [
              0.1111111111111111,
              "#46039f"
             ],
             [
              0.2222222222222222,
              "#7201a8"
             ],
             [
              0.3333333333333333,
              "#9c179e"
             ],
             [
              0.4444444444444444,
              "#bd3786"
             ],
             [
              0.5555555555555556,
              "#d8576b"
             ],
             [
              0.6666666666666666,
              "#ed7953"
             ],
             [
              0.7777777777777778,
              "#fb9f3a"
             ],
             [
              0.8888888888888888,
              "#fdca26"
             ],
             [
              1,
              "#f0f921"
             ]
            ],
            "type": "surface"
           }
          ],
          "table": [
           {
            "cells": {
             "fill": {
              "color": "#EBF0F8"
             },
             "line": {
              "color": "white"
             }
            },
            "header": {
             "fill": {
              "color": "#C8D4E3"
             },
             "line": {
              "color": "white"
             }
            },
            "type": "table"
           }
          ]
         },
         "layout": {
          "annotationdefaults": {
           "arrowcolor": "#2a3f5f",
           "arrowhead": 0,
           "arrowwidth": 1
          },
          "autotypenumbers": "strict",
          "coloraxis": {
           "colorbar": {
            "outlinewidth": 0,
            "ticks": ""
           }
          },
          "colorscale": {
           "diverging": [
            [
             0,
             "#8e0152"
            ],
            [
             0.1,
             "#c51b7d"
            ],
            [
             0.2,
             "#de77ae"
            ],
            [
             0.3,
             "#f1b6da"
            ],
            [
             0.4,
             "#fde0ef"
            ],
            [
             0.5,
             "#f7f7f7"
            ],
            [
             0.6,
             "#e6f5d0"
            ],
            [
             0.7,
             "#b8e186"
            ],
            [
             0.8,
             "#7fbc41"
            ],
            [
             0.9,
             "#4d9221"
            ],
            [
             1,
             "#276419"
            ]
           ],
           "sequential": [
            [
             0,
             "#0d0887"
            ],
            [
             0.1111111111111111,
             "#46039f"
            ],
            [
             0.2222222222222222,
             "#7201a8"
            ],
            [
             0.3333333333333333,
             "#9c179e"
            ],
            [
             0.4444444444444444,
             "#bd3786"
            ],
            [
             0.5555555555555556,
             "#d8576b"
            ],
            [
             0.6666666666666666,
             "#ed7953"
            ],
            [
             0.7777777777777778,
             "#fb9f3a"
            ],
            [
             0.8888888888888888,
             "#fdca26"
            ],
            [
             1,
             "#f0f921"
            ]
           ],
           "sequentialminus": [
            [
             0,
             "#0d0887"
            ],
            [
             0.1111111111111111,
             "#46039f"
            ],
            [
             0.2222222222222222,
             "#7201a8"
            ],
            [
             0.3333333333333333,
             "#9c179e"
            ],
            [
             0.4444444444444444,
             "#bd3786"
            ],
            [
             0.5555555555555556,
             "#d8576b"
            ],
            [
             0.6666666666666666,
             "#ed7953"
            ],
            [
             0.7777777777777778,
             "#fb9f3a"
            ],
            [
             0.8888888888888888,
             "#fdca26"
            ],
            [
             1,
             "#f0f921"
            ]
           ]
          },
          "colorway": [
           "#636efa",
           "#EF553B",
           "#00cc96",
           "#ab63fa",
           "#FFA15A",
           "#19d3f3",
           "#FF6692",
           "#B6E880",
           "#FF97FF",
           "#FECB52"
          ],
          "font": {
           "color": "#2a3f5f"
          },
          "geo": {
           "bgcolor": "white",
           "lakecolor": "white",
           "landcolor": "white",
           "showlakes": true,
           "showland": true,
           "subunitcolor": "#C8D4E3"
          },
          "hoverlabel": {
           "align": "left"
          },
          "hovermode": "closest",
          "mapbox": {
           "style": "light"
          },
          "paper_bgcolor": "white",
          "plot_bgcolor": "white",
          "polar": {
           "angularaxis": {
            "gridcolor": "#EBF0F8",
            "linecolor": "#EBF0F8",
            "ticks": ""
           },
           "bgcolor": "white",
           "radialaxis": {
            "gridcolor": "#EBF0F8",
            "linecolor": "#EBF0F8",
            "ticks": ""
           }
          },
          "scene": {
           "xaxis": {
            "backgroundcolor": "white",
            "gridcolor": "#DFE8F3",
            "gridwidth": 2,
            "linecolor": "#EBF0F8",
            "showbackground": true,
            "ticks": "",
            "zerolinecolor": "#EBF0F8"
           },
           "yaxis": {
            "backgroundcolor": "white",
            "gridcolor": "#DFE8F3",
            "gridwidth": 2,
            "linecolor": "#EBF0F8",
            "showbackground": true,
            "ticks": "",
            "zerolinecolor": "#EBF0F8"
           },
           "zaxis": {
            "backgroundcolor": "white",
            "gridcolor": "#DFE8F3",
            "gridwidth": 2,
            "linecolor": "#EBF0F8",
            "showbackground": true,
            "ticks": "",
            "zerolinecolor": "#EBF0F8"
           }
          },
          "shapedefaults": {
           "line": {
            "color": "#2a3f5f"
           }
          },
          "ternary": {
           "aaxis": {
            "gridcolor": "#DFE8F3",
            "linecolor": "#A2B1C6",
            "ticks": ""
           },
           "baxis": {
            "gridcolor": "#DFE8F3",
            "linecolor": "#A2B1C6",
            "ticks": ""
           },
           "bgcolor": "white",
           "caxis": {
            "gridcolor": "#DFE8F3",
            "linecolor": "#A2B1C6",
            "ticks": ""
           }
          },
          "title": {
           "x": 0.05
          },
          "xaxis": {
           "automargin": true,
           "gridcolor": "#EBF0F8",
           "linecolor": "#EBF0F8",
           "ticks": "",
           "title": {
            "standoff": 15
           },
           "zerolinecolor": "#EBF0F8",
           "zerolinewidth": 2
          },
          "yaxis": {
           "automargin": true,
           "gridcolor": "#EBF0F8",
           "linecolor": "#EBF0F8",
           "ticks": "",
           "title": {
            "standoff": 15
           },
           "zerolinecolor": "#EBF0F8",
           "zerolinewidth": 2
          }
         }
        },
        "title": {
         "text": "Churn Distribution by gender (%)"
        },
        "xaxis": {
         "anchor": "y",
         "domain": [
          0,
          1
         ],
         "showgrid": false,
         "title": {
          "text": ""
         }
        },
        "yaxis": {
         "anchor": "x",
         "domain": [
          0,
          1
         ],
         "showgrid": false,
         "title": {
          "text": "Percentage (%)"
         }
        }
       }
      }
     },
     "metadata": {},
     "output_type": "display_data"
    },
    {
     "data": {
      "application/vnd.plotly.v1+json": {
       "config": {
        "plotlyServerURL": "https://plot.ly"
       },
       "data": [
        {
         "hovertemplate": "Churn=No<br>Partner=%{x}<br>percentage=%{y}<br>label=%{text}<extra></extra>",
         "legendgroup": "No",
         "marker": {
          "color": "#636efa",
          "opacity": 0.8,
          "pattern": {
           "shape": ""
          }
         },
         "name": "No",
         "orientation": "v",
         "showlegend": true,
         "text": [
          "1953 (67.2%)",
          "2186 (80.1%)"
         ],
         "textangle": 0,
         "textposition": "inside",
         "type": "bar",
         "x": [
          "No",
          "Yes"
         ],
         "xaxis": "x",
         "y": {
          "bdata": "zczMzMzMUEBmZmZmZgZUQA==",
          "dtype": "f8"
         },
         "yaxis": "y"
        },
        {
         "hovertemplate": "Churn=Yes<br>Partner=%{x}<br>percentage=%{y}<br>label=%{text}<extra></extra>",
         "legendgroup": "Yes",
         "marker": {
          "color": "#EF553B",
          "opacity": 0.8,
          "pattern": {
           "shape": ""
          }
         },
         "name": "Yes",
         "orientation": "v",
         "showlegend": true,
         "text": [
          "952 (32.8%)",
          "543 (19.9%)"
         ],
         "textangle": 0,
         "textposition": "inside",
         "type": "bar",
         "x": [
          "No",
          "Yes"
         ],
         "xaxis": "x",
         "y": {
          "bdata": "ZmZmZmZmQEBmZmZmZuYzQA==",
          "dtype": "f8"
         },
         "yaxis": "y"
        }
       ],
       "layout": {
        "bargap": 0.1,
        "barmode": "relative",
        "legend": {
         "title": {
          "text": "Churn"
         },
         "tracegroupgap": 0
        },
        "margin": {
         "t": 60
        },
        "template": {
         "data": {
          "bar": [
           {
            "error_x": {
             "color": "#2a3f5f"
            },
            "error_y": {
             "color": "#2a3f5f"
            },
            "marker": {
             "line": {
              "color": "white",
              "width": 0.5
             },
             "pattern": {
              "fillmode": "overlay",
              "size": 10,
              "solidity": 0.2
             }
            },
            "type": "bar"
           }
          ],
          "barpolar": [
           {
            "marker": {
             "line": {
              "color": "white",
              "width": 0.5
             },
             "pattern": {
              "fillmode": "overlay",
              "size": 10,
              "solidity": 0.2
             }
            },
            "type": "barpolar"
           }
          ],
          "carpet": [
           {
            "aaxis": {
             "endlinecolor": "#2a3f5f",
             "gridcolor": "#C8D4E3",
             "linecolor": "#C8D4E3",
             "minorgridcolor": "#C8D4E3",
             "startlinecolor": "#2a3f5f"
            },
            "baxis": {
             "endlinecolor": "#2a3f5f",
             "gridcolor": "#C8D4E3",
             "linecolor": "#C8D4E3",
             "minorgridcolor": "#C8D4E3",
             "startlinecolor": "#2a3f5f"
            },
            "type": "carpet"
           }
          ],
          "choropleth": [
           {
            "colorbar": {
             "outlinewidth": 0,
             "ticks": ""
            },
            "type": "choropleth"
           }
          ],
          "contour": [
           {
            "colorbar": {
             "outlinewidth": 0,
             "ticks": ""
            },
            "colorscale": [
             [
              0,
              "#0d0887"
             ],
             [
              0.1111111111111111,
              "#46039f"
             ],
             [
              0.2222222222222222,
              "#7201a8"
             ],
             [
              0.3333333333333333,
              "#9c179e"
             ],
             [
              0.4444444444444444,
              "#bd3786"
             ],
             [
              0.5555555555555556,
              "#d8576b"
             ],
             [
              0.6666666666666666,
              "#ed7953"
             ],
             [
              0.7777777777777778,
              "#fb9f3a"
             ],
             [
              0.8888888888888888,
              "#fdca26"
             ],
             [
              1,
              "#f0f921"
             ]
            ],
            "type": "contour"
           }
          ],
          "contourcarpet": [
           {
            "colorbar": {
             "outlinewidth": 0,
             "ticks": ""
            },
            "type": "contourcarpet"
           }
          ],
          "heatmap": [
           {
            "colorbar": {
             "outlinewidth": 0,
             "ticks": ""
            },
            "colorscale": [
             [
              0,
              "#0d0887"
             ],
             [
              0.1111111111111111,
              "#46039f"
             ],
             [
              0.2222222222222222,
              "#7201a8"
             ],
             [
              0.3333333333333333,
              "#9c179e"
             ],
             [
              0.4444444444444444,
              "#bd3786"
             ],
             [
              0.5555555555555556,
              "#d8576b"
             ],
             [
              0.6666666666666666,
              "#ed7953"
             ],
             [
              0.7777777777777778,
              "#fb9f3a"
             ],
             [
              0.8888888888888888,
              "#fdca26"
             ],
             [
              1,
              "#f0f921"
             ]
            ],
            "type": "heatmap"
           }
          ],
          "histogram": [
           {
            "marker": {
             "pattern": {
              "fillmode": "overlay",
              "size": 10,
              "solidity": 0.2
             }
            },
            "type": "histogram"
           }
          ],
          "histogram2d": [
           {
            "colorbar": {
             "outlinewidth": 0,
             "ticks": ""
            },
            "colorscale": [
             [
              0,
              "#0d0887"
             ],
             [
              0.1111111111111111,
              "#46039f"
             ],
             [
              0.2222222222222222,
              "#7201a8"
             ],
             [
              0.3333333333333333,
              "#9c179e"
             ],
             [
              0.4444444444444444,
              "#bd3786"
             ],
             [
              0.5555555555555556,
              "#d8576b"
             ],
             [
              0.6666666666666666,
              "#ed7953"
             ],
             [
              0.7777777777777778,
              "#fb9f3a"
             ],
             [
              0.8888888888888888,
              "#fdca26"
             ],
             [
              1,
              "#f0f921"
             ]
            ],
            "type": "histogram2d"
           }
          ],
          "histogram2dcontour": [
           {
            "colorbar": {
             "outlinewidth": 0,
             "ticks": ""
            },
            "colorscale": [
             [
              0,
              "#0d0887"
             ],
             [
              0.1111111111111111,
              "#46039f"
             ],
             [
              0.2222222222222222,
              "#7201a8"
             ],
             [
              0.3333333333333333,
              "#9c179e"
             ],
             [
              0.4444444444444444,
              "#bd3786"
             ],
             [
              0.5555555555555556,
              "#d8576b"
             ],
             [
              0.6666666666666666,
              "#ed7953"
             ],
             [
              0.7777777777777778,
              "#fb9f3a"
             ],
             [
              0.8888888888888888,
              "#fdca26"
             ],
             [
              1,
              "#f0f921"
             ]
            ],
            "type": "histogram2dcontour"
           }
          ],
          "mesh3d": [
           {
            "colorbar": {
             "outlinewidth": 0,
             "ticks": ""
            },
            "type": "mesh3d"
           }
          ],
          "parcoords": [
           {
            "line": {
             "colorbar": {
              "outlinewidth": 0,
              "ticks": ""
             }
            },
            "type": "parcoords"
           }
          ],
          "pie": [
           {
            "automargin": true,
            "type": "pie"
           }
          ],
          "scatter": [
           {
            "fillpattern": {
             "fillmode": "overlay",
             "size": 10,
             "solidity": 0.2
            },
            "type": "scatter"
           }
          ],
          "scatter3d": [
           {
            "line": {
             "colorbar": {
              "outlinewidth": 0,
              "ticks": ""
             }
            },
            "marker": {
             "colorbar": {
              "outlinewidth": 0,
              "ticks": ""
             }
            },
            "type": "scatter3d"
           }
          ],
          "scattercarpet": [
           {
            "marker": {
             "colorbar": {
              "outlinewidth": 0,
              "ticks": ""
             }
            },
            "type": "scattercarpet"
           }
          ],
          "scattergeo": [
           {
            "marker": {
             "colorbar": {
              "outlinewidth": 0,
              "ticks": ""
             }
            },
            "type": "scattergeo"
           }
          ],
          "scattergl": [
           {
            "marker": {
             "colorbar": {
              "outlinewidth": 0,
              "ticks": ""
             }
            },
            "type": "scattergl"
           }
          ],
          "scattermap": [
           {
            "marker": {
             "colorbar": {
              "outlinewidth": 0,
              "ticks": ""
             }
            },
            "type": "scattermap"
           }
          ],
          "scattermapbox": [
           {
            "marker": {
             "colorbar": {
              "outlinewidth": 0,
              "ticks": ""
             }
            },
            "type": "scattermapbox"
           }
          ],
          "scatterpolar": [
           {
            "marker": {
             "colorbar": {
              "outlinewidth": 0,
              "ticks": ""
             }
            },
            "type": "scatterpolar"
           }
          ],
          "scatterpolargl": [
           {
            "marker": {
             "colorbar": {
              "outlinewidth": 0,
              "ticks": ""
             }
            },
            "type": "scatterpolargl"
           }
          ],
          "scatterternary": [
           {
            "marker": {
             "colorbar": {
              "outlinewidth": 0,
              "ticks": ""
             }
            },
            "type": "scatterternary"
           }
          ],
          "surface": [
           {
            "colorbar": {
             "outlinewidth": 0,
             "ticks": ""
            },
            "colorscale": [
             [
              0,
              "#0d0887"
             ],
             [
              0.1111111111111111,
              "#46039f"
             ],
             [
              0.2222222222222222,
              "#7201a8"
             ],
             [
              0.3333333333333333,
              "#9c179e"
             ],
             [
              0.4444444444444444,
              "#bd3786"
             ],
             [
              0.5555555555555556,
              "#d8576b"
             ],
             [
              0.6666666666666666,
              "#ed7953"
             ],
             [
              0.7777777777777778,
              "#fb9f3a"
             ],
             [
              0.8888888888888888,
              "#fdca26"
             ],
             [
              1,
              "#f0f921"
             ]
            ],
            "type": "surface"
           }
          ],
          "table": [
           {
            "cells": {
             "fill": {
              "color": "#EBF0F8"
             },
             "line": {
              "color": "white"
             }
            },
            "header": {
             "fill": {
              "color": "#C8D4E3"
             },
             "line": {
              "color": "white"
             }
            },
            "type": "table"
           }
          ]
         },
         "layout": {
          "annotationdefaults": {
           "arrowcolor": "#2a3f5f",
           "arrowhead": 0,
           "arrowwidth": 1
          },
          "autotypenumbers": "strict",
          "coloraxis": {
           "colorbar": {
            "outlinewidth": 0,
            "ticks": ""
           }
          },
          "colorscale": {
           "diverging": [
            [
             0,
             "#8e0152"
            ],
            [
             0.1,
             "#c51b7d"
            ],
            [
             0.2,
             "#de77ae"
            ],
            [
             0.3,
             "#f1b6da"
            ],
            [
             0.4,
             "#fde0ef"
            ],
            [
             0.5,
             "#f7f7f7"
            ],
            [
             0.6,
             "#e6f5d0"
            ],
            [
             0.7,
             "#b8e186"
            ],
            [
             0.8,
             "#7fbc41"
            ],
            [
             0.9,
             "#4d9221"
            ],
            [
             1,
             "#276419"
            ]
           ],
           "sequential": [
            [
             0,
             "#0d0887"
            ],
            [
             0.1111111111111111,
             "#46039f"
            ],
            [
             0.2222222222222222,
             "#7201a8"
            ],
            [
             0.3333333333333333,
             "#9c179e"
            ],
            [
             0.4444444444444444,
             "#bd3786"
            ],
            [
             0.5555555555555556,
             "#d8576b"
            ],
            [
             0.6666666666666666,
             "#ed7953"
            ],
            [
             0.7777777777777778,
             "#fb9f3a"
            ],
            [
             0.8888888888888888,
             "#fdca26"
            ],
            [
             1,
             "#f0f921"
            ]
           ],
           "sequentialminus": [
            [
             0,
             "#0d0887"
            ],
            [
             0.1111111111111111,
             "#46039f"
            ],
            [
             0.2222222222222222,
             "#7201a8"
            ],
            [
             0.3333333333333333,
             "#9c179e"
            ],
            [
             0.4444444444444444,
             "#bd3786"
            ],
            [
             0.5555555555555556,
             "#d8576b"
            ],
            [
             0.6666666666666666,
             "#ed7953"
            ],
            [
             0.7777777777777778,
             "#fb9f3a"
            ],
            [
             0.8888888888888888,
             "#fdca26"
            ],
            [
             1,
             "#f0f921"
            ]
           ]
          },
          "colorway": [
           "#636efa",
           "#EF553B",
           "#00cc96",
           "#ab63fa",
           "#FFA15A",
           "#19d3f3",
           "#FF6692",
           "#B6E880",
           "#FF97FF",
           "#FECB52"
          ],
          "font": {
           "color": "#2a3f5f"
          },
          "geo": {
           "bgcolor": "white",
           "lakecolor": "white",
           "landcolor": "white",
           "showlakes": true,
           "showland": true,
           "subunitcolor": "#C8D4E3"
          },
          "hoverlabel": {
           "align": "left"
          },
          "hovermode": "closest",
          "mapbox": {
           "style": "light"
          },
          "paper_bgcolor": "white",
          "plot_bgcolor": "white",
          "polar": {
           "angularaxis": {
            "gridcolor": "#EBF0F8",
            "linecolor": "#EBF0F8",
            "ticks": ""
           },
           "bgcolor": "white",
           "radialaxis": {
            "gridcolor": "#EBF0F8",
            "linecolor": "#EBF0F8",
            "ticks": ""
           }
          },
          "scene": {
           "xaxis": {
            "backgroundcolor": "white",
            "gridcolor": "#DFE8F3",
            "gridwidth": 2,
            "linecolor": "#EBF0F8",
            "showbackground": true,
            "ticks": "",
            "zerolinecolor": "#EBF0F8"
           },
           "yaxis": {
            "backgroundcolor": "white",
            "gridcolor": "#DFE8F3",
            "gridwidth": 2,
            "linecolor": "#EBF0F8",
            "showbackground": true,
            "ticks": "",
            "zerolinecolor": "#EBF0F8"
           },
           "zaxis": {
            "backgroundcolor": "white",
            "gridcolor": "#DFE8F3",
            "gridwidth": 2,
            "linecolor": "#EBF0F8",
            "showbackground": true,
            "ticks": "",
            "zerolinecolor": "#EBF0F8"
           }
          },
          "shapedefaults": {
           "line": {
            "color": "#2a3f5f"
           }
          },
          "ternary": {
           "aaxis": {
            "gridcolor": "#DFE8F3",
            "linecolor": "#A2B1C6",
            "ticks": ""
           },
           "baxis": {
            "gridcolor": "#DFE8F3",
            "linecolor": "#A2B1C6",
            "ticks": ""
           },
           "bgcolor": "white",
           "caxis": {
            "gridcolor": "#DFE8F3",
            "linecolor": "#A2B1C6",
            "ticks": ""
           }
          },
          "title": {
           "x": 0.05
          },
          "xaxis": {
           "automargin": true,
           "gridcolor": "#EBF0F8",
           "linecolor": "#EBF0F8",
           "ticks": "",
           "title": {
            "standoff": 15
           },
           "zerolinecolor": "#EBF0F8",
           "zerolinewidth": 2
          },
          "yaxis": {
           "automargin": true,
           "gridcolor": "#EBF0F8",
           "linecolor": "#EBF0F8",
           "ticks": "",
           "title": {
            "standoff": 15
           },
           "zerolinecolor": "#EBF0F8",
           "zerolinewidth": 2
          }
         }
        },
        "title": {
         "text": "Churn Distribution by Partner (%)"
        },
        "xaxis": {
         "anchor": "y",
         "domain": [
          0,
          1
         ],
         "showgrid": false,
         "title": {
          "text": ""
         }
        },
        "yaxis": {
         "anchor": "x",
         "domain": [
          0,
          1
         ],
         "showgrid": false,
         "title": {
          "text": "Percentage (%)"
         }
        }
       }
      }
     },
     "metadata": {},
     "output_type": "display_data"
    },
    {
     "data": {
      "application/vnd.plotly.v1+json": {
       "config": {
        "plotlyServerURL": "https://plot.ly"
       },
       "data": [
        {
         "hovertemplate": "Churn=No<br>Dependents=%{x}<br>percentage=%{y}<br>label=%{text}<extra></extra>",
         "legendgroup": "No",
         "marker": {
          "color": "#636efa",
          "opacity": 0.8,
          "pattern": {
           "shape": ""
          }
         },
         "name": "No",
         "orientation": "v",
         "showlegend": true,
         "text": [
          "2715 (68.6%)",
          "1424 (84.8%)"
         ],
         "textangle": 0,
         "textposition": "inside",
         "type": "bar",
         "x": [
          "No",
          "Yes"
         ],
         "xaxis": "x",
         "y": {
          "bdata": "ZmZmZmYmUUAzMzMzMzNVQA==",
          "dtype": "f8"
         },
         "yaxis": "y"
        },
        {
         "hovertemplate": "Churn=Yes<br>Dependents=%{x}<br>percentage=%{y}<br>label=%{text}<extra></extra>",
         "legendgroup": "Yes",
         "marker": {
          "color": "#EF553B",
          "opacity": 0.8,
          "pattern": {
           "shape": ""
          }
         },
         "name": "Yes",
         "orientation": "v",
         "showlegend": true,
         "text": [
          "1240 (31.4%)",
          "255 (15.2%)"
         ],
         "textangle": 0,
         "textposition": "inside",
         "type": "bar",
         "x": [
          "No",
          "Yes"
         ],
         "xaxis": "x",
         "y": {
          "bdata": "ZmZmZmZmP0BmZmZmZmYuQA==",
          "dtype": "f8"
         },
         "yaxis": "y"
        }
       ],
       "layout": {
        "bargap": 0.1,
        "barmode": "relative",
        "legend": {
         "title": {
          "text": "Churn"
         },
         "tracegroupgap": 0
        },
        "margin": {
         "t": 60
        },
        "template": {
         "data": {
          "bar": [
           {
            "error_x": {
             "color": "#2a3f5f"
            },
            "error_y": {
             "color": "#2a3f5f"
            },
            "marker": {
             "line": {
              "color": "white",
              "width": 0.5
             },
             "pattern": {
              "fillmode": "overlay",
              "size": 10,
              "solidity": 0.2
             }
            },
            "type": "bar"
           }
          ],
          "barpolar": [
           {
            "marker": {
             "line": {
              "color": "white",
              "width": 0.5
             },
             "pattern": {
              "fillmode": "overlay",
              "size": 10,
              "solidity": 0.2
             }
            },
            "type": "barpolar"
           }
          ],
          "carpet": [
           {
            "aaxis": {
             "endlinecolor": "#2a3f5f",
             "gridcolor": "#C8D4E3",
             "linecolor": "#C8D4E3",
             "minorgridcolor": "#C8D4E3",
             "startlinecolor": "#2a3f5f"
            },
            "baxis": {
             "endlinecolor": "#2a3f5f",
             "gridcolor": "#C8D4E3",
             "linecolor": "#C8D4E3",
             "minorgridcolor": "#C8D4E3",
             "startlinecolor": "#2a3f5f"
            },
            "type": "carpet"
           }
          ],
          "choropleth": [
           {
            "colorbar": {
             "outlinewidth": 0,
             "ticks": ""
            },
            "type": "choropleth"
           }
          ],
          "contour": [
           {
            "colorbar": {
             "outlinewidth": 0,
             "ticks": ""
            },
            "colorscale": [
             [
              0,
              "#0d0887"
             ],
             [
              0.1111111111111111,
              "#46039f"
             ],
             [
              0.2222222222222222,
              "#7201a8"
             ],
             [
              0.3333333333333333,
              "#9c179e"
             ],
             [
              0.4444444444444444,
              "#bd3786"
             ],
             [
              0.5555555555555556,
              "#d8576b"
             ],
             [
              0.6666666666666666,
              "#ed7953"
             ],
             [
              0.7777777777777778,
              "#fb9f3a"
             ],
             [
              0.8888888888888888,
              "#fdca26"
             ],
             [
              1,
              "#f0f921"
             ]
            ],
            "type": "contour"
           }
          ],
          "contourcarpet": [
           {
            "colorbar": {
             "outlinewidth": 0,
             "ticks": ""
            },
            "type": "contourcarpet"
           }
          ],
          "heatmap": [
           {
            "colorbar": {
             "outlinewidth": 0,
             "ticks": ""
            },
            "colorscale": [
             [
              0,
              "#0d0887"
             ],
             [
              0.1111111111111111,
              "#46039f"
             ],
             [
              0.2222222222222222,
              "#7201a8"
             ],
             [
              0.3333333333333333,
              "#9c179e"
             ],
             [
              0.4444444444444444,
              "#bd3786"
             ],
             [
              0.5555555555555556,
              "#d8576b"
             ],
             [
              0.6666666666666666,
              "#ed7953"
             ],
             [
              0.7777777777777778,
              "#fb9f3a"
             ],
             [
              0.8888888888888888,
              "#fdca26"
             ],
             [
              1,
              "#f0f921"
             ]
            ],
            "type": "heatmap"
           }
          ],
          "histogram": [
           {
            "marker": {
             "pattern": {
              "fillmode": "overlay",
              "size": 10,
              "solidity": 0.2
             }
            },
            "type": "histogram"
           }
          ],
          "histogram2d": [
           {
            "colorbar": {
             "outlinewidth": 0,
             "ticks": ""
            },
            "colorscale": [
             [
              0,
              "#0d0887"
             ],
             [
              0.1111111111111111,
              "#46039f"
             ],
             [
              0.2222222222222222,
              "#7201a8"
             ],
             [
              0.3333333333333333,
              "#9c179e"
             ],
             [
              0.4444444444444444,
              "#bd3786"
             ],
             [
              0.5555555555555556,
              "#d8576b"
             ],
             [
              0.6666666666666666,
              "#ed7953"
             ],
             [
              0.7777777777777778,
              "#fb9f3a"
             ],
             [
              0.8888888888888888,
              "#fdca26"
             ],
             [
              1,
              "#f0f921"
             ]
            ],
            "type": "histogram2d"
           }
          ],
          "histogram2dcontour": [
           {
            "colorbar": {
             "outlinewidth": 0,
             "ticks": ""
            },
            "colorscale": [
             [
              0,
              "#0d0887"
             ],
             [
              0.1111111111111111,
              "#46039f"
             ],
             [
              0.2222222222222222,
              "#7201a8"
             ],
             [
              0.3333333333333333,
              "#9c179e"
             ],
             [
              0.4444444444444444,
              "#bd3786"
             ],
             [
              0.5555555555555556,
              "#d8576b"
             ],
             [
              0.6666666666666666,
              "#ed7953"
             ],
             [
              0.7777777777777778,
              "#fb9f3a"
             ],
             [
              0.8888888888888888,
              "#fdca26"
             ],
             [
              1,
              "#f0f921"
             ]
            ],
            "type": "histogram2dcontour"
           }
          ],
          "mesh3d": [
           {
            "colorbar": {
             "outlinewidth": 0,
             "ticks": ""
            },
            "type": "mesh3d"
           }
          ],
          "parcoords": [
           {
            "line": {
             "colorbar": {
              "outlinewidth": 0,
              "ticks": ""
             }
            },
            "type": "parcoords"
           }
          ],
          "pie": [
           {
            "automargin": true,
            "type": "pie"
           }
          ],
          "scatter": [
           {
            "fillpattern": {
             "fillmode": "overlay",
             "size": 10,
             "solidity": 0.2
            },
            "type": "scatter"
           }
          ],
          "scatter3d": [
           {
            "line": {
             "colorbar": {
              "outlinewidth": 0,
              "ticks": ""
             }
            },
            "marker": {
             "colorbar": {
              "outlinewidth": 0,
              "ticks": ""
             }
            },
            "type": "scatter3d"
           }
          ],
          "scattercarpet": [
           {
            "marker": {
             "colorbar": {
              "outlinewidth": 0,
              "ticks": ""
             }
            },
            "type": "scattercarpet"
           }
          ],
          "scattergeo": [
           {
            "marker": {
             "colorbar": {
              "outlinewidth": 0,
              "ticks": ""
             }
            },
            "type": "scattergeo"
           }
          ],
          "scattergl": [
           {
            "marker": {
             "colorbar": {
              "outlinewidth": 0,
              "ticks": ""
             }
            },
            "type": "scattergl"
           }
          ],
          "scattermap": [
           {
            "marker": {
             "colorbar": {
              "outlinewidth": 0,
              "ticks": ""
             }
            },
            "type": "scattermap"
           }
          ],
          "scattermapbox": [
           {
            "marker": {
             "colorbar": {
              "outlinewidth": 0,
              "ticks": ""
             }
            },
            "type": "scattermapbox"
           }
          ],
          "scatterpolar": [
           {
            "marker": {
             "colorbar": {
              "outlinewidth": 0,
              "ticks": ""
             }
            },
            "type": "scatterpolar"
           }
          ],
          "scatterpolargl": [
           {
            "marker": {
             "colorbar": {
              "outlinewidth": 0,
              "ticks": ""
             }
            },
            "type": "scatterpolargl"
           }
          ],
          "scatterternary": [
           {
            "marker": {
             "colorbar": {
              "outlinewidth": 0,
              "ticks": ""
             }
            },
            "type": "scatterternary"
           }
          ],
          "surface": [
           {
            "colorbar": {
             "outlinewidth": 0,
             "ticks": ""
            },
            "colorscale": [
             [
              0,
              "#0d0887"
             ],
             [
              0.1111111111111111,
              "#46039f"
             ],
             [
              0.2222222222222222,
              "#7201a8"
             ],
             [
              0.3333333333333333,
              "#9c179e"
             ],
             [
              0.4444444444444444,
              "#bd3786"
             ],
             [
              0.5555555555555556,
              "#d8576b"
             ],
             [
              0.6666666666666666,
              "#ed7953"
             ],
             [
              0.7777777777777778,
              "#fb9f3a"
             ],
             [
              0.8888888888888888,
              "#fdca26"
             ],
             [
              1,
              "#f0f921"
             ]
            ],
            "type": "surface"
           }
          ],
          "table": [
           {
            "cells": {
             "fill": {
              "color": "#EBF0F8"
             },
             "line": {
              "color": "white"
             }
            },
            "header": {
             "fill": {
              "color": "#C8D4E3"
             },
             "line": {
              "color": "white"
             }
            },
            "type": "table"
           }
          ]
         },
         "layout": {
          "annotationdefaults": {
           "arrowcolor": "#2a3f5f",
           "arrowhead": 0,
           "arrowwidth": 1
          },
          "autotypenumbers": "strict",
          "coloraxis": {
           "colorbar": {
            "outlinewidth": 0,
            "ticks": ""
           }
          },
          "colorscale": {
           "diverging": [
            [
             0,
             "#8e0152"
            ],
            [
             0.1,
             "#c51b7d"
            ],
            [
             0.2,
             "#de77ae"
            ],
            [
             0.3,
             "#f1b6da"
            ],
            [
             0.4,
             "#fde0ef"
            ],
            [
             0.5,
             "#f7f7f7"
            ],
            [
             0.6,
             "#e6f5d0"
            ],
            [
             0.7,
             "#b8e186"
            ],
            [
             0.8,
             "#7fbc41"
            ],
            [
             0.9,
             "#4d9221"
            ],
            [
             1,
             "#276419"
            ]
           ],
           "sequential": [
            [
             0,
             "#0d0887"
            ],
            [
             0.1111111111111111,
             "#46039f"
            ],
            [
             0.2222222222222222,
             "#7201a8"
            ],
            [
             0.3333333333333333,
             "#9c179e"
            ],
            [
             0.4444444444444444,
             "#bd3786"
            ],
            [
             0.5555555555555556,
             "#d8576b"
            ],
            [
             0.6666666666666666,
             "#ed7953"
            ],
            [
             0.7777777777777778,
             "#fb9f3a"
            ],
            [
             0.8888888888888888,
             "#fdca26"
            ],
            [
             1,
             "#f0f921"
            ]
           ],
           "sequentialminus": [
            [
             0,
             "#0d0887"
            ],
            [
             0.1111111111111111,
             "#46039f"
            ],
            [
             0.2222222222222222,
             "#7201a8"
            ],
            [
             0.3333333333333333,
             "#9c179e"
            ],
            [
             0.4444444444444444,
             "#bd3786"
            ],
            [
             0.5555555555555556,
             "#d8576b"
            ],
            [
             0.6666666666666666,
             "#ed7953"
            ],
            [
             0.7777777777777778,
             "#fb9f3a"
            ],
            [
             0.8888888888888888,
             "#fdca26"
            ],
            [
             1,
             "#f0f921"
            ]
           ]
          },
          "colorway": [
           "#636efa",
           "#EF553B",
           "#00cc96",
           "#ab63fa",
           "#FFA15A",
           "#19d3f3",
           "#FF6692",
           "#B6E880",
           "#FF97FF",
           "#FECB52"
          ],
          "font": {
           "color": "#2a3f5f"
          },
          "geo": {
           "bgcolor": "white",
           "lakecolor": "white",
           "landcolor": "white",
           "showlakes": true,
           "showland": true,
           "subunitcolor": "#C8D4E3"
          },
          "hoverlabel": {
           "align": "left"
          },
          "hovermode": "closest",
          "mapbox": {
           "style": "light"
          },
          "paper_bgcolor": "white",
          "plot_bgcolor": "white",
          "polar": {
           "angularaxis": {
            "gridcolor": "#EBF0F8",
            "linecolor": "#EBF0F8",
            "ticks": ""
           },
           "bgcolor": "white",
           "radialaxis": {
            "gridcolor": "#EBF0F8",
            "linecolor": "#EBF0F8",
            "ticks": ""
           }
          },
          "scene": {
           "xaxis": {
            "backgroundcolor": "white",
            "gridcolor": "#DFE8F3",
            "gridwidth": 2,
            "linecolor": "#EBF0F8",
            "showbackground": true,
            "ticks": "",
            "zerolinecolor": "#EBF0F8"
           },
           "yaxis": {
            "backgroundcolor": "white",
            "gridcolor": "#DFE8F3",
            "gridwidth": 2,
            "linecolor": "#EBF0F8",
            "showbackground": true,
            "ticks": "",
            "zerolinecolor": "#EBF0F8"
           },
           "zaxis": {
            "backgroundcolor": "white",
            "gridcolor": "#DFE8F3",
            "gridwidth": 2,
            "linecolor": "#EBF0F8",
            "showbackground": true,
            "ticks": "",
            "zerolinecolor": "#EBF0F8"
           }
          },
          "shapedefaults": {
           "line": {
            "color": "#2a3f5f"
           }
          },
          "ternary": {
           "aaxis": {
            "gridcolor": "#DFE8F3",
            "linecolor": "#A2B1C6",
            "ticks": ""
           },
           "baxis": {
            "gridcolor": "#DFE8F3",
            "linecolor": "#A2B1C6",
            "ticks": ""
           },
           "bgcolor": "white",
           "caxis": {
            "gridcolor": "#DFE8F3",
            "linecolor": "#A2B1C6",
            "ticks": ""
           }
          },
          "title": {
           "x": 0.05
          },
          "xaxis": {
           "automargin": true,
           "gridcolor": "#EBF0F8",
           "linecolor": "#EBF0F8",
           "ticks": "",
           "title": {
            "standoff": 15
           },
           "zerolinecolor": "#EBF0F8",
           "zerolinewidth": 2
          },
          "yaxis": {
           "automargin": true,
           "gridcolor": "#EBF0F8",
           "linecolor": "#EBF0F8",
           "ticks": "",
           "title": {
            "standoff": 15
           },
           "zerolinecolor": "#EBF0F8",
           "zerolinewidth": 2
          }
         }
        },
        "title": {
         "text": "Churn Distribution by Dependents (%)"
        },
        "xaxis": {
         "anchor": "y",
         "domain": [
          0,
          1
         ],
         "showgrid": false,
         "title": {
          "text": ""
         }
        },
        "yaxis": {
         "anchor": "x",
         "domain": [
          0,
          1
         ],
         "showgrid": false,
         "title": {
          "text": "Percentage (%)"
         }
        }
       }
      }
     },
     "metadata": {},
     "output_type": "display_data"
    },
    {
     "data": {
      "application/vnd.plotly.v1+json": {
       "config": {
        "plotlyServerURL": "https://plot.ly"
       },
       "data": [
        {
         "hovertemplate": "Churn=No<br>PhoneService=%{x}<br>percentage=%{y}<br>label=%{text}<extra></extra>",
         "legendgroup": "No",
         "marker": {
          "color": "#636efa",
          "opacity": 0.8,
          "pattern": {
           "shape": ""
          }
         },
         "name": "No",
         "orientation": "v",
         "showlegend": true,
         "text": [
          "424 (75.8%)",
          "3715 (73.2%)"
         ],
         "textangle": 0,
         "textposition": "inside",
         "type": "bar",
         "x": [
          "No",
          "Yes"
         ],
         "xaxis": "x",
         "y": {
          "bdata": "MzMzMzPzUkDNzMzMzExSQA==",
          "dtype": "f8"
         },
         "yaxis": "y"
        },
        {
         "hovertemplate": "Churn=Yes<br>PhoneService=%{x}<br>percentage=%{y}<br>label=%{text}<extra></extra>",
         "legendgroup": "Yes",
         "marker": {
          "color": "#EF553B",
          "opacity": 0.8,
          "pattern": {
           "shape": ""
          }
         },
         "name": "Yes",
         "orientation": "v",
         "showlegend": true,
         "text": [
          "135 (24.2%)",
          "1360 (26.8%)"
         ],
         "textangle": 0,
         "textposition": "inside",
         "type": "bar",
         "x": [
          "No",
          "Yes"
         ],
         "xaxis": "x",
         "y": {
          "bdata": "MzMzMzMzOEDNzMzMzMw6QA==",
          "dtype": "f8"
         },
         "yaxis": "y"
        }
       ],
       "layout": {
        "bargap": 0.1,
        "barmode": "relative",
        "legend": {
         "title": {
          "text": "Churn"
         },
         "tracegroupgap": 0
        },
        "margin": {
         "t": 60
        },
        "template": {
         "data": {
          "bar": [
           {
            "error_x": {
             "color": "#2a3f5f"
            },
            "error_y": {
             "color": "#2a3f5f"
            },
            "marker": {
             "line": {
              "color": "white",
              "width": 0.5
             },
             "pattern": {
              "fillmode": "overlay",
              "size": 10,
              "solidity": 0.2
             }
            },
            "type": "bar"
           }
          ],
          "barpolar": [
           {
            "marker": {
             "line": {
              "color": "white",
              "width": 0.5
             },
             "pattern": {
              "fillmode": "overlay",
              "size": 10,
              "solidity": 0.2
             }
            },
            "type": "barpolar"
           }
          ],
          "carpet": [
           {
            "aaxis": {
             "endlinecolor": "#2a3f5f",
             "gridcolor": "#C8D4E3",
             "linecolor": "#C8D4E3",
             "minorgridcolor": "#C8D4E3",
             "startlinecolor": "#2a3f5f"
            },
            "baxis": {
             "endlinecolor": "#2a3f5f",
             "gridcolor": "#C8D4E3",
             "linecolor": "#C8D4E3",
             "minorgridcolor": "#C8D4E3",
             "startlinecolor": "#2a3f5f"
            },
            "type": "carpet"
           }
          ],
          "choropleth": [
           {
            "colorbar": {
             "outlinewidth": 0,
             "ticks": ""
            },
            "type": "choropleth"
           }
          ],
          "contour": [
           {
            "colorbar": {
             "outlinewidth": 0,
             "ticks": ""
            },
            "colorscale": [
             [
              0,
              "#0d0887"
             ],
             [
              0.1111111111111111,
              "#46039f"
             ],
             [
              0.2222222222222222,
              "#7201a8"
             ],
             [
              0.3333333333333333,
              "#9c179e"
             ],
             [
              0.4444444444444444,
              "#bd3786"
             ],
             [
              0.5555555555555556,
              "#d8576b"
             ],
             [
              0.6666666666666666,
              "#ed7953"
             ],
             [
              0.7777777777777778,
              "#fb9f3a"
             ],
             [
              0.8888888888888888,
              "#fdca26"
             ],
             [
              1,
              "#f0f921"
             ]
            ],
            "type": "contour"
           }
          ],
          "contourcarpet": [
           {
            "colorbar": {
             "outlinewidth": 0,
             "ticks": ""
            },
            "type": "contourcarpet"
           }
          ],
          "heatmap": [
           {
            "colorbar": {
             "outlinewidth": 0,
             "ticks": ""
            },
            "colorscale": [
             [
              0,
              "#0d0887"
             ],
             [
              0.1111111111111111,
              "#46039f"
             ],
             [
              0.2222222222222222,
              "#7201a8"
             ],
             [
              0.3333333333333333,
              "#9c179e"
             ],
             [
              0.4444444444444444,
              "#bd3786"
             ],
             [
              0.5555555555555556,
              "#d8576b"
             ],
             [
              0.6666666666666666,
              "#ed7953"
             ],
             [
              0.7777777777777778,
              "#fb9f3a"
             ],
             [
              0.8888888888888888,
              "#fdca26"
             ],
             [
              1,
              "#f0f921"
             ]
            ],
            "type": "heatmap"
           }
          ],
          "histogram": [
           {
            "marker": {
             "pattern": {
              "fillmode": "overlay",
              "size": 10,
              "solidity": 0.2
             }
            },
            "type": "histogram"
           }
          ],
          "histogram2d": [
           {
            "colorbar": {
             "outlinewidth": 0,
             "ticks": ""
            },
            "colorscale": [
             [
              0,
              "#0d0887"
             ],
             [
              0.1111111111111111,
              "#46039f"
             ],
             [
              0.2222222222222222,
              "#7201a8"
             ],
             [
              0.3333333333333333,
              "#9c179e"
             ],
             [
              0.4444444444444444,
              "#bd3786"
             ],
             [
              0.5555555555555556,
              "#d8576b"
             ],
             [
              0.6666666666666666,
              "#ed7953"
             ],
             [
              0.7777777777777778,
              "#fb9f3a"
             ],
             [
              0.8888888888888888,
              "#fdca26"
             ],
             [
              1,
              "#f0f921"
             ]
            ],
            "type": "histogram2d"
           }
          ],
          "histogram2dcontour": [
           {
            "colorbar": {
             "outlinewidth": 0,
             "ticks": ""
            },
            "colorscale": [
             [
              0,
              "#0d0887"
             ],
             [
              0.1111111111111111,
              "#46039f"
             ],
             [
              0.2222222222222222,
              "#7201a8"
             ],
             [
              0.3333333333333333,
              "#9c179e"
             ],
             [
              0.4444444444444444,
              "#bd3786"
             ],
             [
              0.5555555555555556,
              "#d8576b"
             ],
             [
              0.6666666666666666,
              "#ed7953"
             ],
             [
              0.7777777777777778,
              "#fb9f3a"
             ],
             [
              0.8888888888888888,
              "#fdca26"
             ],
             [
              1,
              "#f0f921"
             ]
            ],
            "type": "histogram2dcontour"
           }
          ],
          "mesh3d": [
           {
            "colorbar": {
             "outlinewidth": 0,
             "ticks": ""
            },
            "type": "mesh3d"
           }
          ],
          "parcoords": [
           {
            "line": {
             "colorbar": {
              "outlinewidth": 0,
              "ticks": ""
             }
            },
            "type": "parcoords"
           }
          ],
          "pie": [
           {
            "automargin": true,
            "type": "pie"
           }
          ],
          "scatter": [
           {
            "fillpattern": {
             "fillmode": "overlay",
             "size": 10,
             "solidity": 0.2
            },
            "type": "scatter"
           }
          ],
          "scatter3d": [
           {
            "line": {
             "colorbar": {
              "outlinewidth": 0,
              "ticks": ""
             }
            },
            "marker": {
             "colorbar": {
              "outlinewidth": 0,
              "ticks": ""
             }
            },
            "type": "scatter3d"
           }
          ],
          "scattercarpet": [
           {
            "marker": {
             "colorbar": {
              "outlinewidth": 0,
              "ticks": ""
             }
            },
            "type": "scattercarpet"
           }
          ],
          "scattergeo": [
           {
            "marker": {
             "colorbar": {
              "outlinewidth": 0,
              "ticks": ""
             }
            },
            "type": "scattergeo"
           }
          ],
          "scattergl": [
           {
            "marker": {
             "colorbar": {
              "outlinewidth": 0,
              "ticks": ""
             }
            },
            "type": "scattergl"
           }
          ],
          "scattermap": [
           {
            "marker": {
             "colorbar": {
              "outlinewidth": 0,
              "ticks": ""
             }
            },
            "type": "scattermap"
           }
          ],
          "scattermapbox": [
           {
            "marker": {
             "colorbar": {
              "outlinewidth": 0,
              "ticks": ""
             }
            },
            "type": "scattermapbox"
           }
          ],
          "scatterpolar": [
           {
            "marker": {
             "colorbar": {
              "outlinewidth": 0,
              "ticks": ""
             }
            },
            "type": "scatterpolar"
           }
          ],
          "scatterpolargl": [
           {
            "marker": {
             "colorbar": {
              "outlinewidth": 0,
              "ticks": ""
             }
            },
            "type": "scatterpolargl"
           }
          ],
          "scatterternary": [
           {
            "marker": {
             "colorbar": {
              "outlinewidth": 0,
              "ticks": ""
             }
            },
            "type": "scatterternary"
           }
          ],
          "surface": [
           {
            "colorbar": {
             "outlinewidth": 0,
             "ticks": ""
            },
            "colorscale": [
             [
              0,
              "#0d0887"
             ],
             [
              0.1111111111111111,
              "#46039f"
             ],
             [
              0.2222222222222222,
              "#7201a8"
             ],
             [
              0.3333333333333333,
              "#9c179e"
             ],
             [
              0.4444444444444444,
              "#bd3786"
             ],
             [
              0.5555555555555556,
              "#d8576b"
             ],
             [
              0.6666666666666666,
              "#ed7953"
             ],
             [
              0.7777777777777778,
              "#fb9f3a"
             ],
             [
              0.8888888888888888,
              "#fdca26"
             ],
             [
              1,
              "#f0f921"
             ]
            ],
            "type": "surface"
           }
          ],
          "table": [
           {
            "cells": {
             "fill": {
              "color": "#EBF0F8"
             },
             "line": {
              "color": "white"
             }
            },
            "header": {
             "fill": {
              "color": "#C8D4E3"
             },
             "line": {
              "color": "white"
             }
            },
            "type": "table"
           }
          ]
         },
         "layout": {
          "annotationdefaults": {
           "arrowcolor": "#2a3f5f",
           "arrowhead": 0,
           "arrowwidth": 1
          },
          "autotypenumbers": "strict",
          "coloraxis": {
           "colorbar": {
            "outlinewidth": 0,
            "ticks": ""
           }
          },
          "colorscale": {
           "diverging": [
            [
             0,
             "#8e0152"
            ],
            [
             0.1,
             "#c51b7d"
            ],
            [
             0.2,
             "#de77ae"
            ],
            [
             0.3,
             "#f1b6da"
            ],
            [
             0.4,
             "#fde0ef"
            ],
            [
             0.5,
             "#f7f7f7"
            ],
            [
             0.6,
             "#e6f5d0"
            ],
            [
             0.7,
             "#b8e186"
            ],
            [
             0.8,
             "#7fbc41"
            ],
            [
             0.9,
             "#4d9221"
            ],
            [
             1,
             "#276419"
            ]
           ],
           "sequential": [
            [
             0,
             "#0d0887"
            ],
            [
             0.1111111111111111,
             "#46039f"
            ],
            [
             0.2222222222222222,
             "#7201a8"
            ],
            [
             0.3333333333333333,
             "#9c179e"
            ],
            [
             0.4444444444444444,
             "#bd3786"
            ],
            [
             0.5555555555555556,
             "#d8576b"
            ],
            [
             0.6666666666666666,
             "#ed7953"
            ],
            [
             0.7777777777777778,
             "#fb9f3a"
            ],
            [
             0.8888888888888888,
             "#fdca26"
            ],
            [
             1,
             "#f0f921"
            ]
           ],
           "sequentialminus": [
            [
             0,
             "#0d0887"
            ],
            [
             0.1111111111111111,
             "#46039f"
            ],
            [
             0.2222222222222222,
             "#7201a8"
            ],
            [
             0.3333333333333333,
             "#9c179e"
            ],
            [
             0.4444444444444444,
             "#bd3786"
            ],
            [
             0.5555555555555556,
             "#d8576b"
            ],
            [
             0.6666666666666666,
             "#ed7953"
            ],
            [
             0.7777777777777778,
             "#fb9f3a"
            ],
            [
             0.8888888888888888,
             "#fdca26"
            ],
            [
             1,
             "#f0f921"
            ]
           ]
          },
          "colorway": [
           "#636efa",
           "#EF553B",
           "#00cc96",
           "#ab63fa",
           "#FFA15A",
           "#19d3f3",
           "#FF6692",
           "#B6E880",
           "#FF97FF",
           "#FECB52"
          ],
          "font": {
           "color": "#2a3f5f"
          },
          "geo": {
           "bgcolor": "white",
           "lakecolor": "white",
           "landcolor": "white",
           "showlakes": true,
           "showland": true,
           "subunitcolor": "#C8D4E3"
          },
          "hoverlabel": {
           "align": "left"
          },
          "hovermode": "closest",
          "mapbox": {
           "style": "light"
          },
          "paper_bgcolor": "white",
          "plot_bgcolor": "white",
          "polar": {
           "angularaxis": {
            "gridcolor": "#EBF0F8",
            "linecolor": "#EBF0F8",
            "ticks": ""
           },
           "bgcolor": "white",
           "radialaxis": {
            "gridcolor": "#EBF0F8",
            "linecolor": "#EBF0F8",
            "ticks": ""
           }
          },
          "scene": {
           "xaxis": {
            "backgroundcolor": "white",
            "gridcolor": "#DFE8F3",
            "gridwidth": 2,
            "linecolor": "#EBF0F8",
            "showbackground": true,
            "ticks": "",
            "zerolinecolor": "#EBF0F8"
           },
           "yaxis": {
            "backgroundcolor": "white",
            "gridcolor": "#DFE8F3",
            "gridwidth": 2,
            "linecolor": "#EBF0F8",
            "showbackground": true,
            "ticks": "",
            "zerolinecolor": "#EBF0F8"
           },
           "zaxis": {
            "backgroundcolor": "white",
            "gridcolor": "#DFE8F3",
            "gridwidth": 2,
            "linecolor": "#EBF0F8",
            "showbackground": true,
            "ticks": "",
            "zerolinecolor": "#EBF0F8"
           }
          },
          "shapedefaults": {
           "line": {
            "color": "#2a3f5f"
           }
          },
          "ternary": {
           "aaxis": {
            "gridcolor": "#DFE8F3",
            "linecolor": "#A2B1C6",
            "ticks": ""
           },
           "baxis": {
            "gridcolor": "#DFE8F3",
            "linecolor": "#A2B1C6",
            "ticks": ""
           },
           "bgcolor": "white",
           "caxis": {
            "gridcolor": "#DFE8F3",
            "linecolor": "#A2B1C6",
            "ticks": ""
           }
          },
          "title": {
           "x": 0.05
          },
          "xaxis": {
           "automargin": true,
           "gridcolor": "#EBF0F8",
           "linecolor": "#EBF0F8",
           "ticks": "",
           "title": {
            "standoff": 15
           },
           "zerolinecolor": "#EBF0F8",
           "zerolinewidth": 2
          },
          "yaxis": {
           "automargin": true,
           "gridcolor": "#EBF0F8",
           "linecolor": "#EBF0F8",
           "ticks": "",
           "title": {
            "standoff": 15
           },
           "zerolinecolor": "#EBF0F8",
           "zerolinewidth": 2
          }
         }
        },
        "title": {
         "text": "Churn Distribution by PhoneService (%)"
        },
        "xaxis": {
         "anchor": "y",
         "domain": [
          0,
          1
         ],
         "showgrid": false,
         "title": {
          "text": ""
         }
        },
        "yaxis": {
         "anchor": "x",
         "domain": [
          0,
          1
         ],
         "showgrid": false,
         "title": {
          "text": "Percentage (%)"
         }
        }
       }
      }
     },
     "metadata": {},
     "output_type": "display_data"
    },
    {
     "data": {
      "application/vnd.plotly.v1+json": {
       "config": {
        "plotlyServerURL": "https://plot.ly"
       },
       "data": [
        {
         "hovertemplate": "Churn=No<br>MultipleLines=%{x}<br>percentage=%{y}<br>label=%{text}<extra></extra>",
         "legendgroup": "No",
         "marker": {
          "color": "#636efa",
          "opacity": 0.8,
          "pattern": {
           "shape": ""
          }
         },
         "name": "No",
         "orientation": "v",
         "showlegend": true,
         "text": [
          "2013 (75.0%)",
          "424 (75.8%)",
          "1702 (71.2%)"
         ],
         "textangle": 0,
         "textposition": "inside",
         "type": "bar",
         "x": [
          "No",
          "No phone service",
          "Yes"
         ],
         "xaxis": "x",
         "y": {
          "bdata": "AAAAAADAUkAzMzMzM/NSQM3MzMzMzFFA",
          "dtype": "f8"
         },
         "yaxis": "y"
        },
        {
         "hovertemplate": "Churn=Yes<br>MultipleLines=%{x}<br>percentage=%{y}<br>label=%{text}<extra></extra>",
         "legendgroup": "Yes",
         "marker": {
          "color": "#EF553B",
          "opacity": 0.8,
          "pattern": {
           "shape": ""
          }
         },
         "name": "Yes",
         "orientation": "v",
         "showlegend": true,
         "text": [
          "672 (25.0%)",
          "135 (24.2%)",
          "688 (28.8%)"
         ],
         "textangle": 0,
         "textposition": "inside",
         "type": "bar",
         "x": [
          "No",
          "No phone service",
          "Yes"
         ],
         "xaxis": "x",
         "y": {
          "bdata": "AAAAAAAAOUAzMzMzMzM4QM3MzMzMzDxA",
          "dtype": "f8"
         },
         "yaxis": "y"
        }
       ],
       "layout": {
        "bargap": 0.1,
        "barmode": "relative",
        "legend": {
         "title": {
          "text": "Churn"
         },
         "tracegroupgap": 0
        },
        "margin": {
         "t": 60
        },
        "template": {
         "data": {
          "bar": [
           {
            "error_x": {
             "color": "#2a3f5f"
            },
            "error_y": {
             "color": "#2a3f5f"
            },
            "marker": {
             "line": {
              "color": "white",
              "width": 0.5
             },
             "pattern": {
              "fillmode": "overlay",
              "size": 10,
              "solidity": 0.2
             }
            },
            "type": "bar"
           }
          ],
          "barpolar": [
           {
            "marker": {
             "line": {
              "color": "white",
              "width": 0.5
             },
             "pattern": {
              "fillmode": "overlay",
              "size": 10,
              "solidity": 0.2
             }
            },
            "type": "barpolar"
           }
          ],
          "carpet": [
           {
            "aaxis": {
             "endlinecolor": "#2a3f5f",
             "gridcolor": "#C8D4E3",
             "linecolor": "#C8D4E3",
             "minorgridcolor": "#C8D4E3",
             "startlinecolor": "#2a3f5f"
            },
            "baxis": {
             "endlinecolor": "#2a3f5f",
             "gridcolor": "#C8D4E3",
             "linecolor": "#C8D4E3",
             "minorgridcolor": "#C8D4E3",
             "startlinecolor": "#2a3f5f"
            },
            "type": "carpet"
           }
          ],
          "choropleth": [
           {
            "colorbar": {
             "outlinewidth": 0,
             "ticks": ""
            },
            "type": "choropleth"
           }
          ],
          "contour": [
           {
            "colorbar": {
             "outlinewidth": 0,
             "ticks": ""
            },
            "colorscale": [
             [
              0,
              "#0d0887"
             ],
             [
              0.1111111111111111,
              "#46039f"
             ],
             [
              0.2222222222222222,
              "#7201a8"
             ],
             [
              0.3333333333333333,
              "#9c179e"
             ],
             [
              0.4444444444444444,
              "#bd3786"
             ],
             [
              0.5555555555555556,
              "#d8576b"
             ],
             [
              0.6666666666666666,
              "#ed7953"
             ],
             [
              0.7777777777777778,
              "#fb9f3a"
             ],
             [
              0.8888888888888888,
              "#fdca26"
             ],
             [
              1,
              "#f0f921"
             ]
            ],
            "type": "contour"
           }
          ],
          "contourcarpet": [
           {
            "colorbar": {
             "outlinewidth": 0,
             "ticks": ""
            },
            "type": "contourcarpet"
           }
          ],
          "heatmap": [
           {
            "colorbar": {
             "outlinewidth": 0,
             "ticks": ""
            },
            "colorscale": [
             [
              0,
              "#0d0887"
             ],
             [
              0.1111111111111111,
              "#46039f"
             ],
             [
              0.2222222222222222,
              "#7201a8"
             ],
             [
              0.3333333333333333,
              "#9c179e"
             ],
             [
              0.4444444444444444,
              "#bd3786"
             ],
             [
              0.5555555555555556,
              "#d8576b"
             ],
             [
              0.6666666666666666,
              "#ed7953"
             ],
             [
              0.7777777777777778,
              "#fb9f3a"
             ],
             [
              0.8888888888888888,
              "#fdca26"
             ],
             [
              1,
              "#f0f921"
             ]
            ],
            "type": "heatmap"
           }
          ],
          "histogram": [
           {
            "marker": {
             "pattern": {
              "fillmode": "overlay",
              "size": 10,
              "solidity": 0.2
             }
            },
            "type": "histogram"
           }
          ],
          "histogram2d": [
           {
            "colorbar": {
             "outlinewidth": 0,
             "ticks": ""
            },
            "colorscale": [
             [
              0,
              "#0d0887"
             ],
             [
              0.1111111111111111,
              "#46039f"
             ],
             [
              0.2222222222222222,
              "#7201a8"
             ],
             [
              0.3333333333333333,
              "#9c179e"
             ],
             [
              0.4444444444444444,
              "#bd3786"
             ],
             [
              0.5555555555555556,
              "#d8576b"
             ],
             [
              0.6666666666666666,
              "#ed7953"
             ],
             [
              0.7777777777777778,
              "#fb9f3a"
             ],
             [
              0.8888888888888888,
              "#fdca26"
             ],
             [
              1,
              "#f0f921"
             ]
            ],
            "type": "histogram2d"
           }
          ],
          "histogram2dcontour": [
           {
            "colorbar": {
             "outlinewidth": 0,
             "ticks": ""
            },
            "colorscale": [
             [
              0,
              "#0d0887"
             ],
             [
              0.1111111111111111,
              "#46039f"
             ],
             [
              0.2222222222222222,
              "#7201a8"
             ],
             [
              0.3333333333333333,
              "#9c179e"
             ],
             [
              0.4444444444444444,
              "#bd3786"
             ],
             [
              0.5555555555555556,
              "#d8576b"
             ],
             [
              0.6666666666666666,
              "#ed7953"
             ],
             [
              0.7777777777777778,
              "#fb9f3a"
             ],
             [
              0.8888888888888888,
              "#fdca26"
             ],
             [
              1,
              "#f0f921"
             ]
            ],
            "type": "histogram2dcontour"
           }
          ],
          "mesh3d": [
           {
            "colorbar": {
             "outlinewidth": 0,
             "ticks": ""
            },
            "type": "mesh3d"
           }
          ],
          "parcoords": [
           {
            "line": {
             "colorbar": {
              "outlinewidth": 0,
              "ticks": ""
             }
            },
            "type": "parcoords"
           }
          ],
          "pie": [
           {
            "automargin": true,
            "type": "pie"
           }
          ],
          "scatter": [
           {
            "fillpattern": {
             "fillmode": "overlay",
             "size": 10,
             "solidity": 0.2
            },
            "type": "scatter"
           }
          ],
          "scatter3d": [
           {
            "line": {
             "colorbar": {
              "outlinewidth": 0,
              "ticks": ""
             }
            },
            "marker": {
             "colorbar": {
              "outlinewidth": 0,
              "ticks": ""
             }
            },
            "type": "scatter3d"
           }
          ],
          "scattercarpet": [
           {
            "marker": {
             "colorbar": {
              "outlinewidth": 0,
              "ticks": ""
             }
            },
            "type": "scattercarpet"
           }
          ],
          "scattergeo": [
           {
            "marker": {
             "colorbar": {
              "outlinewidth": 0,
              "ticks": ""
             }
            },
            "type": "scattergeo"
           }
          ],
          "scattergl": [
           {
            "marker": {
             "colorbar": {
              "outlinewidth": 0,
              "ticks": ""
             }
            },
            "type": "scattergl"
           }
          ],
          "scattermap": [
           {
            "marker": {
             "colorbar": {
              "outlinewidth": 0,
              "ticks": ""
             }
            },
            "type": "scattermap"
           }
          ],
          "scattermapbox": [
           {
            "marker": {
             "colorbar": {
              "outlinewidth": 0,
              "ticks": ""
             }
            },
            "type": "scattermapbox"
           }
          ],
          "scatterpolar": [
           {
            "marker": {
             "colorbar": {
              "outlinewidth": 0,
              "ticks": ""
             }
            },
            "type": "scatterpolar"
           }
          ],
          "scatterpolargl": [
           {
            "marker": {
             "colorbar": {
              "outlinewidth": 0,
              "ticks": ""
             }
            },
            "type": "scatterpolargl"
           }
          ],
          "scatterternary": [
           {
            "marker": {
             "colorbar": {
              "outlinewidth": 0,
              "ticks": ""
             }
            },
            "type": "scatterternary"
           }
          ],
          "surface": [
           {
            "colorbar": {
             "outlinewidth": 0,
             "ticks": ""
            },
            "colorscale": [
             [
              0,
              "#0d0887"
             ],
             [
              0.1111111111111111,
              "#46039f"
             ],
             [
              0.2222222222222222,
              "#7201a8"
             ],
             [
              0.3333333333333333,
              "#9c179e"
             ],
             [
              0.4444444444444444,
              "#bd3786"
             ],
             [
              0.5555555555555556,
              "#d8576b"
             ],
             [
              0.6666666666666666,
              "#ed7953"
             ],
             [
              0.7777777777777778,
              "#fb9f3a"
             ],
             [
              0.8888888888888888,
              "#fdca26"
             ],
             [
              1,
              "#f0f921"
             ]
            ],
            "type": "surface"
           }
          ],
          "table": [
           {
            "cells": {
             "fill": {
              "color": "#EBF0F8"
             },
             "line": {
              "color": "white"
             }
            },
            "header": {
             "fill": {
              "color": "#C8D4E3"
             },
             "line": {
              "color": "white"
             }
            },
            "type": "table"
           }
          ]
         },
         "layout": {
          "annotationdefaults": {
           "arrowcolor": "#2a3f5f",
           "arrowhead": 0,
           "arrowwidth": 1
          },
          "autotypenumbers": "strict",
          "coloraxis": {
           "colorbar": {
            "outlinewidth": 0,
            "ticks": ""
           }
          },
          "colorscale": {
           "diverging": [
            [
             0,
             "#8e0152"
            ],
            [
             0.1,
             "#c51b7d"
            ],
            [
             0.2,
             "#de77ae"
            ],
            [
             0.3,
             "#f1b6da"
            ],
            [
             0.4,
             "#fde0ef"
            ],
            [
             0.5,
             "#f7f7f7"
            ],
            [
             0.6,
             "#e6f5d0"
            ],
            [
             0.7,
             "#b8e186"
            ],
            [
             0.8,
             "#7fbc41"
            ],
            [
             0.9,
             "#4d9221"
            ],
            [
             1,
             "#276419"
            ]
           ],
           "sequential": [
            [
             0,
             "#0d0887"
            ],
            [
             0.1111111111111111,
             "#46039f"
            ],
            [
             0.2222222222222222,
             "#7201a8"
            ],
            [
             0.3333333333333333,
             "#9c179e"
            ],
            [
             0.4444444444444444,
             "#bd3786"
            ],
            [
             0.5555555555555556,
             "#d8576b"
            ],
            [
             0.6666666666666666,
             "#ed7953"
            ],
            [
             0.7777777777777778,
             "#fb9f3a"
            ],
            [
             0.8888888888888888,
             "#fdca26"
            ],
            [
             1,
             "#f0f921"
            ]
           ],
           "sequentialminus": [
            [
             0,
             "#0d0887"
            ],
            [
             0.1111111111111111,
             "#46039f"
            ],
            [
             0.2222222222222222,
             "#7201a8"
            ],
            [
             0.3333333333333333,
             "#9c179e"
            ],
            [
             0.4444444444444444,
             "#bd3786"
            ],
            [
             0.5555555555555556,
             "#d8576b"
            ],
            [
             0.6666666666666666,
             "#ed7953"
            ],
            [
             0.7777777777777778,
             "#fb9f3a"
            ],
            [
             0.8888888888888888,
             "#fdca26"
            ],
            [
             1,
             "#f0f921"
            ]
           ]
          },
          "colorway": [
           "#636efa",
           "#EF553B",
           "#00cc96",
           "#ab63fa",
           "#FFA15A",
           "#19d3f3",
           "#FF6692",
           "#B6E880",
           "#FF97FF",
           "#FECB52"
          ],
          "font": {
           "color": "#2a3f5f"
          },
          "geo": {
           "bgcolor": "white",
           "lakecolor": "white",
           "landcolor": "white",
           "showlakes": true,
           "showland": true,
           "subunitcolor": "#C8D4E3"
          },
          "hoverlabel": {
           "align": "left"
          },
          "hovermode": "closest",
          "mapbox": {
           "style": "light"
          },
          "paper_bgcolor": "white",
          "plot_bgcolor": "white",
          "polar": {
           "angularaxis": {
            "gridcolor": "#EBF0F8",
            "linecolor": "#EBF0F8",
            "ticks": ""
           },
           "bgcolor": "white",
           "radialaxis": {
            "gridcolor": "#EBF0F8",
            "linecolor": "#EBF0F8",
            "ticks": ""
           }
          },
          "scene": {
           "xaxis": {
            "backgroundcolor": "white",
            "gridcolor": "#DFE8F3",
            "gridwidth": 2,
            "linecolor": "#EBF0F8",
            "showbackground": true,
            "ticks": "",
            "zerolinecolor": "#EBF0F8"
           },
           "yaxis": {
            "backgroundcolor": "white",
            "gridcolor": "#DFE8F3",
            "gridwidth": 2,
            "linecolor": "#EBF0F8",
            "showbackground": true,
            "ticks": "",
            "zerolinecolor": "#EBF0F8"
           },
           "zaxis": {
            "backgroundcolor": "white",
            "gridcolor": "#DFE8F3",
            "gridwidth": 2,
            "linecolor": "#EBF0F8",
            "showbackground": true,
            "ticks": "",
            "zerolinecolor": "#EBF0F8"
           }
          },
          "shapedefaults": {
           "line": {
            "color": "#2a3f5f"
           }
          },
          "ternary": {
           "aaxis": {
            "gridcolor": "#DFE8F3",
            "linecolor": "#A2B1C6",
            "ticks": ""
           },
           "baxis": {
            "gridcolor": "#DFE8F3",
            "linecolor": "#A2B1C6",
            "ticks": ""
           },
           "bgcolor": "white",
           "caxis": {
            "gridcolor": "#DFE8F3",
            "linecolor": "#A2B1C6",
            "ticks": ""
           }
          },
          "title": {
           "x": 0.05
          },
          "xaxis": {
           "automargin": true,
           "gridcolor": "#EBF0F8",
           "linecolor": "#EBF0F8",
           "ticks": "",
           "title": {
            "standoff": 15
           },
           "zerolinecolor": "#EBF0F8",
           "zerolinewidth": 2
          },
          "yaxis": {
           "automargin": true,
           "gridcolor": "#EBF0F8",
           "linecolor": "#EBF0F8",
           "ticks": "",
           "title": {
            "standoff": 15
           },
           "zerolinecolor": "#EBF0F8",
           "zerolinewidth": 2
          }
         }
        },
        "title": {
         "text": "Churn Distribution by MultipleLines (%)"
        },
        "xaxis": {
         "anchor": "y",
         "domain": [
          0,
          1
         ],
         "showgrid": false,
         "title": {
          "text": ""
         }
        },
        "yaxis": {
         "anchor": "x",
         "domain": [
          0,
          1
         ],
         "showgrid": false,
         "title": {
          "text": "Percentage (%)"
         }
        }
       }
      }
     },
     "metadata": {},
     "output_type": "display_data"
    },
    {
     "data": {
      "application/vnd.plotly.v1+json": {
       "config": {
        "plotlyServerURL": "https://plot.ly"
       },
       "data": [
        {
         "hovertemplate": "Churn=No<br>InternetService=%{x}<br>percentage=%{y}<br>label=%{text}<extra></extra>",
         "legendgroup": "No",
         "marker": {
          "color": "#636efa",
          "opacity": 0.8,
          "pattern": {
           "shape": ""
          }
         },
         "name": "No",
         "orientation": "v",
         "showlegend": true,
         "text": [
          "1575 (81.3%)",
          "1438 (57.9%)",
          "1126 (92.8%)"
         ],
         "textangle": 0,
         "textposition": "inside",
         "type": "bar",
         "x": [
          "DSL",
          "Fiber optic",
          "No"
         ],
         "xaxis": "x",
         "y": {
          "bdata": "MzMzMzNTVEAzMzMzM/NMQDMzMzMzM1dA",
          "dtype": "f8"
         },
         "yaxis": "y"
        },
        {
         "hovertemplate": "Churn=Yes<br>InternetService=%{x}<br>percentage=%{y}<br>label=%{text}<extra></extra>",
         "legendgroup": "Yes",
         "marker": {
          "color": "#EF553B",
          "opacity": 0.8,
          "pattern": {
           "shape": ""
          }
         },
         "name": "Yes",
         "orientation": "v",
         "showlegend": true,
         "text": [
          "362 (18.7%)",
          "1045 (42.1%)",
          "88 (7.2%)"
         ],
         "textangle": 0,
         "textposition": "inside",
         "type": "bar",
         "x": [
          "DSL",
          "Fiber optic",
          "No"
         ],
         "xaxis": "x",
         "y": {
          "bdata": "MzMzMzOzMkDNzMzMzAxFQM3MzMzMzBxA",
          "dtype": "f8"
         },
         "yaxis": "y"
        }
       ],
       "layout": {
        "bargap": 0.1,
        "barmode": "relative",
        "legend": {
         "title": {
          "text": "Churn"
         },
         "tracegroupgap": 0
        },
        "margin": {
         "t": 60
        },
        "template": {
         "data": {
          "bar": [
           {
            "error_x": {
             "color": "#2a3f5f"
            },
            "error_y": {
             "color": "#2a3f5f"
            },
            "marker": {
             "line": {
              "color": "white",
              "width": 0.5
             },
             "pattern": {
              "fillmode": "overlay",
              "size": 10,
              "solidity": 0.2
             }
            },
            "type": "bar"
           }
          ],
          "barpolar": [
           {
            "marker": {
             "line": {
              "color": "white",
              "width": 0.5
             },
             "pattern": {
              "fillmode": "overlay",
              "size": 10,
              "solidity": 0.2
             }
            },
            "type": "barpolar"
           }
          ],
          "carpet": [
           {
            "aaxis": {
             "endlinecolor": "#2a3f5f",
             "gridcolor": "#C8D4E3",
             "linecolor": "#C8D4E3",
             "minorgridcolor": "#C8D4E3",
             "startlinecolor": "#2a3f5f"
            },
            "baxis": {
             "endlinecolor": "#2a3f5f",
             "gridcolor": "#C8D4E3",
             "linecolor": "#C8D4E3",
             "minorgridcolor": "#C8D4E3",
             "startlinecolor": "#2a3f5f"
            },
            "type": "carpet"
           }
          ],
          "choropleth": [
           {
            "colorbar": {
             "outlinewidth": 0,
             "ticks": ""
            },
            "type": "choropleth"
           }
          ],
          "contour": [
           {
            "colorbar": {
             "outlinewidth": 0,
             "ticks": ""
            },
            "colorscale": [
             [
              0,
              "#0d0887"
             ],
             [
              0.1111111111111111,
              "#46039f"
             ],
             [
              0.2222222222222222,
              "#7201a8"
             ],
             [
              0.3333333333333333,
              "#9c179e"
             ],
             [
              0.4444444444444444,
              "#bd3786"
             ],
             [
              0.5555555555555556,
              "#d8576b"
             ],
             [
              0.6666666666666666,
              "#ed7953"
             ],
             [
              0.7777777777777778,
              "#fb9f3a"
             ],
             [
              0.8888888888888888,
              "#fdca26"
             ],
             [
              1,
              "#f0f921"
             ]
            ],
            "type": "contour"
           }
          ],
          "contourcarpet": [
           {
            "colorbar": {
             "outlinewidth": 0,
             "ticks": ""
            },
            "type": "contourcarpet"
           }
          ],
          "heatmap": [
           {
            "colorbar": {
             "outlinewidth": 0,
             "ticks": ""
            },
            "colorscale": [
             [
              0,
              "#0d0887"
             ],
             [
              0.1111111111111111,
              "#46039f"
             ],
             [
              0.2222222222222222,
              "#7201a8"
             ],
             [
              0.3333333333333333,
              "#9c179e"
             ],
             [
              0.4444444444444444,
              "#bd3786"
             ],
             [
              0.5555555555555556,
              "#d8576b"
             ],
             [
              0.6666666666666666,
              "#ed7953"
             ],
             [
              0.7777777777777778,
              "#fb9f3a"
             ],
             [
              0.8888888888888888,
              "#fdca26"
             ],
             [
              1,
              "#f0f921"
             ]
            ],
            "type": "heatmap"
           }
          ],
          "histogram": [
           {
            "marker": {
             "pattern": {
              "fillmode": "overlay",
              "size": 10,
              "solidity": 0.2
             }
            },
            "type": "histogram"
           }
          ],
          "histogram2d": [
           {
            "colorbar": {
             "outlinewidth": 0,
             "ticks": ""
            },
            "colorscale": [
             [
              0,
              "#0d0887"
             ],
             [
              0.1111111111111111,
              "#46039f"
             ],
             [
              0.2222222222222222,
              "#7201a8"
             ],
             [
              0.3333333333333333,
              "#9c179e"
             ],
             [
              0.4444444444444444,
              "#bd3786"
             ],
             [
              0.5555555555555556,
              "#d8576b"
             ],
             [
              0.6666666666666666,
              "#ed7953"
             ],
             [
              0.7777777777777778,
              "#fb9f3a"
             ],
             [
              0.8888888888888888,
              "#fdca26"
             ],
             [
              1,
              "#f0f921"
             ]
            ],
            "type": "histogram2d"
           }
          ],
          "histogram2dcontour": [
           {
            "colorbar": {
             "outlinewidth": 0,
             "ticks": ""
            },
            "colorscale": [
             [
              0,
              "#0d0887"
             ],
             [
              0.1111111111111111,
              "#46039f"
             ],
             [
              0.2222222222222222,
              "#7201a8"
             ],
             [
              0.3333333333333333,
              "#9c179e"
             ],
             [
              0.4444444444444444,
              "#bd3786"
             ],
             [
              0.5555555555555556,
              "#d8576b"
             ],
             [
              0.6666666666666666,
              "#ed7953"
             ],
             [
              0.7777777777777778,
              "#fb9f3a"
             ],
             [
              0.8888888888888888,
              "#fdca26"
             ],
             [
              1,
              "#f0f921"
             ]
            ],
            "type": "histogram2dcontour"
           }
          ],
          "mesh3d": [
           {
            "colorbar": {
             "outlinewidth": 0,
             "ticks": ""
            },
            "type": "mesh3d"
           }
          ],
          "parcoords": [
           {
            "line": {
             "colorbar": {
              "outlinewidth": 0,
              "ticks": ""
             }
            },
            "type": "parcoords"
           }
          ],
          "pie": [
           {
            "automargin": true,
            "type": "pie"
           }
          ],
          "scatter": [
           {
            "fillpattern": {
             "fillmode": "overlay",
             "size": 10,
             "solidity": 0.2
            },
            "type": "scatter"
           }
          ],
          "scatter3d": [
           {
            "line": {
             "colorbar": {
              "outlinewidth": 0,
              "ticks": ""
             }
            },
            "marker": {
             "colorbar": {
              "outlinewidth": 0,
              "ticks": ""
             }
            },
            "type": "scatter3d"
           }
          ],
          "scattercarpet": [
           {
            "marker": {
             "colorbar": {
              "outlinewidth": 0,
              "ticks": ""
             }
            },
            "type": "scattercarpet"
           }
          ],
          "scattergeo": [
           {
            "marker": {
             "colorbar": {
              "outlinewidth": 0,
              "ticks": ""
             }
            },
            "type": "scattergeo"
           }
          ],
          "scattergl": [
           {
            "marker": {
             "colorbar": {
              "outlinewidth": 0,
              "ticks": ""
             }
            },
            "type": "scattergl"
           }
          ],
          "scattermap": [
           {
            "marker": {
             "colorbar": {
              "outlinewidth": 0,
              "ticks": ""
             }
            },
            "type": "scattermap"
           }
          ],
          "scattermapbox": [
           {
            "marker": {
             "colorbar": {
              "outlinewidth": 0,
              "ticks": ""
             }
            },
            "type": "scattermapbox"
           }
          ],
          "scatterpolar": [
           {
            "marker": {
             "colorbar": {
              "outlinewidth": 0,
              "ticks": ""
             }
            },
            "type": "scatterpolar"
           }
          ],
          "scatterpolargl": [
           {
            "marker": {
             "colorbar": {
              "outlinewidth": 0,
              "ticks": ""
             }
            },
            "type": "scatterpolargl"
           }
          ],
          "scatterternary": [
           {
            "marker": {
             "colorbar": {
              "outlinewidth": 0,
              "ticks": ""
             }
            },
            "type": "scatterternary"
           }
          ],
          "surface": [
           {
            "colorbar": {
             "outlinewidth": 0,
             "ticks": ""
            },
            "colorscale": [
             [
              0,
              "#0d0887"
             ],
             [
              0.1111111111111111,
              "#46039f"
             ],
             [
              0.2222222222222222,
              "#7201a8"
             ],
             [
              0.3333333333333333,
              "#9c179e"
             ],
             [
              0.4444444444444444,
              "#bd3786"
             ],
             [
              0.5555555555555556,
              "#d8576b"
             ],
             [
              0.6666666666666666,
              "#ed7953"
             ],
             [
              0.7777777777777778,
              "#fb9f3a"
             ],
             [
              0.8888888888888888,
              "#fdca26"
             ],
             [
              1,
              "#f0f921"
             ]
            ],
            "type": "surface"
           }
          ],
          "table": [
           {
            "cells": {
             "fill": {
              "color": "#EBF0F8"
             },
             "line": {
              "color": "white"
             }
            },
            "header": {
             "fill": {
              "color": "#C8D4E3"
             },
             "line": {
              "color": "white"
             }
            },
            "type": "table"
           }
          ]
         },
         "layout": {
          "annotationdefaults": {
           "arrowcolor": "#2a3f5f",
           "arrowhead": 0,
           "arrowwidth": 1
          },
          "autotypenumbers": "strict",
          "coloraxis": {
           "colorbar": {
            "outlinewidth": 0,
            "ticks": ""
           }
          },
          "colorscale": {
           "diverging": [
            [
             0,
             "#8e0152"
            ],
            [
             0.1,
             "#c51b7d"
            ],
            [
             0.2,
             "#de77ae"
            ],
            [
             0.3,
             "#f1b6da"
            ],
            [
             0.4,
             "#fde0ef"
            ],
            [
             0.5,
             "#f7f7f7"
            ],
            [
             0.6,
             "#e6f5d0"
            ],
            [
             0.7,
             "#b8e186"
            ],
            [
             0.8,
             "#7fbc41"
            ],
            [
             0.9,
             "#4d9221"
            ],
            [
             1,
             "#276419"
            ]
           ],
           "sequential": [
            [
             0,
             "#0d0887"
            ],
            [
             0.1111111111111111,
             "#46039f"
            ],
            [
             0.2222222222222222,
             "#7201a8"
            ],
            [
             0.3333333333333333,
             "#9c179e"
            ],
            [
             0.4444444444444444,
             "#bd3786"
            ],
            [
             0.5555555555555556,
             "#d8576b"
            ],
            [
             0.6666666666666666,
             "#ed7953"
            ],
            [
             0.7777777777777778,
             "#fb9f3a"
            ],
            [
             0.8888888888888888,
             "#fdca26"
            ],
            [
             1,
             "#f0f921"
            ]
           ],
           "sequentialminus": [
            [
             0,
             "#0d0887"
            ],
            [
             0.1111111111111111,
             "#46039f"
            ],
            [
             0.2222222222222222,
             "#7201a8"
            ],
            [
             0.3333333333333333,
             "#9c179e"
            ],
            [
             0.4444444444444444,
             "#bd3786"
            ],
            [
             0.5555555555555556,
             "#d8576b"
            ],
            [
             0.6666666666666666,
             "#ed7953"
            ],
            [
             0.7777777777777778,
             "#fb9f3a"
            ],
            [
             0.8888888888888888,
             "#fdca26"
            ],
            [
             1,
             "#f0f921"
            ]
           ]
          },
          "colorway": [
           "#636efa",
           "#EF553B",
           "#00cc96",
           "#ab63fa",
           "#FFA15A",
           "#19d3f3",
           "#FF6692",
           "#B6E880",
           "#FF97FF",
           "#FECB52"
          ],
          "font": {
           "color": "#2a3f5f"
          },
          "geo": {
           "bgcolor": "white",
           "lakecolor": "white",
           "landcolor": "white",
           "showlakes": true,
           "showland": true,
           "subunitcolor": "#C8D4E3"
          },
          "hoverlabel": {
           "align": "left"
          },
          "hovermode": "closest",
          "mapbox": {
           "style": "light"
          },
          "paper_bgcolor": "white",
          "plot_bgcolor": "white",
          "polar": {
           "angularaxis": {
            "gridcolor": "#EBF0F8",
            "linecolor": "#EBF0F8",
            "ticks": ""
           },
           "bgcolor": "white",
           "radialaxis": {
            "gridcolor": "#EBF0F8",
            "linecolor": "#EBF0F8",
            "ticks": ""
           }
          },
          "scene": {
           "xaxis": {
            "backgroundcolor": "white",
            "gridcolor": "#DFE8F3",
            "gridwidth": 2,
            "linecolor": "#EBF0F8",
            "showbackground": true,
            "ticks": "",
            "zerolinecolor": "#EBF0F8"
           },
           "yaxis": {
            "backgroundcolor": "white",
            "gridcolor": "#DFE8F3",
            "gridwidth": 2,
            "linecolor": "#EBF0F8",
            "showbackground": true,
            "ticks": "",
            "zerolinecolor": "#EBF0F8"
           },
           "zaxis": {
            "backgroundcolor": "white",
            "gridcolor": "#DFE8F3",
            "gridwidth": 2,
            "linecolor": "#EBF0F8",
            "showbackground": true,
            "ticks": "",
            "zerolinecolor": "#EBF0F8"
           }
          },
          "shapedefaults": {
           "line": {
            "color": "#2a3f5f"
           }
          },
          "ternary": {
           "aaxis": {
            "gridcolor": "#DFE8F3",
            "linecolor": "#A2B1C6",
            "ticks": ""
           },
           "baxis": {
            "gridcolor": "#DFE8F3",
            "linecolor": "#A2B1C6",
            "ticks": ""
           },
           "bgcolor": "white",
           "caxis": {
            "gridcolor": "#DFE8F3",
            "linecolor": "#A2B1C6",
            "ticks": ""
           }
          },
          "title": {
           "x": 0.05
          },
          "xaxis": {
           "automargin": true,
           "gridcolor": "#EBF0F8",
           "linecolor": "#EBF0F8",
           "ticks": "",
           "title": {
            "standoff": 15
           },
           "zerolinecolor": "#EBF0F8",
           "zerolinewidth": 2
          },
          "yaxis": {
           "automargin": true,
           "gridcolor": "#EBF0F8",
           "linecolor": "#EBF0F8",
           "ticks": "",
           "title": {
            "standoff": 15
           },
           "zerolinecolor": "#EBF0F8",
           "zerolinewidth": 2
          }
         }
        },
        "title": {
         "text": "Churn Distribution by InternetService (%)"
        },
        "xaxis": {
         "anchor": "y",
         "domain": [
          0,
          1
         ],
         "showgrid": false,
         "title": {
          "text": ""
         }
        },
        "yaxis": {
         "anchor": "x",
         "domain": [
          0,
          1
         ],
         "showgrid": false,
         "title": {
          "text": "Percentage (%)"
         }
        }
       }
      }
     },
     "metadata": {},
     "output_type": "display_data"
    },
    {
     "data": {
      "application/vnd.plotly.v1+json": {
       "config": {
        "plotlyServerURL": "https://plot.ly"
       },
       "data": [
        {
         "hovertemplate": "Churn=No<br>OnlineSecurity=%{x}<br>percentage=%{y}<br>label=%{text}<extra></extra>",
         "legendgroup": "No",
         "marker": {
          "color": "#636efa",
          "opacity": 0.8,
          "pattern": {
           "shape": ""
          }
         },
         "name": "No",
         "orientation": "v",
         "showlegend": true,
         "text": [
          "1624 (58.1%)",
          "1126 (92.8%)",
          "1389 (85.6%)"
         ],
         "textangle": 0,
         "textposition": "inside",
         "type": "bar",
         "x": [
          "No",
          "No internet service",
          "Yes"
         ],
         "xaxis": "x",
         "y": {
          "bdata": "zczMzMwMTUAzMzMzMzNXQGZmZmZmZlVA",
          "dtype": "f8"
         },
         "yaxis": "y"
        },
        {
         "hovertemplate": "Churn=Yes<br>OnlineSecurity=%{x}<br>percentage=%{y}<br>label=%{text}<extra></extra>",
         "legendgroup": "Yes",
         "marker": {
          "color": "#EF553B",
          "opacity": 0.8,
          "pattern": {
           "shape": ""
          }
         },
         "name": "Yes",
         "orientation": "v",
         "showlegend": true,
         "text": [
          "1173 (41.9%)",
          "88 (7.2%)",
          "234 (14.4%)"
         ],
         "textangle": 0,
         "textposition": "inside",
         "type": "bar",
         "x": [
          "No",
          "No internet service",
          "Yes"
         ],
         "xaxis": "x",
         "y": {
          "bdata": "MzMzMzPzREDNzMzMzMwcQM3MzMzMzCxA",
          "dtype": "f8"
         },
         "yaxis": "y"
        }
       ],
       "layout": {
        "bargap": 0.1,
        "barmode": "relative",
        "legend": {
         "title": {
          "text": "Churn"
         },
         "tracegroupgap": 0
        },
        "margin": {
         "t": 60
        },
        "template": {
         "data": {
          "bar": [
           {
            "error_x": {
             "color": "#2a3f5f"
            },
            "error_y": {
             "color": "#2a3f5f"
            },
            "marker": {
             "line": {
              "color": "white",
              "width": 0.5
             },
             "pattern": {
              "fillmode": "overlay",
              "size": 10,
              "solidity": 0.2
             }
            },
            "type": "bar"
           }
          ],
          "barpolar": [
           {
            "marker": {
             "line": {
              "color": "white",
              "width": 0.5
             },
             "pattern": {
              "fillmode": "overlay",
              "size": 10,
              "solidity": 0.2
             }
            },
            "type": "barpolar"
           }
          ],
          "carpet": [
           {
            "aaxis": {
             "endlinecolor": "#2a3f5f",
             "gridcolor": "#C8D4E3",
             "linecolor": "#C8D4E3",
             "minorgridcolor": "#C8D4E3",
             "startlinecolor": "#2a3f5f"
            },
            "baxis": {
             "endlinecolor": "#2a3f5f",
             "gridcolor": "#C8D4E3",
             "linecolor": "#C8D4E3",
             "minorgridcolor": "#C8D4E3",
             "startlinecolor": "#2a3f5f"
            },
            "type": "carpet"
           }
          ],
          "choropleth": [
           {
            "colorbar": {
             "outlinewidth": 0,
             "ticks": ""
            },
            "type": "choropleth"
           }
          ],
          "contour": [
           {
            "colorbar": {
             "outlinewidth": 0,
             "ticks": ""
            },
            "colorscale": [
             [
              0,
              "#0d0887"
             ],
             [
              0.1111111111111111,
              "#46039f"
             ],
             [
              0.2222222222222222,
              "#7201a8"
             ],
             [
              0.3333333333333333,
              "#9c179e"
             ],
             [
              0.4444444444444444,
              "#bd3786"
             ],
             [
              0.5555555555555556,
              "#d8576b"
             ],
             [
              0.6666666666666666,
              "#ed7953"
             ],
             [
              0.7777777777777778,
              "#fb9f3a"
             ],
             [
              0.8888888888888888,
              "#fdca26"
             ],
             [
              1,
              "#f0f921"
             ]
            ],
            "type": "contour"
           }
          ],
          "contourcarpet": [
           {
            "colorbar": {
             "outlinewidth": 0,
             "ticks": ""
            },
            "type": "contourcarpet"
           }
          ],
          "heatmap": [
           {
            "colorbar": {
             "outlinewidth": 0,
             "ticks": ""
            },
            "colorscale": [
             [
              0,
              "#0d0887"
             ],
             [
              0.1111111111111111,
              "#46039f"
             ],
             [
              0.2222222222222222,
              "#7201a8"
             ],
             [
              0.3333333333333333,
              "#9c179e"
             ],
             [
              0.4444444444444444,
              "#bd3786"
             ],
             [
              0.5555555555555556,
              "#d8576b"
             ],
             [
              0.6666666666666666,
              "#ed7953"
             ],
             [
              0.7777777777777778,
              "#fb9f3a"
             ],
             [
              0.8888888888888888,
              "#fdca26"
             ],
             [
              1,
              "#f0f921"
             ]
            ],
            "type": "heatmap"
           }
          ],
          "histogram": [
           {
            "marker": {
             "pattern": {
              "fillmode": "overlay",
              "size": 10,
              "solidity": 0.2
             }
            },
            "type": "histogram"
           }
          ],
          "histogram2d": [
           {
            "colorbar": {
             "outlinewidth": 0,
             "ticks": ""
            },
            "colorscale": [
             [
              0,
              "#0d0887"
             ],
             [
              0.1111111111111111,
              "#46039f"
             ],
             [
              0.2222222222222222,
              "#7201a8"
             ],
             [
              0.3333333333333333,
              "#9c179e"
             ],
             [
              0.4444444444444444,
              "#bd3786"
             ],
             [
              0.5555555555555556,
              "#d8576b"
             ],
             [
              0.6666666666666666,
              "#ed7953"
             ],
             [
              0.7777777777777778,
              "#fb9f3a"
             ],
             [
              0.8888888888888888,
              "#fdca26"
             ],
             [
              1,
              "#f0f921"
             ]
            ],
            "type": "histogram2d"
           }
          ],
          "histogram2dcontour": [
           {
            "colorbar": {
             "outlinewidth": 0,
             "ticks": ""
            },
            "colorscale": [
             [
              0,
              "#0d0887"
             ],
             [
              0.1111111111111111,
              "#46039f"
             ],
             [
              0.2222222222222222,
              "#7201a8"
             ],
             [
              0.3333333333333333,
              "#9c179e"
             ],
             [
              0.4444444444444444,
              "#bd3786"
             ],
             [
              0.5555555555555556,
              "#d8576b"
             ],
             [
              0.6666666666666666,
              "#ed7953"
             ],
             [
              0.7777777777777778,
              "#fb9f3a"
             ],
             [
              0.8888888888888888,
              "#fdca26"
             ],
             [
              1,
              "#f0f921"
             ]
            ],
            "type": "histogram2dcontour"
           }
          ],
          "mesh3d": [
           {
            "colorbar": {
             "outlinewidth": 0,
             "ticks": ""
            },
            "type": "mesh3d"
           }
          ],
          "parcoords": [
           {
            "line": {
             "colorbar": {
              "outlinewidth": 0,
              "ticks": ""
             }
            },
            "type": "parcoords"
           }
          ],
          "pie": [
           {
            "automargin": true,
            "type": "pie"
           }
          ],
          "scatter": [
           {
            "fillpattern": {
             "fillmode": "overlay",
             "size": 10,
             "solidity": 0.2
            },
            "type": "scatter"
           }
          ],
          "scatter3d": [
           {
            "line": {
             "colorbar": {
              "outlinewidth": 0,
              "ticks": ""
             }
            },
            "marker": {
             "colorbar": {
              "outlinewidth": 0,
              "ticks": ""
             }
            },
            "type": "scatter3d"
           }
          ],
          "scattercarpet": [
           {
            "marker": {
             "colorbar": {
              "outlinewidth": 0,
              "ticks": ""
             }
            },
            "type": "scattercarpet"
           }
          ],
          "scattergeo": [
           {
            "marker": {
             "colorbar": {
              "outlinewidth": 0,
              "ticks": ""
             }
            },
            "type": "scattergeo"
           }
          ],
          "scattergl": [
           {
            "marker": {
             "colorbar": {
              "outlinewidth": 0,
              "ticks": ""
             }
            },
            "type": "scattergl"
           }
          ],
          "scattermap": [
           {
            "marker": {
             "colorbar": {
              "outlinewidth": 0,
              "ticks": ""
             }
            },
            "type": "scattermap"
           }
          ],
          "scattermapbox": [
           {
            "marker": {
             "colorbar": {
              "outlinewidth": 0,
              "ticks": ""
             }
            },
            "type": "scattermapbox"
           }
          ],
          "scatterpolar": [
           {
            "marker": {
             "colorbar": {
              "outlinewidth": 0,
              "ticks": ""
             }
            },
            "type": "scatterpolar"
           }
          ],
          "scatterpolargl": [
           {
            "marker": {
             "colorbar": {
              "outlinewidth": 0,
              "ticks": ""
             }
            },
            "type": "scatterpolargl"
           }
          ],
          "scatterternary": [
           {
            "marker": {
             "colorbar": {
              "outlinewidth": 0,
              "ticks": ""
             }
            },
            "type": "scatterternary"
           }
          ],
          "surface": [
           {
            "colorbar": {
             "outlinewidth": 0,
             "ticks": ""
            },
            "colorscale": [
             [
              0,
              "#0d0887"
             ],
             [
              0.1111111111111111,
              "#46039f"
             ],
             [
              0.2222222222222222,
              "#7201a8"
             ],
             [
              0.3333333333333333,
              "#9c179e"
             ],
             [
              0.4444444444444444,
              "#bd3786"
             ],
             [
              0.5555555555555556,
              "#d8576b"
             ],
             [
              0.6666666666666666,
              "#ed7953"
             ],
             [
              0.7777777777777778,
              "#fb9f3a"
             ],
             [
              0.8888888888888888,
              "#fdca26"
             ],
             [
              1,
              "#f0f921"
             ]
            ],
            "type": "surface"
           }
          ],
          "table": [
           {
            "cells": {
             "fill": {
              "color": "#EBF0F8"
             },
             "line": {
              "color": "white"
             }
            },
            "header": {
             "fill": {
              "color": "#C8D4E3"
             },
             "line": {
              "color": "white"
             }
            },
            "type": "table"
           }
          ]
         },
         "layout": {
          "annotationdefaults": {
           "arrowcolor": "#2a3f5f",
           "arrowhead": 0,
           "arrowwidth": 1
          },
          "autotypenumbers": "strict",
          "coloraxis": {
           "colorbar": {
            "outlinewidth": 0,
            "ticks": ""
           }
          },
          "colorscale": {
           "diverging": [
            [
             0,
             "#8e0152"
            ],
            [
             0.1,
             "#c51b7d"
            ],
            [
             0.2,
             "#de77ae"
            ],
            [
             0.3,
             "#f1b6da"
            ],
            [
             0.4,
             "#fde0ef"
            ],
            [
             0.5,
             "#f7f7f7"
            ],
            [
             0.6,
             "#e6f5d0"
            ],
            [
             0.7,
             "#b8e186"
            ],
            [
             0.8,
             "#7fbc41"
            ],
            [
             0.9,
             "#4d9221"
            ],
            [
             1,
             "#276419"
            ]
           ],
           "sequential": [
            [
             0,
             "#0d0887"
            ],
            [
             0.1111111111111111,
             "#46039f"
            ],
            [
             0.2222222222222222,
             "#7201a8"
            ],
            [
             0.3333333333333333,
             "#9c179e"
            ],
            [
             0.4444444444444444,
             "#bd3786"
            ],
            [
             0.5555555555555556,
             "#d8576b"
            ],
            [
             0.6666666666666666,
             "#ed7953"
            ],
            [
             0.7777777777777778,
             "#fb9f3a"
            ],
            [
             0.8888888888888888,
             "#fdca26"
            ],
            [
             1,
             "#f0f921"
            ]
           ],
           "sequentialminus": [
            [
             0,
             "#0d0887"
            ],
            [
             0.1111111111111111,
             "#46039f"
            ],
            [
             0.2222222222222222,
             "#7201a8"
            ],
            [
             0.3333333333333333,
             "#9c179e"
            ],
            [
             0.4444444444444444,
             "#bd3786"
            ],
            [
             0.5555555555555556,
             "#d8576b"
            ],
            [
             0.6666666666666666,
             "#ed7953"
            ],
            [
             0.7777777777777778,
             "#fb9f3a"
            ],
            [
             0.8888888888888888,
             "#fdca26"
            ],
            [
             1,
             "#f0f921"
            ]
           ]
          },
          "colorway": [
           "#636efa",
           "#EF553B",
           "#00cc96",
           "#ab63fa",
           "#FFA15A",
           "#19d3f3",
           "#FF6692",
           "#B6E880",
           "#FF97FF",
           "#FECB52"
          ],
          "font": {
           "color": "#2a3f5f"
          },
          "geo": {
           "bgcolor": "white",
           "lakecolor": "white",
           "landcolor": "white",
           "showlakes": true,
           "showland": true,
           "subunitcolor": "#C8D4E3"
          },
          "hoverlabel": {
           "align": "left"
          },
          "hovermode": "closest",
          "mapbox": {
           "style": "light"
          },
          "paper_bgcolor": "white",
          "plot_bgcolor": "white",
          "polar": {
           "angularaxis": {
            "gridcolor": "#EBF0F8",
            "linecolor": "#EBF0F8",
            "ticks": ""
           },
           "bgcolor": "white",
           "radialaxis": {
            "gridcolor": "#EBF0F8",
            "linecolor": "#EBF0F8",
            "ticks": ""
           }
          },
          "scene": {
           "xaxis": {
            "backgroundcolor": "white",
            "gridcolor": "#DFE8F3",
            "gridwidth": 2,
            "linecolor": "#EBF0F8",
            "showbackground": true,
            "ticks": "",
            "zerolinecolor": "#EBF0F8"
           },
           "yaxis": {
            "backgroundcolor": "white",
            "gridcolor": "#DFE8F3",
            "gridwidth": 2,
            "linecolor": "#EBF0F8",
            "showbackground": true,
            "ticks": "",
            "zerolinecolor": "#EBF0F8"
           },
           "zaxis": {
            "backgroundcolor": "white",
            "gridcolor": "#DFE8F3",
            "gridwidth": 2,
            "linecolor": "#EBF0F8",
            "showbackground": true,
            "ticks": "",
            "zerolinecolor": "#EBF0F8"
           }
          },
          "shapedefaults": {
           "line": {
            "color": "#2a3f5f"
           }
          },
          "ternary": {
           "aaxis": {
            "gridcolor": "#DFE8F3",
            "linecolor": "#A2B1C6",
            "ticks": ""
           },
           "baxis": {
            "gridcolor": "#DFE8F3",
            "linecolor": "#A2B1C6",
            "ticks": ""
           },
           "bgcolor": "white",
           "caxis": {
            "gridcolor": "#DFE8F3",
            "linecolor": "#A2B1C6",
            "ticks": ""
           }
          },
          "title": {
           "x": 0.05
          },
          "xaxis": {
           "automargin": true,
           "gridcolor": "#EBF0F8",
           "linecolor": "#EBF0F8",
           "ticks": "",
           "title": {
            "standoff": 15
           },
           "zerolinecolor": "#EBF0F8",
           "zerolinewidth": 2
          },
          "yaxis": {
           "automargin": true,
           "gridcolor": "#EBF0F8",
           "linecolor": "#EBF0F8",
           "ticks": "",
           "title": {
            "standoff": 15
           },
           "zerolinecolor": "#EBF0F8",
           "zerolinewidth": 2
          }
         }
        },
        "title": {
         "text": "Churn Distribution by OnlineSecurity (%)"
        },
        "xaxis": {
         "anchor": "y",
         "domain": [
          0,
          1
         ],
         "showgrid": false,
         "title": {
          "text": ""
         }
        },
        "yaxis": {
         "anchor": "x",
         "domain": [
          0,
          1
         ],
         "showgrid": false,
         "title": {
          "text": "Percentage (%)"
         }
        }
       }
      }
     },
     "metadata": {},
     "output_type": "display_data"
    },
    {
     "data": {
      "application/vnd.plotly.v1+json": {
       "config": {
        "plotlyServerURL": "https://plot.ly"
       },
       "data": [
        {
         "hovertemplate": "Churn=No<br>OnlineBackup=%{x}<br>percentage=%{y}<br>label=%{text}<extra></extra>",
         "legendgroup": "No",
         "marker": {
          "color": "#636efa",
          "opacity": 0.8,
          "pattern": {
           "shape": ""
          }
         },
         "name": "No",
         "orientation": "v",
         "showlegend": true,
         "text": [
          "1462 (59.9%)",
          "1126 (92.8%)",
          "1551 (78.4%)"
         ],
         "textangle": 0,
         "textposition": "inside",
         "type": "bar",
         "x": [
          "No",
          "No internet service",
          "Yes"
         ],
         "xaxis": "x",
         "y": {
          "bdata": "MzMzMzPzTUAzMzMzMzNXQJqZmZmZmVNA",
          "dtype": "f8"
         },
         "yaxis": "y"
        },
        {
         "hovertemplate": "Churn=Yes<br>OnlineBackup=%{x}<br>percentage=%{y}<br>label=%{text}<extra></extra>",
         "legendgroup": "Yes",
         "marker": {
          "color": "#EF553B",
          "opacity": 0.8,
          "pattern": {
           "shape": ""
          }
         },
         "name": "Yes",
         "orientation": "v",
         "showlegend": true,
         "text": [
          "980 (40.1%)",
          "88 (7.2%)",
          "427 (21.6%)"
         ],
         "textangle": 0,
         "textposition": "inside",
         "type": "bar",
         "x": [
          "No",
          "No internet service",
          "Yes"
         ],
         "xaxis": "x",
         "y": {
          "bdata": "zczMzMwMREDNzMzMzMwcQJqZmZmZmTVA",
          "dtype": "f8"
         },
         "yaxis": "y"
        }
       ],
       "layout": {
        "bargap": 0.1,
        "barmode": "relative",
        "legend": {
         "title": {
          "text": "Churn"
         },
         "tracegroupgap": 0
        },
        "margin": {
         "t": 60
        },
        "template": {
         "data": {
          "bar": [
           {
            "error_x": {
             "color": "#2a3f5f"
            },
            "error_y": {
             "color": "#2a3f5f"
            },
            "marker": {
             "line": {
              "color": "white",
              "width": 0.5
             },
             "pattern": {
              "fillmode": "overlay",
              "size": 10,
              "solidity": 0.2
             }
            },
            "type": "bar"
           }
          ],
          "barpolar": [
           {
            "marker": {
             "line": {
              "color": "white",
              "width": 0.5
             },
             "pattern": {
              "fillmode": "overlay",
              "size": 10,
              "solidity": 0.2
             }
            },
            "type": "barpolar"
           }
          ],
          "carpet": [
           {
            "aaxis": {
             "endlinecolor": "#2a3f5f",
             "gridcolor": "#C8D4E3",
             "linecolor": "#C8D4E3",
             "minorgridcolor": "#C8D4E3",
             "startlinecolor": "#2a3f5f"
            },
            "baxis": {
             "endlinecolor": "#2a3f5f",
             "gridcolor": "#C8D4E3",
             "linecolor": "#C8D4E3",
             "minorgridcolor": "#C8D4E3",
             "startlinecolor": "#2a3f5f"
            },
            "type": "carpet"
           }
          ],
          "choropleth": [
           {
            "colorbar": {
             "outlinewidth": 0,
             "ticks": ""
            },
            "type": "choropleth"
           }
          ],
          "contour": [
           {
            "colorbar": {
             "outlinewidth": 0,
             "ticks": ""
            },
            "colorscale": [
             [
              0,
              "#0d0887"
             ],
             [
              0.1111111111111111,
              "#46039f"
             ],
             [
              0.2222222222222222,
              "#7201a8"
             ],
             [
              0.3333333333333333,
              "#9c179e"
             ],
             [
              0.4444444444444444,
              "#bd3786"
             ],
             [
              0.5555555555555556,
              "#d8576b"
             ],
             [
              0.6666666666666666,
              "#ed7953"
             ],
             [
              0.7777777777777778,
              "#fb9f3a"
             ],
             [
              0.8888888888888888,
              "#fdca26"
             ],
             [
              1,
              "#f0f921"
             ]
            ],
            "type": "contour"
           }
          ],
          "contourcarpet": [
           {
            "colorbar": {
             "outlinewidth": 0,
             "ticks": ""
            },
            "type": "contourcarpet"
           }
          ],
          "heatmap": [
           {
            "colorbar": {
             "outlinewidth": 0,
             "ticks": ""
            },
            "colorscale": [
             [
              0,
              "#0d0887"
             ],
             [
              0.1111111111111111,
              "#46039f"
             ],
             [
              0.2222222222222222,
              "#7201a8"
             ],
             [
              0.3333333333333333,
              "#9c179e"
             ],
             [
              0.4444444444444444,
              "#bd3786"
             ],
             [
              0.5555555555555556,
              "#d8576b"
             ],
             [
              0.6666666666666666,
              "#ed7953"
             ],
             [
              0.7777777777777778,
              "#fb9f3a"
             ],
             [
              0.8888888888888888,
              "#fdca26"
             ],
             [
              1,
              "#f0f921"
             ]
            ],
            "type": "heatmap"
           }
          ],
          "histogram": [
           {
            "marker": {
             "pattern": {
              "fillmode": "overlay",
              "size": 10,
              "solidity": 0.2
             }
            },
            "type": "histogram"
           }
          ],
          "histogram2d": [
           {
            "colorbar": {
             "outlinewidth": 0,
             "ticks": ""
            },
            "colorscale": [
             [
              0,
              "#0d0887"
             ],
             [
              0.1111111111111111,
              "#46039f"
             ],
             [
              0.2222222222222222,
              "#7201a8"
             ],
             [
              0.3333333333333333,
              "#9c179e"
             ],
             [
              0.4444444444444444,
              "#bd3786"
             ],
             [
              0.5555555555555556,
              "#d8576b"
             ],
             [
              0.6666666666666666,
              "#ed7953"
             ],
             [
              0.7777777777777778,
              "#fb9f3a"
             ],
             [
              0.8888888888888888,
              "#fdca26"
             ],
             [
              1,
              "#f0f921"
             ]
            ],
            "type": "histogram2d"
           }
          ],
          "histogram2dcontour": [
           {
            "colorbar": {
             "outlinewidth": 0,
             "ticks": ""
            },
            "colorscale": [
             [
              0,
              "#0d0887"
             ],
             [
              0.1111111111111111,
              "#46039f"
             ],
             [
              0.2222222222222222,
              "#7201a8"
             ],
             [
              0.3333333333333333,
              "#9c179e"
             ],
             [
              0.4444444444444444,
              "#bd3786"
             ],
             [
              0.5555555555555556,
              "#d8576b"
             ],
             [
              0.6666666666666666,
              "#ed7953"
             ],
             [
              0.7777777777777778,
              "#fb9f3a"
             ],
             [
              0.8888888888888888,
              "#fdca26"
             ],
             [
              1,
              "#f0f921"
             ]
            ],
            "type": "histogram2dcontour"
           }
          ],
          "mesh3d": [
           {
            "colorbar": {
             "outlinewidth": 0,
             "ticks": ""
            },
            "type": "mesh3d"
           }
          ],
          "parcoords": [
           {
            "line": {
             "colorbar": {
              "outlinewidth": 0,
              "ticks": ""
             }
            },
            "type": "parcoords"
           }
          ],
          "pie": [
           {
            "automargin": true,
            "type": "pie"
           }
          ],
          "scatter": [
           {
            "fillpattern": {
             "fillmode": "overlay",
             "size": 10,
             "solidity": 0.2
            },
            "type": "scatter"
           }
          ],
          "scatter3d": [
           {
            "line": {
             "colorbar": {
              "outlinewidth": 0,
              "ticks": ""
             }
            },
            "marker": {
             "colorbar": {
              "outlinewidth": 0,
              "ticks": ""
             }
            },
            "type": "scatter3d"
           }
          ],
          "scattercarpet": [
           {
            "marker": {
             "colorbar": {
              "outlinewidth": 0,
              "ticks": ""
             }
            },
            "type": "scattercarpet"
           }
          ],
          "scattergeo": [
           {
            "marker": {
             "colorbar": {
              "outlinewidth": 0,
              "ticks": ""
             }
            },
            "type": "scattergeo"
           }
          ],
          "scattergl": [
           {
            "marker": {
             "colorbar": {
              "outlinewidth": 0,
              "ticks": ""
             }
            },
            "type": "scattergl"
           }
          ],
          "scattermap": [
           {
            "marker": {
             "colorbar": {
              "outlinewidth": 0,
              "ticks": ""
             }
            },
            "type": "scattermap"
           }
          ],
          "scattermapbox": [
           {
            "marker": {
             "colorbar": {
              "outlinewidth": 0,
              "ticks": ""
             }
            },
            "type": "scattermapbox"
           }
          ],
          "scatterpolar": [
           {
            "marker": {
             "colorbar": {
              "outlinewidth": 0,
              "ticks": ""
             }
            },
            "type": "scatterpolar"
           }
          ],
          "scatterpolargl": [
           {
            "marker": {
             "colorbar": {
              "outlinewidth": 0,
              "ticks": ""
             }
            },
            "type": "scatterpolargl"
           }
          ],
          "scatterternary": [
           {
            "marker": {
             "colorbar": {
              "outlinewidth": 0,
              "ticks": ""
             }
            },
            "type": "scatterternary"
           }
          ],
          "surface": [
           {
            "colorbar": {
             "outlinewidth": 0,
             "ticks": ""
            },
            "colorscale": [
             [
              0,
              "#0d0887"
             ],
             [
              0.1111111111111111,
              "#46039f"
             ],
             [
              0.2222222222222222,
              "#7201a8"
             ],
             [
              0.3333333333333333,
              "#9c179e"
             ],
             [
              0.4444444444444444,
              "#bd3786"
             ],
             [
              0.5555555555555556,
              "#d8576b"
             ],
             [
              0.6666666666666666,
              "#ed7953"
             ],
             [
              0.7777777777777778,
              "#fb9f3a"
             ],
             [
              0.8888888888888888,
              "#fdca26"
             ],
             [
              1,
              "#f0f921"
             ]
            ],
            "type": "surface"
           }
          ],
          "table": [
           {
            "cells": {
             "fill": {
              "color": "#EBF0F8"
             },
             "line": {
              "color": "white"
             }
            },
            "header": {
             "fill": {
              "color": "#C8D4E3"
             },
             "line": {
              "color": "white"
             }
            },
            "type": "table"
           }
          ]
         },
         "layout": {
          "annotationdefaults": {
           "arrowcolor": "#2a3f5f",
           "arrowhead": 0,
           "arrowwidth": 1
          },
          "autotypenumbers": "strict",
          "coloraxis": {
           "colorbar": {
            "outlinewidth": 0,
            "ticks": ""
           }
          },
          "colorscale": {
           "diverging": [
            [
             0,
             "#8e0152"
            ],
            [
             0.1,
             "#c51b7d"
            ],
            [
             0.2,
             "#de77ae"
            ],
            [
             0.3,
             "#f1b6da"
            ],
            [
             0.4,
             "#fde0ef"
            ],
            [
             0.5,
             "#f7f7f7"
            ],
            [
             0.6,
             "#e6f5d0"
            ],
            [
             0.7,
             "#b8e186"
            ],
            [
             0.8,
             "#7fbc41"
            ],
            [
             0.9,
             "#4d9221"
            ],
            [
             1,
             "#276419"
            ]
           ],
           "sequential": [
            [
             0,
             "#0d0887"
            ],
            [
             0.1111111111111111,
             "#46039f"
            ],
            [
             0.2222222222222222,
             "#7201a8"
            ],
            [
             0.3333333333333333,
             "#9c179e"
            ],
            [
             0.4444444444444444,
             "#bd3786"
            ],
            [
             0.5555555555555556,
             "#d8576b"
            ],
            [
             0.6666666666666666,
             "#ed7953"
            ],
            [
             0.7777777777777778,
             "#fb9f3a"
            ],
            [
             0.8888888888888888,
             "#fdca26"
            ],
            [
             1,
             "#f0f921"
            ]
           ],
           "sequentialminus": [
            [
             0,
             "#0d0887"
            ],
            [
             0.1111111111111111,
             "#46039f"
            ],
            [
             0.2222222222222222,
             "#7201a8"
            ],
            [
             0.3333333333333333,
             "#9c179e"
            ],
            [
             0.4444444444444444,
             "#bd3786"
            ],
            [
             0.5555555555555556,
             "#d8576b"
            ],
            [
             0.6666666666666666,
             "#ed7953"
            ],
            [
             0.7777777777777778,
             "#fb9f3a"
            ],
            [
             0.8888888888888888,
             "#fdca26"
            ],
            [
             1,
             "#f0f921"
            ]
           ]
          },
          "colorway": [
           "#636efa",
           "#EF553B",
           "#00cc96",
           "#ab63fa",
           "#FFA15A",
           "#19d3f3",
           "#FF6692",
           "#B6E880",
           "#FF97FF",
           "#FECB52"
          ],
          "font": {
           "color": "#2a3f5f"
          },
          "geo": {
           "bgcolor": "white",
           "lakecolor": "white",
           "landcolor": "white",
           "showlakes": true,
           "showland": true,
           "subunitcolor": "#C8D4E3"
          },
          "hoverlabel": {
           "align": "left"
          },
          "hovermode": "closest",
          "mapbox": {
           "style": "light"
          },
          "paper_bgcolor": "white",
          "plot_bgcolor": "white",
          "polar": {
           "angularaxis": {
            "gridcolor": "#EBF0F8",
            "linecolor": "#EBF0F8",
            "ticks": ""
           },
           "bgcolor": "white",
           "radialaxis": {
            "gridcolor": "#EBF0F8",
            "linecolor": "#EBF0F8",
            "ticks": ""
           }
          },
          "scene": {
           "xaxis": {
            "backgroundcolor": "white",
            "gridcolor": "#DFE8F3",
            "gridwidth": 2,
            "linecolor": "#EBF0F8",
            "showbackground": true,
            "ticks": "",
            "zerolinecolor": "#EBF0F8"
           },
           "yaxis": {
            "backgroundcolor": "white",
            "gridcolor": "#DFE8F3",
            "gridwidth": 2,
            "linecolor": "#EBF0F8",
            "showbackground": true,
            "ticks": "",
            "zerolinecolor": "#EBF0F8"
           },
           "zaxis": {
            "backgroundcolor": "white",
            "gridcolor": "#DFE8F3",
            "gridwidth": 2,
            "linecolor": "#EBF0F8",
            "showbackground": true,
            "ticks": "",
            "zerolinecolor": "#EBF0F8"
           }
          },
          "shapedefaults": {
           "line": {
            "color": "#2a3f5f"
           }
          },
          "ternary": {
           "aaxis": {
            "gridcolor": "#DFE8F3",
            "linecolor": "#A2B1C6",
            "ticks": ""
           },
           "baxis": {
            "gridcolor": "#DFE8F3",
            "linecolor": "#A2B1C6",
            "ticks": ""
           },
           "bgcolor": "white",
           "caxis": {
            "gridcolor": "#DFE8F3",
            "linecolor": "#A2B1C6",
            "ticks": ""
           }
          },
          "title": {
           "x": 0.05
          },
          "xaxis": {
           "automargin": true,
           "gridcolor": "#EBF0F8",
           "linecolor": "#EBF0F8",
           "ticks": "",
           "title": {
            "standoff": 15
           },
           "zerolinecolor": "#EBF0F8",
           "zerolinewidth": 2
          },
          "yaxis": {
           "automargin": true,
           "gridcolor": "#EBF0F8",
           "linecolor": "#EBF0F8",
           "ticks": "",
           "title": {
            "standoff": 15
           },
           "zerolinecolor": "#EBF0F8",
           "zerolinewidth": 2
          }
         }
        },
        "title": {
         "text": "Churn Distribution by OnlineBackup (%)"
        },
        "xaxis": {
         "anchor": "y",
         "domain": [
          0,
          1
         ],
         "showgrid": false,
         "title": {
          "text": ""
         }
        },
        "yaxis": {
         "anchor": "x",
         "domain": [
          0,
          1
         ],
         "showgrid": false,
         "title": {
          "text": "Percentage (%)"
         }
        }
       }
      }
     },
     "metadata": {},
     "output_type": "display_data"
    },
    {
     "data": {
      "application/vnd.plotly.v1+json": {
       "config": {
        "plotlyServerURL": "https://plot.ly"
       },
       "data": [
        {
         "hovertemplate": "Churn=No<br>DeviceProtection=%{x}<br>percentage=%{y}<br>label=%{text}<extra></extra>",
         "legendgroup": "No",
         "marker": {
          "color": "#636efa",
          "opacity": 0.8,
          "pattern": {
           "shape": ""
          }
         },
         "name": "No",
         "orientation": "v",
         "showlegend": true,
         "text": [
          "1509 (61.0%)",
          "1126 (92.8%)",
          "1504 (77.2%)"
         ],
         "textangle": 0,
         "textposition": "inside",
         "type": "bar",
         "x": [
          "No",
          "No internet service",
          "Yes"
         ],
         "xaxis": "x",
         "y": {
          "bdata": "AAAAAACATkAzMzMzMzNXQM3MzMzMTFNA",
          "dtype": "f8"
         },
         "yaxis": "y"
        },
        {
         "hovertemplate": "Churn=Yes<br>DeviceProtection=%{x}<br>percentage=%{y}<br>label=%{text}<extra></extra>",
         "legendgroup": "Yes",
         "marker": {
          "color": "#EF553B",
          "opacity": 0.8,
          "pattern": {
           "shape": ""
          }
         },
         "name": "Yes",
         "orientation": "v",
         "showlegend": true,
         "text": [
          "963 (39.0%)",
          "88 (7.2%)",
          "444 (22.8%)"
         ],
         "textangle": 0,
         "textposition": "inside",
         "type": "bar",
         "x": [
          "No",
          "No internet service",
          "Yes"
         ],
         "xaxis": "x",
         "y": {
          "bdata": "AAAAAACAQ0DNzMzMzMwcQM3MzMzMzDZA",
          "dtype": "f8"
         },
         "yaxis": "y"
        }
       ],
       "layout": {
        "bargap": 0.1,
        "barmode": "relative",
        "legend": {
         "title": {
          "text": "Churn"
         },
         "tracegroupgap": 0
        },
        "margin": {
         "t": 60
        },
        "template": {
         "data": {
          "bar": [
           {
            "error_x": {
             "color": "#2a3f5f"
            },
            "error_y": {
             "color": "#2a3f5f"
            },
            "marker": {
             "line": {
              "color": "white",
              "width": 0.5
             },
             "pattern": {
              "fillmode": "overlay",
              "size": 10,
              "solidity": 0.2
             }
            },
            "type": "bar"
           }
          ],
          "barpolar": [
           {
            "marker": {
             "line": {
              "color": "white",
              "width": 0.5
             },
             "pattern": {
              "fillmode": "overlay",
              "size": 10,
              "solidity": 0.2
             }
            },
            "type": "barpolar"
           }
          ],
          "carpet": [
           {
            "aaxis": {
             "endlinecolor": "#2a3f5f",
             "gridcolor": "#C8D4E3",
             "linecolor": "#C8D4E3",
             "minorgridcolor": "#C8D4E3",
             "startlinecolor": "#2a3f5f"
            },
            "baxis": {
             "endlinecolor": "#2a3f5f",
             "gridcolor": "#C8D4E3",
             "linecolor": "#C8D4E3",
             "minorgridcolor": "#C8D4E3",
             "startlinecolor": "#2a3f5f"
            },
            "type": "carpet"
           }
          ],
          "choropleth": [
           {
            "colorbar": {
             "outlinewidth": 0,
             "ticks": ""
            },
            "type": "choropleth"
           }
          ],
          "contour": [
           {
            "colorbar": {
             "outlinewidth": 0,
             "ticks": ""
            },
            "colorscale": [
             [
              0,
              "#0d0887"
             ],
             [
              0.1111111111111111,
              "#46039f"
             ],
             [
              0.2222222222222222,
              "#7201a8"
             ],
             [
              0.3333333333333333,
              "#9c179e"
             ],
             [
              0.4444444444444444,
              "#bd3786"
             ],
             [
              0.5555555555555556,
              "#d8576b"
             ],
             [
              0.6666666666666666,
              "#ed7953"
             ],
             [
              0.7777777777777778,
              "#fb9f3a"
             ],
             [
              0.8888888888888888,
              "#fdca26"
             ],
             [
              1,
              "#f0f921"
             ]
            ],
            "type": "contour"
           }
          ],
          "contourcarpet": [
           {
            "colorbar": {
             "outlinewidth": 0,
             "ticks": ""
            },
            "type": "contourcarpet"
           }
          ],
          "heatmap": [
           {
            "colorbar": {
             "outlinewidth": 0,
             "ticks": ""
            },
            "colorscale": [
             [
              0,
              "#0d0887"
             ],
             [
              0.1111111111111111,
              "#46039f"
             ],
             [
              0.2222222222222222,
              "#7201a8"
             ],
             [
              0.3333333333333333,
              "#9c179e"
             ],
             [
              0.4444444444444444,
              "#bd3786"
             ],
             [
              0.5555555555555556,
              "#d8576b"
             ],
             [
              0.6666666666666666,
              "#ed7953"
             ],
             [
              0.7777777777777778,
              "#fb9f3a"
             ],
             [
              0.8888888888888888,
              "#fdca26"
             ],
             [
              1,
              "#f0f921"
             ]
            ],
            "type": "heatmap"
           }
          ],
          "histogram": [
           {
            "marker": {
             "pattern": {
              "fillmode": "overlay",
              "size": 10,
              "solidity": 0.2
             }
            },
            "type": "histogram"
           }
          ],
          "histogram2d": [
           {
            "colorbar": {
             "outlinewidth": 0,
             "ticks": ""
            },
            "colorscale": [
             [
              0,
              "#0d0887"
             ],
             [
              0.1111111111111111,
              "#46039f"
             ],
             [
              0.2222222222222222,
              "#7201a8"
             ],
             [
              0.3333333333333333,
              "#9c179e"
             ],
             [
              0.4444444444444444,
              "#bd3786"
             ],
             [
              0.5555555555555556,
              "#d8576b"
             ],
             [
              0.6666666666666666,
              "#ed7953"
             ],
             [
              0.7777777777777778,
              "#fb9f3a"
             ],
             [
              0.8888888888888888,
              "#fdca26"
             ],
             [
              1,
              "#f0f921"
             ]
            ],
            "type": "histogram2d"
           }
          ],
          "histogram2dcontour": [
           {
            "colorbar": {
             "outlinewidth": 0,
             "ticks": ""
            },
            "colorscale": [
             [
              0,
              "#0d0887"
             ],
             [
              0.1111111111111111,
              "#46039f"
             ],
             [
              0.2222222222222222,
              "#7201a8"
             ],
             [
              0.3333333333333333,
              "#9c179e"
             ],
             [
              0.4444444444444444,
              "#bd3786"
             ],
             [
              0.5555555555555556,
              "#d8576b"
             ],
             [
              0.6666666666666666,
              "#ed7953"
             ],
             [
              0.7777777777777778,
              "#fb9f3a"
             ],
             [
              0.8888888888888888,
              "#fdca26"
             ],
             [
              1,
              "#f0f921"
             ]
            ],
            "type": "histogram2dcontour"
           }
          ],
          "mesh3d": [
           {
            "colorbar": {
             "outlinewidth": 0,
             "ticks": ""
            },
            "type": "mesh3d"
           }
          ],
          "parcoords": [
           {
            "line": {
             "colorbar": {
              "outlinewidth": 0,
              "ticks": ""
             }
            },
            "type": "parcoords"
           }
          ],
          "pie": [
           {
            "automargin": true,
            "type": "pie"
           }
          ],
          "scatter": [
           {
            "fillpattern": {
             "fillmode": "overlay",
             "size": 10,
             "solidity": 0.2
            },
            "type": "scatter"
           }
          ],
          "scatter3d": [
           {
            "line": {
             "colorbar": {
              "outlinewidth": 0,
              "ticks": ""
             }
            },
            "marker": {
             "colorbar": {
              "outlinewidth": 0,
              "ticks": ""
             }
            },
            "type": "scatter3d"
           }
          ],
          "scattercarpet": [
           {
            "marker": {
             "colorbar": {
              "outlinewidth": 0,
              "ticks": ""
             }
            },
            "type": "scattercarpet"
           }
          ],
          "scattergeo": [
           {
            "marker": {
             "colorbar": {
              "outlinewidth": 0,
              "ticks": ""
             }
            },
            "type": "scattergeo"
           }
          ],
          "scattergl": [
           {
            "marker": {
             "colorbar": {
              "outlinewidth": 0,
              "ticks": ""
             }
            },
            "type": "scattergl"
           }
          ],
          "scattermap": [
           {
            "marker": {
             "colorbar": {
              "outlinewidth": 0,
              "ticks": ""
             }
            },
            "type": "scattermap"
           }
          ],
          "scattermapbox": [
           {
            "marker": {
             "colorbar": {
              "outlinewidth": 0,
              "ticks": ""
             }
            },
            "type": "scattermapbox"
           }
          ],
          "scatterpolar": [
           {
            "marker": {
             "colorbar": {
              "outlinewidth": 0,
              "ticks": ""
             }
            },
            "type": "scatterpolar"
           }
          ],
          "scatterpolargl": [
           {
            "marker": {
             "colorbar": {
              "outlinewidth": 0,
              "ticks": ""
             }
            },
            "type": "scatterpolargl"
           }
          ],
          "scatterternary": [
           {
            "marker": {
             "colorbar": {
              "outlinewidth": 0,
              "ticks": ""
             }
            },
            "type": "scatterternary"
           }
          ],
          "surface": [
           {
            "colorbar": {
             "outlinewidth": 0,
             "ticks": ""
            },
            "colorscale": [
             [
              0,
              "#0d0887"
             ],
             [
              0.1111111111111111,
              "#46039f"
             ],
             [
              0.2222222222222222,
              "#7201a8"
             ],
             [
              0.3333333333333333,
              "#9c179e"
             ],
             [
              0.4444444444444444,
              "#bd3786"
             ],
             [
              0.5555555555555556,
              "#d8576b"
             ],
             [
              0.6666666666666666,
              "#ed7953"
             ],
             [
              0.7777777777777778,
              "#fb9f3a"
             ],
             [
              0.8888888888888888,
              "#fdca26"
             ],
             [
              1,
              "#f0f921"
             ]
            ],
            "type": "surface"
           }
          ],
          "table": [
           {
            "cells": {
             "fill": {
              "color": "#EBF0F8"
             },
             "line": {
              "color": "white"
             }
            },
            "header": {
             "fill": {
              "color": "#C8D4E3"
             },
             "line": {
              "color": "white"
             }
            },
            "type": "table"
           }
          ]
         },
         "layout": {
          "annotationdefaults": {
           "arrowcolor": "#2a3f5f",
           "arrowhead": 0,
           "arrowwidth": 1
          },
          "autotypenumbers": "strict",
          "coloraxis": {
           "colorbar": {
            "outlinewidth": 0,
            "ticks": ""
           }
          },
          "colorscale": {
           "diverging": [
            [
             0,
             "#8e0152"
            ],
            [
             0.1,
             "#c51b7d"
            ],
            [
             0.2,
             "#de77ae"
            ],
            [
             0.3,
             "#f1b6da"
            ],
            [
             0.4,
             "#fde0ef"
            ],
            [
             0.5,
             "#f7f7f7"
            ],
            [
             0.6,
             "#e6f5d0"
            ],
            [
             0.7,
             "#b8e186"
            ],
            [
             0.8,
             "#7fbc41"
            ],
            [
             0.9,
             "#4d9221"
            ],
            [
             1,
             "#276419"
            ]
           ],
           "sequential": [
            [
             0,
             "#0d0887"
            ],
            [
             0.1111111111111111,
             "#46039f"
            ],
            [
             0.2222222222222222,
             "#7201a8"
            ],
            [
             0.3333333333333333,
             "#9c179e"
            ],
            [
             0.4444444444444444,
             "#bd3786"
            ],
            [
             0.5555555555555556,
             "#d8576b"
            ],
            [
             0.6666666666666666,
             "#ed7953"
            ],
            [
             0.7777777777777778,
             "#fb9f3a"
            ],
            [
             0.8888888888888888,
             "#fdca26"
            ],
            [
             1,
             "#f0f921"
            ]
           ],
           "sequentialminus": [
            [
             0,
             "#0d0887"
            ],
            [
             0.1111111111111111,
             "#46039f"
            ],
            [
             0.2222222222222222,
             "#7201a8"
            ],
            [
             0.3333333333333333,
             "#9c179e"
            ],
            [
             0.4444444444444444,
             "#bd3786"
            ],
            [
             0.5555555555555556,
             "#d8576b"
            ],
            [
             0.6666666666666666,
             "#ed7953"
            ],
            [
             0.7777777777777778,
             "#fb9f3a"
            ],
            [
             0.8888888888888888,
             "#fdca26"
            ],
            [
             1,
             "#f0f921"
            ]
           ]
          },
          "colorway": [
           "#636efa",
           "#EF553B",
           "#00cc96",
           "#ab63fa",
           "#FFA15A",
           "#19d3f3",
           "#FF6692",
           "#B6E880",
           "#FF97FF",
           "#FECB52"
          ],
          "font": {
           "color": "#2a3f5f"
          },
          "geo": {
           "bgcolor": "white",
           "lakecolor": "white",
           "landcolor": "white",
           "showlakes": true,
           "showland": true,
           "subunitcolor": "#C8D4E3"
          },
          "hoverlabel": {
           "align": "left"
          },
          "hovermode": "closest",
          "mapbox": {
           "style": "light"
          },
          "paper_bgcolor": "white",
          "plot_bgcolor": "white",
          "polar": {
           "angularaxis": {
            "gridcolor": "#EBF0F8",
            "linecolor": "#EBF0F8",
            "ticks": ""
           },
           "bgcolor": "white",
           "radialaxis": {
            "gridcolor": "#EBF0F8",
            "linecolor": "#EBF0F8",
            "ticks": ""
           }
          },
          "scene": {
           "xaxis": {
            "backgroundcolor": "white",
            "gridcolor": "#DFE8F3",
            "gridwidth": 2,
            "linecolor": "#EBF0F8",
            "showbackground": true,
            "ticks": "",
            "zerolinecolor": "#EBF0F8"
           },
           "yaxis": {
            "backgroundcolor": "white",
            "gridcolor": "#DFE8F3",
            "gridwidth": 2,
            "linecolor": "#EBF0F8",
            "showbackground": true,
            "ticks": "",
            "zerolinecolor": "#EBF0F8"
           },
           "zaxis": {
            "backgroundcolor": "white",
            "gridcolor": "#DFE8F3",
            "gridwidth": 2,
            "linecolor": "#EBF0F8",
            "showbackground": true,
            "ticks": "",
            "zerolinecolor": "#EBF0F8"
           }
          },
          "shapedefaults": {
           "line": {
            "color": "#2a3f5f"
           }
          },
          "ternary": {
           "aaxis": {
            "gridcolor": "#DFE8F3",
            "linecolor": "#A2B1C6",
            "ticks": ""
           },
           "baxis": {
            "gridcolor": "#DFE8F3",
            "linecolor": "#A2B1C6",
            "ticks": ""
           },
           "bgcolor": "white",
           "caxis": {
            "gridcolor": "#DFE8F3",
            "linecolor": "#A2B1C6",
            "ticks": ""
           }
          },
          "title": {
           "x": 0.05
          },
          "xaxis": {
           "automargin": true,
           "gridcolor": "#EBF0F8",
           "linecolor": "#EBF0F8",
           "ticks": "",
           "title": {
            "standoff": 15
           },
           "zerolinecolor": "#EBF0F8",
           "zerolinewidth": 2
          },
          "yaxis": {
           "automargin": true,
           "gridcolor": "#EBF0F8",
           "linecolor": "#EBF0F8",
           "ticks": "",
           "title": {
            "standoff": 15
           },
           "zerolinecolor": "#EBF0F8",
           "zerolinewidth": 2
          }
         }
        },
        "title": {
         "text": "Churn Distribution by DeviceProtection (%)"
        },
        "xaxis": {
         "anchor": "y",
         "domain": [
          0,
          1
         ],
         "showgrid": false,
         "title": {
          "text": ""
         }
        },
        "yaxis": {
         "anchor": "x",
         "domain": [
          0,
          1
         ],
         "showgrid": false,
         "title": {
          "text": "Percentage (%)"
         }
        }
       }
      }
     },
     "metadata": {},
     "output_type": "display_data"
    },
    {
     "data": {
      "application/vnd.plotly.v1+json": {
       "config": {
        "plotlyServerURL": "https://plot.ly"
       },
       "data": [
        {
         "hovertemplate": "Churn=No<br>TechSupport=%{x}<br>percentage=%{y}<br>label=%{text}<extra></extra>",
         "legendgroup": "No",
         "marker": {
          "color": "#636efa",
          "opacity": 0.8,
          "pattern": {
           "shape": ""
          }
         },
         "name": "No",
         "orientation": "v",
         "showlegend": true,
         "text": [
          "1614 (58.2%)",
          "1126 (92.8%)",
          "1399 (84.8%)"
         ],
         "textangle": 0,
         "textposition": "inside",
         "type": "bar",
         "x": [
          "No",
          "No internet service",
          "Yes"
         ],
         "xaxis": "x",
         "y": {
          "bdata": "mpmZmZkZTUAzMzMzMzNXQDMzMzMzM1VA",
          "dtype": "f8"
         },
         "yaxis": "y"
        },
        {
         "hovertemplate": "Churn=Yes<br>TechSupport=%{x}<br>percentage=%{y}<br>label=%{text}<extra></extra>",
         "legendgroup": "Yes",
         "marker": {
          "color": "#EF553B",
          "opacity": 0.8,
          "pattern": {
           "shape": ""
          }
         },
         "name": "Yes",
         "orientation": "v",
         "showlegend": true,
         "text": [
          "1157 (41.8%)",
          "88 (7.2%)",
          "250 (15.2%)"
         ],
         "textangle": 0,
         "textposition": "inside",
         "type": "bar",
         "x": [
          "No",
          "No internet service",
          "Yes"
         ],
         "xaxis": "x",
         "y": {
          "bdata": "ZmZmZmbmREDNzMzMzMwcQGZmZmZmZi5A",
          "dtype": "f8"
         },
         "yaxis": "y"
        }
       ],
       "layout": {
        "bargap": 0.1,
        "barmode": "relative",
        "legend": {
         "title": {
          "text": "Churn"
         },
         "tracegroupgap": 0
        },
        "margin": {
         "t": 60
        },
        "template": {
         "data": {
          "bar": [
           {
            "error_x": {
             "color": "#2a3f5f"
            },
            "error_y": {
             "color": "#2a3f5f"
            },
            "marker": {
             "line": {
              "color": "white",
              "width": 0.5
             },
             "pattern": {
              "fillmode": "overlay",
              "size": 10,
              "solidity": 0.2
             }
            },
            "type": "bar"
           }
          ],
          "barpolar": [
           {
            "marker": {
             "line": {
              "color": "white",
              "width": 0.5
             },
             "pattern": {
              "fillmode": "overlay",
              "size": 10,
              "solidity": 0.2
             }
            },
            "type": "barpolar"
           }
          ],
          "carpet": [
           {
            "aaxis": {
             "endlinecolor": "#2a3f5f",
             "gridcolor": "#C8D4E3",
             "linecolor": "#C8D4E3",
             "minorgridcolor": "#C8D4E3",
             "startlinecolor": "#2a3f5f"
            },
            "baxis": {
             "endlinecolor": "#2a3f5f",
             "gridcolor": "#C8D4E3",
             "linecolor": "#C8D4E3",
             "minorgridcolor": "#C8D4E3",
             "startlinecolor": "#2a3f5f"
            },
            "type": "carpet"
           }
          ],
          "choropleth": [
           {
            "colorbar": {
             "outlinewidth": 0,
             "ticks": ""
            },
            "type": "choropleth"
           }
          ],
          "contour": [
           {
            "colorbar": {
             "outlinewidth": 0,
             "ticks": ""
            },
            "colorscale": [
             [
              0,
              "#0d0887"
             ],
             [
              0.1111111111111111,
              "#46039f"
             ],
             [
              0.2222222222222222,
              "#7201a8"
             ],
             [
              0.3333333333333333,
              "#9c179e"
             ],
             [
              0.4444444444444444,
              "#bd3786"
             ],
             [
              0.5555555555555556,
              "#d8576b"
             ],
             [
              0.6666666666666666,
              "#ed7953"
             ],
             [
              0.7777777777777778,
              "#fb9f3a"
             ],
             [
              0.8888888888888888,
              "#fdca26"
             ],
             [
              1,
              "#f0f921"
             ]
            ],
            "type": "contour"
           }
          ],
          "contourcarpet": [
           {
            "colorbar": {
             "outlinewidth": 0,
             "ticks": ""
            },
            "type": "contourcarpet"
           }
          ],
          "heatmap": [
           {
            "colorbar": {
             "outlinewidth": 0,
             "ticks": ""
            },
            "colorscale": [
             [
              0,
              "#0d0887"
             ],
             [
              0.1111111111111111,
              "#46039f"
             ],
             [
              0.2222222222222222,
              "#7201a8"
             ],
             [
              0.3333333333333333,
              "#9c179e"
             ],
             [
              0.4444444444444444,
              "#bd3786"
             ],
             [
              0.5555555555555556,
              "#d8576b"
             ],
             [
              0.6666666666666666,
              "#ed7953"
             ],
             [
              0.7777777777777778,
              "#fb9f3a"
             ],
             [
              0.8888888888888888,
              "#fdca26"
             ],
             [
              1,
              "#f0f921"
             ]
            ],
            "type": "heatmap"
           }
          ],
          "histogram": [
           {
            "marker": {
             "pattern": {
              "fillmode": "overlay",
              "size": 10,
              "solidity": 0.2
             }
            },
            "type": "histogram"
           }
          ],
          "histogram2d": [
           {
            "colorbar": {
             "outlinewidth": 0,
             "ticks": ""
            },
            "colorscale": [
             [
              0,
              "#0d0887"
             ],
             [
              0.1111111111111111,
              "#46039f"
             ],
             [
              0.2222222222222222,
              "#7201a8"
             ],
             [
              0.3333333333333333,
              "#9c179e"
             ],
             [
              0.4444444444444444,
              "#bd3786"
             ],
             [
              0.5555555555555556,
              "#d8576b"
             ],
             [
              0.6666666666666666,
              "#ed7953"
             ],
             [
              0.7777777777777778,
              "#fb9f3a"
             ],
             [
              0.8888888888888888,
              "#fdca26"
             ],
             [
              1,
              "#f0f921"
             ]
            ],
            "type": "histogram2d"
           }
          ],
          "histogram2dcontour": [
           {
            "colorbar": {
             "outlinewidth": 0,
             "ticks": ""
            },
            "colorscale": [
             [
              0,
              "#0d0887"
             ],
             [
              0.1111111111111111,
              "#46039f"
             ],
             [
              0.2222222222222222,
              "#7201a8"
             ],
             [
              0.3333333333333333,
              "#9c179e"
             ],
             [
              0.4444444444444444,
              "#bd3786"
             ],
             [
              0.5555555555555556,
              "#d8576b"
             ],
             [
              0.6666666666666666,
              "#ed7953"
             ],
             [
              0.7777777777777778,
              "#fb9f3a"
             ],
             [
              0.8888888888888888,
              "#fdca26"
             ],
             [
              1,
              "#f0f921"
             ]
            ],
            "type": "histogram2dcontour"
           }
          ],
          "mesh3d": [
           {
            "colorbar": {
             "outlinewidth": 0,
             "ticks": ""
            },
            "type": "mesh3d"
           }
          ],
          "parcoords": [
           {
            "line": {
             "colorbar": {
              "outlinewidth": 0,
              "ticks": ""
             }
            },
            "type": "parcoords"
           }
          ],
          "pie": [
           {
            "automargin": true,
            "type": "pie"
           }
          ],
          "scatter": [
           {
            "fillpattern": {
             "fillmode": "overlay",
             "size": 10,
             "solidity": 0.2
            },
            "type": "scatter"
           }
          ],
          "scatter3d": [
           {
            "line": {
             "colorbar": {
              "outlinewidth": 0,
              "ticks": ""
             }
            },
            "marker": {
             "colorbar": {
              "outlinewidth": 0,
              "ticks": ""
             }
            },
            "type": "scatter3d"
           }
          ],
          "scattercarpet": [
           {
            "marker": {
             "colorbar": {
              "outlinewidth": 0,
              "ticks": ""
             }
            },
            "type": "scattercarpet"
           }
          ],
          "scattergeo": [
           {
            "marker": {
             "colorbar": {
              "outlinewidth": 0,
              "ticks": ""
             }
            },
            "type": "scattergeo"
           }
          ],
          "scattergl": [
           {
            "marker": {
             "colorbar": {
              "outlinewidth": 0,
              "ticks": ""
             }
            },
            "type": "scattergl"
           }
          ],
          "scattermap": [
           {
            "marker": {
             "colorbar": {
              "outlinewidth": 0,
              "ticks": ""
             }
            },
            "type": "scattermap"
           }
          ],
          "scattermapbox": [
           {
            "marker": {
             "colorbar": {
              "outlinewidth": 0,
              "ticks": ""
             }
            },
            "type": "scattermapbox"
           }
          ],
          "scatterpolar": [
           {
            "marker": {
             "colorbar": {
              "outlinewidth": 0,
              "ticks": ""
             }
            },
            "type": "scatterpolar"
           }
          ],
          "scatterpolargl": [
           {
            "marker": {
             "colorbar": {
              "outlinewidth": 0,
              "ticks": ""
             }
            },
            "type": "scatterpolargl"
           }
          ],
          "scatterternary": [
           {
            "marker": {
             "colorbar": {
              "outlinewidth": 0,
              "ticks": ""
             }
            },
            "type": "scatterternary"
           }
          ],
          "surface": [
           {
            "colorbar": {
             "outlinewidth": 0,
             "ticks": ""
            },
            "colorscale": [
             [
              0,
              "#0d0887"
             ],
             [
              0.1111111111111111,
              "#46039f"
             ],
             [
              0.2222222222222222,
              "#7201a8"
             ],
             [
              0.3333333333333333,
              "#9c179e"
             ],
             [
              0.4444444444444444,
              "#bd3786"
             ],
             [
              0.5555555555555556,
              "#d8576b"
             ],
             [
              0.6666666666666666,
              "#ed7953"
             ],
             [
              0.7777777777777778,
              "#fb9f3a"
             ],
             [
              0.8888888888888888,
              "#fdca26"
             ],
             [
              1,
              "#f0f921"
             ]
            ],
            "type": "surface"
           }
          ],
          "table": [
           {
            "cells": {
             "fill": {
              "color": "#EBF0F8"
             },
             "line": {
              "color": "white"
             }
            },
            "header": {
             "fill": {
              "color": "#C8D4E3"
             },
             "line": {
              "color": "white"
             }
            },
            "type": "table"
           }
          ]
         },
         "layout": {
          "annotationdefaults": {
           "arrowcolor": "#2a3f5f",
           "arrowhead": 0,
           "arrowwidth": 1
          },
          "autotypenumbers": "strict",
          "coloraxis": {
           "colorbar": {
            "outlinewidth": 0,
            "ticks": ""
           }
          },
          "colorscale": {
           "diverging": [
            [
             0,
             "#8e0152"
            ],
            [
             0.1,
             "#c51b7d"
            ],
            [
             0.2,
             "#de77ae"
            ],
            [
             0.3,
             "#f1b6da"
            ],
            [
             0.4,
             "#fde0ef"
            ],
            [
             0.5,
             "#f7f7f7"
            ],
            [
             0.6,
             "#e6f5d0"
            ],
            [
             0.7,
             "#b8e186"
            ],
            [
             0.8,
             "#7fbc41"
            ],
            [
             0.9,
             "#4d9221"
            ],
            [
             1,
             "#276419"
            ]
           ],
           "sequential": [
            [
             0,
             "#0d0887"
            ],
            [
             0.1111111111111111,
             "#46039f"
            ],
            [
             0.2222222222222222,
             "#7201a8"
            ],
            [
             0.3333333333333333,
             "#9c179e"
            ],
            [
             0.4444444444444444,
             "#bd3786"
            ],
            [
             0.5555555555555556,
             "#d8576b"
            ],
            [
             0.6666666666666666,
             "#ed7953"
            ],
            [
             0.7777777777777778,
             "#fb9f3a"
            ],
            [
             0.8888888888888888,
             "#fdca26"
            ],
            [
             1,
             "#f0f921"
            ]
           ],
           "sequentialminus": [
            [
             0,
             "#0d0887"
            ],
            [
             0.1111111111111111,
             "#46039f"
            ],
            [
             0.2222222222222222,
             "#7201a8"
            ],
            [
             0.3333333333333333,
             "#9c179e"
            ],
            [
             0.4444444444444444,
             "#bd3786"
            ],
            [
             0.5555555555555556,
             "#d8576b"
            ],
            [
             0.6666666666666666,
             "#ed7953"
            ],
            [
             0.7777777777777778,
             "#fb9f3a"
            ],
            [
             0.8888888888888888,
             "#fdca26"
            ],
            [
             1,
             "#f0f921"
            ]
           ]
          },
          "colorway": [
           "#636efa",
           "#EF553B",
           "#00cc96",
           "#ab63fa",
           "#FFA15A",
           "#19d3f3",
           "#FF6692",
           "#B6E880",
           "#FF97FF",
           "#FECB52"
          ],
          "font": {
           "color": "#2a3f5f"
          },
          "geo": {
           "bgcolor": "white",
           "lakecolor": "white",
           "landcolor": "white",
           "showlakes": true,
           "showland": true,
           "subunitcolor": "#C8D4E3"
          },
          "hoverlabel": {
           "align": "left"
          },
          "hovermode": "closest",
          "mapbox": {
           "style": "light"
          },
          "paper_bgcolor": "white",
          "plot_bgcolor": "white",
          "polar": {
           "angularaxis": {
            "gridcolor": "#EBF0F8",
            "linecolor": "#EBF0F8",
            "ticks": ""
           },
           "bgcolor": "white",
           "radialaxis": {
            "gridcolor": "#EBF0F8",
            "linecolor": "#EBF0F8",
            "ticks": ""
           }
          },
          "scene": {
           "xaxis": {
            "backgroundcolor": "white",
            "gridcolor": "#DFE8F3",
            "gridwidth": 2,
            "linecolor": "#EBF0F8",
            "showbackground": true,
            "ticks": "",
            "zerolinecolor": "#EBF0F8"
           },
           "yaxis": {
            "backgroundcolor": "white",
            "gridcolor": "#DFE8F3",
            "gridwidth": 2,
            "linecolor": "#EBF0F8",
            "showbackground": true,
            "ticks": "",
            "zerolinecolor": "#EBF0F8"
           },
           "zaxis": {
            "backgroundcolor": "white",
            "gridcolor": "#DFE8F3",
            "gridwidth": 2,
            "linecolor": "#EBF0F8",
            "showbackground": true,
            "ticks": "",
            "zerolinecolor": "#EBF0F8"
           }
          },
          "shapedefaults": {
           "line": {
            "color": "#2a3f5f"
           }
          },
          "ternary": {
           "aaxis": {
            "gridcolor": "#DFE8F3",
            "linecolor": "#A2B1C6",
            "ticks": ""
           },
           "baxis": {
            "gridcolor": "#DFE8F3",
            "linecolor": "#A2B1C6",
            "ticks": ""
           },
           "bgcolor": "white",
           "caxis": {
            "gridcolor": "#DFE8F3",
            "linecolor": "#A2B1C6",
            "ticks": ""
           }
          },
          "title": {
           "x": 0.05
          },
          "xaxis": {
           "automargin": true,
           "gridcolor": "#EBF0F8",
           "linecolor": "#EBF0F8",
           "ticks": "",
           "title": {
            "standoff": 15
           },
           "zerolinecolor": "#EBF0F8",
           "zerolinewidth": 2
          },
          "yaxis": {
           "automargin": true,
           "gridcolor": "#EBF0F8",
           "linecolor": "#EBF0F8",
           "ticks": "",
           "title": {
            "standoff": 15
           },
           "zerolinecolor": "#EBF0F8",
           "zerolinewidth": 2
          }
         }
        },
        "title": {
         "text": "Churn Distribution by TechSupport (%)"
        },
        "xaxis": {
         "anchor": "y",
         "domain": [
          0,
          1
         ],
         "showgrid": false,
         "title": {
          "text": ""
         }
        },
        "yaxis": {
         "anchor": "x",
         "domain": [
          0,
          1
         ],
         "showgrid": false,
         "title": {
          "text": "Percentage (%)"
         }
        }
       }
      }
     },
     "metadata": {},
     "output_type": "display_data"
    },
    {
     "data": {
      "application/vnd.plotly.v1+json": {
       "config": {
        "plotlyServerURL": "https://plot.ly"
       },
       "data": [
        {
         "hovertemplate": "Churn=No<br>StreamingTV=%{x}<br>percentage=%{y}<br>label=%{text}<extra></extra>",
         "legendgroup": "No",
         "marker": {
          "color": "#636efa",
          "opacity": 0.8,
          "pattern": {
           "shape": ""
          }
         },
         "name": "No",
         "orientation": "v",
         "showlegend": true,
         "text": [
          "1489 (66.9%)",
          "1126 (92.8%)",
          "1524 (69.5%)"
         ],
         "textangle": 0,
         "textposition": "inside",
         "type": "bar",
         "x": [
          "No",
          "No internet service",
          "Yes"
         ],
         "xaxis": "x",
         "y": {
          "bdata": "mpmZmZm5UEAzMzMzMzNXQAAAAAAAYFFA",
          "dtype": "f8"
         },
         "yaxis": "y"
        },
        {
         "hovertemplate": "Churn=Yes<br>StreamingTV=%{x}<br>percentage=%{y}<br>label=%{text}<extra></extra>",
         "legendgroup": "Yes",
         "marker": {
          "color": "#EF553B",
          "opacity": 0.8,
          "pattern": {
           "shape": ""
          }
         },
         "name": "Yes",
         "orientation": "v",
         "showlegend": true,
         "text": [
          "737 (33.1%)",
          "88 (7.2%)",
          "670 (30.5%)"
         ],
         "textangle": 0,
         "textposition": "inside",
         "type": "bar",
         "x": [
          "No",
          "No internet service",
          "Yes"
         ],
         "xaxis": "x",
         "y": {
          "bdata": "zczMzMyMQEDNzMzMzMwcQAAAAAAAgD5A",
          "dtype": "f8"
         },
         "yaxis": "y"
        }
       ],
       "layout": {
        "bargap": 0.1,
        "barmode": "relative",
        "legend": {
         "title": {
          "text": "Churn"
         },
         "tracegroupgap": 0
        },
        "margin": {
         "t": 60
        },
        "template": {
         "data": {
          "bar": [
           {
            "error_x": {
             "color": "#2a3f5f"
            },
            "error_y": {
             "color": "#2a3f5f"
            },
            "marker": {
             "line": {
              "color": "white",
              "width": 0.5
             },
             "pattern": {
              "fillmode": "overlay",
              "size": 10,
              "solidity": 0.2
             }
            },
            "type": "bar"
           }
          ],
          "barpolar": [
           {
            "marker": {
             "line": {
              "color": "white",
              "width": 0.5
             },
             "pattern": {
              "fillmode": "overlay",
              "size": 10,
              "solidity": 0.2
             }
            },
            "type": "barpolar"
           }
          ],
          "carpet": [
           {
            "aaxis": {
             "endlinecolor": "#2a3f5f",
             "gridcolor": "#C8D4E3",
             "linecolor": "#C8D4E3",
             "minorgridcolor": "#C8D4E3",
             "startlinecolor": "#2a3f5f"
            },
            "baxis": {
             "endlinecolor": "#2a3f5f",
             "gridcolor": "#C8D4E3",
             "linecolor": "#C8D4E3",
             "minorgridcolor": "#C8D4E3",
             "startlinecolor": "#2a3f5f"
            },
            "type": "carpet"
           }
          ],
          "choropleth": [
           {
            "colorbar": {
             "outlinewidth": 0,
             "ticks": ""
            },
            "type": "choropleth"
           }
          ],
          "contour": [
           {
            "colorbar": {
             "outlinewidth": 0,
             "ticks": ""
            },
            "colorscale": [
             [
              0,
              "#0d0887"
             ],
             [
              0.1111111111111111,
              "#46039f"
             ],
             [
              0.2222222222222222,
              "#7201a8"
             ],
             [
              0.3333333333333333,
              "#9c179e"
             ],
             [
              0.4444444444444444,
              "#bd3786"
             ],
             [
              0.5555555555555556,
              "#d8576b"
             ],
             [
              0.6666666666666666,
              "#ed7953"
             ],
             [
              0.7777777777777778,
              "#fb9f3a"
             ],
             [
              0.8888888888888888,
              "#fdca26"
             ],
             [
              1,
              "#f0f921"
             ]
            ],
            "type": "contour"
           }
          ],
          "contourcarpet": [
           {
            "colorbar": {
             "outlinewidth": 0,
             "ticks": ""
            },
            "type": "contourcarpet"
           }
          ],
          "heatmap": [
           {
            "colorbar": {
             "outlinewidth": 0,
             "ticks": ""
            },
            "colorscale": [
             [
              0,
              "#0d0887"
             ],
             [
              0.1111111111111111,
              "#46039f"
             ],
             [
              0.2222222222222222,
              "#7201a8"
             ],
             [
              0.3333333333333333,
              "#9c179e"
             ],
             [
              0.4444444444444444,
              "#bd3786"
             ],
             [
              0.5555555555555556,
              "#d8576b"
             ],
             [
              0.6666666666666666,
              "#ed7953"
             ],
             [
              0.7777777777777778,
              "#fb9f3a"
             ],
             [
              0.8888888888888888,
              "#fdca26"
             ],
             [
              1,
              "#f0f921"
             ]
            ],
            "type": "heatmap"
           }
          ],
          "histogram": [
           {
            "marker": {
             "pattern": {
              "fillmode": "overlay",
              "size": 10,
              "solidity": 0.2
             }
            },
            "type": "histogram"
           }
          ],
          "histogram2d": [
           {
            "colorbar": {
             "outlinewidth": 0,
             "ticks": ""
            },
            "colorscale": [
             [
              0,
              "#0d0887"
             ],
             [
              0.1111111111111111,
              "#46039f"
             ],
             [
              0.2222222222222222,
              "#7201a8"
             ],
             [
              0.3333333333333333,
              "#9c179e"
             ],
             [
              0.4444444444444444,
              "#bd3786"
             ],
             [
              0.5555555555555556,
              "#d8576b"
             ],
             [
              0.6666666666666666,
              "#ed7953"
             ],
             [
              0.7777777777777778,
              "#fb9f3a"
             ],
             [
              0.8888888888888888,
              "#fdca26"
             ],
             [
              1,
              "#f0f921"
             ]
            ],
            "type": "histogram2d"
           }
          ],
          "histogram2dcontour": [
           {
            "colorbar": {
             "outlinewidth": 0,
             "ticks": ""
            },
            "colorscale": [
             [
              0,
              "#0d0887"
             ],
             [
              0.1111111111111111,
              "#46039f"
             ],
             [
              0.2222222222222222,
              "#7201a8"
             ],
             [
              0.3333333333333333,
              "#9c179e"
             ],
             [
              0.4444444444444444,
              "#bd3786"
             ],
             [
              0.5555555555555556,
              "#d8576b"
             ],
             [
              0.6666666666666666,
              "#ed7953"
             ],
             [
              0.7777777777777778,
              "#fb9f3a"
             ],
             [
              0.8888888888888888,
              "#fdca26"
             ],
             [
              1,
              "#f0f921"
             ]
            ],
            "type": "histogram2dcontour"
           }
          ],
          "mesh3d": [
           {
            "colorbar": {
             "outlinewidth": 0,
             "ticks": ""
            },
            "type": "mesh3d"
           }
          ],
          "parcoords": [
           {
            "line": {
             "colorbar": {
              "outlinewidth": 0,
              "ticks": ""
             }
            },
            "type": "parcoords"
           }
          ],
          "pie": [
           {
            "automargin": true,
            "type": "pie"
           }
          ],
          "scatter": [
           {
            "fillpattern": {
             "fillmode": "overlay",
             "size": 10,
             "solidity": 0.2
            },
            "type": "scatter"
           }
          ],
          "scatter3d": [
           {
            "line": {
             "colorbar": {
              "outlinewidth": 0,
              "ticks": ""
             }
            },
            "marker": {
             "colorbar": {
              "outlinewidth": 0,
              "ticks": ""
             }
            },
            "type": "scatter3d"
           }
          ],
          "scattercarpet": [
           {
            "marker": {
             "colorbar": {
              "outlinewidth": 0,
              "ticks": ""
             }
            },
            "type": "scattercarpet"
           }
          ],
          "scattergeo": [
           {
            "marker": {
             "colorbar": {
              "outlinewidth": 0,
              "ticks": ""
             }
            },
            "type": "scattergeo"
           }
          ],
          "scattergl": [
           {
            "marker": {
             "colorbar": {
              "outlinewidth": 0,
              "ticks": ""
             }
            },
            "type": "scattergl"
           }
          ],
          "scattermap": [
           {
            "marker": {
             "colorbar": {
              "outlinewidth": 0,
              "ticks": ""
             }
            },
            "type": "scattermap"
           }
          ],
          "scattermapbox": [
           {
            "marker": {
             "colorbar": {
              "outlinewidth": 0,
              "ticks": ""
             }
            },
            "type": "scattermapbox"
           }
          ],
          "scatterpolar": [
           {
            "marker": {
             "colorbar": {
              "outlinewidth": 0,
              "ticks": ""
             }
            },
            "type": "scatterpolar"
           }
          ],
          "scatterpolargl": [
           {
            "marker": {
             "colorbar": {
              "outlinewidth": 0,
              "ticks": ""
             }
            },
            "type": "scatterpolargl"
           }
          ],
          "scatterternary": [
           {
            "marker": {
             "colorbar": {
              "outlinewidth": 0,
              "ticks": ""
             }
            },
            "type": "scatterternary"
           }
          ],
          "surface": [
           {
            "colorbar": {
             "outlinewidth": 0,
             "ticks": ""
            },
            "colorscale": [
             [
              0,
              "#0d0887"
             ],
             [
              0.1111111111111111,
              "#46039f"
             ],
             [
              0.2222222222222222,
              "#7201a8"
             ],
             [
              0.3333333333333333,
              "#9c179e"
             ],
             [
              0.4444444444444444,
              "#bd3786"
             ],
             [
              0.5555555555555556,
              "#d8576b"
             ],
             [
              0.6666666666666666,
              "#ed7953"
             ],
             [
              0.7777777777777778,
              "#fb9f3a"
             ],
             [
              0.8888888888888888,
              "#fdca26"
             ],
             [
              1,
              "#f0f921"
             ]
            ],
            "type": "surface"
           }
          ],
          "table": [
           {
            "cells": {
             "fill": {
              "color": "#EBF0F8"
             },
             "line": {
              "color": "white"
             }
            },
            "header": {
             "fill": {
              "color": "#C8D4E3"
             },
             "line": {
              "color": "white"
             }
            },
            "type": "table"
           }
          ]
         },
         "layout": {
          "annotationdefaults": {
           "arrowcolor": "#2a3f5f",
           "arrowhead": 0,
           "arrowwidth": 1
          },
          "autotypenumbers": "strict",
          "coloraxis": {
           "colorbar": {
            "outlinewidth": 0,
            "ticks": ""
           }
          },
          "colorscale": {
           "diverging": [
            [
             0,
             "#8e0152"
            ],
            [
             0.1,
             "#c51b7d"
            ],
            [
             0.2,
             "#de77ae"
            ],
            [
             0.3,
             "#f1b6da"
            ],
            [
             0.4,
             "#fde0ef"
            ],
            [
             0.5,
             "#f7f7f7"
            ],
            [
             0.6,
             "#e6f5d0"
            ],
            [
             0.7,
             "#b8e186"
            ],
            [
             0.8,
             "#7fbc41"
            ],
            [
             0.9,
             "#4d9221"
            ],
            [
             1,
             "#276419"
            ]
           ],
           "sequential": [
            [
             0,
             "#0d0887"
            ],
            [
             0.1111111111111111,
             "#46039f"
            ],
            [
             0.2222222222222222,
             "#7201a8"
            ],
            [
             0.3333333333333333,
             "#9c179e"
            ],
            [
             0.4444444444444444,
             "#bd3786"
            ],
            [
             0.5555555555555556,
             "#d8576b"
            ],
            [
             0.6666666666666666,
             "#ed7953"
            ],
            [
             0.7777777777777778,
             "#fb9f3a"
            ],
            [
             0.8888888888888888,
             "#fdca26"
            ],
            [
             1,
             "#f0f921"
            ]
           ],
           "sequentialminus": [
            [
             0,
             "#0d0887"
            ],
            [
             0.1111111111111111,
             "#46039f"
            ],
            [
             0.2222222222222222,
             "#7201a8"
            ],
            [
             0.3333333333333333,
             "#9c179e"
            ],
            [
             0.4444444444444444,
             "#bd3786"
            ],
            [
             0.5555555555555556,
             "#d8576b"
            ],
            [
             0.6666666666666666,
             "#ed7953"
            ],
            [
             0.7777777777777778,
             "#fb9f3a"
            ],
            [
             0.8888888888888888,
             "#fdca26"
            ],
            [
             1,
             "#f0f921"
            ]
           ]
          },
          "colorway": [
           "#636efa",
           "#EF553B",
           "#00cc96",
           "#ab63fa",
           "#FFA15A",
           "#19d3f3",
           "#FF6692",
           "#B6E880",
           "#FF97FF",
           "#FECB52"
          ],
          "font": {
           "color": "#2a3f5f"
          },
          "geo": {
           "bgcolor": "white",
           "lakecolor": "white",
           "landcolor": "white",
           "showlakes": true,
           "showland": true,
           "subunitcolor": "#C8D4E3"
          },
          "hoverlabel": {
           "align": "left"
          },
          "hovermode": "closest",
          "mapbox": {
           "style": "light"
          },
          "paper_bgcolor": "white",
          "plot_bgcolor": "white",
          "polar": {
           "angularaxis": {
            "gridcolor": "#EBF0F8",
            "linecolor": "#EBF0F8",
            "ticks": ""
           },
           "bgcolor": "white",
           "radialaxis": {
            "gridcolor": "#EBF0F8",
            "linecolor": "#EBF0F8",
            "ticks": ""
           }
          },
          "scene": {
           "xaxis": {
            "backgroundcolor": "white",
            "gridcolor": "#DFE8F3",
            "gridwidth": 2,
            "linecolor": "#EBF0F8",
            "showbackground": true,
            "ticks": "",
            "zerolinecolor": "#EBF0F8"
           },
           "yaxis": {
            "backgroundcolor": "white",
            "gridcolor": "#DFE8F3",
            "gridwidth": 2,
            "linecolor": "#EBF0F8",
            "showbackground": true,
            "ticks": "",
            "zerolinecolor": "#EBF0F8"
           },
           "zaxis": {
            "backgroundcolor": "white",
            "gridcolor": "#DFE8F3",
            "gridwidth": 2,
            "linecolor": "#EBF0F8",
            "showbackground": true,
            "ticks": "",
            "zerolinecolor": "#EBF0F8"
           }
          },
          "shapedefaults": {
           "line": {
            "color": "#2a3f5f"
           }
          },
          "ternary": {
           "aaxis": {
            "gridcolor": "#DFE8F3",
            "linecolor": "#A2B1C6",
            "ticks": ""
           },
           "baxis": {
            "gridcolor": "#DFE8F3",
            "linecolor": "#A2B1C6",
            "ticks": ""
           },
           "bgcolor": "white",
           "caxis": {
            "gridcolor": "#DFE8F3",
            "linecolor": "#A2B1C6",
            "ticks": ""
           }
          },
          "title": {
           "x": 0.05
          },
          "xaxis": {
           "automargin": true,
           "gridcolor": "#EBF0F8",
           "linecolor": "#EBF0F8",
           "ticks": "",
           "title": {
            "standoff": 15
           },
           "zerolinecolor": "#EBF0F8",
           "zerolinewidth": 2
          },
          "yaxis": {
           "automargin": true,
           "gridcolor": "#EBF0F8",
           "linecolor": "#EBF0F8",
           "ticks": "",
           "title": {
            "standoff": 15
           },
           "zerolinecolor": "#EBF0F8",
           "zerolinewidth": 2
          }
         }
        },
        "title": {
         "text": "Churn Distribution by StreamingTV (%)"
        },
        "xaxis": {
         "anchor": "y",
         "domain": [
          0,
          1
         ],
         "showgrid": false,
         "title": {
          "text": ""
         }
        },
        "yaxis": {
         "anchor": "x",
         "domain": [
          0,
          1
         ],
         "showgrid": false,
         "title": {
          "text": "Percentage (%)"
         }
        }
       }
      }
     },
     "metadata": {},
     "output_type": "display_data"
    },
    {
     "data": {
      "application/vnd.plotly.v1+json": {
       "config": {
        "plotlyServerURL": "https://plot.ly"
       },
       "data": [
        {
         "hovertemplate": "Churn=No<br>StreamingMovies=%{x}<br>percentage=%{y}<br>label=%{text}<extra></extra>",
         "legendgroup": "No",
         "marker": {
          "color": "#636efa",
          "opacity": 0.8,
          "pattern": {
           "shape": ""
          }
         },
         "name": "No",
         "orientation": "v",
         "showlegend": true,
         "text": [
          "1472 (66.4%)",
          "1126 (92.8%)",
          "1541 (70.0%)"
         ],
         "textangle": 0,
         "textposition": "inside",
         "type": "bar",
         "x": [
          "No",
          "No internet service",
          "Yes"
         ],
         "xaxis": "x",
         "y": {
          "bdata": "mpmZmZmZUEAzMzMzMzNXQAAAAAAAgFFA",
          "dtype": "f8"
         },
         "yaxis": "y"
        },
        {
         "hovertemplate": "Churn=Yes<br>StreamingMovies=%{x}<br>percentage=%{y}<br>label=%{text}<extra></extra>",
         "legendgroup": "Yes",
         "marker": {
          "color": "#EF553B",
          "opacity": 0.8,
          "pattern": {
           "shape": ""
          }
         },
         "name": "Yes",
         "orientation": "v",
         "showlegend": true,
         "text": [
          "745 (33.6%)",
          "88 (7.2%)",
          "662 (30.0%)"
         ],
         "textangle": 0,
         "textposition": "inside",
         "type": "bar",
         "x": [
          "No",
          "No internet service",
          "Yes"
         ],
         "xaxis": "x",
         "y": {
          "bdata": "zczMzMzMQEDNzMzMzMwcQAAAAAAAAD5A",
          "dtype": "f8"
         },
         "yaxis": "y"
        }
       ],
       "layout": {
        "bargap": 0.1,
        "barmode": "relative",
        "legend": {
         "title": {
          "text": "Churn"
         },
         "tracegroupgap": 0
        },
        "margin": {
         "t": 60
        },
        "template": {
         "data": {
          "bar": [
           {
            "error_x": {
             "color": "#2a3f5f"
            },
            "error_y": {
             "color": "#2a3f5f"
            },
            "marker": {
             "line": {
              "color": "white",
              "width": 0.5
             },
             "pattern": {
              "fillmode": "overlay",
              "size": 10,
              "solidity": 0.2
             }
            },
            "type": "bar"
           }
          ],
          "barpolar": [
           {
            "marker": {
             "line": {
              "color": "white",
              "width": 0.5
             },
             "pattern": {
              "fillmode": "overlay",
              "size": 10,
              "solidity": 0.2
             }
            },
            "type": "barpolar"
           }
          ],
          "carpet": [
           {
            "aaxis": {
             "endlinecolor": "#2a3f5f",
             "gridcolor": "#C8D4E3",
             "linecolor": "#C8D4E3",
             "minorgridcolor": "#C8D4E3",
             "startlinecolor": "#2a3f5f"
            },
            "baxis": {
             "endlinecolor": "#2a3f5f",
             "gridcolor": "#C8D4E3",
             "linecolor": "#C8D4E3",
             "minorgridcolor": "#C8D4E3",
             "startlinecolor": "#2a3f5f"
            },
            "type": "carpet"
           }
          ],
          "choropleth": [
           {
            "colorbar": {
             "outlinewidth": 0,
             "ticks": ""
            },
            "type": "choropleth"
           }
          ],
          "contour": [
           {
            "colorbar": {
             "outlinewidth": 0,
             "ticks": ""
            },
            "colorscale": [
             [
              0,
              "#0d0887"
             ],
             [
              0.1111111111111111,
              "#46039f"
             ],
             [
              0.2222222222222222,
              "#7201a8"
             ],
             [
              0.3333333333333333,
              "#9c179e"
             ],
             [
              0.4444444444444444,
              "#bd3786"
             ],
             [
              0.5555555555555556,
              "#d8576b"
             ],
             [
              0.6666666666666666,
              "#ed7953"
             ],
             [
              0.7777777777777778,
              "#fb9f3a"
             ],
             [
              0.8888888888888888,
              "#fdca26"
             ],
             [
              1,
              "#f0f921"
             ]
            ],
            "type": "contour"
           }
          ],
          "contourcarpet": [
           {
            "colorbar": {
             "outlinewidth": 0,
             "ticks": ""
            },
            "type": "contourcarpet"
           }
          ],
          "heatmap": [
           {
            "colorbar": {
             "outlinewidth": 0,
             "ticks": ""
            },
            "colorscale": [
             [
              0,
              "#0d0887"
             ],
             [
              0.1111111111111111,
              "#46039f"
             ],
             [
              0.2222222222222222,
              "#7201a8"
             ],
             [
              0.3333333333333333,
              "#9c179e"
             ],
             [
              0.4444444444444444,
              "#bd3786"
             ],
             [
              0.5555555555555556,
              "#d8576b"
             ],
             [
              0.6666666666666666,
              "#ed7953"
             ],
             [
              0.7777777777777778,
              "#fb9f3a"
             ],
             [
              0.8888888888888888,
              "#fdca26"
             ],
             [
              1,
              "#f0f921"
             ]
            ],
            "type": "heatmap"
           }
          ],
          "histogram": [
           {
            "marker": {
             "pattern": {
              "fillmode": "overlay",
              "size": 10,
              "solidity": 0.2
             }
            },
            "type": "histogram"
           }
          ],
          "histogram2d": [
           {
            "colorbar": {
             "outlinewidth": 0,
             "ticks": ""
            },
            "colorscale": [
             [
              0,
              "#0d0887"
             ],
             [
              0.1111111111111111,
              "#46039f"
             ],
             [
              0.2222222222222222,
              "#7201a8"
             ],
             [
              0.3333333333333333,
              "#9c179e"
             ],
             [
              0.4444444444444444,
              "#bd3786"
             ],
             [
              0.5555555555555556,
              "#d8576b"
             ],
             [
              0.6666666666666666,
              "#ed7953"
             ],
             [
              0.7777777777777778,
              "#fb9f3a"
             ],
             [
              0.8888888888888888,
              "#fdca26"
             ],
             [
              1,
              "#f0f921"
             ]
            ],
            "type": "histogram2d"
           }
          ],
          "histogram2dcontour": [
           {
            "colorbar": {
             "outlinewidth": 0,
             "ticks": ""
            },
            "colorscale": [
             [
              0,
              "#0d0887"
             ],
             [
              0.1111111111111111,
              "#46039f"
             ],
             [
              0.2222222222222222,
              "#7201a8"
             ],
             [
              0.3333333333333333,
              "#9c179e"
             ],
             [
              0.4444444444444444,
              "#bd3786"
             ],
             [
              0.5555555555555556,
              "#d8576b"
             ],
             [
              0.6666666666666666,
              "#ed7953"
             ],
             [
              0.7777777777777778,
              "#fb9f3a"
             ],
             [
              0.8888888888888888,
              "#fdca26"
             ],
             [
              1,
              "#f0f921"
             ]
            ],
            "type": "histogram2dcontour"
           }
          ],
          "mesh3d": [
           {
            "colorbar": {
             "outlinewidth": 0,
             "ticks": ""
            },
            "type": "mesh3d"
           }
          ],
          "parcoords": [
           {
            "line": {
             "colorbar": {
              "outlinewidth": 0,
              "ticks": ""
             }
            },
            "type": "parcoords"
           }
          ],
          "pie": [
           {
            "automargin": true,
            "type": "pie"
           }
          ],
          "scatter": [
           {
            "fillpattern": {
             "fillmode": "overlay",
             "size": 10,
             "solidity": 0.2
            },
            "type": "scatter"
           }
          ],
          "scatter3d": [
           {
            "line": {
             "colorbar": {
              "outlinewidth": 0,
              "ticks": ""
             }
            },
            "marker": {
             "colorbar": {
              "outlinewidth": 0,
              "ticks": ""
             }
            },
            "type": "scatter3d"
           }
          ],
          "scattercarpet": [
           {
            "marker": {
             "colorbar": {
              "outlinewidth": 0,
              "ticks": ""
             }
            },
            "type": "scattercarpet"
           }
          ],
          "scattergeo": [
           {
            "marker": {
             "colorbar": {
              "outlinewidth": 0,
              "ticks": ""
             }
            },
            "type": "scattergeo"
           }
          ],
          "scattergl": [
           {
            "marker": {
             "colorbar": {
              "outlinewidth": 0,
              "ticks": ""
             }
            },
            "type": "scattergl"
           }
          ],
          "scattermap": [
           {
            "marker": {
             "colorbar": {
              "outlinewidth": 0,
              "ticks": ""
             }
            },
            "type": "scattermap"
           }
          ],
          "scattermapbox": [
           {
            "marker": {
             "colorbar": {
              "outlinewidth": 0,
              "ticks": ""
             }
            },
            "type": "scattermapbox"
           }
          ],
          "scatterpolar": [
           {
            "marker": {
             "colorbar": {
              "outlinewidth": 0,
              "ticks": ""
             }
            },
            "type": "scatterpolar"
           }
          ],
          "scatterpolargl": [
           {
            "marker": {
             "colorbar": {
              "outlinewidth": 0,
              "ticks": ""
             }
            },
            "type": "scatterpolargl"
           }
          ],
          "scatterternary": [
           {
            "marker": {
             "colorbar": {
              "outlinewidth": 0,
              "ticks": ""
             }
            },
            "type": "scatterternary"
           }
          ],
          "surface": [
           {
            "colorbar": {
             "outlinewidth": 0,
             "ticks": ""
            },
            "colorscale": [
             [
              0,
              "#0d0887"
             ],
             [
              0.1111111111111111,
              "#46039f"
             ],
             [
              0.2222222222222222,
              "#7201a8"
             ],
             [
              0.3333333333333333,
              "#9c179e"
             ],
             [
              0.4444444444444444,
              "#bd3786"
             ],
             [
              0.5555555555555556,
              "#d8576b"
             ],
             [
              0.6666666666666666,
              "#ed7953"
             ],
             [
              0.7777777777777778,
              "#fb9f3a"
             ],
             [
              0.8888888888888888,
              "#fdca26"
             ],
             [
              1,
              "#f0f921"
             ]
            ],
            "type": "surface"
           }
          ],
          "table": [
           {
            "cells": {
             "fill": {
              "color": "#EBF0F8"
             },
             "line": {
              "color": "white"
             }
            },
            "header": {
             "fill": {
              "color": "#C8D4E3"
             },
             "line": {
              "color": "white"
             }
            },
            "type": "table"
           }
          ]
         },
         "layout": {
          "annotationdefaults": {
           "arrowcolor": "#2a3f5f",
           "arrowhead": 0,
           "arrowwidth": 1
          },
          "autotypenumbers": "strict",
          "coloraxis": {
           "colorbar": {
            "outlinewidth": 0,
            "ticks": ""
           }
          },
          "colorscale": {
           "diverging": [
            [
             0,
             "#8e0152"
            ],
            [
             0.1,
             "#c51b7d"
            ],
            [
             0.2,
             "#de77ae"
            ],
            [
             0.3,
             "#f1b6da"
            ],
            [
             0.4,
             "#fde0ef"
            ],
            [
             0.5,
             "#f7f7f7"
            ],
            [
             0.6,
             "#e6f5d0"
            ],
            [
             0.7,
             "#b8e186"
            ],
            [
             0.8,
             "#7fbc41"
            ],
            [
             0.9,
             "#4d9221"
            ],
            [
             1,
             "#276419"
            ]
           ],
           "sequential": [
            [
             0,
             "#0d0887"
            ],
            [
             0.1111111111111111,
             "#46039f"
            ],
            [
             0.2222222222222222,
             "#7201a8"
            ],
            [
             0.3333333333333333,
             "#9c179e"
            ],
            [
             0.4444444444444444,
             "#bd3786"
            ],
            [
             0.5555555555555556,
             "#d8576b"
            ],
            [
             0.6666666666666666,
             "#ed7953"
            ],
            [
             0.7777777777777778,
             "#fb9f3a"
            ],
            [
             0.8888888888888888,
             "#fdca26"
            ],
            [
             1,
             "#f0f921"
            ]
           ],
           "sequentialminus": [
            [
             0,
             "#0d0887"
            ],
            [
             0.1111111111111111,
             "#46039f"
            ],
            [
             0.2222222222222222,
             "#7201a8"
            ],
            [
             0.3333333333333333,
             "#9c179e"
            ],
            [
             0.4444444444444444,
             "#bd3786"
            ],
            [
             0.5555555555555556,
             "#d8576b"
            ],
            [
             0.6666666666666666,
             "#ed7953"
            ],
            [
             0.7777777777777778,
             "#fb9f3a"
            ],
            [
             0.8888888888888888,
             "#fdca26"
            ],
            [
             1,
             "#f0f921"
            ]
           ]
          },
          "colorway": [
           "#636efa",
           "#EF553B",
           "#00cc96",
           "#ab63fa",
           "#FFA15A",
           "#19d3f3",
           "#FF6692",
           "#B6E880",
           "#FF97FF",
           "#FECB52"
          ],
          "font": {
           "color": "#2a3f5f"
          },
          "geo": {
           "bgcolor": "white",
           "lakecolor": "white",
           "landcolor": "white",
           "showlakes": true,
           "showland": true,
           "subunitcolor": "#C8D4E3"
          },
          "hoverlabel": {
           "align": "left"
          },
          "hovermode": "closest",
          "mapbox": {
           "style": "light"
          },
          "paper_bgcolor": "white",
          "plot_bgcolor": "white",
          "polar": {
           "angularaxis": {
            "gridcolor": "#EBF0F8",
            "linecolor": "#EBF0F8",
            "ticks": ""
           },
           "bgcolor": "white",
           "radialaxis": {
            "gridcolor": "#EBF0F8",
            "linecolor": "#EBF0F8",
            "ticks": ""
           }
          },
          "scene": {
           "xaxis": {
            "backgroundcolor": "white",
            "gridcolor": "#DFE8F3",
            "gridwidth": 2,
            "linecolor": "#EBF0F8",
            "showbackground": true,
            "ticks": "",
            "zerolinecolor": "#EBF0F8"
           },
           "yaxis": {
            "backgroundcolor": "white",
            "gridcolor": "#DFE8F3",
            "gridwidth": 2,
            "linecolor": "#EBF0F8",
            "showbackground": true,
            "ticks": "",
            "zerolinecolor": "#EBF0F8"
           },
           "zaxis": {
            "backgroundcolor": "white",
            "gridcolor": "#DFE8F3",
            "gridwidth": 2,
            "linecolor": "#EBF0F8",
            "showbackground": true,
            "ticks": "",
            "zerolinecolor": "#EBF0F8"
           }
          },
          "shapedefaults": {
           "line": {
            "color": "#2a3f5f"
           }
          },
          "ternary": {
           "aaxis": {
            "gridcolor": "#DFE8F3",
            "linecolor": "#A2B1C6",
            "ticks": ""
           },
           "baxis": {
            "gridcolor": "#DFE8F3",
            "linecolor": "#A2B1C6",
            "ticks": ""
           },
           "bgcolor": "white",
           "caxis": {
            "gridcolor": "#DFE8F3",
            "linecolor": "#A2B1C6",
            "ticks": ""
           }
          },
          "title": {
           "x": 0.05
          },
          "xaxis": {
           "automargin": true,
           "gridcolor": "#EBF0F8",
           "linecolor": "#EBF0F8",
           "ticks": "",
           "title": {
            "standoff": 15
           },
           "zerolinecolor": "#EBF0F8",
           "zerolinewidth": 2
          },
          "yaxis": {
           "automargin": true,
           "gridcolor": "#EBF0F8",
           "linecolor": "#EBF0F8",
           "ticks": "",
           "title": {
            "standoff": 15
           },
           "zerolinecolor": "#EBF0F8",
           "zerolinewidth": 2
          }
         }
        },
        "title": {
         "text": "Churn Distribution by StreamingMovies (%)"
        },
        "xaxis": {
         "anchor": "y",
         "domain": [
          0,
          1
         ],
         "showgrid": false,
         "title": {
          "text": ""
         }
        },
        "yaxis": {
         "anchor": "x",
         "domain": [
          0,
          1
         ],
         "showgrid": false,
         "title": {
          "text": "Percentage (%)"
         }
        }
       }
      }
     },
     "metadata": {},
     "output_type": "display_data"
    },
    {
     "data": {
      "application/vnd.plotly.v1+json": {
       "config": {
        "plotlyServerURL": "https://plot.ly"
       },
       "data": [
        {
         "hovertemplate": "Churn=No<br>Contract=%{x}<br>percentage=%{y}<br>label=%{text}<extra></extra>",
         "legendgroup": "No",
         "marker": {
          "color": "#636efa",
          "opacity": 0.8,
          "pattern": {
           "shape": ""
          }
         },
         "name": "No",
         "orientation": "v",
         "showlegend": true,
         "text": [
          "1776 (57.3%)",
          "1043 (88.9%)",
          "1320 (97.1%)"
         ],
         "textangle": 0,
         "textposition": "inside",
         "type": "bar",
         "x": [
          "Month-to-month",
          "One year",
          "Two year"
         ],
         "xaxis": "x",
         "y": {
          "bdata": "ZmZmZmamTECamZmZmTlWQGZmZmZmRlhA",
          "dtype": "f8"
         },
         "yaxis": "y"
        },
        {
         "hovertemplate": "Churn=Yes<br>Contract=%{x}<br>percentage=%{y}<br>label=%{text}<extra></extra>",
         "legendgroup": "Yes",
         "marker": {
          "color": "#EF553B",
          "opacity": 0.8,
          "pattern": {
           "shape": ""
          }
         },
         "name": "Yes",
         "orientation": "v",
         "showlegend": true,
         "text": [
          "1326 (42.7%)",
          "130 (11.1%)",
          "39 (2.9%)"
         ],
         "textangle": 0,
         "textposition": "inside",
         "type": "bar",
         "x": [
          "Month-to-month",
          "One year",
          "Two year"
         ],
         "xaxis": "x",
         "y": {
          "bdata": "mpmZmZlZRUAzMzMzMzMmQDMzMzMzMwdA",
          "dtype": "f8"
         },
         "yaxis": "y"
        }
       ],
       "layout": {
        "bargap": 0.1,
        "barmode": "relative",
        "legend": {
         "title": {
          "text": "Churn"
         },
         "tracegroupgap": 0
        },
        "margin": {
         "t": 60
        },
        "template": {
         "data": {
          "bar": [
           {
            "error_x": {
             "color": "#2a3f5f"
            },
            "error_y": {
             "color": "#2a3f5f"
            },
            "marker": {
             "line": {
              "color": "white",
              "width": 0.5
             },
             "pattern": {
              "fillmode": "overlay",
              "size": 10,
              "solidity": 0.2
             }
            },
            "type": "bar"
           }
          ],
          "barpolar": [
           {
            "marker": {
             "line": {
              "color": "white",
              "width": 0.5
             },
             "pattern": {
              "fillmode": "overlay",
              "size": 10,
              "solidity": 0.2
             }
            },
            "type": "barpolar"
           }
          ],
          "carpet": [
           {
            "aaxis": {
             "endlinecolor": "#2a3f5f",
             "gridcolor": "#C8D4E3",
             "linecolor": "#C8D4E3",
             "minorgridcolor": "#C8D4E3",
             "startlinecolor": "#2a3f5f"
            },
            "baxis": {
             "endlinecolor": "#2a3f5f",
             "gridcolor": "#C8D4E3",
             "linecolor": "#C8D4E3",
             "minorgridcolor": "#C8D4E3",
             "startlinecolor": "#2a3f5f"
            },
            "type": "carpet"
           }
          ],
          "choropleth": [
           {
            "colorbar": {
             "outlinewidth": 0,
             "ticks": ""
            },
            "type": "choropleth"
           }
          ],
          "contour": [
           {
            "colorbar": {
             "outlinewidth": 0,
             "ticks": ""
            },
            "colorscale": [
             [
              0,
              "#0d0887"
             ],
             [
              0.1111111111111111,
              "#46039f"
             ],
             [
              0.2222222222222222,
              "#7201a8"
             ],
             [
              0.3333333333333333,
              "#9c179e"
             ],
             [
              0.4444444444444444,
              "#bd3786"
             ],
             [
              0.5555555555555556,
              "#d8576b"
             ],
             [
              0.6666666666666666,
              "#ed7953"
             ],
             [
              0.7777777777777778,
              "#fb9f3a"
             ],
             [
              0.8888888888888888,
              "#fdca26"
             ],
             [
              1,
              "#f0f921"
             ]
            ],
            "type": "contour"
           }
          ],
          "contourcarpet": [
           {
            "colorbar": {
             "outlinewidth": 0,
             "ticks": ""
            },
            "type": "contourcarpet"
           }
          ],
          "heatmap": [
           {
            "colorbar": {
             "outlinewidth": 0,
             "ticks": ""
            },
            "colorscale": [
             [
              0,
              "#0d0887"
             ],
             [
              0.1111111111111111,
              "#46039f"
             ],
             [
              0.2222222222222222,
              "#7201a8"
             ],
             [
              0.3333333333333333,
              "#9c179e"
             ],
             [
              0.4444444444444444,
              "#bd3786"
             ],
             [
              0.5555555555555556,
              "#d8576b"
             ],
             [
              0.6666666666666666,
              "#ed7953"
             ],
             [
              0.7777777777777778,
              "#fb9f3a"
             ],
             [
              0.8888888888888888,
              "#fdca26"
             ],
             [
              1,
              "#f0f921"
             ]
            ],
            "type": "heatmap"
           }
          ],
          "histogram": [
           {
            "marker": {
             "pattern": {
              "fillmode": "overlay",
              "size": 10,
              "solidity": 0.2
             }
            },
            "type": "histogram"
           }
          ],
          "histogram2d": [
           {
            "colorbar": {
             "outlinewidth": 0,
             "ticks": ""
            },
            "colorscale": [
             [
              0,
              "#0d0887"
             ],
             [
              0.1111111111111111,
              "#46039f"
             ],
             [
              0.2222222222222222,
              "#7201a8"
             ],
             [
              0.3333333333333333,
              "#9c179e"
             ],
             [
              0.4444444444444444,
              "#bd3786"
             ],
             [
              0.5555555555555556,
              "#d8576b"
             ],
             [
              0.6666666666666666,
              "#ed7953"
             ],
             [
              0.7777777777777778,
              "#fb9f3a"
             ],
             [
              0.8888888888888888,
              "#fdca26"
             ],
             [
              1,
              "#f0f921"
             ]
            ],
            "type": "histogram2d"
           }
          ],
          "histogram2dcontour": [
           {
            "colorbar": {
             "outlinewidth": 0,
             "ticks": ""
            },
            "colorscale": [
             [
              0,
              "#0d0887"
             ],
             [
              0.1111111111111111,
              "#46039f"
             ],
             [
              0.2222222222222222,
              "#7201a8"
             ],
             [
              0.3333333333333333,
              "#9c179e"
             ],
             [
              0.4444444444444444,
              "#bd3786"
             ],
             [
              0.5555555555555556,
              "#d8576b"
             ],
             [
              0.6666666666666666,
              "#ed7953"
             ],
             [
              0.7777777777777778,
              "#fb9f3a"
             ],
             [
              0.8888888888888888,
              "#fdca26"
             ],
             [
              1,
              "#f0f921"
             ]
            ],
            "type": "histogram2dcontour"
           }
          ],
          "mesh3d": [
           {
            "colorbar": {
             "outlinewidth": 0,
             "ticks": ""
            },
            "type": "mesh3d"
           }
          ],
          "parcoords": [
           {
            "line": {
             "colorbar": {
              "outlinewidth": 0,
              "ticks": ""
             }
            },
            "type": "parcoords"
           }
          ],
          "pie": [
           {
            "automargin": true,
            "type": "pie"
           }
          ],
          "scatter": [
           {
            "fillpattern": {
             "fillmode": "overlay",
             "size": 10,
             "solidity": 0.2
            },
            "type": "scatter"
           }
          ],
          "scatter3d": [
           {
            "line": {
             "colorbar": {
              "outlinewidth": 0,
              "ticks": ""
             }
            },
            "marker": {
             "colorbar": {
              "outlinewidth": 0,
              "ticks": ""
             }
            },
            "type": "scatter3d"
           }
          ],
          "scattercarpet": [
           {
            "marker": {
             "colorbar": {
              "outlinewidth": 0,
              "ticks": ""
             }
            },
            "type": "scattercarpet"
           }
          ],
          "scattergeo": [
           {
            "marker": {
             "colorbar": {
              "outlinewidth": 0,
              "ticks": ""
             }
            },
            "type": "scattergeo"
           }
          ],
          "scattergl": [
           {
            "marker": {
             "colorbar": {
              "outlinewidth": 0,
              "ticks": ""
             }
            },
            "type": "scattergl"
           }
          ],
          "scattermap": [
           {
            "marker": {
             "colorbar": {
              "outlinewidth": 0,
              "ticks": ""
             }
            },
            "type": "scattermap"
           }
          ],
          "scattermapbox": [
           {
            "marker": {
             "colorbar": {
              "outlinewidth": 0,
              "ticks": ""
             }
            },
            "type": "scattermapbox"
           }
          ],
          "scatterpolar": [
           {
            "marker": {
             "colorbar": {
              "outlinewidth": 0,
              "ticks": ""
             }
            },
            "type": "scatterpolar"
           }
          ],
          "scatterpolargl": [
           {
            "marker": {
             "colorbar": {
              "outlinewidth": 0,
              "ticks": ""
             }
            },
            "type": "scatterpolargl"
           }
          ],
          "scatterternary": [
           {
            "marker": {
             "colorbar": {
              "outlinewidth": 0,
              "ticks": ""
             }
            },
            "type": "scatterternary"
           }
          ],
          "surface": [
           {
            "colorbar": {
             "outlinewidth": 0,
             "ticks": ""
            },
            "colorscale": [
             [
              0,
              "#0d0887"
             ],
             [
              0.1111111111111111,
              "#46039f"
             ],
             [
              0.2222222222222222,
              "#7201a8"
             ],
             [
              0.3333333333333333,
              "#9c179e"
             ],
             [
              0.4444444444444444,
              "#bd3786"
             ],
             [
              0.5555555555555556,
              "#d8576b"
             ],
             [
              0.6666666666666666,
              "#ed7953"
             ],
             [
              0.7777777777777778,
              "#fb9f3a"
             ],
             [
              0.8888888888888888,
              "#fdca26"
             ],
             [
              1,
              "#f0f921"
             ]
            ],
            "type": "surface"
           }
          ],
          "table": [
           {
            "cells": {
             "fill": {
              "color": "#EBF0F8"
             },
             "line": {
              "color": "white"
             }
            },
            "header": {
             "fill": {
              "color": "#C8D4E3"
             },
             "line": {
              "color": "white"
             }
            },
            "type": "table"
           }
          ]
         },
         "layout": {
          "annotationdefaults": {
           "arrowcolor": "#2a3f5f",
           "arrowhead": 0,
           "arrowwidth": 1
          },
          "autotypenumbers": "strict",
          "coloraxis": {
           "colorbar": {
            "outlinewidth": 0,
            "ticks": ""
           }
          },
          "colorscale": {
           "diverging": [
            [
             0,
             "#8e0152"
            ],
            [
             0.1,
             "#c51b7d"
            ],
            [
             0.2,
             "#de77ae"
            ],
            [
             0.3,
             "#f1b6da"
            ],
            [
             0.4,
             "#fde0ef"
            ],
            [
             0.5,
             "#f7f7f7"
            ],
            [
             0.6,
             "#e6f5d0"
            ],
            [
             0.7,
             "#b8e186"
            ],
            [
             0.8,
             "#7fbc41"
            ],
            [
             0.9,
             "#4d9221"
            ],
            [
             1,
             "#276419"
            ]
           ],
           "sequential": [
            [
             0,
             "#0d0887"
            ],
            [
             0.1111111111111111,
             "#46039f"
            ],
            [
             0.2222222222222222,
             "#7201a8"
            ],
            [
             0.3333333333333333,
             "#9c179e"
            ],
            [
             0.4444444444444444,
             "#bd3786"
            ],
            [
             0.5555555555555556,
             "#d8576b"
            ],
            [
             0.6666666666666666,
             "#ed7953"
            ],
            [
             0.7777777777777778,
             "#fb9f3a"
            ],
            [
             0.8888888888888888,
             "#fdca26"
            ],
            [
             1,
             "#f0f921"
            ]
           ],
           "sequentialminus": [
            [
             0,
             "#0d0887"
            ],
            [
             0.1111111111111111,
             "#46039f"
            ],
            [
             0.2222222222222222,
             "#7201a8"
            ],
            [
             0.3333333333333333,
             "#9c179e"
            ],
            [
             0.4444444444444444,
             "#bd3786"
            ],
            [
             0.5555555555555556,
             "#d8576b"
            ],
            [
             0.6666666666666666,
             "#ed7953"
            ],
            [
             0.7777777777777778,
             "#fb9f3a"
            ],
            [
             0.8888888888888888,
             "#fdca26"
            ],
            [
             1,
             "#f0f921"
            ]
           ]
          },
          "colorway": [
           "#636efa",
           "#EF553B",
           "#00cc96",
           "#ab63fa",
           "#FFA15A",
           "#19d3f3",
           "#FF6692",
           "#B6E880",
           "#FF97FF",
           "#FECB52"
          ],
          "font": {
           "color": "#2a3f5f"
          },
          "geo": {
           "bgcolor": "white",
           "lakecolor": "white",
           "landcolor": "white",
           "showlakes": true,
           "showland": true,
           "subunitcolor": "#C8D4E3"
          },
          "hoverlabel": {
           "align": "left"
          },
          "hovermode": "closest",
          "mapbox": {
           "style": "light"
          },
          "paper_bgcolor": "white",
          "plot_bgcolor": "white",
          "polar": {
           "angularaxis": {
            "gridcolor": "#EBF0F8",
            "linecolor": "#EBF0F8",
            "ticks": ""
           },
           "bgcolor": "white",
           "radialaxis": {
            "gridcolor": "#EBF0F8",
            "linecolor": "#EBF0F8",
            "ticks": ""
           }
          },
          "scene": {
           "xaxis": {
            "backgroundcolor": "white",
            "gridcolor": "#DFE8F3",
            "gridwidth": 2,
            "linecolor": "#EBF0F8",
            "showbackground": true,
            "ticks": "",
            "zerolinecolor": "#EBF0F8"
           },
           "yaxis": {
            "backgroundcolor": "white",
            "gridcolor": "#DFE8F3",
            "gridwidth": 2,
            "linecolor": "#EBF0F8",
            "showbackground": true,
            "ticks": "",
            "zerolinecolor": "#EBF0F8"
           },
           "zaxis": {
            "backgroundcolor": "white",
            "gridcolor": "#DFE8F3",
            "gridwidth": 2,
            "linecolor": "#EBF0F8",
            "showbackground": true,
            "ticks": "",
            "zerolinecolor": "#EBF0F8"
           }
          },
          "shapedefaults": {
           "line": {
            "color": "#2a3f5f"
           }
          },
          "ternary": {
           "aaxis": {
            "gridcolor": "#DFE8F3",
            "linecolor": "#A2B1C6",
            "ticks": ""
           },
           "baxis": {
            "gridcolor": "#DFE8F3",
            "linecolor": "#A2B1C6",
            "ticks": ""
           },
           "bgcolor": "white",
           "caxis": {
            "gridcolor": "#DFE8F3",
            "linecolor": "#A2B1C6",
            "ticks": ""
           }
          },
          "title": {
           "x": 0.05
          },
          "xaxis": {
           "automargin": true,
           "gridcolor": "#EBF0F8",
           "linecolor": "#EBF0F8",
           "ticks": "",
           "title": {
            "standoff": 15
           },
           "zerolinecolor": "#EBF0F8",
           "zerolinewidth": 2
          },
          "yaxis": {
           "automargin": true,
           "gridcolor": "#EBF0F8",
           "linecolor": "#EBF0F8",
           "ticks": "",
           "title": {
            "standoff": 15
           },
           "zerolinecolor": "#EBF0F8",
           "zerolinewidth": 2
          }
         }
        },
        "title": {
         "text": "Churn Distribution by Contract (%)"
        },
        "xaxis": {
         "anchor": "y",
         "domain": [
          0,
          1
         ],
         "showgrid": false,
         "title": {
          "text": ""
         }
        },
        "yaxis": {
         "anchor": "x",
         "domain": [
          0,
          1
         ],
         "showgrid": false,
         "title": {
          "text": "Percentage (%)"
         }
        }
       }
      }
     },
     "metadata": {},
     "output_type": "display_data"
    },
    {
     "data": {
      "application/vnd.plotly.v1+json": {
       "config": {
        "plotlyServerURL": "https://plot.ly"
       },
       "data": [
        {
         "hovertemplate": "Churn=No<br>PaperlessBilling=%{x}<br>percentage=%{y}<br>label=%{text}<extra></extra>",
         "legendgroup": "No",
         "marker": {
          "color": "#636efa",
          "opacity": 0.8,
          "pattern": {
           "shape": ""
          }
         },
         "name": "No",
         "orientation": "v",
         "showlegend": true,
         "text": [
          "1934 (84.0%)",
          "2205 (66.2%)"
         ],
         "textangle": 0,
         "textposition": "inside",
         "type": "bar",
         "x": [
          "No",
          "Yes"
         ],
         "xaxis": "x",
         "y": {
          "bdata": "AAAAAAAAVUDNzMzMzIxQQA==",
          "dtype": "f8"
         },
         "yaxis": "y"
        },
        {
         "hovertemplate": "Churn=Yes<br>PaperlessBilling=%{x}<br>percentage=%{y}<br>label=%{text}<extra></extra>",
         "legendgroup": "Yes",
         "marker": {
          "color": "#EF553B",
          "opacity": 0.8,
          "pattern": {
           "shape": ""
          }
         },
         "name": "Yes",
         "orientation": "v",
         "showlegend": true,
         "text": [
          "369 (16.0%)",
          "1126 (33.8%)"
         ],
         "textangle": 0,
         "textposition": "inside",
         "type": "bar",
         "x": [
          "No",
          "Yes"
         ],
         "xaxis": "x",
         "y": {
          "bdata": "AAAAAAAAMEBmZmZmZuZAQA==",
          "dtype": "f8"
         },
         "yaxis": "y"
        }
       ],
       "layout": {
        "bargap": 0.1,
        "barmode": "relative",
        "legend": {
         "title": {
          "text": "Churn"
         },
         "tracegroupgap": 0
        },
        "margin": {
         "t": 60
        },
        "template": {
         "data": {
          "bar": [
           {
            "error_x": {
             "color": "#2a3f5f"
            },
            "error_y": {
             "color": "#2a3f5f"
            },
            "marker": {
             "line": {
              "color": "white",
              "width": 0.5
             },
             "pattern": {
              "fillmode": "overlay",
              "size": 10,
              "solidity": 0.2
             }
            },
            "type": "bar"
           }
          ],
          "barpolar": [
           {
            "marker": {
             "line": {
              "color": "white",
              "width": 0.5
             },
             "pattern": {
              "fillmode": "overlay",
              "size": 10,
              "solidity": 0.2
             }
            },
            "type": "barpolar"
           }
          ],
          "carpet": [
           {
            "aaxis": {
             "endlinecolor": "#2a3f5f",
             "gridcolor": "#C8D4E3",
             "linecolor": "#C8D4E3",
             "minorgridcolor": "#C8D4E3",
             "startlinecolor": "#2a3f5f"
            },
            "baxis": {
             "endlinecolor": "#2a3f5f",
             "gridcolor": "#C8D4E3",
             "linecolor": "#C8D4E3",
             "minorgridcolor": "#C8D4E3",
             "startlinecolor": "#2a3f5f"
            },
            "type": "carpet"
           }
          ],
          "choropleth": [
           {
            "colorbar": {
             "outlinewidth": 0,
             "ticks": ""
            },
            "type": "choropleth"
           }
          ],
          "contour": [
           {
            "colorbar": {
             "outlinewidth": 0,
             "ticks": ""
            },
            "colorscale": [
             [
              0,
              "#0d0887"
             ],
             [
              0.1111111111111111,
              "#46039f"
             ],
             [
              0.2222222222222222,
              "#7201a8"
             ],
             [
              0.3333333333333333,
              "#9c179e"
             ],
             [
              0.4444444444444444,
              "#bd3786"
             ],
             [
              0.5555555555555556,
              "#d8576b"
             ],
             [
              0.6666666666666666,
              "#ed7953"
             ],
             [
              0.7777777777777778,
              "#fb9f3a"
             ],
             [
              0.8888888888888888,
              "#fdca26"
             ],
             [
              1,
              "#f0f921"
             ]
            ],
            "type": "contour"
           }
          ],
          "contourcarpet": [
           {
            "colorbar": {
             "outlinewidth": 0,
             "ticks": ""
            },
            "type": "contourcarpet"
           }
          ],
          "heatmap": [
           {
            "colorbar": {
             "outlinewidth": 0,
             "ticks": ""
            },
            "colorscale": [
             [
              0,
              "#0d0887"
             ],
             [
              0.1111111111111111,
              "#46039f"
             ],
             [
              0.2222222222222222,
              "#7201a8"
             ],
             [
              0.3333333333333333,
              "#9c179e"
             ],
             [
              0.4444444444444444,
              "#bd3786"
             ],
             [
              0.5555555555555556,
              "#d8576b"
             ],
             [
              0.6666666666666666,
              "#ed7953"
             ],
             [
              0.7777777777777778,
              "#fb9f3a"
             ],
             [
              0.8888888888888888,
              "#fdca26"
             ],
             [
              1,
              "#f0f921"
             ]
            ],
            "type": "heatmap"
           }
          ],
          "histogram": [
           {
            "marker": {
             "pattern": {
              "fillmode": "overlay",
              "size": 10,
              "solidity": 0.2
             }
            },
            "type": "histogram"
           }
          ],
          "histogram2d": [
           {
            "colorbar": {
             "outlinewidth": 0,
             "ticks": ""
            },
            "colorscale": [
             [
              0,
              "#0d0887"
             ],
             [
              0.1111111111111111,
              "#46039f"
             ],
             [
              0.2222222222222222,
              "#7201a8"
             ],
             [
              0.3333333333333333,
              "#9c179e"
             ],
             [
              0.4444444444444444,
              "#bd3786"
             ],
             [
              0.5555555555555556,
              "#d8576b"
             ],
             [
              0.6666666666666666,
              "#ed7953"
             ],
             [
              0.7777777777777778,
              "#fb9f3a"
             ],
             [
              0.8888888888888888,
              "#fdca26"
             ],
             [
              1,
              "#f0f921"
             ]
            ],
            "type": "histogram2d"
           }
          ],
          "histogram2dcontour": [
           {
            "colorbar": {
             "outlinewidth": 0,
             "ticks": ""
            },
            "colorscale": [
             [
              0,
              "#0d0887"
             ],
             [
              0.1111111111111111,
              "#46039f"
             ],
             [
              0.2222222222222222,
              "#7201a8"
             ],
             [
              0.3333333333333333,
              "#9c179e"
             ],
             [
              0.4444444444444444,
              "#bd3786"
             ],
             [
              0.5555555555555556,
              "#d8576b"
             ],
             [
              0.6666666666666666,
              "#ed7953"
             ],
             [
              0.7777777777777778,
              "#fb9f3a"
             ],
             [
              0.8888888888888888,
              "#fdca26"
             ],
             [
              1,
              "#f0f921"
             ]
            ],
            "type": "histogram2dcontour"
           }
          ],
          "mesh3d": [
           {
            "colorbar": {
             "outlinewidth": 0,
             "ticks": ""
            },
            "type": "mesh3d"
           }
          ],
          "parcoords": [
           {
            "line": {
             "colorbar": {
              "outlinewidth": 0,
              "ticks": ""
             }
            },
            "type": "parcoords"
           }
          ],
          "pie": [
           {
            "automargin": true,
            "type": "pie"
           }
          ],
          "scatter": [
           {
            "fillpattern": {
             "fillmode": "overlay",
             "size": 10,
             "solidity": 0.2
            },
            "type": "scatter"
           }
          ],
          "scatter3d": [
           {
            "line": {
             "colorbar": {
              "outlinewidth": 0,
              "ticks": ""
             }
            },
            "marker": {
             "colorbar": {
              "outlinewidth": 0,
              "ticks": ""
             }
            },
            "type": "scatter3d"
           }
          ],
          "scattercarpet": [
           {
            "marker": {
             "colorbar": {
              "outlinewidth": 0,
              "ticks": ""
             }
            },
            "type": "scattercarpet"
           }
          ],
          "scattergeo": [
           {
            "marker": {
             "colorbar": {
              "outlinewidth": 0,
              "ticks": ""
             }
            },
            "type": "scattergeo"
           }
          ],
          "scattergl": [
           {
            "marker": {
             "colorbar": {
              "outlinewidth": 0,
              "ticks": ""
             }
            },
            "type": "scattergl"
           }
          ],
          "scattermap": [
           {
            "marker": {
             "colorbar": {
              "outlinewidth": 0,
              "ticks": ""
             }
            },
            "type": "scattermap"
           }
          ],
          "scattermapbox": [
           {
            "marker": {
             "colorbar": {
              "outlinewidth": 0,
              "ticks": ""
             }
            },
            "type": "scattermapbox"
           }
          ],
          "scatterpolar": [
           {
            "marker": {
             "colorbar": {
              "outlinewidth": 0,
              "ticks": ""
             }
            },
            "type": "scatterpolar"
           }
          ],
          "scatterpolargl": [
           {
            "marker": {
             "colorbar": {
              "outlinewidth": 0,
              "ticks": ""
             }
            },
            "type": "scatterpolargl"
           }
          ],
          "scatterternary": [
           {
            "marker": {
             "colorbar": {
              "outlinewidth": 0,
              "ticks": ""
             }
            },
            "type": "scatterternary"
           }
          ],
          "surface": [
           {
            "colorbar": {
             "outlinewidth": 0,
             "ticks": ""
            },
            "colorscale": [
             [
              0,
              "#0d0887"
             ],
             [
              0.1111111111111111,
              "#46039f"
             ],
             [
              0.2222222222222222,
              "#7201a8"
             ],
             [
              0.3333333333333333,
              "#9c179e"
             ],
             [
              0.4444444444444444,
              "#bd3786"
             ],
             [
              0.5555555555555556,
              "#d8576b"
             ],
             [
              0.6666666666666666,
              "#ed7953"
             ],
             [
              0.7777777777777778,
              "#fb9f3a"
             ],
             [
              0.8888888888888888,
              "#fdca26"
             ],
             [
              1,
              "#f0f921"
             ]
            ],
            "type": "surface"
           }
          ],
          "table": [
           {
            "cells": {
             "fill": {
              "color": "#EBF0F8"
             },
             "line": {
              "color": "white"
             }
            },
            "header": {
             "fill": {
              "color": "#C8D4E3"
             },
             "line": {
              "color": "white"
             }
            },
            "type": "table"
           }
          ]
         },
         "layout": {
          "annotationdefaults": {
           "arrowcolor": "#2a3f5f",
           "arrowhead": 0,
           "arrowwidth": 1
          },
          "autotypenumbers": "strict",
          "coloraxis": {
           "colorbar": {
            "outlinewidth": 0,
            "ticks": ""
           }
          },
          "colorscale": {
           "diverging": [
            [
             0,
             "#8e0152"
            ],
            [
             0.1,
             "#c51b7d"
            ],
            [
             0.2,
             "#de77ae"
            ],
            [
             0.3,
             "#f1b6da"
            ],
            [
             0.4,
             "#fde0ef"
            ],
            [
             0.5,
             "#f7f7f7"
            ],
            [
             0.6,
             "#e6f5d0"
            ],
            [
             0.7,
             "#b8e186"
            ],
            [
             0.8,
             "#7fbc41"
            ],
            [
             0.9,
             "#4d9221"
            ],
            [
             1,
             "#276419"
            ]
           ],
           "sequential": [
            [
             0,
             "#0d0887"
            ],
            [
             0.1111111111111111,
             "#46039f"
            ],
            [
             0.2222222222222222,
             "#7201a8"
            ],
            [
             0.3333333333333333,
             "#9c179e"
            ],
            [
             0.4444444444444444,
             "#bd3786"
            ],
            [
             0.5555555555555556,
             "#d8576b"
            ],
            [
             0.6666666666666666,
             "#ed7953"
            ],
            [
             0.7777777777777778,
             "#fb9f3a"
            ],
            [
             0.8888888888888888,
             "#fdca26"
            ],
            [
             1,
             "#f0f921"
            ]
           ],
           "sequentialminus": [
            [
             0,
             "#0d0887"
            ],
            [
             0.1111111111111111,
             "#46039f"
            ],
            [
             0.2222222222222222,
             "#7201a8"
            ],
            [
             0.3333333333333333,
             "#9c179e"
            ],
            [
             0.4444444444444444,
             "#bd3786"
            ],
            [
             0.5555555555555556,
             "#d8576b"
            ],
            [
             0.6666666666666666,
             "#ed7953"
            ],
            [
             0.7777777777777778,
             "#fb9f3a"
            ],
            [
             0.8888888888888888,
             "#fdca26"
            ],
            [
             1,
             "#f0f921"
            ]
           ]
          },
          "colorway": [
           "#636efa",
           "#EF553B",
           "#00cc96",
           "#ab63fa",
           "#FFA15A",
           "#19d3f3",
           "#FF6692",
           "#B6E880",
           "#FF97FF",
           "#FECB52"
          ],
          "font": {
           "color": "#2a3f5f"
          },
          "geo": {
           "bgcolor": "white",
           "lakecolor": "white",
           "landcolor": "white",
           "showlakes": true,
           "showland": true,
           "subunitcolor": "#C8D4E3"
          },
          "hoverlabel": {
           "align": "left"
          },
          "hovermode": "closest",
          "mapbox": {
           "style": "light"
          },
          "paper_bgcolor": "white",
          "plot_bgcolor": "white",
          "polar": {
           "angularaxis": {
            "gridcolor": "#EBF0F8",
            "linecolor": "#EBF0F8",
            "ticks": ""
           },
           "bgcolor": "white",
           "radialaxis": {
            "gridcolor": "#EBF0F8",
            "linecolor": "#EBF0F8",
            "ticks": ""
           }
          },
          "scene": {
           "xaxis": {
            "backgroundcolor": "white",
            "gridcolor": "#DFE8F3",
            "gridwidth": 2,
            "linecolor": "#EBF0F8",
            "showbackground": true,
            "ticks": "",
            "zerolinecolor": "#EBF0F8"
           },
           "yaxis": {
            "backgroundcolor": "white",
            "gridcolor": "#DFE8F3",
            "gridwidth": 2,
            "linecolor": "#EBF0F8",
            "showbackground": true,
            "ticks": "",
            "zerolinecolor": "#EBF0F8"
           },
           "zaxis": {
            "backgroundcolor": "white",
            "gridcolor": "#DFE8F3",
            "gridwidth": 2,
            "linecolor": "#EBF0F8",
            "showbackground": true,
            "ticks": "",
            "zerolinecolor": "#EBF0F8"
           }
          },
          "shapedefaults": {
           "line": {
            "color": "#2a3f5f"
           }
          },
          "ternary": {
           "aaxis": {
            "gridcolor": "#DFE8F3",
            "linecolor": "#A2B1C6",
            "ticks": ""
           },
           "baxis": {
            "gridcolor": "#DFE8F3",
            "linecolor": "#A2B1C6",
            "ticks": ""
           },
           "bgcolor": "white",
           "caxis": {
            "gridcolor": "#DFE8F3",
            "linecolor": "#A2B1C6",
            "ticks": ""
           }
          },
          "title": {
           "x": 0.05
          },
          "xaxis": {
           "automargin": true,
           "gridcolor": "#EBF0F8",
           "linecolor": "#EBF0F8",
           "ticks": "",
           "title": {
            "standoff": 15
           },
           "zerolinecolor": "#EBF0F8",
           "zerolinewidth": 2
          },
          "yaxis": {
           "automargin": true,
           "gridcolor": "#EBF0F8",
           "linecolor": "#EBF0F8",
           "ticks": "",
           "title": {
            "standoff": 15
           },
           "zerolinecolor": "#EBF0F8",
           "zerolinewidth": 2
          }
         }
        },
        "title": {
         "text": "Churn Distribution by PaperlessBilling (%)"
        },
        "xaxis": {
         "anchor": "y",
         "domain": [
          0,
          1
         ],
         "showgrid": false,
         "title": {
          "text": ""
         }
        },
        "yaxis": {
         "anchor": "x",
         "domain": [
          0,
          1
         ],
         "showgrid": false,
         "title": {
          "text": "Percentage (%)"
         }
        }
       }
      }
     },
     "metadata": {},
     "output_type": "display_data"
    },
    {
     "data": {
      "application/vnd.plotly.v1+json": {
       "config": {
        "plotlyServerURL": "https://plot.ly"
       },
       "data": [
        {
         "hovertemplate": "Churn=No<br>PaymentMethod=%{x}<br>percentage=%{y}<br>label=%{text}<extra></extra>",
         "legendgroup": "No",
         "marker": {
          "color": "#636efa",
          "opacity": 0.8,
          "pattern": {
           "shape": ""
          }
         },
         "name": "No",
         "orientation": "v",
         "showlegend": true,
         "text": [
          "1043 (83.8%)",
          "1032 (85.1%)",
          "1026 (54.3%)",
          "1038 (80.7%)"
         ],
         "textangle": 0,
         "textposition": "inside",
         "type": "bar",
         "x": [
          "Bank transfer (automatic)",
          "Credit card (automatic)",
          "Electronic check",
          "Mailed check"
         ],
         "xaxis": "x",
         "y": {
          "bdata": "MzMzMzPzVEBmZmZmZkZVQGZmZmZmJktAzczMzMwsVEA=",
          "dtype": "f8"
         },
         "yaxis": "y"
        },
        {
         "hovertemplate": "Churn=Yes<br>PaymentMethod=%{x}<br>percentage=%{y}<br>label=%{text}<extra></extra>",
         "legendgroup": "Yes",
         "marker": {
          "color": "#EF553B",
          "opacity": 0.8,
          "pattern": {
           "shape": ""
          }
         },
         "name": "Yes",
         "orientation": "v",
         "showlegend": true,
         "text": [
          "201 (16.2%)",
          "181 (14.9%)",
          "865 (45.7%)",
          "248 (19.3%)"
         ],
         "textangle": 0,
         "textposition": "inside",
         "type": "bar",
         "x": [
          "Bank transfer (automatic)",
          "Credit card (automatic)",
          "Electronic check",
          "Mailed check"
         ],
         "xaxis": "x",
         "y": {
          "bdata": "MzMzMzMzMEDNzMzMzMwtQJqZmZmZ2UZAzczMzMxMM0A=",
          "dtype": "f8"
         },
         "yaxis": "y"
        }
       ],
       "layout": {
        "bargap": 0.1,
        "barmode": "relative",
        "legend": {
         "title": {
          "text": "Churn"
         },
         "tracegroupgap": 0
        },
        "margin": {
         "t": 60
        },
        "template": {
         "data": {
          "bar": [
           {
            "error_x": {
             "color": "#2a3f5f"
            },
            "error_y": {
             "color": "#2a3f5f"
            },
            "marker": {
             "line": {
              "color": "white",
              "width": 0.5
             },
             "pattern": {
              "fillmode": "overlay",
              "size": 10,
              "solidity": 0.2
             }
            },
            "type": "bar"
           }
          ],
          "barpolar": [
           {
            "marker": {
             "line": {
              "color": "white",
              "width": 0.5
             },
             "pattern": {
              "fillmode": "overlay",
              "size": 10,
              "solidity": 0.2
             }
            },
            "type": "barpolar"
           }
          ],
          "carpet": [
           {
            "aaxis": {
             "endlinecolor": "#2a3f5f",
             "gridcolor": "#C8D4E3",
             "linecolor": "#C8D4E3",
             "minorgridcolor": "#C8D4E3",
             "startlinecolor": "#2a3f5f"
            },
            "baxis": {
             "endlinecolor": "#2a3f5f",
             "gridcolor": "#C8D4E3",
             "linecolor": "#C8D4E3",
             "minorgridcolor": "#C8D4E3",
             "startlinecolor": "#2a3f5f"
            },
            "type": "carpet"
           }
          ],
          "choropleth": [
           {
            "colorbar": {
             "outlinewidth": 0,
             "ticks": ""
            },
            "type": "choropleth"
           }
          ],
          "contour": [
           {
            "colorbar": {
             "outlinewidth": 0,
             "ticks": ""
            },
            "colorscale": [
             [
              0,
              "#0d0887"
             ],
             [
              0.1111111111111111,
              "#46039f"
             ],
             [
              0.2222222222222222,
              "#7201a8"
             ],
             [
              0.3333333333333333,
              "#9c179e"
             ],
             [
              0.4444444444444444,
              "#bd3786"
             ],
             [
              0.5555555555555556,
              "#d8576b"
             ],
             [
              0.6666666666666666,
              "#ed7953"
             ],
             [
              0.7777777777777778,
              "#fb9f3a"
             ],
             [
              0.8888888888888888,
              "#fdca26"
             ],
             [
              1,
              "#f0f921"
             ]
            ],
            "type": "contour"
           }
          ],
          "contourcarpet": [
           {
            "colorbar": {
             "outlinewidth": 0,
             "ticks": ""
            },
            "type": "contourcarpet"
           }
          ],
          "heatmap": [
           {
            "colorbar": {
             "outlinewidth": 0,
             "ticks": ""
            },
            "colorscale": [
             [
              0,
              "#0d0887"
             ],
             [
              0.1111111111111111,
              "#46039f"
             ],
             [
              0.2222222222222222,
              "#7201a8"
             ],
             [
              0.3333333333333333,
              "#9c179e"
             ],
             [
              0.4444444444444444,
              "#bd3786"
             ],
             [
              0.5555555555555556,
              "#d8576b"
             ],
             [
              0.6666666666666666,
              "#ed7953"
             ],
             [
              0.7777777777777778,
              "#fb9f3a"
             ],
             [
              0.8888888888888888,
              "#fdca26"
             ],
             [
              1,
              "#f0f921"
             ]
            ],
            "type": "heatmap"
           }
          ],
          "histogram": [
           {
            "marker": {
             "pattern": {
              "fillmode": "overlay",
              "size": 10,
              "solidity": 0.2
             }
            },
            "type": "histogram"
           }
          ],
          "histogram2d": [
           {
            "colorbar": {
             "outlinewidth": 0,
             "ticks": ""
            },
            "colorscale": [
             [
              0,
              "#0d0887"
             ],
             [
              0.1111111111111111,
              "#46039f"
             ],
             [
              0.2222222222222222,
              "#7201a8"
             ],
             [
              0.3333333333333333,
              "#9c179e"
             ],
             [
              0.4444444444444444,
              "#bd3786"
             ],
             [
              0.5555555555555556,
              "#d8576b"
             ],
             [
              0.6666666666666666,
              "#ed7953"
             ],
             [
              0.7777777777777778,
              "#fb9f3a"
             ],
             [
              0.8888888888888888,
              "#fdca26"
             ],
             [
              1,
              "#f0f921"
             ]
            ],
            "type": "histogram2d"
           }
          ],
          "histogram2dcontour": [
           {
            "colorbar": {
             "outlinewidth": 0,
             "ticks": ""
            },
            "colorscale": [
             [
              0,
              "#0d0887"
             ],
             [
              0.1111111111111111,
              "#46039f"
             ],
             [
              0.2222222222222222,
              "#7201a8"
             ],
             [
              0.3333333333333333,
              "#9c179e"
             ],
             [
              0.4444444444444444,
              "#bd3786"
             ],
             [
              0.5555555555555556,
              "#d8576b"
             ],
             [
              0.6666666666666666,
              "#ed7953"
             ],
             [
              0.7777777777777778,
              "#fb9f3a"
             ],
             [
              0.8888888888888888,
              "#fdca26"
             ],
             [
              1,
              "#f0f921"
             ]
            ],
            "type": "histogram2dcontour"
           }
          ],
          "mesh3d": [
           {
            "colorbar": {
             "outlinewidth": 0,
             "ticks": ""
            },
            "type": "mesh3d"
           }
          ],
          "parcoords": [
           {
            "line": {
             "colorbar": {
              "outlinewidth": 0,
              "ticks": ""
             }
            },
            "type": "parcoords"
           }
          ],
          "pie": [
           {
            "automargin": true,
            "type": "pie"
           }
          ],
          "scatter": [
           {
            "fillpattern": {
             "fillmode": "overlay",
             "size": 10,
             "solidity": 0.2
            },
            "type": "scatter"
           }
          ],
          "scatter3d": [
           {
            "line": {
             "colorbar": {
              "outlinewidth": 0,
              "ticks": ""
             }
            },
            "marker": {
             "colorbar": {
              "outlinewidth": 0,
              "ticks": ""
             }
            },
            "type": "scatter3d"
           }
          ],
          "scattercarpet": [
           {
            "marker": {
             "colorbar": {
              "outlinewidth": 0,
              "ticks": ""
             }
            },
            "type": "scattercarpet"
           }
          ],
          "scattergeo": [
           {
            "marker": {
             "colorbar": {
              "outlinewidth": 0,
              "ticks": ""
             }
            },
            "type": "scattergeo"
           }
          ],
          "scattergl": [
           {
            "marker": {
             "colorbar": {
              "outlinewidth": 0,
              "ticks": ""
             }
            },
            "type": "scattergl"
           }
          ],
          "scattermap": [
           {
            "marker": {
             "colorbar": {
              "outlinewidth": 0,
              "ticks": ""
             }
            },
            "type": "scattermap"
           }
          ],
          "scattermapbox": [
           {
            "marker": {
             "colorbar": {
              "outlinewidth": 0,
              "ticks": ""
             }
            },
            "type": "scattermapbox"
           }
          ],
          "scatterpolar": [
           {
            "marker": {
             "colorbar": {
              "outlinewidth": 0,
              "ticks": ""
             }
            },
            "type": "scatterpolar"
           }
          ],
          "scatterpolargl": [
           {
            "marker": {
             "colorbar": {
              "outlinewidth": 0,
              "ticks": ""
             }
            },
            "type": "scatterpolargl"
           }
          ],
          "scatterternary": [
           {
            "marker": {
             "colorbar": {
              "outlinewidth": 0,
              "ticks": ""
             }
            },
            "type": "scatterternary"
           }
          ],
          "surface": [
           {
            "colorbar": {
             "outlinewidth": 0,
             "ticks": ""
            },
            "colorscale": [
             [
              0,
              "#0d0887"
             ],
             [
              0.1111111111111111,
              "#46039f"
             ],
             [
              0.2222222222222222,
              "#7201a8"
             ],
             [
              0.3333333333333333,
              "#9c179e"
             ],
             [
              0.4444444444444444,
              "#bd3786"
             ],
             [
              0.5555555555555556,
              "#d8576b"
             ],
             [
              0.6666666666666666,
              "#ed7953"
             ],
             [
              0.7777777777777778,
              "#fb9f3a"
             ],
             [
              0.8888888888888888,
              "#fdca26"
             ],
             [
              1,
              "#f0f921"
             ]
            ],
            "type": "surface"
           }
          ],
          "table": [
           {
            "cells": {
             "fill": {
              "color": "#EBF0F8"
             },
             "line": {
              "color": "white"
             }
            },
            "header": {
             "fill": {
              "color": "#C8D4E3"
             },
             "line": {
              "color": "white"
             }
            },
            "type": "table"
           }
          ]
         },
         "layout": {
          "annotationdefaults": {
           "arrowcolor": "#2a3f5f",
           "arrowhead": 0,
           "arrowwidth": 1
          },
          "autotypenumbers": "strict",
          "coloraxis": {
           "colorbar": {
            "outlinewidth": 0,
            "ticks": ""
           }
          },
          "colorscale": {
           "diverging": [
            [
             0,
             "#8e0152"
            ],
            [
             0.1,
             "#c51b7d"
            ],
            [
             0.2,
             "#de77ae"
            ],
            [
             0.3,
             "#f1b6da"
            ],
            [
             0.4,
             "#fde0ef"
            ],
            [
             0.5,
             "#f7f7f7"
            ],
            [
             0.6,
             "#e6f5d0"
            ],
            [
             0.7,
             "#b8e186"
            ],
            [
             0.8,
             "#7fbc41"
            ],
            [
             0.9,
             "#4d9221"
            ],
            [
             1,
             "#276419"
            ]
           ],
           "sequential": [
            [
             0,
             "#0d0887"
            ],
            [
             0.1111111111111111,
             "#46039f"
            ],
            [
             0.2222222222222222,
             "#7201a8"
            ],
            [
             0.3333333333333333,
             "#9c179e"
            ],
            [
             0.4444444444444444,
             "#bd3786"
            ],
            [
             0.5555555555555556,
             "#d8576b"
            ],
            [
             0.6666666666666666,
             "#ed7953"
            ],
            [
             0.7777777777777778,
             "#fb9f3a"
            ],
            [
             0.8888888888888888,
             "#fdca26"
            ],
            [
             1,
             "#f0f921"
            ]
           ],
           "sequentialminus": [
            [
             0,
             "#0d0887"
            ],
            [
             0.1111111111111111,
             "#46039f"
            ],
            [
             0.2222222222222222,
             "#7201a8"
            ],
            [
             0.3333333333333333,
             "#9c179e"
            ],
            [
             0.4444444444444444,
             "#bd3786"
            ],
            [
             0.5555555555555556,
             "#d8576b"
            ],
            [
             0.6666666666666666,
             "#ed7953"
            ],
            [
             0.7777777777777778,
             "#fb9f3a"
            ],
            [
             0.8888888888888888,
             "#fdca26"
            ],
            [
             1,
             "#f0f921"
            ]
           ]
          },
          "colorway": [
           "#636efa",
           "#EF553B",
           "#00cc96",
           "#ab63fa",
           "#FFA15A",
           "#19d3f3",
           "#FF6692",
           "#B6E880",
           "#FF97FF",
           "#FECB52"
          ],
          "font": {
           "color": "#2a3f5f"
          },
          "geo": {
           "bgcolor": "white",
           "lakecolor": "white",
           "landcolor": "white",
           "showlakes": true,
           "showland": true,
           "subunitcolor": "#C8D4E3"
          },
          "hoverlabel": {
           "align": "left"
          },
          "hovermode": "closest",
          "mapbox": {
           "style": "light"
          },
          "paper_bgcolor": "white",
          "plot_bgcolor": "white",
          "polar": {
           "angularaxis": {
            "gridcolor": "#EBF0F8",
            "linecolor": "#EBF0F8",
            "ticks": ""
           },
           "bgcolor": "white",
           "radialaxis": {
            "gridcolor": "#EBF0F8",
            "linecolor": "#EBF0F8",
            "ticks": ""
           }
          },
          "scene": {
           "xaxis": {
            "backgroundcolor": "white",
            "gridcolor": "#DFE8F3",
            "gridwidth": 2,
            "linecolor": "#EBF0F8",
            "showbackground": true,
            "ticks": "",
            "zerolinecolor": "#EBF0F8"
           },
           "yaxis": {
            "backgroundcolor": "white",
            "gridcolor": "#DFE8F3",
            "gridwidth": 2,
            "linecolor": "#EBF0F8",
            "showbackground": true,
            "ticks": "",
            "zerolinecolor": "#EBF0F8"
           },
           "zaxis": {
            "backgroundcolor": "white",
            "gridcolor": "#DFE8F3",
            "gridwidth": 2,
            "linecolor": "#EBF0F8",
            "showbackground": true,
            "ticks": "",
            "zerolinecolor": "#EBF0F8"
           }
          },
          "shapedefaults": {
           "line": {
            "color": "#2a3f5f"
           }
          },
          "ternary": {
           "aaxis": {
            "gridcolor": "#DFE8F3",
            "linecolor": "#A2B1C6",
            "ticks": ""
           },
           "baxis": {
            "gridcolor": "#DFE8F3",
            "linecolor": "#A2B1C6",
            "ticks": ""
           },
           "bgcolor": "white",
           "caxis": {
            "gridcolor": "#DFE8F3",
            "linecolor": "#A2B1C6",
            "ticks": ""
           }
          },
          "title": {
           "x": 0.05
          },
          "xaxis": {
           "automargin": true,
           "gridcolor": "#EBF0F8",
           "linecolor": "#EBF0F8",
           "ticks": "",
           "title": {
            "standoff": 15
           },
           "zerolinecolor": "#EBF0F8",
           "zerolinewidth": 2
          },
          "yaxis": {
           "automargin": true,
           "gridcolor": "#EBF0F8",
           "linecolor": "#EBF0F8",
           "ticks": "",
           "title": {
            "standoff": 15
           },
           "zerolinecolor": "#EBF0F8",
           "zerolinewidth": 2
          }
         }
        },
        "title": {
         "text": "Churn Distribution by PaymentMethod (%)"
        },
        "xaxis": {
         "anchor": "y",
         "domain": [
          0,
          1
         ],
         "showgrid": false,
         "title": {
          "text": ""
         }
        },
        "yaxis": {
         "anchor": "x",
         "domain": [
          0,
          1
         ],
         "showgrid": false,
         "title": {
          "text": "Percentage (%)"
         }
        }
       }
      }
     },
     "metadata": {},
     "output_type": "display_data"
    }
   ],
   "source": [
    "category_cols = train.head(1).select_dtypes(include = 'object').drop(columns = ['customerID', 'Churn', 'TotalCharges']).columns.tolist()\n",
    "\n",
    "for col in category_cols + ['SeniorCitizen']:\n",
    "    \n",
    "    df_counts = train.groupby([col, 'Churn']).size().reset_index(name='count')\n",
    "    \n",
    "    category_totals = df_counts.groupby(col)['count'].sum().reset_index()\n",
    "    category_totals.rename(columns={'count': 'total'}, inplace=True)\n",
    "    \n",
    "    df_normalized = pd.merge(df_counts, category_totals, on=col)\n",
    "    \n",
    "    df_normalized['percentage'] = (df_normalized['count'] / df_normalized['total'] * 100).round(1)\n",
    "    \n",
    "    df_normalized['label'] = df_normalized['count'].astype(str) + ' (' + df_normalized['percentage'].astype(str) + '%)'\n",
    "    \n",
    "    fig = px.bar(\n",
    "        data_frame=df_normalized,\n",
    "        x=col,\n",
    "        y='percentage',  \n",
    "        color='Churn',\n",
    "        template='plotly_white',\n",
    "        opacity=0.8,\n",
    "        text='label'  \n",
    "    )\n",
    "\n",
    "    fig.update_layout(\n",
    "        title=f\"Churn Distribution by {col} (%)\",\n",
    "        xaxis_title=\"\",\n",
    "        yaxis_title=\"Percentage (%)\",\n",
    "        bargap=0.1,\n",
    "        xaxis=dict(showgrid=False),\n",
    "        yaxis=dict(showgrid=False),\n",
    "        legend_title=\"Churn\"\n",
    "    )\n",
    "    \n",
    "    \n",
    "    fig.update_traces(textposition='inside', textangle=0)\n",
    "    \n",
    "    fig.show()"
   ]
  },
  {
   "cell_type": "markdown",
   "metadata": {},
   "source": [
    "### 3.2. Numerical variables"
   ]
  },
  {
   "cell_type": "code",
   "execution_count": 41,
   "metadata": {},
   "outputs": [],
   "source": [
    "train['TotalCharges'] = np.where(train['TotalCharges'] == \" \", 0, train['TotalCharges'])\n",
    "train['TotalCharges'] = train['TotalCharges'].astype(float)"
   ]
  },
  {
   "cell_type": "code",
   "execution_count": 44,
   "metadata": {},
   "outputs": [
    {
     "data": {
      "application/vnd.plotly.v1+json": {
       "config": {
        "plotlyServerURL": "https://plot.ly"
       },
       "data": [
        {
         "bingroup": "x",
         "hovertemplate": "Churn=No<br>tenure=%{x}<br>count=%{y}<extra></extra>",
         "legendgroup": "No",
         "marker": {
          "color": "#636efa",
          "opacity": 0.8,
          "pattern": {
           "shape": ""
          }
         },
         "name": "No",
         "orientation": "v",
         "showlegend": true,
         "type": "histogram",
         "x": {
          "bdata": "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",
          "dtype": "f8"
         },
         "xaxis": "x",
         "yaxis": "y"
        },
        {
         "bingroup": "x",
         "hovertemplate": "Churn=Yes<br>tenure=%{x}<br>count=%{y}<extra></extra>",
         "legendgroup": "Yes",
         "marker": {
          "color": "#EF553B",
          "opacity": 0.8,
          "pattern": {
           "shape": ""
          }
         },
         "name": "Yes",
         "orientation": "v",
         "showlegend": true,
         "type": "histogram",
         "x": {
          "bdata": "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",
          "dtype": "f8"
         },
         "xaxis": "x",
         "yaxis": "y"
        }
       ],
       "layout": {
        "bargap": 0.1,
        "barmode": "relative",
        "legend": {
         "title": {
          "text": "Churn"
         },
         "tracegroupgap": 0
        },
        "margin": {
         "t": 60
        },
        "template": {
         "data": {
          "bar": [
           {
            "error_x": {
             "color": "#2a3f5f"
            },
            "error_y": {
             "color": "#2a3f5f"
            },
            "marker": {
             "line": {
              "color": "white",
              "width": 0.5
             },
             "pattern": {
              "fillmode": "overlay",
              "size": 10,
              "solidity": 0.2
             }
            },
            "type": "bar"
           }
          ],
          "barpolar": [
           {
            "marker": {
             "line": {
              "color": "white",
              "width": 0.5
             },
             "pattern": {
              "fillmode": "overlay",
              "size": 10,
              "solidity": 0.2
             }
            },
            "type": "barpolar"
           }
          ],
          "carpet": [
           {
            "aaxis": {
             "endlinecolor": "#2a3f5f",
             "gridcolor": "#C8D4E3",
             "linecolor": "#C8D4E3",
             "minorgridcolor": "#C8D4E3",
             "startlinecolor": "#2a3f5f"
            },
            "baxis": {
             "endlinecolor": "#2a3f5f",
             "gridcolor": "#C8D4E3",
             "linecolor": "#C8D4E3",
             "minorgridcolor": "#C8D4E3",
             "startlinecolor": "#2a3f5f"
            },
            "type": "carpet"
           }
          ],
          "choropleth": [
           {
            "colorbar": {
             "outlinewidth": 0,
             "ticks": ""
            },
            "type": "choropleth"
           }
          ],
          "contour": [
           {
            "colorbar": {
             "outlinewidth": 0,
             "ticks": ""
            },
            "colorscale": [
             [
              0,
              "#0d0887"
             ],
             [
              0.1111111111111111,
              "#46039f"
             ],
             [
              0.2222222222222222,
              "#7201a8"
             ],
             [
              0.3333333333333333,
              "#9c179e"
             ],
             [
              0.4444444444444444,
              "#bd3786"
             ],
             [
              0.5555555555555556,
              "#d8576b"
             ],
             [
              0.6666666666666666,
              "#ed7953"
             ],
             [
              0.7777777777777778,
              "#fb9f3a"
             ],
             [
              0.8888888888888888,
              "#fdca26"
             ],
             [
              1,
              "#f0f921"
             ]
            ],
            "type": "contour"
           }
          ],
          "contourcarpet": [
           {
            "colorbar": {
             "outlinewidth": 0,
             "ticks": ""
            },
            "type": "contourcarpet"
           }
          ],
          "heatmap": [
           {
            "colorbar": {
             "outlinewidth": 0,
             "ticks": ""
            },
            "colorscale": [
             [
              0,
              "#0d0887"
             ],
             [
              0.1111111111111111,
              "#46039f"
             ],
             [
              0.2222222222222222,
              "#7201a8"
             ],
             [
              0.3333333333333333,
              "#9c179e"
             ],
             [
              0.4444444444444444,
              "#bd3786"
             ],
             [
              0.5555555555555556,
              "#d8576b"
             ],
             [
              0.6666666666666666,
              "#ed7953"
             ],
             [
              0.7777777777777778,
              "#fb9f3a"
             ],
             [
              0.8888888888888888,
              "#fdca26"
             ],
             [
              1,
              "#f0f921"
             ]
            ],
            "type": "heatmap"
           }
          ],
          "histogram": [
           {
            "marker": {
             "pattern": {
              "fillmode": "overlay",
              "size": 10,
              "solidity": 0.2
             }
            },
            "type": "histogram"
           }
          ],
          "histogram2d": [
           {
            "colorbar": {
             "outlinewidth": 0,
             "ticks": ""
            },
            "colorscale": [
             [
              0,
              "#0d0887"
             ],
             [
              0.1111111111111111,
              "#46039f"
             ],
             [
              0.2222222222222222,
              "#7201a8"
             ],
             [
              0.3333333333333333,
              "#9c179e"
             ],
             [
              0.4444444444444444,
              "#bd3786"
             ],
             [
              0.5555555555555556,
              "#d8576b"
             ],
             [
              0.6666666666666666,
              "#ed7953"
             ],
             [
              0.7777777777777778,
              "#fb9f3a"
             ],
             [
              0.8888888888888888,
              "#fdca26"
             ],
             [
              1,
              "#f0f921"
             ]
            ],
            "type": "histogram2d"
           }
          ],
          "histogram2dcontour": [
           {
            "colorbar": {
             "outlinewidth": 0,
             "ticks": ""
            },
            "colorscale": [
             [
              0,
              "#0d0887"
             ],
             [
              0.1111111111111111,
              "#46039f"
             ],
             [
              0.2222222222222222,
              "#7201a8"
             ],
             [
              0.3333333333333333,
              "#9c179e"
             ],
             [
              0.4444444444444444,
              "#bd3786"
             ],
             [
              0.5555555555555556,
              "#d8576b"
             ],
             [
              0.6666666666666666,
              "#ed7953"
             ],
             [
              0.7777777777777778,
              "#fb9f3a"
             ],
             [
              0.8888888888888888,
              "#fdca26"
             ],
             [
              1,
              "#f0f921"
             ]
            ],
            "type": "histogram2dcontour"
           }
          ],
          "mesh3d": [
           {
            "colorbar": {
             "outlinewidth": 0,
             "ticks": ""
            },
            "type": "mesh3d"
           }
          ],
          "parcoords": [
           {
            "line": {
             "colorbar": {
              "outlinewidth": 0,
              "ticks": ""
             }
            },
            "type": "parcoords"
           }
          ],
          "pie": [
           {
            "automargin": true,
            "type": "pie"
           }
          ],
          "scatter": [
           {
            "fillpattern": {
             "fillmode": "overlay",
             "size": 10,
             "solidity": 0.2
            },
            "type": "scatter"
           }
          ],
          "scatter3d": [
           {
            "line": {
             "colorbar": {
              "outlinewidth": 0,
              "ticks": ""
             }
            },
            "marker": {
             "colorbar": {
              "outlinewidth": 0,
              "ticks": ""
             }
            },
            "type": "scatter3d"
           }
          ],
          "scattercarpet": [
           {
            "marker": {
             "colorbar": {
              "outlinewidth": 0,
              "ticks": ""
             }
            },
            "type": "scattercarpet"
           }
          ],
          "scattergeo": [
           {
            "marker": {
             "colorbar": {
              "outlinewidth": 0,
              "ticks": ""
             }
            },
            "type": "scattergeo"
           }
          ],
          "scattergl": [
           {
            "marker": {
             "colorbar": {
              "outlinewidth": 0,
              "ticks": ""
             }
            },
            "type": "scattergl"
           }
          ],
          "scattermap": [
           {
            "marker": {
             "colorbar": {
              "outlinewidth": 0,
              "ticks": ""
             }
            },
            "type": "scattermap"
           }
          ],
          "scattermapbox": [
           {
            "marker": {
             "colorbar": {
              "outlinewidth": 0,
              "ticks": ""
             }
            },
            "type": "scattermapbox"
           }
          ],
          "scatterpolar": [
           {
            "marker": {
             "colorbar": {
              "outlinewidth": 0,
              "ticks": ""
             }
            },
            "type": "scatterpolar"
           }
          ],
          "scatterpolargl": [
           {
            "marker": {
             "colorbar": {
              "outlinewidth": 0,
              "ticks": ""
             }
            },
            "type": "scatterpolargl"
           }
          ],
          "scatterternary": [
           {
            "marker": {
             "colorbar": {
              "outlinewidth": 0,
              "ticks": ""
             }
            },
            "type": "scatterternary"
           }
          ],
          "surface": [
           {
            "colorbar": {
             "outlinewidth": 0,
             "ticks": ""
            },
            "colorscale": [
             [
              0,
              "#0d0887"
             ],
             [
              0.1111111111111111,
              "#46039f"
             ],
             [
              0.2222222222222222,
              "#7201a8"
             ],
             [
              0.3333333333333333,
              "#9c179e"
             ],
             [
              0.4444444444444444,
              "#bd3786"
             ],
             [
              0.5555555555555556,
              "#d8576b"
             ],
             [
              0.6666666666666666,
              "#ed7953"
             ],
             [
              0.7777777777777778,
              "#fb9f3a"
             ],
             [
              0.8888888888888888,
              "#fdca26"
             ],
             [
              1,
              "#f0f921"
             ]
            ],
            "type": "surface"
           }
          ],
          "table": [
           {
            "cells": {
             "fill": {
              "color": "#EBF0F8"
             },
             "line": {
              "color": "white"
             }
            },
            "header": {
             "fill": {
              "color": "#C8D4E3"
             },
             "line": {
              "color": "white"
             }
            },
            "type": "table"
           }
          ]
         },
         "layout": {
          "annotationdefaults": {
           "arrowcolor": "#2a3f5f",
           "arrowhead": 0,
           "arrowwidth": 1
          },
          "autotypenumbers": "strict",
          "coloraxis": {
           "colorbar": {
            "outlinewidth": 0,
            "ticks": ""
           }
          },
          "colorscale": {
           "diverging": [
            [
             0,
             "#8e0152"
            ],
            [
             0.1,
             "#c51b7d"
            ],
            [
             0.2,
             "#de77ae"
            ],
            [
             0.3,
             "#f1b6da"
            ],
            [
             0.4,
             "#fde0ef"
            ],
            [
             0.5,
             "#f7f7f7"
            ],
            [
             0.6,
             "#e6f5d0"
            ],
            [
             0.7,
             "#b8e186"
            ],
            [
             0.8,
             "#7fbc41"
            ],
            [
             0.9,
             "#4d9221"
            ],
            [
             1,
             "#276419"
            ]
           ],
           "sequential": [
            [
             0,
             "#0d0887"
            ],
            [
             0.1111111111111111,
             "#46039f"
            ],
            [
             0.2222222222222222,
             "#7201a8"
            ],
            [
             0.3333333333333333,
             "#9c179e"
            ],
            [
             0.4444444444444444,
             "#bd3786"
            ],
            [
             0.5555555555555556,
             "#d8576b"
            ],
            [
             0.6666666666666666,
             "#ed7953"
            ],
            [
             0.7777777777777778,
             "#fb9f3a"
            ],
            [
             0.8888888888888888,
             "#fdca26"
            ],
            [
             1,
             "#f0f921"
            ]
           ],
           "sequentialminus": [
            [
             0,
             "#0d0887"
            ],
            [
             0.1111111111111111,
             "#46039f"
            ],
            [
             0.2222222222222222,
             "#7201a8"
            ],
            [
             0.3333333333333333,
             "#9c179e"
            ],
            [
             0.4444444444444444,
             "#bd3786"
            ],
            [
             0.5555555555555556,
             "#d8576b"
            ],
            [
             0.6666666666666666,
             "#ed7953"
            ],
            [
             0.7777777777777778,
             "#fb9f3a"
            ],
            [
             0.8888888888888888,
             "#fdca26"
            ],
            [
             1,
             "#f0f921"
            ]
           ]
          },
          "colorway": [
           "#636efa",
           "#EF553B",
           "#00cc96",
           "#ab63fa",
           "#FFA15A",
           "#19d3f3",
           "#FF6692",
           "#B6E880",
           "#FF97FF",
           "#FECB52"
          ],
          "font": {
           "color": "#2a3f5f"
          },
          "geo": {
           "bgcolor": "white",
           "lakecolor": "white",
           "landcolor": "white",
           "showlakes": true,
           "showland": true,
           "subunitcolor": "#C8D4E3"
          },
          "hoverlabel": {
           "align": "left"
          },
          "hovermode": "closest",
          "mapbox": {
           "style": "light"
          },
          "paper_bgcolor": "white",
          "plot_bgcolor": "white",
          "polar": {
           "angularaxis": {
            "gridcolor": "#EBF0F8",
            "linecolor": "#EBF0F8",
            "ticks": ""
           },
           "bgcolor": "white",
           "radialaxis": {
            "gridcolor": "#EBF0F8",
            "linecolor": "#EBF0F8",
            "ticks": ""
           }
          },
          "scene": {
           "xaxis": {
            "backgroundcolor": "white",
            "gridcolor": "#DFE8F3",
            "gridwidth": 2,
            "linecolor": "#EBF0F8",
            "showbackground": true,
            "ticks": "",
            "zerolinecolor": "#EBF0F8"
           },
           "yaxis": {
            "backgroundcolor": "white",
            "gridcolor": "#DFE8F3",
            "gridwidth": 2,
            "linecolor": "#EBF0F8",
            "showbackground": true,
            "ticks": "",
            "zerolinecolor": "#EBF0F8"
           },
           "zaxis": {
            "backgroundcolor": "white",
            "gridcolor": "#DFE8F3",
            "gridwidth": 2,
            "linecolor": "#EBF0F8",
            "showbackground": true,
            "ticks": "",
            "zerolinecolor": "#EBF0F8"
           }
          },
          "shapedefaults": {
           "line": {
            "color": "#2a3f5f"
           }
          },
          "ternary": {
           "aaxis": {
            "gridcolor": "#DFE8F3",
            "linecolor": "#A2B1C6",
            "ticks": ""
           },
           "baxis": {
            "gridcolor": "#DFE8F3",
            "linecolor": "#A2B1C6",
            "ticks": ""
           },
           "bgcolor": "white",
           "caxis": {
            "gridcolor": "#DFE8F3",
            "linecolor": "#A2B1C6",
            "ticks": ""
           }
          },
          "title": {
           "x": 0.05
          },
          "xaxis": {
           "automargin": true,
           "gridcolor": "#EBF0F8",
           "linecolor": "#EBF0F8",
           "ticks": "",
           "title": {
            "standoff": 15
           },
           "zerolinecolor": "#EBF0F8",
           "zerolinewidth": 2
          },
          "yaxis": {
           "automargin": true,
           "gridcolor": "#EBF0F8",
           "linecolor": "#EBF0F8",
           "ticks": "",
           "title": {
            "standoff": 15
           },
           "zerolinecolor": "#EBF0F8",
           "zerolinewidth": 2
          }
         }
        },
        "title": {
         "text": "Churn Distribution by tenure"
        },
        "xaxis": {
         "anchor": "y",
         "domain": [
          0,
          1
         ],
         "showgrid": false,
         "title": {
          "text": ""
         }
        },
        "yaxis": {
         "anchor": "x",
         "domain": [
          0,
          1
         ],
         "showgrid": false,
         "title": {
          "text": "Count"
         }
        }
       }
      }
     },
     "metadata": {},
     "output_type": "display_data"
    },
    {
     "data": {
      "application/vnd.plotly.v1+json": {
       "config": {
        "plotlyServerURL": "https://plot.ly"
       },
       "data": [
        {
         "bingroup": "x",
         "hovertemplate": "Churn=No<br>MonthlyCharges=%{x}<br>count=%{y}<extra></extra>",
         "legendgroup": "No",
         "marker": {
          "color": "#636efa",
          "opacity": 0.8,
          "pattern": {
           "shape": ""
          }
         },
         "name": "No",
         "orientation": "v",
         "showlegend": true,
         "type": "histogram",
         "x": {
          "bdata": "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",
          "dtype": "f8"
         },
         "xaxis": "x",
         "yaxis": "y"
        },
        {
         "bingroup": "x",
         "hovertemplate": "Churn=Yes<br>MonthlyCharges=%{x}<br>count=%{y}<extra></extra>",
         "legendgroup": "Yes",
         "marker": {
          "color": "#EF553B",
          "opacity": 0.8,
          "pattern": {
           "shape": ""
          }
         },
         "name": "Yes",
         "orientation": "v",
         "showlegend": true,
         "type": "histogram",
         "x": {
          "bdata": "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",
          "dtype": "f8"
         },
         "xaxis": "x",
         "yaxis": "y"
        }
       ],
       "layout": {
        "bargap": 0.1,
        "barmode": "relative",
        "legend": {
         "title": {
          "text": "Churn"
         },
         "tracegroupgap": 0
        },
        "margin": {
         "t": 60
        },
        "template": {
         "data": {
          "bar": [
           {
            "error_x": {
             "color": "#2a3f5f"
            },
            "error_y": {
             "color": "#2a3f5f"
            },
            "marker": {
             "line": {
              "color": "white",
              "width": 0.5
             },
             "pattern": {
              "fillmode": "overlay",
              "size": 10,
              "solidity": 0.2
             }
            },
            "type": "bar"
           }
          ],
          "barpolar": [
           {
            "marker": {
             "line": {
              "color": "white",
              "width": 0.5
             },
             "pattern": {
              "fillmode": "overlay",
              "size": 10,
              "solidity": 0.2
             }
            },
            "type": "barpolar"
           }
          ],
          "carpet": [
           {
            "aaxis": {
             "endlinecolor": "#2a3f5f",
             "gridcolor": "#C8D4E3",
             "linecolor": "#C8D4E3",
             "minorgridcolor": "#C8D4E3",
             "startlinecolor": "#2a3f5f"
            },
            "baxis": {
             "endlinecolor": "#2a3f5f",
             "gridcolor": "#C8D4E3",
             "linecolor": "#C8D4E3",
             "minorgridcolor": "#C8D4E3",
             "startlinecolor": "#2a3f5f"
            },
            "type": "carpet"
           }
          ],
          "choropleth": [
           {
            "colorbar": {
             "outlinewidth": 0,
             "ticks": ""
            },
            "type": "choropleth"
           }
          ],
          "contour": [
           {
            "colorbar": {
             "outlinewidth": 0,
             "ticks": ""
            },
            "colorscale": [
             [
              0,
              "#0d0887"
             ],
             [
              0.1111111111111111,
              "#46039f"
             ],
             [
              0.2222222222222222,
              "#7201a8"
             ],
             [
              0.3333333333333333,
              "#9c179e"
             ],
             [
              0.4444444444444444,
              "#bd3786"
             ],
             [
              0.5555555555555556,
              "#d8576b"
             ],
             [
              0.6666666666666666,
              "#ed7953"
             ],
             [
              0.7777777777777778,
              "#fb9f3a"
             ],
             [
              0.8888888888888888,
              "#fdca26"
             ],
             [
              1,
              "#f0f921"
             ]
            ],
            "type": "contour"
           }
          ],
          "contourcarpet": [
           {
            "colorbar": {
             "outlinewidth": 0,
             "ticks": ""
            },
            "type": "contourcarpet"
           }
          ],
          "heatmap": [
           {
            "colorbar": {
             "outlinewidth": 0,
             "ticks": ""
            },
            "colorscale": [
             [
              0,
              "#0d0887"
             ],
             [
              0.1111111111111111,
              "#46039f"
             ],
             [
              0.2222222222222222,
              "#7201a8"
             ],
             [
              0.3333333333333333,
              "#9c179e"
             ],
             [
              0.4444444444444444,
              "#bd3786"
             ],
             [
              0.5555555555555556,
              "#d8576b"
             ],
             [
              0.6666666666666666,
              "#ed7953"
             ],
             [
              0.7777777777777778,
              "#fb9f3a"
             ],
             [
              0.8888888888888888,
              "#fdca26"
             ],
             [
              1,
              "#f0f921"
             ]
            ],
            "type": "heatmap"
           }
          ],
          "histogram": [
           {
            "marker": {
             "pattern": {
              "fillmode": "overlay",
              "size": 10,
              "solidity": 0.2
             }
            },
            "type": "histogram"
           }
          ],
          "histogram2d": [
           {
            "colorbar": {
             "outlinewidth": 0,
             "ticks": ""
            },
            "colorscale": [
             [
              0,
              "#0d0887"
             ],
             [
              0.1111111111111111,
              "#46039f"
             ],
             [
              0.2222222222222222,
              "#7201a8"
             ],
             [
              0.3333333333333333,
              "#9c179e"
             ],
             [
              0.4444444444444444,
              "#bd3786"
             ],
             [
              0.5555555555555556,
              "#d8576b"
             ],
             [
              0.6666666666666666,
              "#ed7953"
             ],
             [
              0.7777777777777778,
              "#fb9f3a"
             ],
             [
              0.8888888888888888,
              "#fdca26"
             ],
             [
              1,
              "#f0f921"
             ]
            ],
            "type": "histogram2d"
           }
          ],
          "histogram2dcontour": [
           {
            "colorbar": {
             "outlinewidth": 0,
             "ticks": ""
            },
            "colorscale": [
             [
              0,
              "#0d0887"
             ],
             [
              0.1111111111111111,
              "#46039f"
             ],
             [
              0.2222222222222222,
              "#7201a8"
             ],
             [
              0.3333333333333333,
              "#9c179e"
             ],
             [
              0.4444444444444444,
              "#bd3786"
             ],
             [
              0.5555555555555556,
              "#d8576b"
             ],
             [
              0.6666666666666666,
              "#ed7953"
             ],
             [
              0.7777777777777778,
              "#fb9f3a"
             ],
             [
              0.8888888888888888,
              "#fdca26"
             ],
             [
              1,
              "#f0f921"
             ]
            ],
            "type": "histogram2dcontour"
           }
          ],
          "mesh3d": [
           {
            "colorbar": {
             "outlinewidth": 0,
             "ticks": ""
            },
            "type": "mesh3d"
           }
          ],
          "parcoords": [
           {
            "line": {
             "colorbar": {
              "outlinewidth": 0,
              "ticks": ""
             }
            },
            "type": "parcoords"
           }
          ],
          "pie": [
           {
            "automargin": true,
            "type": "pie"
           }
          ],
          "scatter": [
           {
            "fillpattern": {
             "fillmode": "overlay",
             "size": 10,
             "solidity": 0.2
            },
            "type": "scatter"
           }
          ],
          "scatter3d": [
           {
            "line": {
             "colorbar": {
              "outlinewidth": 0,
              "ticks": ""
             }
            },
            "marker": {
             "colorbar": {
              "outlinewidth": 0,
              "ticks": ""
             }
            },
            "type": "scatter3d"
           }
          ],
          "scattercarpet": [
           {
            "marker": {
             "colorbar": {
              "outlinewidth": 0,
              "ticks": ""
             }
            },
            "type": "scattercarpet"
           }
          ],
          "scattergeo": [
           {
            "marker": {
             "colorbar": {
              "outlinewidth": 0,
              "ticks": ""
             }
            },
            "type": "scattergeo"
           }
          ],
          "scattergl": [
           {
            "marker": {
             "colorbar": {
              "outlinewidth": 0,
              "ticks": ""
             }
            },
            "type": "scattergl"
           }
          ],
          "scattermap": [
           {
            "marker": {
             "colorbar": {
              "outlinewidth": 0,
              "ticks": ""
             }
            },
            "type": "scattermap"
           }
          ],
          "scattermapbox": [
           {
            "marker": {
             "colorbar": {
              "outlinewidth": 0,
              "ticks": ""
             }
            },
            "type": "scattermapbox"
           }
          ],
          "scatterpolar": [
           {
            "marker": {
             "colorbar": {
              "outlinewidth": 0,
              "ticks": ""
             }
            },
            "type": "scatterpolar"
           }
          ],
          "scatterpolargl": [
           {
            "marker": {
             "colorbar": {
              "outlinewidth": 0,
              "ticks": ""
             }
            },
            "type": "scatterpolargl"
           }
          ],
          "scatterternary": [
           {
            "marker": {
             "colorbar": {
              "outlinewidth": 0,
              "ticks": ""
             }
            },
            "type": "scatterternary"
           }
          ],
          "surface": [
           {
            "colorbar": {
             "outlinewidth": 0,
             "ticks": ""
            },
            "colorscale": [
             [
              0,
              "#0d0887"
             ],
             [
              0.1111111111111111,
              "#46039f"
             ],
             [
              0.2222222222222222,
              "#7201a8"
             ],
             [
              0.3333333333333333,
              "#9c179e"
             ],
             [
              0.4444444444444444,
              "#bd3786"
             ],
             [
              0.5555555555555556,
              "#d8576b"
             ],
             [
              0.6666666666666666,
              "#ed7953"
             ],
             [
              0.7777777777777778,
              "#fb9f3a"
             ],
             [
              0.8888888888888888,
              "#fdca26"
             ],
             [
              1,
              "#f0f921"
             ]
            ],
            "type": "surface"
           }
          ],
          "table": [
           {
            "cells": {
             "fill": {
              "color": "#EBF0F8"
             },
             "line": {
              "color": "white"
             }
            },
            "header": {
             "fill": {
              "color": "#C8D4E3"
             },
             "line": {
              "color": "white"
             }
            },
            "type": "table"
           }
          ]
         },
         "layout": {
          "annotationdefaults": {
           "arrowcolor": "#2a3f5f",
           "arrowhead": 0,
           "arrowwidth": 1
          },
          "autotypenumbers": "strict",
          "coloraxis": {
           "colorbar": {
            "outlinewidth": 0,
            "ticks": ""
           }
          },
          "colorscale": {
           "diverging": [
            [
             0,
             "#8e0152"
            ],
            [
             0.1,
             "#c51b7d"
            ],
            [
             0.2,
             "#de77ae"
            ],
            [
             0.3,
             "#f1b6da"
            ],
            [
             0.4,
             "#fde0ef"
            ],
            [
             0.5,
             "#f7f7f7"
            ],
            [
             0.6,
             "#e6f5d0"
            ],
            [
             0.7,
             "#b8e186"
            ],
            [
             0.8,
             "#7fbc41"
            ],
            [
             0.9,
             "#4d9221"
            ],
            [
             1,
             "#276419"
            ]
           ],
           "sequential": [
            [
             0,
             "#0d0887"
            ],
            [
             0.1111111111111111,
             "#46039f"
            ],
            [
             0.2222222222222222,
             "#7201a8"
            ],
            [
             0.3333333333333333,
             "#9c179e"
            ],
            [
             0.4444444444444444,
             "#bd3786"
            ],
            [
             0.5555555555555556,
             "#d8576b"
            ],
            [
             0.6666666666666666,
             "#ed7953"
            ],
            [
             0.7777777777777778,
             "#fb9f3a"
            ],
            [
             0.8888888888888888,
             "#fdca26"
            ],
            [
             1,
             "#f0f921"
            ]
           ],
           "sequentialminus": [
            [
             0,
             "#0d0887"
            ],
            [
             0.1111111111111111,
             "#46039f"
            ],
            [
             0.2222222222222222,
             "#7201a8"
            ],
            [
             0.3333333333333333,
             "#9c179e"
            ],
            [
             0.4444444444444444,
             "#bd3786"
            ],
            [
             0.5555555555555556,
             "#d8576b"
            ],
            [
             0.6666666666666666,
             "#ed7953"
            ],
            [
             0.7777777777777778,
             "#fb9f3a"
            ],
            [
             0.8888888888888888,
             "#fdca26"
            ],
            [
             1,
             "#f0f921"
            ]
           ]
          },
          "colorway": [
           "#636efa",
           "#EF553B",
           "#00cc96",
           "#ab63fa",
           "#FFA15A",
           "#19d3f3",
           "#FF6692",
           "#B6E880",
           "#FF97FF",
           "#FECB52"
          ],
          "font": {
           "color": "#2a3f5f"
          },
          "geo": {
           "bgcolor": "white",
           "lakecolor": "white",
           "landcolor": "white",
           "showlakes": true,
           "showland": true,
           "subunitcolor": "#C8D4E3"
          },
          "hoverlabel": {
           "align": "left"
          },
          "hovermode": "closest",
          "mapbox": {
           "style": "light"
          },
          "paper_bgcolor": "white",
          "plot_bgcolor": "white",
          "polar": {
           "angularaxis": {
            "gridcolor": "#EBF0F8",
            "linecolor": "#EBF0F8",
            "ticks": ""
           },
           "bgcolor": "white",
           "radialaxis": {
            "gridcolor": "#EBF0F8",
            "linecolor": "#EBF0F8",
            "ticks": ""
           }
          },
          "scene": {
           "xaxis": {
            "backgroundcolor": "white",
            "gridcolor": "#DFE8F3",
            "gridwidth": 2,
            "linecolor": "#EBF0F8",
            "showbackground": true,
            "ticks": "",
            "zerolinecolor": "#EBF0F8"
           },
           "yaxis": {
            "backgroundcolor": "white",
            "gridcolor": "#DFE8F3",
            "gridwidth": 2,
            "linecolor": "#EBF0F8",
            "showbackground": true,
            "ticks": "",
            "zerolinecolor": "#EBF0F8"
           },
           "zaxis": {
            "backgroundcolor": "white",
            "gridcolor": "#DFE8F3",
            "gridwidth": 2,
            "linecolor": "#EBF0F8",
            "showbackground": true,
            "ticks": "",
            "zerolinecolor": "#EBF0F8"
           }
          },
          "shapedefaults": {
           "line": {
            "color": "#2a3f5f"
           }
          },
          "ternary": {
           "aaxis": {
            "gridcolor": "#DFE8F3",
            "linecolor": "#A2B1C6",
            "ticks": ""
           },
           "baxis": {
            "gridcolor": "#DFE8F3",
            "linecolor": "#A2B1C6",
            "ticks": ""
           },
           "bgcolor": "white",
           "caxis": {
            "gridcolor": "#DFE8F3",
            "linecolor": "#A2B1C6",
            "ticks": ""
           }
          },
          "title": {
           "x": 0.05
          },
          "xaxis": {
           "automargin": true,
           "gridcolor": "#EBF0F8",
           "linecolor": "#EBF0F8",
           "ticks": "",
           "title": {
            "standoff": 15
           },
           "zerolinecolor": "#EBF0F8",
           "zerolinewidth": 2
          },
          "yaxis": {
           "automargin": true,
           "gridcolor": "#EBF0F8",
           "linecolor": "#EBF0F8",
           "ticks": "",
           "title": {
            "standoff": 15
           },
           "zerolinecolor": "#EBF0F8",
           "zerolinewidth": 2
          }
         }
        },
        "title": {
         "text": "Churn Distribution by MonthlyCharges"
        },
        "xaxis": {
         "anchor": "y",
         "domain": [
          0,
          1
         ],
         "showgrid": false,
         "title": {
          "text": ""
         }
        },
        "yaxis": {
         "anchor": "x",
         "domain": [
          0,
          1
         ],
         "showgrid": false,
         "title": {
          "text": "Count"
         }
        }
       }
      }
     },
     "metadata": {},
     "output_type": "display_data"
    },
    {
     "data": {
      "application/vnd.plotly.v1+json": {
       "config": {
        "plotlyServerURL": "https://plot.ly"
       },
       "data": [
        {
         "bingroup": "x",
         "hovertemplate": "Churn=No<br>TotalCharges=%{x}<br>count=%{y}<extra></extra>",
         "legendgroup": "No",
         "marker": {
          "color": "#636efa",
          "opacity": 0.8,
          "pattern": {
           "shape": ""
          }
         },
         "name": "No",
         "orientation": "v",
         "showlegend": true,
         "type": "histogram",
         "x": {
          "bdata": "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",
          "dtype": "f8"
         },
         "xaxis": "x",
         "yaxis": "y"
        },
        {
         "bingroup": "x",
         "hovertemplate": "Churn=Yes<br>TotalCharges=%{x}<br>count=%{y}<extra></extra>",
         "legendgroup": "Yes",
         "marker": {
          "color": "#EF553B",
          "opacity": 0.8,
          "pattern": {
           "shape": ""
          }
         },
         "name": "Yes",
         "orientation": "v",
         "showlegend": true,
         "type": "histogram",
         "x": {
          "bdata": "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",
          "dtype": "f8"
         },
         "xaxis": "x",
         "yaxis": "y"
        }
       ],
       "layout": {
        "bargap": 0.1,
        "barmode": "relative",
        "legend": {
         "title": {
          "text": "Churn"
         },
         "tracegroupgap": 0
        },
        "margin": {
         "t": 60
        },
        "template": {
         "data": {
          "bar": [
           {
            "error_x": {
             "color": "#2a3f5f"
            },
            "error_y": {
             "color": "#2a3f5f"
            },
            "marker": {
             "line": {
              "color": "white",
              "width": 0.5
             },
             "pattern": {
              "fillmode": "overlay",
              "size": 10,
              "solidity": 0.2
             }
            },
            "type": "bar"
           }
          ],
          "barpolar": [
           {
            "marker": {
             "line": {
              "color": "white",
              "width": 0.5
             },
             "pattern": {
              "fillmode": "overlay",
              "size": 10,
              "solidity": 0.2
             }
            },
            "type": "barpolar"
           }
          ],
          "carpet": [
           {
            "aaxis": {
             "endlinecolor": "#2a3f5f",
             "gridcolor": "#C8D4E3",
             "linecolor": "#C8D4E3",
             "minorgridcolor": "#C8D4E3",
             "startlinecolor": "#2a3f5f"
            },
            "baxis": {
             "endlinecolor": "#2a3f5f",
             "gridcolor": "#C8D4E3",
             "linecolor": "#C8D4E3",
             "minorgridcolor": "#C8D4E3",
             "startlinecolor": "#2a3f5f"
            },
            "type": "carpet"
           }
          ],
          "choropleth": [
           {
            "colorbar": {
             "outlinewidth": 0,
             "ticks": ""
            },
            "type": "choropleth"
           }
          ],
          "contour": [
           {
            "colorbar": {
             "outlinewidth": 0,
             "ticks": ""
            },
            "colorscale": [
             [
              0,
              "#0d0887"
             ],
             [
              0.1111111111111111,
              "#46039f"
             ],
             [
              0.2222222222222222,
              "#7201a8"
             ],
             [
              0.3333333333333333,
              "#9c179e"
             ],
             [
              0.4444444444444444,
              "#bd3786"
             ],
             [
              0.5555555555555556,
              "#d8576b"
             ],
             [
              0.6666666666666666,
              "#ed7953"
             ],
             [
              0.7777777777777778,
              "#fb9f3a"
             ],
             [
              0.8888888888888888,
              "#fdca26"
             ],
             [
              1,
              "#f0f921"
             ]
            ],
            "type": "contour"
           }
          ],
          "contourcarpet": [
           {
            "colorbar": {
             "outlinewidth": 0,
             "ticks": ""
            },
            "type": "contourcarpet"
           }
          ],
          "heatmap": [
           {
            "colorbar": {
             "outlinewidth": 0,
             "ticks": ""
            },
            "colorscale": [
             [
              0,
              "#0d0887"
             ],
             [
              0.1111111111111111,
              "#46039f"
             ],
             [
              0.2222222222222222,
              "#7201a8"
             ],
             [
              0.3333333333333333,
              "#9c179e"
             ],
             [
              0.4444444444444444,
              "#bd3786"
             ],
             [
              0.5555555555555556,
              "#d8576b"
             ],
             [
              0.6666666666666666,
              "#ed7953"
             ],
             [
              0.7777777777777778,
              "#fb9f3a"
             ],
             [
              0.8888888888888888,
              "#fdca26"
             ],
             [
              1,
              "#f0f921"
             ]
            ],
            "type": "heatmap"
           }
          ],
          "histogram": [
           {
            "marker": {
             "pattern": {
              "fillmode": "overlay",
              "size": 10,
              "solidity": 0.2
             }
            },
            "type": "histogram"
           }
          ],
          "histogram2d": [
           {
            "colorbar": {
             "outlinewidth": 0,
             "ticks": ""
            },
            "colorscale": [
             [
              0,
              "#0d0887"
             ],
             [
              0.1111111111111111,
              "#46039f"
             ],
             [
              0.2222222222222222,
              "#7201a8"
             ],
             [
              0.3333333333333333,
              "#9c179e"
             ],
             [
              0.4444444444444444,
              "#bd3786"
             ],
             [
              0.5555555555555556,
              "#d8576b"
             ],
             [
              0.6666666666666666,
              "#ed7953"
             ],
             [
              0.7777777777777778,
              "#fb9f3a"
             ],
             [
              0.8888888888888888,
              "#fdca26"
             ],
             [
              1,
              "#f0f921"
             ]
            ],
            "type": "histogram2d"
           }
          ],
          "histogram2dcontour": [
           {
            "colorbar": {
             "outlinewidth": 0,
             "ticks": ""
            },
            "colorscale": [
             [
              0,
              "#0d0887"
             ],
             [
              0.1111111111111111,
              "#46039f"
             ],
             [
              0.2222222222222222,
              "#7201a8"
             ],
             [
              0.3333333333333333,
              "#9c179e"
             ],
             [
              0.4444444444444444,
              "#bd3786"
             ],
             [
              0.5555555555555556,
              "#d8576b"
             ],
             [
              0.6666666666666666,
              "#ed7953"
             ],
             [
              0.7777777777777778,
              "#fb9f3a"
             ],
             [
              0.8888888888888888,
              "#fdca26"
             ],
             [
              1,
              "#f0f921"
             ]
            ],
            "type": "histogram2dcontour"
           }
          ],
          "mesh3d": [
           {
            "colorbar": {
             "outlinewidth": 0,
             "ticks": ""
            },
            "type": "mesh3d"
           }
          ],
          "parcoords": [
           {
            "line": {
             "colorbar": {
              "outlinewidth": 0,
              "ticks": ""
             }
            },
            "type": "parcoords"
           }
          ],
          "pie": [
           {
            "automargin": true,
            "type": "pie"
           }
          ],
          "scatter": [
           {
            "fillpattern": {
             "fillmode": "overlay",
             "size": 10,
             "solidity": 0.2
            },
            "type": "scatter"
           }
          ],
          "scatter3d": [
           {
            "line": {
             "colorbar": {
              "outlinewidth": 0,
              "ticks": ""
             }
            },
            "marker": {
             "colorbar": {
              "outlinewidth": 0,
              "ticks": ""
             }
            },
            "type": "scatter3d"
           }
          ],
          "scattercarpet": [
           {
            "marker": {
             "colorbar": {
              "outlinewidth": 0,
              "ticks": ""
             }
            },
            "type": "scattercarpet"
           }
          ],
          "scattergeo": [
           {
            "marker": {
             "colorbar": {
              "outlinewidth": 0,
              "ticks": ""
             }
            },
            "type": "scattergeo"
           }
          ],
          "scattergl": [
           {
            "marker": {
             "colorbar": {
              "outlinewidth": 0,
              "ticks": ""
             }
            },
            "type": "scattergl"
           }
          ],
          "scattermap": [
           {
            "marker": {
             "colorbar": {
              "outlinewidth": 0,
              "ticks": ""
             }
            },
            "type": "scattermap"
           }
          ],
          "scattermapbox": [
           {
            "marker": {
             "colorbar": {
              "outlinewidth": 0,
              "ticks": ""
             }
            },
            "type": "scattermapbox"
           }
          ],
          "scatterpolar": [
           {
            "marker": {
             "colorbar": {
              "outlinewidth": 0,
              "ticks": ""
             }
            },
            "type": "scatterpolar"
           }
          ],
          "scatterpolargl": [
           {
            "marker": {
             "colorbar": {
              "outlinewidth": 0,
              "ticks": ""
             }
            },
            "type": "scatterpolargl"
           }
          ],
          "scatterternary": [
           {
            "marker": {
             "colorbar": {
              "outlinewidth": 0,
              "ticks": ""
             }
            },
            "type": "scatterternary"
           }
          ],
          "surface": [
           {
            "colorbar": {
             "outlinewidth": 0,
             "ticks": ""
            },
            "colorscale": [
             [
              0,
              "#0d0887"
             ],
             [
              0.1111111111111111,
              "#46039f"
             ],
             [
              0.2222222222222222,
              "#7201a8"
             ],
             [
              0.3333333333333333,
              "#9c179e"
             ],
             [
              0.4444444444444444,
              "#bd3786"
             ],
             [
              0.5555555555555556,
              "#d8576b"
             ],
             [
              0.6666666666666666,
              "#ed7953"
             ],
             [
              0.7777777777777778,
              "#fb9f3a"
             ],
             [
              0.8888888888888888,
              "#fdca26"
             ],
             [
              1,
              "#f0f921"
             ]
            ],
            "type": "surface"
           }
          ],
          "table": [
           {
            "cells": {
             "fill": {
              "color": "#EBF0F8"
             },
             "line": {
              "color": "white"
             }
            },
            "header": {
             "fill": {
              "color": "#C8D4E3"
             },
             "line": {
              "color": "white"
             }
            },
            "type": "table"
           }
          ]
         },
         "layout": {
          "annotationdefaults": {
           "arrowcolor": "#2a3f5f",
           "arrowhead": 0,
           "arrowwidth": 1
          },
          "autotypenumbers": "strict",
          "coloraxis": {
           "colorbar": {
            "outlinewidth": 0,
            "ticks": ""
           }
          },
          "colorscale": {
           "diverging": [
            [
             0,
             "#8e0152"
            ],
            [
             0.1,
             "#c51b7d"
            ],
            [
             0.2,
             "#de77ae"
            ],
            [
             0.3,
             "#f1b6da"
            ],
            [
             0.4,
             "#fde0ef"
            ],
            [
             0.5,
             "#f7f7f7"
            ],
            [
             0.6,
             "#e6f5d0"
            ],
            [
             0.7,
             "#b8e186"
            ],
            [
             0.8,
             "#7fbc41"
            ],
            [
             0.9,
             "#4d9221"
            ],
            [
             1,
             "#276419"
            ]
           ],
           "sequential": [
            [
             0,
             "#0d0887"
            ],
            [
             0.1111111111111111,
             "#46039f"
            ],
            [
             0.2222222222222222,
             "#7201a8"
            ],
            [
             0.3333333333333333,
             "#9c179e"
            ],
            [
             0.4444444444444444,
             "#bd3786"
            ],
            [
             0.5555555555555556,
             "#d8576b"
            ],
            [
             0.6666666666666666,
             "#ed7953"
            ],
            [
             0.7777777777777778,
             "#fb9f3a"
            ],
            [
             0.8888888888888888,
             "#fdca26"
            ],
            [
             1,
             "#f0f921"
            ]
           ],
           "sequentialminus": [
            [
             0,
             "#0d0887"
            ],
            [
             0.1111111111111111,
             "#46039f"
            ],
            [
             0.2222222222222222,
             "#7201a8"
            ],
            [
             0.3333333333333333,
             "#9c179e"
            ],
            [
             0.4444444444444444,
             "#bd3786"
            ],
            [
             0.5555555555555556,
             "#d8576b"
            ],
            [
             0.6666666666666666,
             "#ed7953"
            ],
            [
             0.7777777777777778,
             "#fb9f3a"
            ],
            [
             0.8888888888888888,
             "#fdca26"
            ],
            [
             1,
             "#f0f921"
            ]
           ]
          },
          "colorway": [
           "#636efa",
           "#EF553B",
           "#00cc96",
           "#ab63fa",
           "#FFA15A",
           "#19d3f3",
           "#FF6692",
           "#B6E880",
           "#FF97FF",
           "#FECB52"
          ],
          "font": {
           "color": "#2a3f5f"
          },
          "geo": {
           "bgcolor": "white",
           "lakecolor": "white",
           "landcolor": "white",
           "showlakes": true,
           "showland": true,
           "subunitcolor": "#C8D4E3"
          },
          "hoverlabel": {
           "align": "left"
          },
          "hovermode": "closest",
          "mapbox": {
           "style": "light"
          },
          "paper_bgcolor": "white",
          "plot_bgcolor": "white",
          "polar": {
           "angularaxis": {
            "gridcolor": "#EBF0F8",
            "linecolor": "#EBF0F8",
            "ticks": ""
           },
           "bgcolor": "white",
           "radialaxis": {
            "gridcolor": "#EBF0F8",
            "linecolor": "#EBF0F8",
            "ticks": ""
           }
          },
          "scene": {
           "xaxis": {
            "backgroundcolor": "white",
            "gridcolor": "#DFE8F3",
            "gridwidth": 2,
            "linecolor": "#EBF0F8",
            "showbackground": true,
            "ticks": "",
            "zerolinecolor": "#EBF0F8"
           },
           "yaxis": {
            "backgroundcolor": "white",
            "gridcolor": "#DFE8F3",
            "gridwidth": 2,
            "linecolor": "#EBF0F8",
            "showbackground": true,
            "ticks": "",
            "zerolinecolor": "#EBF0F8"
           },
           "zaxis": {
            "backgroundcolor": "white",
            "gridcolor": "#DFE8F3",
            "gridwidth": 2,
            "linecolor": "#EBF0F8",
            "showbackground": true,
            "ticks": "",
            "zerolinecolor": "#EBF0F8"
           }
          },
          "shapedefaults": {
           "line": {
            "color": "#2a3f5f"
           }
          },
          "ternary": {
           "aaxis": {
            "gridcolor": "#DFE8F3",
            "linecolor": "#A2B1C6",
            "ticks": ""
           },
           "baxis": {
            "gridcolor": "#DFE8F3",
            "linecolor": "#A2B1C6",
            "ticks": ""
           },
           "bgcolor": "white",
           "caxis": {
            "gridcolor": "#DFE8F3",
            "linecolor": "#A2B1C6",
            "ticks": ""
           }
          },
          "title": {
           "x": 0.05
          },
          "xaxis": {
           "automargin": true,
           "gridcolor": "#EBF0F8",
           "linecolor": "#EBF0F8",
           "ticks": "",
           "title": {
            "standoff": 15
           },
           "zerolinecolor": "#EBF0F8",
           "zerolinewidth": 2
          },
          "yaxis": {
           "automargin": true,
           "gridcolor": "#EBF0F8",
           "linecolor": "#EBF0F8",
           "ticks": "",
           "title": {
            "standoff": 15
           },
           "zerolinecolor": "#EBF0F8",
           "zerolinewidth": 2
          }
         }
        },
        "title": {
         "text": "Churn Distribution by TotalCharges"
        },
        "xaxis": {
         "anchor": "y",
         "domain": [
          0,
          1
         ],
         "showgrid": false,
         "title": {
          "text": ""
         }
        },
        "yaxis": {
         "anchor": "x",
         "domain": [
          0,
          1
         ],
         "showgrid": false,
         "title": {
          "text": "Count"
         }
        }
       }
      }
     },
     "metadata": {},
     "output_type": "display_data"
    }
   ],
   "source": [
    "numeric_cols = ['tenure', 'MonthlyCharges', 'TotalCharges']\n",
    "\n",
    "for col in numeric_cols:\n",
    "    \n",
    "    fig = px.histogram(\n",
    "        data_frame=train,\n",
    "        x=col,\n",
    "        color='Churn',\n",
    "        template='plotly_white',\n",
    "        opacity=0.8\n",
    "    )\n",
    "\n",
    "    fig.update_layout(\n",
    "        title=f\"Churn Distribution by {col}\",\n",
    "        xaxis_title=\"\",\n",
    "        yaxis_title=\"Count\",\n",
    "        bargap=0.1,\n",
    "        xaxis=dict(showgrid=False),\n",
    "        yaxis=dict(showgrid=False),\n",
    "        legend_title=\"Churn\"\n",
    "    )\n",
    "\n",
    "    fig.show()"
   ]
  }
 ],
 "metadata": {
  "kernelspec": {
   "display_name": "venv",
   "language": "python",
   "name": "python3"
  },
  "language_info": {
   "codemirror_mode": {
    "name": "ipython",
    "version": 3
   },
   "file_extension": ".py",
   "mimetype": "text/x-python",
   "name": "python",
   "nbconvert_exporter": "python",
   "pygments_lexer": "ipython3",
   "version": "3.10.12"
  }
 },
 "nbformat": 4,
 "nbformat_minor": 2
}
