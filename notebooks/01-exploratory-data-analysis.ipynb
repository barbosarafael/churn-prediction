{
 "cells": [
  {
   "cell_type": "markdown",
   "metadata": {},
   "source": [
    "# Exploratory Data Analysis\n",
    "\n",
    "This notebook will be used to perform exploratory data analysis on the customer churn dataset. Not will be a deep exploration of the data, but rather a general overview of the dataset and its characteristics."
   ]
  },
  {
   "cell_type": "markdown",
   "metadata": {},
   "source": [
    "## 1. About dataset\n",
    "\n",
    "The data set includes information about:\n",
    "\n",
    "- Customers who left within the last month – the column is called Churn\n",
    "- Services that each customer has signed up for – phone, multiple lines, internet, online security, online backup, device protection, tech support, and streaming TV and movies\n",
    "- Customer account information – how long they’ve been a customer, contract, payment method, paperless billing, monthly charges, and total charges\n",
    "- Demographic info about customers – gender, age range, and if they have partners and dependents\n",
    "\n",
    "Dictionary:\n",
    "\n",
    "- CustomerID: A unique ID that identifies each customer.\n",
    "- Gender: The customer’s gender: Male, Female\n",
    "- Age: The customer’s current age, in years, at the time the fiscal quarter ended.\n",
    "- Senior Citizen: Indicates if the customer is 65 or older: Yes, No\n",
    "- Married (Partner): Indicates if the customer is married: Yes, No\n",
    "- Dependents: Indicates if the customer lives with any dependents: Yes, No. Dependents could be children, parents, grandparents, etc.\n",
    "- Number of Dependents: Indicates the number of dependents that live with the customer.\n",
    "- Phone Service: Indicates if the customer subscribes to home phone service with the company: Yes, No\n",
    "- Multiple Lines: Indicates if the customer subscribes to multiple telephone lines with the company: Yes, No\n",
    "- Internet Service: Indicates if the customer subscribes to Internet service with the company: No, DSL, Fiber Optic, Cable.\n",
    "- Online Security: Indicates if the customer subscribes to an additional online security service provided by the company: Yes, No\n",
    "- Online Backup: Indicates if the customer subscribes to an additional online backup service provided by the company: Yes, No\n",
    "- Device Protection Plan: Indicates if the customer subscribes to an additional device protection plan for their Internet equipment - provided by the company: Yes, No\n",
    "- Premium Tech Support: Indicates if the customer subscribes to an additional technical support plan from the company with reduced wait times: Yes, No\n",
    "- Streaming TV: Indicates if the customer uses their Internet service to stream television programing from a third party provider: - Yes, No. The company does not charge an additional fee for this service.\n",
    "- Streaming Movies: Indicates if the customer uses their Internet service to stream movies from a third party provider: Yes, No The - company does not charge an additional fee for this service.\n",
    "- Contract: Indicates the customer’s current contract type: Month-to-Month, One Year, Two Year.\n",
    "- Paperless Billing: Indicates if the customer has chosen paperless billing: Yes, No\n",
    "- Payment Method: Indicates how the customer pays their bill: Bank Withdrawal, Credit Card, Mailed Check\n",
    "- Monthly Charge: Indicates the customer’s current total monthly charge for all their services from the company.\n",
    "- Total Charges: Indicates the customer’s total charges, calculated to the end of the quarter specified above.\n",
    "- Tenure: Indicates the total amount of months that the customer has been with the company.\n",
    "- Churn: Yes = the customer left the company this quarter. No = the customer remained with the company. Directly related to Churn Value."
   ]
  },
  {
   "cell_type": "markdown",
   "metadata": {},
   "source": [
    "## 2. A first look"
   ]
  },
  {
   "cell_type": "code",
   "execution_count": 1,
   "metadata": {},
   "outputs": [],
   "source": [
    "#---- Libs \n",
    "\n",
    "# Data analysis\n",
    "\n",
    "import pandas as pd \n",
    "import numpy as np\n",
    "\n",
    "# Data visualization\n",
    "\n",
    "import plotly.express as px\n",
    "\n",
    "# Configs\n",
    "\n",
    "pd.set_option('display.max_columns', None)"
   ]
  },
  {
   "cell_type": "code",
   "execution_count": 2,
   "metadata": {},
   "outputs": [
    {
     "data": {
      "text/html": [
       "<div>\n",
       "<style scoped>\n",
       "    .dataframe tbody tr th:only-of-type {\n",
       "        vertical-align: middle;\n",
       "    }\n",
       "\n",
       "    .dataframe tbody tr th {\n",
       "        vertical-align: top;\n",
       "    }\n",
       "\n",
       "    .dataframe thead th {\n",
       "        text-align: right;\n",
       "    }\n",
       "</style>\n",
       "<table border=\"1\" class=\"dataframe\">\n",
       "  <thead>\n",
       "    <tr style=\"text-align: right;\">\n",
       "      <th></th>\n",
       "      <th>customerID</th>\n",
       "      <th>gender</th>\n",
       "      <th>SeniorCitizen</th>\n",
       "      <th>Partner</th>\n",
       "      <th>Dependents</th>\n",
       "      <th>tenure</th>\n",
       "      <th>PhoneService</th>\n",
       "      <th>MultipleLines</th>\n",
       "      <th>InternetService</th>\n",
       "      <th>OnlineSecurity</th>\n",
       "      <th>OnlineBackup</th>\n",
       "      <th>DeviceProtection</th>\n",
       "      <th>TechSupport</th>\n",
       "      <th>StreamingTV</th>\n",
       "      <th>StreamingMovies</th>\n",
       "      <th>Contract</th>\n",
       "      <th>PaperlessBilling</th>\n",
       "      <th>PaymentMethod</th>\n",
       "      <th>MonthlyCharges</th>\n",
       "      <th>TotalCharges</th>\n",
       "      <th>Churn</th>\n",
       "    </tr>\n",
       "  </thead>\n",
       "  <tbody>\n",
       "    <tr>\n",
       "      <th>0</th>\n",
       "      <td>3407-JMJQQ</td>\n",
       "      <td>Female</td>\n",
       "      <td>0</td>\n",
       "      <td>Yes</td>\n",
       "      <td>Yes</td>\n",
       "      <td>71</td>\n",
       "      <td>Yes</td>\n",
       "      <td>Yes</td>\n",
       "      <td>Fiber optic</td>\n",
       "      <td>Yes</td>\n",
       "      <td>Yes</td>\n",
       "      <td>Yes</td>\n",
       "      <td>No</td>\n",
       "      <td>Yes</td>\n",
       "      <td>Yes</td>\n",
       "      <td>Two year</td>\n",
       "      <td>Yes</td>\n",
       "      <td>Bank transfer (automatic)</td>\n",
       "      <td>109.00</td>\n",
       "      <td>7661.8</td>\n",
       "      <td>No</td>\n",
       "    </tr>\n",
       "    <tr>\n",
       "      <th>1</th>\n",
       "      <td>8080-DDEMJ</td>\n",
       "      <td>Male</td>\n",
       "      <td>1</td>\n",
       "      <td>No</td>\n",
       "      <td>No</td>\n",
       "      <td>1</td>\n",
       "      <td>Yes</td>\n",
       "      <td>No</td>\n",
       "      <td>DSL</td>\n",
       "      <td>No</td>\n",
       "      <td>No</td>\n",
       "      <td>No</td>\n",
       "      <td>No</td>\n",
       "      <td>No</td>\n",
       "      <td>No</td>\n",
       "      <td>Month-to-month</td>\n",
       "      <td>No</td>\n",
       "      <td>Electronic check</td>\n",
       "      <td>45.10</td>\n",
       "      <td>45.1</td>\n",
       "      <td>Yes</td>\n",
       "    </tr>\n",
       "    <tr>\n",
       "      <th>2</th>\n",
       "      <td>4893-GYUJU</td>\n",
       "      <td>Female</td>\n",
       "      <td>0</td>\n",
       "      <td>No</td>\n",
       "      <td>No</td>\n",
       "      <td>50</td>\n",
       "      <td>Yes</td>\n",
       "      <td>No</td>\n",
       "      <td>No</td>\n",
       "      <td>No internet service</td>\n",
       "      <td>No internet service</td>\n",
       "      <td>No internet service</td>\n",
       "      <td>No internet service</td>\n",
       "      <td>No internet service</td>\n",
       "      <td>No internet service</td>\n",
       "      <td>One year</td>\n",
       "      <td>Yes</td>\n",
       "      <td>Mailed check</td>\n",
       "      <td>19.35</td>\n",
       "      <td>1033</td>\n",
       "      <td>No</td>\n",
       "    </tr>\n",
       "    <tr>\n",
       "      <th>3</th>\n",
       "      <td>6427-FEFIG</td>\n",
       "      <td>Female</td>\n",
       "      <td>0</td>\n",
       "      <td>Yes</td>\n",
       "      <td>Yes</td>\n",
       "      <td>24</td>\n",
       "      <td>Yes</td>\n",
       "      <td>Yes</td>\n",
       "      <td>DSL</td>\n",
       "      <td>Yes</td>\n",
       "      <td>No</td>\n",
       "      <td>Yes</td>\n",
       "      <td>No</td>\n",
       "      <td>Yes</td>\n",
       "      <td>Yes</td>\n",
       "      <td>Two year</td>\n",
       "      <td>No</td>\n",
       "      <td>Credit card (automatic)</td>\n",
       "      <td>78.60</td>\n",
       "      <td>1846.65</td>\n",
       "      <td>No</td>\n",
       "    </tr>\n",
       "    <tr>\n",
       "      <th>4</th>\n",
       "      <td>8821-KVZKQ</td>\n",
       "      <td>Female</td>\n",
       "      <td>0</td>\n",
       "      <td>Yes</td>\n",
       "      <td>Yes</td>\n",
       "      <td>70</td>\n",
       "      <td>No</td>\n",
       "      <td>No phone service</td>\n",
       "      <td>DSL</td>\n",
       "      <td>No</td>\n",
       "      <td>Yes</td>\n",
       "      <td>Yes</td>\n",
       "      <td>Yes</td>\n",
       "      <td>Yes</td>\n",
       "      <td>Yes</td>\n",
       "      <td>One year</td>\n",
       "      <td>Yes</td>\n",
       "      <td>Bank transfer (automatic)</td>\n",
       "      <td>58.40</td>\n",
       "      <td>4113.15</td>\n",
       "      <td>No</td>\n",
       "    </tr>\n",
       "  </tbody>\n",
       "</table>\n",
       "</div>"
      ],
      "text/plain": [
       "   customerID  gender  SeniorCitizen Partner Dependents  tenure PhoneService  \\\n",
       "0  3407-JMJQQ  Female              0     Yes        Yes      71          Yes   \n",
       "1  8080-DDEMJ    Male              1      No         No       1          Yes   \n",
       "2  4893-GYUJU  Female              0      No         No      50          Yes   \n",
       "3  6427-FEFIG  Female              0     Yes        Yes      24          Yes   \n",
       "4  8821-KVZKQ  Female              0     Yes        Yes      70           No   \n",
       "\n",
       "      MultipleLines InternetService       OnlineSecurity         OnlineBackup  \\\n",
       "0               Yes     Fiber optic                  Yes                  Yes   \n",
       "1                No             DSL                   No                   No   \n",
       "2                No              No  No internet service  No internet service   \n",
       "3               Yes             DSL                  Yes                   No   \n",
       "4  No phone service             DSL                   No                  Yes   \n",
       "\n",
       "      DeviceProtection          TechSupport          StreamingTV  \\\n",
       "0                  Yes                   No                  Yes   \n",
       "1                   No                   No                   No   \n",
       "2  No internet service  No internet service  No internet service   \n",
       "3                  Yes                   No                  Yes   \n",
       "4                  Yes                  Yes                  Yes   \n",
       "\n",
       "       StreamingMovies        Contract PaperlessBilling  \\\n",
       "0                  Yes        Two year              Yes   \n",
       "1                   No  Month-to-month               No   \n",
       "2  No internet service        One year              Yes   \n",
       "3                  Yes        Two year               No   \n",
       "4                  Yes        One year              Yes   \n",
       "\n",
       "               PaymentMethod  MonthlyCharges TotalCharges Churn  \n",
       "0  Bank transfer (automatic)          109.00       7661.8    No  \n",
       "1           Electronic check           45.10         45.1   Yes  \n",
       "2               Mailed check           19.35         1033    No  \n",
       "3    Credit card (automatic)           78.60      1846.65    No  \n",
       "4  Bank transfer (automatic)           58.40      4113.15    No  "
      ]
     },
     "execution_count": 2,
     "metadata": {},
     "output_type": "execute_result"
    }
   ],
   "source": [
    "#--- Load data\n",
    "\n",
    "train = pd.read_csv('../data/processed/train.csv')\n",
    "\n",
    "train.head()"
   ]
  },
  {
   "cell_type": "code",
   "execution_count": 3,
   "metadata": {},
   "outputs": [
    {
     "name": "stdout",
     "output_type": "stream",
     "text": [
      "<class 'pandas.core.frame.DataFrame'>\n",
      "RangeIndex: 6338 entries, 0 to 6337\n",
      "Data columns (total 21 columns):\n",
      " #   Column            Non-Null Count  Dtype  \n",
      "---  ------            --------------  -----  \n",
      " 0   customerID        6338 non-null   object \n",
      " 1   gender            6338 non-null   object \n",
      " 2   SeniorCitizen     6338 non-null   int64  \n",
      " 3   Partner           6338 non-null   object \n",
      " 4   Dependents        6338 non-null   object \n",
      " 5   tenure            6338 non-null   int64  \n",
      " 6   PhoneService      6338 non-null   object \n",
      " 7   MultipleLines     6338 non-null   object \n",
      " 8   InternetService   6338 non-null   object \n",
      " 9   OnlineSecurity    6338 non-null   object \n",
      " 10  OnlineBackup      6338 non-null   object \n",
      " 11  DeviceProtection  6338 non-null   object \n",
      " 12  TechSupport       6338 non-null   object \n",
      " 13  StreamingTV       6338 non-null   object \n",
      " 14  StreamingMovies   6338 non-null   object \n",
      " 15  Contract          6338 non-null   object \n",
      " 16  PaperlessBilling  6338 non-null   object \n",
      " 17  PaymentMethod     6338 non-null   object \n",
      " 18  MonthlyCharges    6338 non-null   float64\n",
      " 19  TotalCharges      6338 non-null   object \n",
      " 20  Churn             6338 non-null   object \n",
      "dtypes: float64(1), int64(2), object(18)\n",
      "memory usage: 1.0+ MB\n"
     ]
    }
   ],
   "source": [
    "#--- Info about data\n",
    "\n",
    "train.info()"
   ]
  },
  {
   "cell_type": "markdown",
   "metadata": {},
   "source": [
    "## 3. Univariable analysis"
   ]
  },
  {
   "cell_type": "markdown",
   "metadata": {},
   "source": [
    "### 3.0. Churn"
   ]
  },
  {
   "cell_type": "code",
   "execution_count": 4,
   "metadata": {},
   "outputs": [
    {
     "data": {
      "application/vnd.plotly.v1+json": {
       "config": {
        "plotlyServerURL": "https://plot.ly"
       },
       "data": [
        {
         "hovertemplate": "Churn=%{x}<br>count=%{y}<br>text=%{text}<extra></extra>",
         "legendgroup": "",
         "marker": {
          "color": "#1f77b4",
          "opacity": 0.8,
          "pattern": {
           "shape": ""
          }
         },
         "name": "",
         "orientation": "v",
         "showlegend": false,
         "text": [
          "4656 (73.5%)",
          "1682 (26.5%)"
         ],
         "textposition": "outside",
         "type": "bar",
         "x": [
          "No",
          "Yes"
         ],
         "xaxis": "x",
         "y": {
          "bdata": "MBKSBg==",
          "dtype": "i2"
         },
         "yaxis": "y"
        }
       ],
       "layout": {
        "bargap": 0.1,
        "barmode": "relative",
        "legend": {
         "tracegroupgap": 0
        },
        "margin": {
         "t": 60
        },
        "template": {
         "data": {
          "bar": [
           {
            "error_x": {
             "color": "#2a3f5f"
            },
            "error_y": {
             "color": "#2a3f5f"
            },
            "marker": {
             "line": {
              "color": "white",
              "width": 0.5
             },
             "pattern": {
              "fillmode": "overlay",
              "size": 10,
              "solidity": 0.2
             }
            },
            "type": "bar"
           }
          ],
          "barpolar": [
           {
            "marker": {
             "line": {
              "color": "white",
              "width": 0.5
             },
             "pattern": {
              "fillmode": "overlay",
              "size": 10,
              "solidity": 0.2
             }
            },
            "type": "barpolar"
           }
          ],
          "carpet": [
           {
            "aaxis": {
             "endlinecolor": "#2a3f5f",
             "gridcolor": "#C8D4E3",
             "linecolor": "#C8D4E3",
             "minorgridcolor": "#C8D4E3",
             "startlinecolor": "#2a3f5f"
            },
            "baxis": {
             "endlinecolor": "#2a3f5f",
             "gridcolor": "#C8D4E3",
             "linecolor": "#C8D4E3",
             "minorgridcolor": "#C8D4E3",
             "startlinecolor": "#2a3f5f"
            },
            "type": "carpet"
           }
          ],
          "choropleth": [
           {
            "colorbar": {
             "outlinewidth": 0,
             "ticks": ""
            },
            "type": "choropleth"
           }
          ],
          "contour": [
           {
            "colorbar": {
             "outlinewidth": 0,
             "ticks": ""
            },
            "colorscale": [
             [
              0,
              "#0d0887"
             ],
             [
              0.1111111111111111,
              "#46039f"
             ],
             [
              0.2222222222222222,
              "#7201a8"
             ],
             [
              0.3333333333333333,
              "#9c179e"
             ],
             [
              0.4444444444444444,
              "#bd3786"
             ],
             [
              0.5555555555555556,
              "#d8576b"
             ],
             [
              0.6666666666666666,
              "#ed7953"
             ],
             [
              0.7777777777777778,
              "#fb9f3a"
             ],
             [
              0.8888888888888888,
              "#fdca26"
             ],
             [
              1,
              "#f0f921"
             ]
            ],
            "type": "contour"
           }
          ],
          "contourcarpet": [
           {
            "colorbar": {
             "outlinewidth": 0,
             "ticks": ""
            },
            "type": "contourcarpet"
           }
          ],
          "heatmap": [
           {
            "colorbar": {
             "outlinewidth": 0,
             "ticks": ""
            },
            "colorscale": [
             [
              0,
              "#0d0887"
             ],
             [
              0.1111111111111111,
              "#46039f"
             ],
             [
              0.2222222222222222,
              "#7201a8"
             ],
             [
              0.3333333333333333,
              "#9c179e"
             ],
             [
              0.4444444444444444,
              "#bd3786"
             ],
             [
              0.5555555555555556,
              "#d8576b"
             ],
             [
              0.6666666666666666,
              "#ed7953"
             ],
             [
              0.7777777777777778,
              "#fb9f3a"
             ],
             [
              0.8888888888888888,
              "#fdca26"
             ],
             [
              1,
              "#f0f921"
             ]
            ],
            "type": "heatmap"
           }
          ],
          "histogram": [
           {
            "marker": {
             "pattern": {
              "fillmode": "overlay",
              "size": 10,
              "solidity": 0.2
             }
            },
            "type": "histogram"
           }
          ],
          "histogram2d": [
           {
            "colorbar": {
             "outlinewidth": 0,
             "ticks": ""
            },
            "colorscale": [
             [
              0,
              "#0d0887"
             ],
             [
              0.1111111111111111,
              "#46039f"
             ],
             [
              0.2222222222222222,
              "#7201a8"
             ],
             [
              0.3333333333333333,
              "#9c179e"
             ],
             [
              0.4444444444444444,
              "#bd3786"
             ],
             [
              0.5555555555555556,
              "#d8576b"
             ],
             [
              0.6666666666666666,
              "#ed7953"
             ],
             [
              0.7777777777777778,
              "#fb9f3a"
             ],
             [
              0.8888888888888888,
              "#fdca26"
             ],
             [
              1,
              "#f0f921"
             ]
            ],
            "type": "histogram2d"
           }
          ],
          "histogram2dcontour": [
           {
            "colorbar": {
             "outlinewidth": 0,
             "ticks": ""
            },
            "colorscale": [
             [
              0,
              "#0d0887"
             ],
             [
              0.1111111111111111,
              "#46039f"
             ],
             [
              0.2222222222222222,
              "#7201a8"
             ],
             [
              0.3333333333333333,
              "#9c179e"
             ],
             [
              0.4444444444444444,
              "#bd3786"
             ],
             [
              0.5555555555555556,
              "#d8576b"
             ],
             [
              0.6666666666666666,
              "#ed7953"
             ],
             [
              0.7777777777777778,
              "#fb9f3a"
             ],
             [
              0.8888888888888888,
              "#fdca26"
             ],
             [
              1,
              "#f0f921"
             ]
            ],
            "type": "histogram2dcontour"
           }
          ],
          "mesh3d": [
           {
            "colorbar": {
             "outlinewidth": 0,
             "ticks": ""
            },
            "type": "mesh3d"
           }
          ],
          "parcoords": [
           {
            "line": {
             "colorbar": {
              "outlinewidth": 0,
              "ticks": ""
             }
            },
            "type": "parcoords"
           }
          ],
          "pie": [
           {
            "automargin": true,
            "type": "pie"
           }
          ],
          "scatter": [
           {
            "fillpattern": {
             "fillmode": "overlay",
             "size": 10,
             "solidity": 0.2
            },
            "type": "scatter"
           }
          ],
          "scatter3d": [
           {
            "line": {
             "colorbar": {
              "outlinewidth": 0,
              "ticks": ""
             }
            },
            "marker": {
             "colorbar": {
              "outlinewidth": 0,
              "ticks": ""
             }
            },
            "type": "scatter3d"
           }
          ],
          "scattercarpet": [
           {
            "marker": {
             "colorbar": {
              "outlinewidth": 0,
              "ticks": ""
             }
            },
            "type": "scattercarpet"
           }
          ],
          "scattergeo": [
           {
            "marker": {
             "colorbar": {
              "outlinewidth": 0,
              "ticks": ""
             }
            },
            "type": "scattergeo"
           }
          ],
          "scattergl": [
           {
            "marker": {
             "colorbar": {
              "outlinewidth": 0,
              "ticks": ""
             }
            },
            "type": "scattergl"
           }
          ],
          "scattermap": [
           {
            "marker": {
             "colorbar": {
              "outlinewidth": 0,
              "ticks": ""
             }
            },
            "type": "scattermap"
           }
          ],
          "scattermapbox": [
           {
            "marker": {
             "colorbar": {
              "outlinewidth": 0,
              "ticks": ""
             }
            },
            "type": "scattermapbox"
           }
          ],
          "scatterpolar": [
           {
            "marker": {
             "colorbar": {
              "outlinewidth": 0,
              "ticks": ""
             }
            },
            "type": "scatterpolar"
           }
          ],
          "scatterpolargl": [
           {
            "marker": {
             "colorbar": {
              "outlinewidth": 0,
              "ticks": ""
             }
            },
            "type": "scatterpolargl"
           }
          ],
          "scatterternary": [
           {
            "marker": {
             "colorbar": {
              "outlinewidth": 0,
              "ticks": ""
             }
            },
            "type": "scatterternary"
           }
          ],
          "surface": [
           {
            "colorbar": {
             "outlinewidth": 0,
             "ticks": ""
            },
            "colorscale": [
             [
              0,
              "#0d0887"
             ],
             [
              0.1111111111111111,
              "#46039f"
             ],
             [
              0.2222222222222222,
              "#7201a8"
             ],
             [
              0.3333333333333333,
              "#9c179e"
             ],
             [
              0.4444444444444444,
              "#bd3786"
             ],
             [
              0.5555555555555556,
              "#d8576b"
             ],
             [
              0.6666666666666666,
              "#ed7953"
             ],
             [
              0.7777777777777778,
              "#fb9f3a"
             ],
             [
              0.8888888888888888,
              "#fdca26"
             ],
             [
              1,
              "#f0f921"
             ]
            ],
            "type": "surface"
           }
          ],
          "table": [
           {
            "cells": {
             "fill": {
              "color": "#EBF0F8"
             },
             "line": {
              "color": "white"
             }
            },
            "header": {
             "fill": {
              "color": "#C8D4E3"
             },
             "line": {
              "color": "white"
             }
            },
            "type": "table"
           }
          ]
         },
         "layout": {
          "annotationdefaults": {
           "arrowcolor": "#2a3f5f",
           "arrowhead": 0,
           "arrowwidth": 1
          },
          "autotypenumbers": "strict",
          "coloraxis": {
           "colorbar": {
            "outlinewidth": 0,
            "ticks": ""
           }
          },
          "colorscale": {
           "diverging": [
            [
             0,
             "#8e0152"
            ],
            [
             0.1,
             "#c51b7d"
            ],
            [
             0.2,
             "#de77ae"
            ],
            [
             0.3,
             "#f1b6da"
            ],
            [
             0.4,
             "#fde0ef"
            ],
            [
             0.5,
             "#f7f7f7"
            ],
            [
             0.6,
             "#e6f5d0"
            ],
            [
             0.7,
             "#b8e186"
            ],
            [
             0.8,
             "#7fbc41"
            ],
            [
             0.9,
             "#4d9221"
            ],
            [
             1,
             "#276419"
            ]
           ],
           "sequential": [
            [
             0,
             "#0d0887"
            ],
            [
             0.1111111111111111,
             "#46039f"
            ],
            [
             0.2222222222222222,
             "#7201a8"
            ],
            [
             0.3333333333333333,
             "#9c179e"
            ],
            [
             0.4444444444444444,
             "#bd3786"
            ],
            [
             0.5555555555555556,
             "#d8576b"
            ],
            [
             0.6666666666666666,
             "#ed7953"
            ],
            [
             0.7777777777777778,
             "#fb9f3a"
            ],
            [
             0.8888888888888888,
             "#fdca26"
            ],
            [
             1,
             "#f0f921"
            ]
           ],
           "sequentialminus": [
            [
             0,
             "#0d0887"
            ],
            [
             0.1111111111111111,
             "#46039f"
            ],
            [
             0.2222222222222222,
             "#7201a8"
            ],
            [
             0.3333333333333333,
             "#9c179e"
            ],
            [
             0.4444444444444444,
             "#bd3786"
            ],
            [
             0.5555555555555556,
             "#d8576b"
            ],
            [
             0.6666666666666666,
             "#ed7953"
            ],
            [
             0.7777777777777778,
             "#fb9f3a"
            ],
            [
             0.8888888888888888,
             "#fdca26"
            ],
            [
             1,
             "#f0f921"
            ]
           ]
          },
          "colorway": [
           "#636efa",
           "#EF553B",
           "#00cc96",
           "#ab63fa",
           "#FFA15A",
           "#19d3f3",
           "#FF6692",
           "#B6E880",
           "#FF97FF",
           "#FECB52"
          ],
          "font": {
           "color": "#2a3f5f"
          },
          "geo": {
           "bgcolor": "white",
           "lakecolor": "white",
           "landcolor": "white",
           "showlakes": true,
           "showland": true,
           "subunitcolor": "#C8D4E3"
          },
          "hoverlabel": {
           "align": "left"
          },
          "hovermode": "closest",
          "mapbox": {
           "style": "light"
          },
          "paper_bgcolor": "white",
          "plot_bgcolor": "white",
          "polar": {
           "angularaxis": {
            "gridcolor": "#EBF0F8",
            "linecolor": "#EBF0F8",
            "ticks": ""
           },
           "bgcolor": "white",
           "radialaxis": {
            "gridcolor": "#EBF0F8",
            "linecolor": "#EBF0F8",
            "ticks": ""
           }
          },
          "scene": {
           "xaxis": {
            "backgroundcolor": "white",
            "gridcolor": "#DFE8F3",
            "gridwidth": 2,
            "linecolor": "#EBF0F8",
            "showbackground": true,
            "ticks": "",
            "zerolinecolor": "#EBF0F8"
           },
           "yaxis": {
            "backgroundcolor": "white",
            "gridcolor": "#DFE8F3",
            "gridwidth": 2,
            "linecolor": "#EBF0F8",
            "showbackground": true,
            "ticks": "",
            "zerolinecolor": "#EBF0F8"
           },
           "zaxis": {
            "backgroundcolor": "white",
            "gridcolor": "#DFE8F3",
            "gridwidth": 2,
            "linecolor": "#EBF0F8",
            "showbackground": true,
            "ticks": "",
            "zerolinecolor": "#EBF0F8"
           }
          },
          "shapedefaults": {
           "line": {
            "color": "#2a3f5f"
           }
          },
          "ternary": {
           "aaxis": {
            "gridcolor": "#DFE8F3",
            "linecolor": "#A2B1C6",
            "ticks": ""
           },
           "baxis": {
            "gridcolor": "#DFE8F3",
            "linecolor": "#A2B1C6",
            "ticks": ""
           },
           "bgcolor": "white",
           "caxis": {
            "gridcolor": "#DFE8F3",
            "linecolor": "#A2B1C6",
            "ticks": ""
           }
          },
          "title": {
           "x": 0.05
          },
          "xaxis": {
           "automargin": true,
           "gridcolor": "#EBF0F8",
           "linecolor": "#EBF0F8",
           "ticks": "",
           "title": {
            "standoff": 15
           },
           "zerolinecolor": "#EBF0F8",
           "zerolinewidth": 2
          },
          "yaxis": {
           "automargin": true,
           "gridcolor": "#EBF0F8",
           "linecolor": "#EBF0F8",
           "ticks": "",
           "title": {
            "standoff": 15
           },
           "zerolinecolor": "#EBF0F8",
           "zerolinewidth": 2
          }
         }
        },
        "title": {
         "text": "Churn Distribution of Customers"
        },
        "xaxis": {
         "anchor": "y",
         "domain": [
          0,
          1
         ],
         "showgrid": false,
         "title": {
          "text": ""
         }
        },
        "yaxis": {
         "anchor": "x",
         "domain": [
          0,
          1
         ],
         "showgrid": false,
         "showticklabels": false,
         "title": {
          "text": "Qtd of users"
         }
        }
       }
      }
     },
     "metadata": {},
     "output_type": "display_data"
    }
   ],
   "source": [
    "#--- Churn distribution\n",
    "\n",
    "df_churn_distribution = train['Churn'].value_counts().reset_index()\n",
    "\n",
    "# Calculate percentages\n",
    "total = df_churn_distribution['count'].sum()\n",
    "df_churn_distribution['percentage'] = df_churn_distribution['count'] / total * 100\n",
    "\n",
    "fig = px.bar(\n",
    "    data_frame = df_churn_distribution,\n",
    "    x = 'Churn',\n",
    "    y = 'count',\n",
    "    template = 'plotly_white',\n",
    "    color_discrete_sequence=[\"#1f77b4\"],  # Soft blue color\n",
    "    opacity=0.8,  # Slight transparency, \n",
    "    text = df_churn_distribution['count'].astype(str) + ' (' + df_churn_distribution['percentage'].round(1).astype(str) + '%)'\n",
    "    )\n",
    "\n",
    "fig.update_layout(\n",
    "    title=\"Churn Distribution of Customers\",\n",
    "    xaxis_title=\"\",\n",
    "    yaxis_title=\"Qtd of users\",\n",
    "    bargap=0.1,  # Reduce space between bars\n",
    "    xaxis=dict(showgrid=False),\n",
    "    yaxis=dict(showgrid=False, showticklabels=False)\n",
    ")\n",
    "\n",
    "# Position the text labels\n",
    "fig.update_traces(textposition='outside')\n",
    "\n",
    "fig"
   ]
  },
  {
   "cell_type": "code",
   "execution_count": 5,
   "metadata": {},
   "outputs": [
    {
     "data": {
      "text/plain": [
       "6338"
      ]
     },
     "execution_count": 5,
     "metadata": {},
     "output_type": "execute_result"
    }
   ],
   "source": [
    "#---- Quantity of unique customers\n",
    "\n",
    "train['customerID'].nunique()"
   ]
  },
  {
   "cell_type": "markdown",
   "metadata": {},
   "source": [
    "### 3.1. Categorical variables"
   ]
  },
  {
   "cell_type": "code",
   "execution_count": 6,
   "metadata": {},
   "outputs": [
    {
     "data": {
      "application/vnd.plotly.v1+json": {
       "config": {
        "plotlyServerURL": "https://plot.ly"
       },
       "data": [
        {
         "hovertemplate": "Churn=No<br>gender=%{x}<br>percentage=%{y}<br>label=%{text}<extra></extra>",
         "legendgroup": "No",
         "marker": {
          "color": "#636efa",
          "opacity": 0.8,
          "pattern": {
           "shape": ""
          }
         },
         "name": "No",
         "orientation": "v",
         "showlegend": true,
         "text": [
          "2288 (73.0%)",
          "2368 (73.9%)"
         ],
         "textangle": 0,
         "textposition": "inside",
         "type": "bar",
         "x": [
          "Female",
          "Male"
         ],
         "xaxis": "x",
         "y": {
          "bdata": "AAAAAABAUkCamZmZmXlSQA==",
          "dtype": "f8"
         },
         "yaxis": "y"
        },
        {
         "hovertemplate": "Churn=Yes<br>gender=%{x}<br>percentage=%{y}<br>label=%{text}<extra></extra>",
         "legendgroup": "Yes",
         "marker": {
          "color": "#EF553B",
          "opacity": 0.8,
          "pattern": {
           "shape": ""
          }
         },
         "name": "Yes",
         "orientation": "v",
         "showlegend": true,
         "text": [
          "847 (27.0%)",
          "835 (26.1%)"
         ],
         "textangle": 0,
         "textposition": "inside",
         "type": "bar",
         "x": [
          "Female",
          "Male"
         ],
         "xaxis": "x",
         "y": {
          "bdata": "AAAAAAAAO0CamZmZmRk6QA==",
          "dtype": "f8"
         },
         "yaxis": "y"
        }
       ],
       "layout": {
        "bargap": 0.1,
        "barmode": "relative",
        "legend": {
         "title": {
          "text": "Churn"
         },
         "tracegroupgap": 0
        },
        "margin": {
         "t": 60
        },
        "template": {
         "data": {
          "bar": [
           {
            "error_x": {
             "color": "#2a3f5f"
            },
            "error_y": {
             "color": "#2a3f5f"
            },
            "marker": {
             "line": {
              "color": "white",
              "width": 0.5
             },
             "pattern": {
              "fillmode": "overlay",
              "size": 10,
              "solidity": 0.2
             }
            },
            "type": "bar"
           }
          ],
          "barpolar": [
           {
            "marker": {
             "line": {
              "color": "white",
              "width": 0.5
             },
             "pattern": {
              "fillmode": "overlay",
              "size": 10,
              "solidity": 0.2
             }
            },
            "type": "barpolar"
           }
          ],
          "carpet": [
           {
            "aaxis": {
             "endlinecolor": "#2a3f5f",
             "gridcolor": "#C8D4E3",
             "linecolor": "#C8D4E3",
             "minorgridcolor": "#C8D4E3",
             "startlinecolor": "#2a3f5f"
            },
            "baxis": {
             "endlinecolor": "#2a3f5f",
             "gridcolor": "#C8D4E3",
             "linecolor": "#C8D4E3",
             "minorgridcolor": "#C8D4E3",
             "startlinecolor": "#2a3f5f"
            },
            "type": "carpet"
           }
          ],
          "choropleth": [
           {
            "colorbar": {
             "outlinewidth": 0,
             "ticks": ""
            },
            "type": "choropleth"
           }
          ],
          "contour": [
           {
            "colorbar": {
             "outlinewidth": 0,
             "ticks": ""
            },
            "colorscale": [
             [
              0,
              "#0d0887"
             ],
             [
              0.1111111111111111,
              "#46039f"
             ],
             [
              0.2222222222222222,
              "#7201a8"
             ],
             [
              0.3333333333333333,
              "#9c179e"
             ],
             [
              0.4444444444444444,
              "#bd3786"
             ],
             [
              0.5555555555555556,
              "#d8576b"
             ],
             [
              0.6666666666666666,
              "#ed7953"
             ],
             [
              0.7777777777777778,
              "#fb9f3a"
             ],
             [
              0.8888888888888888,
              "#fdca26"
             ],
             [
              1,
              "#f0f921"
             ]
            ],
            "type": "contour"
           }
          ],
          "contourcarpet": [
           {
            "colorbar": {
             "outlinewidth": 0,
             "ticks": ""
            },
            "type": "contourcarpet"
           }
          ],
          "heatmap": [
           {
            "colorbar": {
             "outlinewidth": 0,
             "ticks": ""
            },
            "colorscale": [
             [
              0,
              "#0d0887"
             ],
             [
              0.1111111111111111,
              "#46039f"
             ],
             [
              0.2222222222222222,
              "#7201a8"
             ],
             [
              0.3333333333333333,
              "#9c179e"
             ],
             [
              0.4444444444444444,
              "#bd3786"
             ],
             [
              0.5555555555555556,
              "#d8576b"
             ],
             [
              0.6666666666666666,
              "#ed7953"
             ],
             [
              0.7777777777777778,
              "#fb9f3a"
             ],
             [
              0.8888888888888888,
              "#fdca26"
             ],
             [
              1,
              "#f0f921"
             ]
            ],
            "type": "heatmap"
           }
          ],
          "histogram": [
           {
            "marker": {
             "pattern": {
              "fillmode": "overlay",
              "size": 10,
              "solidity": 0.2
             }
            },
            "type": "histogram"
           }
          ],
          "histogram2d": [
           {
            "colorbar": {
             "outlinewidth": 0,
             "ticks": ""
            },
            "colorscale": [
             [
              0,
              "#0d0887"
             ],
             [
              0.1111111111111111,
              "#46039f"
             ],
             [
              0.2222222222222222,
              "#7201a8"
             ],
             [
              0.3333333333333333,
              "#9c179e"
             ],
             [
              0.4444444444444444,
              "#bd3786"
             ],
             [
              0.5555555555555556,
              "#d8576b"
             ],
             [
              0.6666666666666666,
              "#ed7953"
             ],
             [
              0.7777777777777778,
              "#fb9f3a"
             ],
             [
              0.8888888888888888,
              "#fdca26"
             ],
             [
              1,
              "#f0f921"
             ]
            ],
            "type": "histogram2d"
           }
          ],
          "histogram2dcontour": [
           {
            "colorbar": {
             "outlinewidth": 0,
             "ticks": ""
            },
            "colorscale": [
             [
              0,
              "#0d0887"
             ],
             [
              0.1111111111111111,
              "#46039f"
             ],
             [
              0.2222222222222222,
              "#7201a8"
             ],
             [
              0.3333333333333333,
              "#9c179e"
             ],
             [
              0.4444444444444444,
              "#bd3786"
             ],
             [
              0.5555555555555556,
              "#d8576b"
             ],
             [
              0.6666666666666666,
              "#ed7953"
             ],
             [
              0.7777777777777778,
              "#fb9f3a"
             ],
             [
              0.8888888888888888,
              "#fdca26"
             ],
             [
              1,
              "#f0f921"
             ]
            ],
            "type": "histogram2dcontour"
           }
          ],
          "mesh3d": [
           {
            "colorbar": {
             "outlinewidth": 0,
             "ticks": ""
            },
            "type": "mesh3d"
           }
          ],
          "parcoords": [
           {
            "line": {
             "colorbar": {
              "outlinewidth": 0,
              "ticks": ""
             }
            },
            "type": "parcoords"
           }
          ],
          "pie": [
           {
            "automargin": true,
            "type": "pie"
           }
          ],
          "scatter": [
           {
            "fillpattern": {
             "fillmode": "overlay",
             "size": 10,
             "solidity": 0.2
            },
            "type": "scatter"
           }
          ],
          "scatter3d": [
           {
            "line": {
             "colorbar": {
              "outlinewidth": 0,
              "ticks": ""
             }
            },
            "marker": {
             "colorbar": {
              "outlinewidth": 0,
              "ticks": ""
             }
            },
            "type": "scatter3d"
           }
          ],
          "scattercarpet": [
           {
            "marker": {
             "colorbar": {
              "outlinewidth": 0,
              "ticks": ""
             }
            },
            "type": "scattercarpet"
           }
          ],
          "scattergeo": [
           {
            "marker": {
             "colorbar": {
              "outlinewidth": 0,
              "ticks": ""
             }
            },
            "type": "scattergeo"
           }
          ],
          "scattergl": [
           {
            "marker": {
             "colorbar": {
              "outlinewidth": 0,
              "ticks": ""
             }
            },
            "type": "scattergl"
           }
          ],
          "scattermap": [
           {
            "marker": {
             "colorbar": {
              "outlinewidth": 0,
              "ticks": ""
             }
            },
            "type": "scattermap"
           }
          ],
          "scattermapbox": [
           {
            "marker": {
             "colorbar": {
              "outlinewidth": 0,
              "ticks": ""
             }
            },
            "type": "scattermapbox"
           }
          ],
          "scatterpolar": [
           {
            "marker": {
             "colorbar": {
              "outlinewidth": 0,
              "ticks": ""
             }
            },
            "type": "scatterpolar"
           }
          ],
          "scatterpolargl": [
           {
            "marker": {
             "colorbar": {
              "outlinewidth": 0,
              "ticks": ""
             }
            },
            "type": "scatterpolargl"
           }
          ],
          "scatterternary": [
           {
            "marker": {
             "colorbar": {
              "outlinewidth": 0,
              "ticks": ""
             }
            },
            "type": "scatterternary"
           }
          ],
          "surface": [
           {
            "colorbar": {
             "outlinewidth": 0,
             "ticks": ""
            },
            "colorscale": [
             [
              0,
              "#0d0887"
             ],
             [
              0.1111111111111111,
              "#46039f"
             ],
             [
              0.2222222222222222,
              "#7201a8"
             ],
             [
              0.3333333333333333,
              "#9c179e"
             ],
             [
              0.4444444444444444,
              "#bd3786"
             ],
             [
              0.5555555555555556,
              "#d8576b"
             ],
             [
              0.6666666666666666,
              "#ed7953"
             ],
             [
              0.7777777777777778,
              "#fb9f3a"
             ],
             [
              0.8888888888888888,
              "#fdca26"
             ],
             [
              1,
              "#f0f921"
             ]
            ],
            "type": "surface"
           }
          ],
          "table": [
           {
            "cells": {
             "fill": {
              "color": "#EBF0F8"
             },
             "line": {
              "color": "white"
             }
            },
            "header": {
             "fill": {
              "color": "#C8D4E3"
             },
             "line": {
              "color": "white"
             }
            },
            "type": "table"
           }
          ]
         },
         "layout": {
          "annotationdefaults": {
           "arrowcolor": "#2a3f5f",
           "arrowhead": 0,
           "arrowwidth": 1
          },
          "autotypenumbers": "strict",
          "coloraxis": {
           "colorbar": {
            "outlinewidth": 0,
            "ticks": ""
           }
          },
          "colorscale": {
           "diverging": [
            [
             0,
             "#8e0152"
            ],
            [
             0.1,
             "#c51b7d"
            ],
            [
             0.2,
             "#de77ae"
            ],
            [
             0.3,
             "#f1b6da"
            ],
            [
             0.4,
             "#fde0ef"
            ],
            [
             0.5,
             "#f7f7f7"
            ],
            [
             0.6,
             "#e6f5d0"
            ],
            [
             0.7,
             "#b8e186"
            ],
            [
             0.8,
             "#7fbc41"
            ],
            [
             0.9,
             "#4d9221"
            ],
            [
             1,
             "#276419"
            ]
           ],
           "sequential": [
            [
             0,
             "#0d0887"
            ],
            [
             0.1111111111111111,
             "#46039f"
            ],
            [
             0.2222222222222222,
             "#7201a8"
            ],
            [
             0.3333333333333333,
             "#9c179e"
            ],
            [
             0.4444444444444444,
             "#bd3786"
            ],
            [
             0.5555555555555556,
             "#d8576b"
            ],
            [
             0.6666666666666666,
             "#ed7953"
            ],
            [
             0.7777777777777778,
             "#fb9f3a"
            ],
            [
             0.8888888888888888,
             "#fdca26"
            ],
            [
             1,
             "#f0f921"
            ]
           ],
           "sequentialminus": [
            [
             0,
             "#0d0887"
            ],
            [
             0.1111111111111111,
             "#46039f"
            ],
            [
             0.2222222222222222,
             "#7201a8"
            ],
            [
             0.3333333333333333,
             "#9c179e"
            ],
            [
             0.4444444444444444,
             "#bd3786"
            ],
            [
             0.5555555555555556,
             "#d8576b"
            ],
            [
             0.6666666666666666,
             "#ed7953"
            ],
            [
             0.7777777777777778,
             "#fb9f3a"
            ],
            [
             0.8888888888888888,
             "#fdca26"
            ],
            [
             1,
             "#f0f921"
            ]
           ]
          },
          "colorway": [
           "#636efa",
           "#EF553B",
           "#00cc96",
           "#ab63fa",
           "#FFA15A",
           "#19d3f3",
           "#FF6692",
           "#B6E880",
           "#FF97FF",
           "#FECB52"
          ],
          "font": {
           "color": "#2a3f5f"
          },
          "geo": {
           "bgcolor": "white",
           "lakecolor": "white",
           "landcolor": "white",
           "showlakes": true,
           "showland": true,
           "subunitcolor": "#C8D4E3"
          },
          "hoverlabel": {
           "align": "left"
          },
          "hovermode": "closest",
          "mapbox": {
           "style": "light"
          },
          "paper_bgcolor": "white",
          "plot_bgcolor": "white",
          "polar": {
           "angularaxis": {
            "gridcolor": "#EBF0F8",
            "linecolor": "#EBF0F8",
            "ticks": ""
           },
           "bgcolor": "white",
           "radialaxis": {
            "gridcolor": "#EBF0F8",
            "linecolor": "#EBF0F8",
            "ticks": ""
           }
          },
          "scene": {
           "xaxis": {
            "backgroundcolor": "white",
            "gridcolor": "#DFE8F3",
            "gridwidth": 2,
            "linecolor": "#EBF0F8",
            "showbackground": true,
            "ticks": "",
            "zerolinecolor": "#EBF0F8"
           },
           "yaxis": {
            "backgroundcolor": "white",
            "gridcolor": "#DFE8F3",
            "gridwidth": 2,
            "linecolor": "#EBF0F8",
            "showbackground": true,
            "ticks": "",
            "zerolinecolor": "#EBF0F8"
           },
           "zaxis": {
            "backgroundcolor": "white",
            "gridcolor": "#DFE8F3",
            "gridwidth": 2,
            "linecolor": "#EBF0F8",
            "showbackground": true,
            "ticks": "",
            "zerolinecolor": "#EBF0F8"
           }
          },
          "shapedefaults": {
           "line": {
            "color": "#2a3f5f"
           }
          },
          "ternary": {
           "aaxis": {
            "gridcolor": "#DFE8F3",
            "linecolor": "#A2B1C6",
            "ticks": ""
           },
           "baxis": {
            "gridcolor": "#DFE8F3",
            "linecolor": "#A2B1C6",
            "ticks": ""
           },
           "bgcolor": "white",
           "caxis": {
            "gridcolor": "#DFE8F3",
            "linecolor": "#A2B1C6",
            "ticks": ""
           }
          },
          "title": {
           "x": 0.05
          },
          "xaxis": {
           "automargin": true,
           "gridcolor": "#EBF0F8",
           "linecolor": "#EBF0F8",
           "ticks": "",
           "title": {
            "standoff": 15
           },
           "zerolinecolor": "#EBF0F8",
           "zerolinewidth": 2
          },
          "yaxis": {
           "automargin": true,
           "gridcolor": "#EBF0F8",
           "linecolor": "#EBF0F8",
           "ticks": "",
           "title": {
            "standoff": 15
           },
           "zerolinecolor": "#EBF0F8",
           "zerolinewidth": 2
          }
         }
        },
        "title": {
         "text": "Churn Distribution by gender (%)"
        },
        "xaxis": {
         "anchor": "y",
         "domain": [
          0,
          1
         ],
         "showgrid": false,
         "title": {
          "text": ""
         }
        },
        "yaxis": {
         "anchor": "x",
         "domain": [
          0,
          1
         ],
         "showgrid": false,
         "title": {
          "text": "Percentage (%)"
         }
        }
       }
      }
     },
     "metadata": {},
     "output_type": "display_data"
    },
    {
     "data": {
      "application/vnd.plotly.v1+json": {
       "config": {
        "plotlyServerURL": "https://plot.ly"
       },
       "data": [
        {
         "hovertemplate": "Churn=No<br>Partner=%{x}<br>percentage=%{y}<br>label=%{text}<extra></extra>",
         "legendgroup": "No",
         "marker": {
          "color": "#636efa",
          "opacity": 0.8,
          "pattern": {
           "shape": ""
          }
         },
         "name": "No",
         "orientation": "v",
         "showlegend": true,
         "text": [
          "2218 (67.3%)",
          "2438 (80.1%)"
         ],
         "textangle": 0,
         "textposition": "inside",
         "type": "bar",
         "x": [
          "No",
          "Yes"
         ],
         "xaxis": "x",
         "y": {
          "bdata": "MzMzMzPTUEBmZmZmZgZUQA==",
          "dtype": "f8"
         },
         "yaxis": "y"
        },
        {
         "hovertemplate": "Churn=Yes<br>Partner=%{x}<br>percentage=%{y}<br>label=%{text}<extra></extra>",
         "legendgroup": "Yes",
         "marker": {
          "color": "#EF553B",
          "opacity": 0.8,
          "pattern": {
           "shape": ""
          }
         },
         "name": "Yes",
         "orientation": "v",
         "showlegend": true,
         "text": [
          "1077 (32.7%)",
          "605 (19.9%)"
         ],
         "textangle": 0,
         "textposition": "inside",
         "type": "bar",
         "x": [
          "No",
          "Yes"
         ],
         "xaxis": "x",
         "y": {
          "bdata": "mpmZmZlZQEBmZmZmZuYzQA==",
          "dtype": "f8"
         },
         "yaxis": "y"
        }
       ],
       "layout": {
        "bargap": 0.1,
        "barmode": "relative",
        "legend": {
         "title": {
          "text": "Churn"
         },
         "tracegroupgap": 0
        },
        "margin": {
         "t": 60
        },
        "template": {
         "data": {
          "bar": [
           {
            "error_x": {
             "color": "#2a3f5f"
            },
            "error_y": {
             "color": "#2a3f5f"
            },
            "marker": {
             "line": {
              "color": "white",
              "width": 0.5
             },
             "pattern": {
              "fillmode": "overlay",
              "size": 10,
              "solidity": 0.2
             }
            },
            "type": "bar"
           }
          ],
          "barpolar": [
           {
            "marker": {
             "line": {
              "color": "white",
              "width": 0.5
             },
             "pattern": {
              "fillmode": "overlay",
              "size": 10,
              "solidity": 0.2
             }
            },
            "type": "barpolar"
           }
          ],
          "carpet": [
           {
            "aaxis": {
             "endlinecolor": "#2a3f5f",
             "gridcolor": "#C8D4E3",
             "linecolor": "#C8D4E3",
             "minorgridcolor": "#C8D4E3",
             "startlinecolor": "#2a3f5f"
            },
            "baxis": {
             "endlinecolor": "#2a3f5f",
             "gridcolor": "#C8D4E3",
             "linecolor": "#C8D4E3",
             "minorgridcolor": "#C8D4E3",
             "startlinecolor": "#2a3f5f"
            },
            "type": "carpet"
           }
          ],
          "choropleth": [
           {
            "colorbar": {
             "outlinewidth": 0,
             "ticks": ""
            },
            "type": "choropleth"
           }
          ],
          "contour": [
           {
            "colorbar": {
             "outlinewidth": 0,
             "ticks": ""
            },
            "colorscale": [
             [
              0,
              "#0d0887"
             ],
             [
              0.1111111111111111,
              "#46039f"
             ],
             [
              0.2222222222222222,
              "#7201a8"
             ],
             [
              0.3333333333333333,
              "#9c179e"
             ],
             [
              0.4444444444444444,
              "#bd3786"
             ],
             [
              0.5555555555555556,
              "#d8576b"
             ],
             [
              0.6666666666666666,
              "#ed7953"
             ],
             [
              0.7777777777777778,
              "#fb9f3a"
             ],
             [
              0.8888888888888888,
              "#fdca26"
             ],
             [
              1,
              "#f0f921"
             ]
            ],
            "type": "contour"
           }
          ],
          "contourcarpet": [
           {
            "colorbar": {
             "outlinewidth": 0,
             "ticks": ""
            },
            "type": "contourcarpet"
           }
          ],
          "heatmap": [
           {
            "colorbar": {
             "outlinewidth": 0,
             "ticks": ""
            },
            "colorscale": [
             [
              0,
              "#0d0887"
             ],
             [
              0.1111111111111111,
              "#46039f"
             ],
             [
              0.2222222222222222,
              "#7201a8"
             ],
             [
              0.3333333333333333,
              "#9c179e"
             ],
             [
              0.4444444444444444,
              "#bd3786"
             ],
             [
              0.5555555555555556,
              "#d8576b"
             ],
             [
              0.6666666666666666,
              "#ed7953"
             ],
             [
              0.7777777777777778,
              "#fb9f3a"
             ],
             [
              0.8888888888888888,
              "#fdca26"
             ],
             [
              1,
              "#f0f921"
             ]
            ],
            "type": "heatmap"
           }
          ],
          "histogram": [
           {
            "marker": {
             "pattern": {
              "fillmode": "overlay",
              "size": 10,
              "solidity": 0.2
             }
            },
            "type": "histogram"
           }
          ],
          "histogram2d": [
           {
            "colorbar": {
             "outlinewidth": 0,
             "ticks": ""
            },
            "colorscale": [
             [
              0,
              "#0d0887"
             ],
             [
              0.1111111111111111,
              "#46039f"
             ],
             [
              0.2222222222222222,
              "#7201a8"
             ],
             [
              0.3333333333333333,
              "#9c179e"
             ],
             [
              0.4444444444444444,
              "#bd3786"
             ],
             [
              0.5555555555555556,
              "#d8576b"
             ],
             [
              0.6666666666666666,
              "#ed7953"
             ],
             [
              0.7777777777777778,
              "#fb9f3a"
             ],
             [
              0.8888888888888888,
              "#fdca26"
             ],
             [
              1,
              "#f0f921"
             ]
            ],
            "type": "histogram2d"
           }
          ],
          "histogram2dcontour": [
           {
            "colorbar": {
             "outlinewidth": 0,
             "ticks": ""
            },
            "colorscale": [
             [
              0,
              "#0d0887"
             ],
             [
              0.1111111111111111,
              "#46039f"
             ],
             [
              0.2222222222222222,
              "#7201a8"
             ],
             [
              0.3333333333333333,
              "#9c179e"
             ],
             [
              0.4444444444444444,
              "#bd3786"
             ],
             [
              0.5555555555555556,
              "#d8576b"
             ],
             [
              0.6666666666666666,
              "#ed7953"
             ],
             [
              0.7777777777777778,
              "#fb9f3a"
             ],
             [
              0.8888888888888888,
              "#fdca26"
             ],
             [
              1,
              "#f0f921"
             ]
            ],
            "type": "histogram2dcontour"
           }
          ],
          "mesh3d": [
           {
            "colorbar": {
             "outlinewidth": 0,
             "ticks": ""
            },
            "type": "mesh3d"
           }
          ],
          "parcoords": [
           {
            "line": {
             "colorbar": {
              "outlinewidth": 0,
              "ticks": ""
             }
            },
            "type": "parcoords"
           }
          ],
          "pie": [
           {
            "automargin": true,
            "type": "pie"
           }
          ],
          "scatter": [
           {
            "fillpattern": {
             "fillmode": "overlay",
             "size": 10,
             "solidity": 0.2
            },
            "type": "scatter"
           }
          ],
          "scatter3d": [
           {
            "line": {
             "colorbar": {
              "outlinewidth": 0,
              "ticks": ""
             }
            },
            "marker": {
             "colorbar": {
              "outlinewidth": 0,
              "ticks": ""
             }
            },
            "type": "scatter3d"
           }
          ],
          "scattercarpet": [
           {
            "marker": {
             "colorbar": {
              "outlinewidth": 0,
              "ticks": ""
             }
            },
            "type": "scattercarpet"
           }
          ],
          "scattergeo": [
           {
            "marker": {
             "colorbar": {
              "outlinewidth": 0,
              "ticks": ""
             }
            },
            "type": "scattergeo"
           }
          ],
          "scattergl": [
           {
            "marker": {
             "colorbar": {
              "outlinewidth": 0,
              "ticks": ""
             }
            },
            "type": "scattergl"
           }
          ],
          "scattermap": [
           {
            "marker": {
             "colorbar": {
              "outlinewidth": 0,
              "ticks": ""
             }
            },
            "type": "scattermap"
           }
          ],
          "scattermapbox": [
           {
            "marker": {
             "colorbar": {
              "outlinewidth": 0,
              "ticks": ""
             }
            },
            "type": "scattermapbox"
           }
          ],
          "scatterpolar": [
           {
            "marker": {
             "colorbar": {
              "outlinewidth": 0,
              "ticks": ""
             }
            },
            "type": "scatterpolar"
           }
          ],
          "scatterpolargl": [
           {
            "marker": {
             "colorbar": {
              "outlinewidth": 0,
              "ticks": ""
             }
            },
            "type": "scatterpolargl"
           }
          ],
          "scatterternary": [
           {
            "marker": {
             "colorbar": {
              "outlinewidth": 0,
              "ticks": ""
             }
            },
            "type": "scatterternary"
           }
          ],
          "surface": [
           {
            "colorbar": {
             "outlinewidth": 0,
             "ticks": ""
            },
            "colorscale": [
             [
              0,
              "#0d0887"
             ],
             [
              0.1111111111111111,
              "#46039f"
             ],
             [
              0.2222222222222222,
              "#7201a8"
             ],
             [
              0.3333333333333333,
              "#9c179e"
             ],
             [
              0.4444444444444444,
              "#bd3786"
             ],
             [
              0.5555555555555556,
              "#d8576b"
             ],
             [
              0.6666666666666666,
              "#ed7953"
             ],
             [
              0.7777777777777778,
              "#fb9f3a"
             ],
             [
              0.8888888888888888,
              "#fdca26"
             ],
             [
              1,
              "#f0f921"
             ]
            ],
            "type": "surface"
           }
          ],
          "table": [
           {
            "cells": {
             "fill": {
              "color": "#EBF0F8"
             },
             "line": {
              "color": "white"
             }
            },
            "header": {
             "fill": {
              "color": "#C8D4E3"
             },
             "line": {
              "color": "white"
             }
            },
            "type": "table"
           }
          ]
         },
         "layout": {
          "annotationdefaults": {
           "arrowcolor": "#2a3f5f",
           "arrowhead": 0,
           "arrowwidth": 1
          },
          "autotypenumbers": "strict",
          "coloraxis": {
           "colorbar": {
            "outlinewidth": 0,
            "ticks": ""
           }
          },
          "colorscale": {
           "diverging": [
            [
             0,
             "#8e0152"
            ],
            [
             0.1,
             "#c51b7d"
            ],
            [
             0.2,
             "#de77ae"
            ],
            [
             0.3,
             "#f1b6da"
            ],
            [
             0.4,
             "#fde0ef"
            ],
            [
             0.5,
             "#f7f7f7"
            ],
            [
             0.6,
             "#e6f5d0"
            ],
            [
             0.7,
             "#b8e186"
            ],
            [
             0.8,
             "#7fbc41"
            ],
            [
             0.9,
             "#4d9221"
            ],
            [
             1,
             "#276419"
            ]
           ],
           "sequential": [
            [
             0,
             "#0d0887"
            ],
            [
             0.1111111111111111,
             "#46039f"
            ],
            [
             0.2222222222222222,
             "#7201a8"
            ],
            [
             0.3333333333333333,
             "#9c179e"
            ],
            [
             0.4444444444444444,
             "#bd3786"
            ],
            [
             0.5555555555555556,
             "#d8576b"
            ],
            [
             0.6666666666666666,
             "#ed7953"
            ],
            [
             0.7777777777777778,
             "#fb9f3a"
            ],
            [
             0.8888888888888888,
             "#fdca26"
            ],
            [
             1,
             "#f0f921"
            ]
           ],
           "sequentialminus": [
            [
             0,
             "#0d0887"
            ],
            [
             0.1111111111111111,
             "#46039f"
            ],
            [
             0.2222222222222222,
             "#7201a8"
            ],
            [
             0.3333333333333333,
             "#9c179e"
            ],
            [
             0.4444444444444444,
             "#bd3786"
            ],
            [
             0.5555555555555556,
             "#d8576b"
            ],
            [
             0.6666666666666666,
             "#ed7953"
            ],
            [
             0.7777777777777778,
             "#fb9f3a"
            ],
            [
             0.8888888888888888,
             "#fdca26"
            ],
            [
             1,
             "#f0f921"
            ]
           ]
          },
          "colorway": [
           "#636efa",
           "#EF553B",
           "#00cc96",
           "#ab63fa",
           "#FFA15A",
           "#19d3f3",
           "#FF6692",
           "#B6E880",
           "#FF97FF",
           "#FECB52"
          ],
          "font": {
           "color": "#2a3f5f"
          },
          "geo": {
           "bgcolor": "white",
           "lakecolor": "white",
           "landcolor": "white",
           "showlakes": true,
           "showland": true,
           "subunitcolor": "#C8D4E3"
          },
          "hoverlabel": {
           "align": "left"
          },
          "hovermode": "closest",
          "mapbox": {
           "style": "light"
          },
          "paper_bgcolor": "white",
          "plot_bgcolor": "white",
          "polar": {
           "angularaxis": {
            "gridcolor": "#EBF0F8",
            "linecolor": "#EBF0F8",
            "ticks": ""
           },
           "bgcolor": "white",
           "radialaxis": {
            "gridcolor": "#EBF0F8",
            "linecolor": "#EBF0F8",
            "ticks": ""
           }
          },
          "scene": {
           "xaxis": {
            "backgroundcolor": "white",
            "gridcolor": "#DFE8F3",
            "gridwidth": 2,
            "linecolor": "#EBF0F8",
            "showbackground": true,
            "ticks": "",
            "zerolinecolor": "#EBF0F8"
           },
           "yaxis": {
            "backgroundcolor": "white",
            "gridcolor": "#DFE8F3",
            "gridwidth": 2,
            "linecolor": "#EBF0F8",
            "showbackground": true,
            "ticks": "",
            "zerolinecolor": "#EBF0F8"
           },
           "zaxis": {
            "backgroundcolor": "white",
            "gridcolor": "#DFE8F3",
            "gridwidth": 2,
            "linecolor": "#EBF0F8",
            "showbackground": true,
            "ticks": "",
            "zerolinecolor": "#EBF0F8"
           }
          },
          "shapedefaults": {
           "line": {
            "color": "#2a3f5f"
           }
          },
          "ternary": {
           "aaxis": {
            "gridcolor": "#DFE8F3",
            "linecolor": "#A2B1C6",
            "ticks": ""
           },
           "baxis": {
            "gridcolor": "#DFE8F3",
            "linecolor": "#A2B1C6",
            "ticks": ""
           },
           "bgcolor": "white",
           "caxis": {
            "gridcolor": "#DFE8F3",
            "linecolor": "#A2B1C6",
            "ticks": ""
           }
          },
          "title": {
           "x": 0.05
          },
          "xaxis": {
           "automargin": true,
           "gridcolor": "#EBF0F8",
           "linecolor": "#EBF0F8",
           "ticks": "",
           "title": {
            "standoff": 15
           },
           "zerolinecolor": "#EBF0F8",
           "zerolinewidth": 2
          },
          "yaxis": {
           "automargin": true,
           "gridcolor": "#EBF0F8",
           "linecolor": "#EBF0F8",
           "ticks": "",
           "title": {
            "standoff": 15
           },
           "zerolinecolor": "#EBF0F8",
           "zerolinewidth": 2
          }
         }
        },
        "title": {
         "text": "Churn Distribution by Partner (%)"
        },
        "xaxis": {
         "anchor": "y",
         "domain": [
          0,
          1
         ],
         "showgrid": false,
         "title": {
          "text": ""
         }
        },
        "yaxis": {
         "anchor": "x",
         "domain": [
          0,
          1
         ],
         "showgrid": false,
         "title": {
          "text": "Percentage (%)"
         }
        }
       }
      }
     },
     "metadata": {},
     "output_type": "display_data"
    },
    {
     "data": {
      "application/vnd.plotly.v1+json": {
       "config": {
        "plotlyServerURL": "https://plot.ly"
       },
       "data": [
        {
         "hovertemplate": "Churn=No<br>Dependents=%{x}<br>percentage=%{y}<br>label=%{text}<extra></extra>",
         "legendgroup": "No",
         "marker": {
          "color": "#636efa",
          "opacity": 0.8,
          "pattern": {
           "shape": ""
          }
         },
         "name": "No",
         "orientation": "v",
         "showlegend": true,
         "text": [
          "3071 (68.8%)",
          "1585 (84.7%)"
         ],
         "textangle": 0,
         "textposition": "inside",
         "type": "bar",
         "x": [
          "No",
          "Yes"
         ],
         "xaxis": "x",
         "y": {
          "bdata": "MzMzMzMzUUDNzMzMzCxVQA==",
          "dtype": "f8"
         },
         "yaxis": "y"
        },
        {
         "hovertemplate": "Churn=Yes<br>Dependents=%{x}<br>percentage=%{y}<br>label=%{text}<extra></extra>",
         "legendgroup": "Yes",
         "marker": {
          "color": "#EF553B",
          "opacity": 0.8,
          "pattern": {
           "shape": ""
          }
         },
         "name": "Yes",
         "orientation": "v",
         "showlegend": true,
         "text": [
          "1395 (31.2%)",
          "287 (15.3%)"
         ],
         "textangle": 0,
         "textposition": "inside",
         "type": "bar",
         "x": [
          "No",
          "Yes"
         ],
         "xaxis": "x",
         "y": {
          "bdata": "MzMzMzMzP0CamZmZmZkuQA==",
          "dtype": "f8"
         },
         "yaxis": "y"
        }
       ],
       "layout": {
        "bargap": 0.1,
        "barmode": "relative",
        "legend": {
         "title": {
          "text": "Churn"
         },
         "tracegroupgap": 0
        },
        "margin": {
         "t": 60
        },
        "template": {
         "data": {
          "bar": [
           {
            "error_x": {
             "color": "#2a3f5f"
            },
            "error_y": {
             "color": "#2a3f5f"
            },
            "marker": {
             "line": {
              "color": "white",
              "width": 0.5
             },
             "pattern": {
              "fillmode": "overlay",
              "size": 10,
              "solidity": 0.2
             }
            },
            "type": "bar"
           }
          ],
          "barpolar": [
           {
            "marker": {
             "line": {
              "color": "white",
              "width": 0.5
             },
             "pattern": {
              "fillmode": "overlay",
              "size": 10,
              "solidity": 0.2
             }
            },
            "type": "barpolar"
           }
          ],
          "carpet": [
           {
            "aaxis": {
             "endlinecolor": "#2a3f5f",
             "gridcolor": "#C8D4E3",
             "linecolor": "#C8D4E3",
             "minorgridcolor": "#C8D4E3",
             "startlinecolor": "#2a3f5f"
            },
            "baxis": {
             "endlinecolor": "#2a3f5f",
             "gridcolor": "#C8D4E3",
             "linecolor": "#C8D4E3",
             "minorgridcolor": "#C8D4E3",
             "startlinecolor": "#2a3f5f"
            },
            "type": "carpet"
           }
          ],
          "choropleth": [
           {
            "colorbar": {
             "outlinewidth": 0,
             "ticks": ""
            },
            "type": "choropleth"
           }
          ],
          "contour": [
           {
            "colorbar": {
             "outlinewidth": 0,
             "ticks": ""
            },
            "colorscale": [
             [
              0,
              "#0d0887"
             ],
             [
              0.1111111111111111,
              "#46039f"
             ],
             [
              0.2222222222222222,
              "#7201a8"
             ],
             [
              0.3333333333333333,
              "#9c179e"
             ],
             [
              0.4444444444444444,
              "#bd3786"
             ],
             [
              0.5555555555555556,
              "#d8576b"
             ],
             [
              0.6666666666666666,
              "#ed7953"
             ],
             [
              0.7777777777777778,
              "#fb9f3a"
             ],
             [
              0.8888888888888888,
              "#fdca26"
             ],
             [
              1,
              "#f0f921"
             ]
            ],
            "type": "contour"
           }
          ],
          "contourcarpet": [
           {
            "colorbar": {
             "outlinewidth": 0,
             "ticks": ""
            },
            "type": "contourcarpet"
           }
          ],
          "heatmap": [
           {
            "colorbar": {
             "outlinewidth": 0,
             "ticks": ""
            },
            "colorscale": [
             [
              0,
              "#0d0887"
             ],
             [
              0.1111111111111111,
              "#46039f"
             ],
             [
              0.2222222222222222,
              "#7201a8"
             ],
             [
              0.3333333333333333,
              "#9c179e"
             ],
             [
              0.4444444444444444,
              "#bd3786"
             ],
             [
              0.5555555555555556,
              "#d8576b"
             ],
             [
              0.6666666666666666,
              "#ed7953"
             ],
             [
              0.7777777777777778,
              "#fb9f3a"
             ],
             [
              0.8888888888888888,
              "#fdca26"
             ],
             [
              1,
              "#f0f921"
             ]
            ],
            "type": "heatmap"
           }
          ],
          "histogram": [
           {
            "marker": {
             "pattern": {
              "fillmode": "overlay",
              "size": 10,
              "solidity": 0.2
             }
            },
            "type": "histogram"
           }
          ],
          "histogram2d": [
           {
            "colorbar": {
             "outlinewidth": 0,
             "ticks": ""
            },
            "colorscale": [
             [
              0,
              "#0d0887"
             ],
             [
              0.1111111111111111,
              "#46039f"
             ],
             [
              0.2222222222222222,
              "#7201a8"
             ],
             [
              0.3333333333333333,
              "#9c179e"
             ],
             [
              0.4444444444444444,
              "#bd3786"
             ],
             [
              0.5555555555555556,
              "#d8576b"
             ],
             [
              0.6666666666666666,
              "#ed7953"
             ],
             [
              0.7777777777777778,
              "#fb9f3a"
             ],
             [
              0.8888888888888888,
              "#fdca26"
             ],
             [
              1,
              "#f0f921"
             ]
            ],
            "type": "histogram2d"
           }
          ],
          "histogram2dcontour": [
           {
            "colorbar": {
             "outlinewidth": 0,
             "ticks": ""
            },
            "colorscale": [
             [
              0,
              "#0d0887"
             ],
             [
              0.1111111111111111,
              "#46039f"
             ],
             [
              0.2222222222222222,
              "#7201a8"
             ],
             [
              0.3333333333333333,
              "#9c179e"
             ],
             [
              0.4444444444444444,
              "#bd3786"
             ],
             [
              0.5555555555555556,
              "#d8576b"
             ],
             [
              0.6666666666666666,
              "#ed7953"
             ],
             [
              0.7777777777777778,
              "#fb9f3a"
             ],
             [
              0.8888888888888888,
              "#fdca26"
             ],
             [
              1,
              "#f0f921"
             ]
            ],
            "type": "histogram2dcontour"
           }
          ],
          "mesh3d": [
           {
            "colorbar": {
             "outlinewidth": 0,
             "ticks": ""
            },
            "type": "mesh3d"
           }
          ],
          "parcoords": [
           {
            "line": {
             "colorbar": {
              "outlinewidth": 0,
              "ticks": ""
             }
            },
            "type": "parcoords"
           }
          ],
          "pie": [
           {
            "automargin": true,
            "type": "pie"
           }
          ],
          "scatter": [
           {
            "fillpattern": {
             "fillmode": "overlay",
             "size": 10,
             "solidity": 0.2
            },
            "type": "scatter"
           }
          ],
          "scatter3d": [
           {
            "line": {
             "colorbar": {
              "outlinewidth": 0,
              "ticks": ""
             }
            },
            "marker": {
             "colorbar": {
              "outlinewidth": 0,
              "ticks": ""
             }
            },
            "type": "scatter3d"
           }
          ],
          "scattercarpet": [
           {
            "marker": {
             "colorbar": {
              "outlinewidth": 0,
              "ticks": ""
             }
            },
            "type": "scattercarpet"
           }
          ],
          "scattergeo": [
           {
            "marker": {
             "colorbar": {
              "outlinewidth": 0,
              "ticks": ""
             }
            },
            "type": "scattergeo"
           }
          ],
          "scattergl": [
           {
            "marker": {
             "colorbar": {
              "outlinewidth": 0,
              "ticks": ""
             }
            },
            "type": "scattergl"
           }
          ],
          "scattermap": [
           {
            "marker": {
             "colorbar": {
              "outlinewidth": 0,
              "ticks": ""
             }
            },
            "type": "scattermap"
           }
          ],
          "scattermapbox": [
           {
            "marker": {
             "colorbar": {
              "outlinewidth": 0,
              "ticks": ""
             }
            },
            "type": "scattermapbox"
           }
          ],
          "scatterpolar": [
           {
            "marker": {
             "colorbar": {
              "outlinewidth": 0,
              "ticks": ""
             }
            },
            "type": "scatterpolar"
           }
          ],
          "scatterpolargl": [
           {
            "marker": {
             "colorbar": {
              "outlinewidth": 0,
              "ticks": ""
             }
            },
            "type": "scatterpolargl"
           }
          ],
          "scatterternary": [
           {
            "marker": {
             "colorbar": {
              "outlinewidth": 0,
              "ticks": ""
             }
            },
            "type": "scatterternary"
           }
          ],
          "surface": [
           {
            "colorbar": {
             "outlinewidth": 0,
             "ticks": ""
            },
            "colorscale": [
             [
              0,
              "#0d0887"
             ],
             [
              0.1111111111111111,
              "#46039f"
             ],
             [
              0.2222222222222222,
              "#7201a8"
             ],
             [
              0.3333333333333333,
              "#9c179e"
             ],
             [
              0.4444444444444444,
              "#bd3786"
             ],
             [
              0.5555555555555556,
              "#d8576b"
             ],
             [
              0.6666666666666666,
              "#ed7953"
             ],
             [
              0.7777777777777778,
              "#fb9f3a"
             ],
             [
              0.8888888888888888,
              "#fdca26"
             ],
             [
              1,
              "#f0f921"
             ]
            ],
            "type": "surface"
           }
          ],
          "table": [
           {
            "cells": {
             "fill": {
              "color": "#EBF0F8"
             },
             "line": {
              "color": "white"
             }
            },
            "header": {
             "fill": {
              "color": "#C8D4E3"
             },
             "line": {
              "color": "white"
             }
            },
            "type": "table"
           }
          ]
         },
         "layout": {
          "annotationdefaults": {
           "arrowcolor": "#2a3f5f",
           "arrowhead": 0,
           "arrowwidth": 1
          },
          "autotypenumbers": "strict",
          "coloraxis": {
           "colorbar": {
            "outlinewidth": 0,
            "ticks": ""
           }
          },
          "colorscale": {
           "diverging": [
            [
             0,
             "#8e0152"
            ],
            [
             0.1,
             "#c51b7d"
            ],
            [
             0.2,
             "#de77ae"
            ],
            [
             0.3,
             "#f1b6da"
            ],
            [
             0.4,
             "#fde0ef"
            ],
            [
             0.5,
             "#f7f7f7"
            ],
            [
             0.6,
             "#e6f5d0"
            ],
            [
             0.7,
             "#b8e186"
            ],
            [
             0.8,
             "#7fbc41"
            ],
            [
             0.9,
             "#4d9221"
            ],
            [
             1,
             "#276419"
            ]
           ],
           "sequential": [
            [
             0,
             "#0d0887"
            ],
            [
             0.1111111111111111,
             "#46039f"
            ],
            [
             0.2222222222222222,
             "#7201a8"
            ],
            [
             0.3333333333333333,
             "#9c179e"
            ],
            [
             0.4444444444444444,
             "#bd3786"
            ],
            [
             0.5555555555555556,
             "#d8576b"
            ],
            [
             0.6666666666666666,
             "#ed7953"
            ],
            [
             0.7777777777777778,
             "#fb9f3a"
            ],
            [
             0.8888888888888888,
             "#fdca26"
            ],
            [
             1,
             "#f0f921"
            ]
           ],
           "sequentialminus": [
            [
             0,
             "#0d0887"
            ],
            [
             0.1111111111111111,
             "#46039f"
            ],
            [
             0.2222222222222222,
             "#7201a8"
            ],
            [
             0.3333333333333333,
             "#9c179e"
            ],
            [
             0.4444444444444444,
             "#bd3786"
            ],
            [
             0.5555555555555556,
             "#d8576b"
            ],
            [
             0.6666666666666666,
             "#ed7953"
            ],
            [
             0.7777777777777778,
             "#fb9f3a"
            ],
            [
             0.8888888888888888,
             "#fdca26"
            ],
            [
             1,
             "#f0f921"
            ]
           ]
          },
          "colorway": [
           "#636efa",
           "#EF553B",
           "#00cc96",
           "#ab63fa",
           "#FFA15A",
           "#19d3f3",
           "#FF6692",
           "#B6E880",
           "#FF97FF",
           "#FECB52"
          ],
          "font": {
           "color": "#2a3f5f"
          },
          "geo": {
           "bgcolor": "white",
           "lakecolor": "white",
           "landcolor": "white",
           "showlakes": true,
           "showland": true,
           "subunitcolor": "#C8D4E3"
          },
          "hoverlabel": {
           "align": "left"
          },
          "hovermode": "closest",
          "mapbox": {
           "style": "light"
          },
          "paper_bgcolor": "white",
          "plot_bgcolor": "white",
          "polar": {
           "angularaxis": {
            "gridcolor": "#EBF0F8",
            "linecolor": "#EBF0F8",
            "ticks": ""
           },
           "bgcolor": "white",
           "radialaxis": {
            "gridcolor": "#EBF0F8",
            "linecolor": "#EBF0F8",
            "ticks": ""
           }
          },
          "scene": {
           "xaxis": {
            "backgroundcolor": "white",
            "gridcolor": "#DFE8F3",
            "gridwidth": 2,
            "linecolor": "#EBF0F8",
            "showbackground": true,
            "ticks": "",
            "zerolinecolor": "#EBF0F8"
           },
           "yaxis": {
            "backgroundcolor": "white",
            "gridcolor": "#DFE8F3",
            "gridwidth": 2,
            "linecolor": "#EBF0F8",
            "showbackground": true,
            "ticks": "",
            "zerolinecolor": "#EBF0F8"
           },
           "zaxis": {
            "backgroundcolor": "white",
            "gridcolor": "#DFE8F3",
            "gridwidth": 2,
            "linecolor": "#EBF0F8",
            "showbackground": true,
            "ticks": "",
            "zerolinecolor": "#EBF0F8"
           }
          },
          "shapedefaults": {
           "line": {
            "color": "#2a3f5f"
           }
          },
          "ternary": {
           "aaxis": {
            "gridcolor": "#DFE8F3",
            "linecolor": "#A2B1C6",
            "ticks": ""
           },
           "baxis": {
            "gridcolor": "#DFE8F3",
            "linecolor": "#A2B1C6",
            "ticks": ""
           },
           "bgcolor": "white",
           "caxis": {
            "gridcolor": "#DFE8F3",
            "linecolor": "#A2B1C6",
            "ticks": ""
           }
          },
          "title": {
           "x": 0.05
          },
          "xaxis": {
           "automargin": true,
           "gridcolor": "#EBF0F8",
           "linecolor": "#EBF0F8",
           "ticks": "",
           "title": {
            "standoff": 15
           },
           "zerolinecolor": "#EBF0F8",
           "zerolinewidth": 2
          },
          "yaxis": {
           "automargin": true,
           "gridcolor": "#EBF0F8",
           "linecolor": "#EBF0F8",
           "ticks": "",
           "title": {
            "standoff": 15
           },
           "zerolinecolor": "#EBF0F8",
           "zerolinewidth": 2
          }
         }
        },
        "title": {
         "text": "Churn Distribution by Dependents (%)"
        },
        "xaxis": {
         "anchor": "y",
         "domain": [
          0,
          1
         ],
         "showgrid": false,
         "title": {
          "text": ""
         }
        },
        "yaxis": {
         "anchor": "x",
         "domain": [
          0,
          1
         ],
         "showgrid": false,
         "title": {
          "text": "Percentage (%)"
         }
        }
       }
      }
     },
     "metadata": {},
     "output_type": "display_data"
    },
    {
     "data": {
      "application/vnd.plotly.v1+json": {
       "config": {
        "plotlyServerURL": "https://plot.ly"
       },
       "data": [
        {
         "hovertemplate": "Churn=No<br>PhoneService=%{x}<br>percentage=%{y}<br>label=%{text}<extra></extra>",
         "legendgroup": "No",
         "marker": {
          "color": "#636efa",
          "opacity": 0.8,
          "pattern": {
           "shape": ""
          }
         },
         "name": "No",
         "orientation": "v",
         "showlegend": true,
         "text": [
          "469 (75.3%)",
          "4187 (73.3%)"
         ],
         "textangle": 0,
         "textposition": "inside",
         "type": "bar",
         "x": [
          "No",
          "Yes"
         ],
         "xaxis": "x",
         "y": {
          "bdata": "MzMzMzPTUkAzMzMzM1NSQA==",
          "dtype": "f8"
         },
         "yaxis": "y"
        },
        {
         "hovertemplate": "Churn=Yes<br>PhoneService=%{x}<br>percentage=%{y}<br>label=%{text}<extra></extra>",
         "legendgroup": "Yes",
         "marker": {
          "color": "#EF553B",
          "opacity": 0.8,
          "pattern": {
           "shape": ""
          }
         },
         "name": "Yes",
         "orientation": "v",
         "showlegend": true,
         "text": [
          "154 (24.7%)",
          "1528 (26.7%)"
         ],
         "textangle": 0,
         "textposition": "inside",
         "type": "bar",
         "x": [
          "No",
          "Yes"
         ],
         "xaxis": "x",
         "y": {
          "bdata": "MzMzMzOzOEAzMzMzM7M6QA==",
          "dtype": "f8"
         },
         "yaxis": "y"
        }
       ],
       "layout": {
        "bargap": 0.1,
        "barmode": "relative",
        "legend": {
         "title": {
          "text": "Churn"
         },
         "tracegroupgap": 0
        },
        "margin": {
         "t": 60
        },
        "template": {
         "data": {
          "bar": [
           {
            "error_x": {
             "color": "#2a3f5f"
            },
            "error_y": {
             "color": "#2a3f5f"
            },
            "marker": {
             "line": {
              "color": "white",
              "width": 0.5
             },
             "pattern": {
              "fillmode": "overlay",
              "size": 10,
              "solidity": 0.2
             }
            },
            "type": "bar"
           }
          ],
          "barpolar": [
           {
            "marker": {
             "line": {
              "color": "white",
              "width": 0.5
             },
             "pattern": {
              "fillmode": "overlay",
              "size": 10,
              "solidity": 0.2
             }
            },
            "type": "barpolar"
           }
          ],
          "carpet": [
           {
            "aaxis": {
             "endlinecolor": "#2a3f5f",
             "gridcolor": "#C8D4E3",
             "linecolor": "#C8D4E3",
             "minorgridcolor": "#C8D4E3",
             "startlinecolor": "#2a3f5f"
            },
            "baxis": {
             "endlinecolor": "#2a3f5f",
             "gridcolor": "#C8D4E3",
             "linecolor": "#C8D4E3",
             "minorgridcolor": "#C8D4E3",
             "startlinecolor": "#2a3f5f"
            },
            "type": "carpet"
           }
          ],
          "choropleth": [
           {
            "colorbar": {
             "outlinewidth": 0,
             "ticks": ""
            },
            "type": "choropleth"
           }
          ],
          "contour": [
           {
            "colorbar": {
             "outlinewidth": 0,
             "ticks": ""
            },
            "colorscale": [
             [
              0,
              "#0d0887"
             ],
             [
              0.1111111111111111,
              "#46039f"
             ],
             [
              0.2222222222222222,
              "#7201a8"
             ],
             [
              0.3333333333333333,
              "#9c179e"
             ],
             [
              0.4444444444444444,
              "#bd3786"
             ],
             [
              0.5555555555555556,
              "#d8576b"
             ],
             [
              0.6666666666666666,
              "#ed7953"
             ],
             [
              0.7777777777777778,
              "#fb9f3a"
             ],
             [
              0.8888888888888888,
              "#fdca26"
             ],
             [
              1,
              "#f0f921"
             ]
            ],
            "type": "contour"
           }
          ],
          "contourcarpet": [
           {
            "colorbar": {
             "outlinewidth": 0,
             "ticks": ""
            },
            "type": "contourcarpet"
           }
          ],
          "heatmap": [
           {
            "colorbar": {
             "outlinewidth": 0,
             "ticks": ""
            },
            "colorscale": [
             [
              0,
              "#0d0887"
             ],
             [
              0.1111111111111111,
              "#46039f"
             ],
             [
              0.2222222222222222,
              "#7201a8"
             ],
             [
              0.3333333333333333,
              "#9c179e"
             ],
             [
              0.4444444444444444,
              "#bd3786"
             ],
             [
              0.5555555555555556,
              "#d8576b"
             ],
             [
              0.6666666666666666,
              "#ed7953"
             ],
             [
              0.7777777777777778,
              "#fb9f3a"
             ],
             [
              0.8888888888888888,
              "#fdca26"
             ],
             [
              1,
              "#f0f921"
             ]
            ],
            "type": "heatmap"
           }
          ],
          "histogram": [
           {
            "marker": {
             "pattern": {
              "fillmode": "overlay",
              "size": 10,
              "solidity": 0.2
             }
            },
            "type": "histogram"
           }
          ],
          "histogram2d": [
           {
            "colorbar": {
             "outlinewidth": 0,
             "ticks": ""
            },
            "colorscale": [
             [
              0,
              "#0d0887"
             ],
             [
              0.1111111111111111,
              "#46039f"
             ],
             [
              0.2222222222222222,
              "#7201a8"
             ],
             [
              0.3333333333333333,
              "#9c179e"
             ],
             [
              0.4444444444444444,
              "#bd3786"
             ],
             [
              0.5555555555555556,
              "#d8576b"
             ],
             [
              0.6666666666666666,
              "#ed7953"
             ],
             [
              0.7777777777777778,
              "#fb9f3a"
             ],
             [
              0.8888888888888888,
              "#fdca26"
             ],
             [
              1,
              "#f0f921"
             ]
            ],
            "type": "histogram2d"
           }
          ],
          "histogram2dcontour": [
           {
            "colorbar": {
             "outlinewidth": 0,
             "ticks": ""
            },
            "colorscale": [
             [
              0,
              "#0d0887"
             ],
             [
              0.1111111111111111,
              "#46039f"
             ],
             [
              0.2222222222222222,
              "#7201a8"
             ],
             [
              0.3333333333333333,
              "#9c179e"
             ],
             [
              0.4444444444444444,
              "#bd3786"
             ],
             [
              0.5555555555555556,
              "#d8576b"
             ],
             [
              0.6666666666666666,
              "#ed7953"
             ],
             [
              0.7777777777777778,
              "#fb9f3a"
             ],
             [
              0.8888888888888888,
              "#fdca26"
             ],
             [
              1,
              "#f0f921"
             ]
            ],
            "type": "histogram2dcontour"
           }
          ],
          "mesh3d": [
           {
            "colorbar": {
             "outlinewidth": 0,
             "ticks": ""
            },
            "type": "mesh3d"
           }
          ],
          "parcoords": [
           {
            "line": {
             "colorbar": {
              "outlinewidth": 0,
              "ticks": ""
             }
            },
            "type": "parcoords"
           }
          ],
          "pie": [
           {
            "automargin": true,
            "type": "pie"
           }
          ],
          "scatter": [
           {
            "fillpattern": {
             "fillmode": "overlay",
             "size": 10,
             "solidity": 0.2
            },
            "type": "scatter"
           }
          ],
          "scatter3d": [
           {
            "line": {
             "colorbar": {
              "outlinewidth": 0,
              "ticks": ""
             }
            },
            "marker": {
             "colorbar": {
              "outlinewidth": 0,
              "ticks": ""
             }
            },
            "type": "scatter3d"
           }
          ],
          "scattercarpet": [
           {
            "marker": {
             "colorbar": {
              "outlinewidth": 0,
              "ticks": ""
             }
            },
            "type": "scattercarpet"
           }
          ],
          "scattergeo": [
           {
            "marker": {
             "colorbar": {
              "outlinewidth": 0,
              "ticks": ""
             }
            },
            "type": "scattergeo"
           }
          ],
          "scattergl": [
           {
            "marker": {
             "colorbar": {
              "outlinewidth": 0,
              "ticks": ""
             }
            },
            "type": "scattergl"
           }
          ],
          "scattermap": [
           {
            "marker": {
             "colorbar": {
              "outlinewidth": 0,
              "ticks": ""
             }
            },
            "type": "scattermap"
           }
          ],
          "scattermapbox": [
           {
            "marker": {
             "colorbar": {
              "outlinewidth": 0,
              "ticks": ""
             }
            },
            "type": "scattermapbox"
           }
          ],
          "scatterpolar": [
           {
            "marker": {
             "colorbar": {
              "outlinewidth": 0,
              "ticks": ""
             }
            },
            "type": "scatterpolar"
           }
          ],
          "scatterpolargl": [
           {
            "marker": {
             "colorbar": {
              "outlinewidth": 0,
              "ticks": ""
             }
            },
            "type": "scatterpolargl"
           }
          ],
          "scatterternary": [
           {
            "marker": {
             "colorbar": {
              "outlinewidth": 0,
              "ticks": ""
             }
            },
            "type": "scatterternary"
           }
          ],
          "surface": [
           {
            "colorbar": {
             "outlinewidth": 0,
             "ticks": ""
            },
            "colorscale": [
             [
              0,
              "#0d0887"
             ],
             [
              0.1111111111111111,
              "#46039f"
             ],
             [
              0.2222222222222222,
              "#7201a8"
             ],
             [
              0.3333333333333333,
              "#9c179e"
             ],
             [
              0.4444444444444444,
              "#bd3786"
             ],
             [
              0.5555555555555556,
              "#d8576b"
             ],
             [
              0.6666666666666666,
              "#ed7953"
             ],
             [
              0.7777777777777778,
              "#fb9f3a"
             ],
             [
              0.8888888888888888,
              "#fdca26"
             ],
             [
              1,
              "#f0f921"
             ]
            ],
            "type": "surface"
           }
          ],
          "table": [
           {
            "cells": {
             "fill": {
              "color": "#EBF0F8"
             },
             "line": {
              "color": "white"
             }
            },
            "header": {
             "fill": {
              "color": "#C8D4E3"
             },
             "line": {
              "color": "white"
             }
            },
            "type": "table"
           }
          ]
         },
         "layout": {
          "annotationdefaults": {
           "arrowcolor": "#2a3f5f",
           "arrowhead": 0,
           "arrowwidth": 1
          },
          "autotypenumbers": "strict",
          "coloraxis": {
           "colorbar": {
            "outlinewidth": 0,
            "ticks": ""
           }
          },
          "colorscale": {
           "diverging": [
            [
             0,
             "#8e0152"
            ],
            [
             0.1,
             "#c51b7d"
            ],
            [
             0.2,
             "#de77ae"
            ],
            [
             0.3,
             "#f1b6da"
            ],
            [
             0.4,
             "#fde0ef"
            ],
            [
             0.5,
             "#f7f7f7"
            ],
            [
             0.6,
             "#e6f5d0"
            ],
            [
             0.7,
             "#b8e186"
            ],
            [
             0.8,
             "#7fbc41"
            ],
            [
             0.9,
             "#4d9221"
            ],
            [
             1,
             "#276419"
            ]
           ],
           "sequential": [
            [
             0,
             "#0d0887"
            ],
            [
             0.1111111111111111,
             "#46039f"
            ],
            [
             0.2222222222222222,
             "#7201a8"
            ],
            [
             0.3333333333333333,
             "#9c179e"
            ],
            [
             0.4444444444444444,
             "#bd3786"
            ],
            [
             0.5555555555555556,
             "#d8576b"
            ],
            [
             0.6666666666666666,
             "#ed7953"
            ],
            [
             0.7777777777777778,
             "#fb9f3a"
            ],
            [
             0.8888888888888888,
             "#fdca26"
            ],
            [
             1,
             "#f0f921"
            ]
           ],
           "sequentialminus": [
            [
             0,
             "#0d0887"
            ],
            [
             0.1111111111111111,
             "#46039f"
            ],
            [
             0.2222222222222222,
             "#7201a8"
            ],
            [
             0.3333333333333333,
             "#9c179e"
            ],
            [
             0.4444444444444444,
             "#bd3786"
            ],
            [
             0.5555555555555556,
             "#d8576b"
            ],
            [
             0.6666666666666666,
             "#ed7953"
            ],
            [
             0.7777777777777778,
             "#fb9f3a"
            ],
            [
             0.8888888888888888,
             "#fdca26"
            ],
            [
             1,
             "#f0f921"
            ]
           ]
          },
          "colorway": [
           "#636efa",
           "#EF553B",
           "#00cc96",
           "#ab63fa",
           "#FFA15A",
           "#19d3f3",
           "#FF6692",
           "#B6E880",
           "#FF97FF",
           "#FECB52"
          ],
          "font": {
           "color": "#2a3f5f"
          },
          "geo": {
           "bgcolor": "white",
           "lakecolor": "white",
           "landcolor": "white",
           "showlakes": true,
           "showland": true,
           "subunitcolor": "#C8D4E3"
          },
          "hoverlabel": {
           "align": "left"
          },
          "hovermode": "closest",
          "mapbox": {
           "style": "light"
          },
          "paper_bgcolor": "white",
          "plot_bgcolor": "white",
          "polar": {
           "angularaxis": {
            "gridcolor": "#EBF0F8",
            "linecolor": "#EBF0F8",
            "ticks": ""
           },
           "bgcolor": "white",
           "radialaxis": {
            "gridcolor": "#EBF0F8",
            "linecolor": "#EBF0F8",
            "ticks": ""
           }
          },
          "scene": {
           "xaxis": {
            "backgroundcolor": "white",
            "gridcolor": "#DFE8F3",
            "gridwidth": 2,
            "linecolor": "#EBF0F8",
            "showbackground": true,
            "ticks": "",
            "zerolinecolor": "#EBF0F8"
           },
           "yaxis": {
            "backgroundcolor": "white",
            "gridcolor": "#DFE8F3",
            "gridwidth": 2,
            "linecolor": "#EBF0F8",
            "showbackground": true,
            "ticks": "",
            "zerolinecolor": "#EBF0F8"
           },
           "zaxis": {
            "backgroundcolor": "white",
            "gridcolor": "#DFE8F3",
            "gridwidth": 2,
            "linecolor": "#EBF0F8",
            "showbackground": true,
            "ticks": "",
            "zerolinecolor": "#EBF0F8"
           }
          },
          "shapedefaults": {
           "line": {
            "color": "#2a3f5f"
           }
          },
          "ternary": {
           "aaxis": {
            "gridcolor": "#DFE8F3",
            "linecolor": "#A2B1C6",
            "ticks": ""
           },
           "baxis": {
            "gridcolor": "#DFE8F3",
            "linecolor": "#A2B1C6",
            "ticks": ""
           },
           "bgcolor": "white",
           "caxis": {
            "gridcolor": "#DFE8F3",
            "linecolor": "#A2B1C6",
            "ticks": ""
           }
          },
          "title": {
           "x": 0.05
          },
          "xaxis": {
           "automargin": true,
           "gridcolor": "#EBF0F8",
           "linecolor": "#EBF0F8",
           "ticks": "",
           "title": {
            "standoff": 15
           },
           "zerolinecolor": "#EBF0F8",
           "zerolinewidth": 2
          },
          "yaxis": {
           "automargin": true,
           "gridcolor": "#EBF0F8",
           "linecolor": "#EBF0F8",
           "ticks": "",
           "title": {
            "standoff": 15
           },
           "zerolinecolor": "#EBF0F8",
           "zerolinewidth": 2
          }
         }
        },
        "title": {
         "text": "Churn Distribution by PhoneService (%)"
        },
        "xaxis": {
         "anchor": "y",
         "domain": [
          0,
          1
         ],
         "showgrid": false,
         "title": {
          "text": ""
         }
        },
        "yaxis": {
         "anchor": "x",
         "domain": [
          0,
          1
         ],
         "showgrid": false,
         "title": {
          "text": "Percentage (%)"
         }
        }
       }
      }
     },
     "metadata": {},
     "output_type": "display_data"
    },
    {
     "data": {
      "application/vnd.plotly.v1+json": {
       "config": {
        "plotlyServerURL": "https://plot.ly"
       },
       "data": [
        {
         "hovertemplate": "Churn=No<br>MultipleLines=%{x}<br>percentage=%{y}<br>label=%{text}<extra></extra>",
         "legendgroup": "No",
         "marker": {
          "color": "#636efa",
          "opacity": 0.8,
          "pattern": {
           "shape": ""
          }
         },
         "name": "No",
         "orientation": "v",
         "showlegend": true,
         "text": [
          "2267 (74.8%)",
          "469 (75.3%)",
          "1920 (71.5%)"
         ],
         "textangle": 0,
         "textposition": "inside",
         "type": "bar",
         "x": [
          "No",
          "No phone service",
          "Yes"
         ],
         "xaxis": "x",
         "y": {
          "bdata": "MzMzMzOzUkAzMzMzM9NSQAAAAAAA4FFA",
          "dtype": "f8"
         },
         "yaxis": "y"
        },
        {
         "hovertemplate": "Churn=Yes<br>MultipleLines=%{x}<br>percentage=%{y}<br>label=%{text}<extra></extra>",
         "legendgroup": "Yes",
         "marker": {
          "color": "#EF553B",
          "opacity": 0.8,
          "pattern": {
           "shape": ""
          }
         },
         "name": "Yes",
         "orientation": "v",
         "showlegend": true,
         "text": [
          "762 (25.2%)",
          "154 (24.7%)",
          "766 (28.5%)"
         ],
         "textangle": 0,
         "textposition": "inside",
         "type": "bar",
         "x": [
          "No",
          "No phone service",
          "Yes"
         ],
         "xaxis": "x",
         "y": {
          "bdata": "MzMzMzMzOUAzMzMzM7M4QAAAAAAAgDxA",
          "dtype": "f8"
         },
         "yaxis": "y"
        }
       ],
       "layout": {
        "bargap": 0.1,
        "barmode": "relative",
        "legend": {
         "title": {
          "text": "Churn"
         },
         "tracegroupgap": 0
        },
        "margin": {
         "t": 60
        },
        "template": {
         "data": {
          "bar": [
           {
            "error_x": {
             "color": "#2a3f5f"
            },
            "error_y": {
             "color": "#2a3f5f"
            },
            "marker": {
             "line": {
              "color": "white",
              "width": 0.5
             },
             "pattern": {
              "fillmode": "overlay",
              "size": 10,
              "solidity": 0.2
             }
            },
            "type": "bar"
           }
          ],
          "barpolar": [
           {
            "marker": {
             "line": {
              "color": "white",
              "width": 0.5
             },
             "pattern": {
              "fillmode": "overlay",
              "size": 10,
              "solidity": 0.2
             }
            },
            "type": "barpolar"
           }
          ],
          "carpet": [
           {
            "aaxis": {
             "endlinecolor": "#2a3f5f",
             "gridcolor": "#C8D4E3",
             "linecolor": "#C8D4E3",
             "minorgridcolor": "#C8D4E3",
             "startlinecolor": "#2a3f5f"
            },
            "baxis": {
             "endlinecolor": "#2a3f5f",
             "gridcolor": "#C8D4E3",
             "linecolor": "#C8D4E3",
             "minorgridcolor": "#C8D4E3",
             "startlinecolor": "#2a3f5f"
            },
            "type": "carpet"
           }
          ],
          "choropleth": [
           {
            "colorbar": {
             "outlinewidth": 0,
             "ticks": ""
            },
            "type": "choropleth"
           }
          ],
          "contour": [
           {
            "colorbar": {
             "outlinewidth": 0,
             "ticks": ""
            },
            "colorscale": [
             [
              0,
              "#0d0887"
             ],
             [
              0.1111111111111111,
              "#46039f"
             ],
             [
              0.2222222222222222,
              "#7201a8"
             ],
             [
              0.3333333333333333,
              "#9c179e"
             ],
             [
              0.4444444444444444,
              "#bd3786"
             ],
             [
              0.5555555555555556,
              "#d8576b"
             ],
             [
              0.6666666666666666,
              "#ed7953"
             ],
             [
              0.7777777777777778,
              "#fb9f3a"
             ],
             [
              0.8888888888888888,
              "#fdca26"
             ],
             [
              1,
              "#f0f921"
             ]
            ],
            "type": "contour"
           }
          ],
          "contourcarpet": [
           {
            "colorbar": {
             "outlinewidth": 0,
             "ticks": ""
            },
            "type": "contourcarpet"
           }
          ],
          "heatmap": [
           {
            "colorbar": {
             "outlinewidth": 0,
             "ticks": ""
            },
            "colorscale": [
             [
              0,
              "#0d0887"
             ],
             [
              0.1111111111111111,
              "#46039f"
             ],
             [
              0.2222222222222222,
              "#7201a8"
             ],
             [
              0.3333333333333333,
              "#9c179e"
             ],
             [
              0.4444444444444444,
              "#bd3786"
             ],
             [
              0.5555555555555556,
              "#d8576b"
             ],
             [
              0.6666666666666666,
              "#ed7953"
             ],
             [
              0.7777777777777778,
              "#fb9f3a"
             ],
             [
              0.8888888888888888,
              "#fdca26"
             ],
             [
              1,
              "#f0f921"
             ]
            ],
            "type": "heatmap"
           }
          ],
          "histogram": [
           {
            "marker": {
             "pattern": {
              "fillmode": "overlay",
              "size": 10,
              "solidity": 0.2
             }
            },
            "type": "histogram"
           }
          ],
          "histogram2d": [
           {
            "colorbar": {
             "outlinewidth": 0,
             "ticks": ""
            },
            "colorscale": [
             [
              0,
              "#0d0887"
             ],
             [
              0.1111111111111111,
              "#46039f"
             ],
             [
              0.2222222222222222,
              "#7201a8"
             ],
             [
              0.3333333333333333,
              "#9c179e"
             ],
             [
              0.4444444444444444,
              "#bd3786"
             ],
             [
              0.5555555555555556,
              "#d8576b"
             ],
             [
              0.6666666666666666,
              "#ed7953"
             ],
             [
              0.7777777777777778,
              "#fb9f3a"
             ],
             [
              0.8888888888888888,
              "#fdca26"
             ],
             [
              1,
              "#f0f921"
             ]
            ],
            "type": "histogram2d"
           }
          ],
          "histogram2dcontour": [
           {
            "colorbar": {
             "outlinewidth": 0,
             "ticks": ""
            },
            "colorscale": [
             [
              0,
              "#0d0887"
             ],
             [
              0.1111111111111111,
              "#46039f"
             ],
             [
              0.2222222222222222,
              "#7201a8"
             ],
             [
              0.3333333333333333,
              "#9c179e"
             ],
             [
              0.4444444444444444,
              "#bd3786"
             ],
             [
              0.5555555555555556,
              "#d8576b"
             ],
             [
              0.6666666666666666,
              "#ed7953"
             ],
             [
              0.7777777777777778,
              "#fb9f3a"
             ],
             [
              0.8888888888888888,
              "#fdca26"
             ],
             [
              1,
              "#f0f921"
             ]
            ],
            "type": "histogram2dcontour"
           }
          ],
          "mesh3d": [
           {
            "colorbar": {
             "outlinewidth": 0,
             "ticks": ""
            },
            "type": "mesh3d"
           }
          ],
          "parcoords": [
           {
            "line": {
             "colorbar": {
              "outlinewidth": 0,
              "ticks": ""
             }
            },
            "type": "parcoords"
           }
          ],
          "pie": [
           {
            "automargin": true,
            "type": "pie"
           }
          ],
          "scatter": [
           {
            "fillpattern": {
             "fillmode": "overlay",
             "size": 10,
             "solidity": 0.2
            },
            "type": "scatter"
           }
          ],
          "scatter3d": [
           {
            "line": {
             "colorbar": {
              "outlinewidth": 0,
              "ticks": ""
             }
            },
            "marker": {
             "colorbar": {
              "outlinewidth": 0,
              "ticks": ""
             }
            },
            "type": "scatter3d"
           }
          ],
          "scattercarpet": [
           {
            "marker": {
             "colorbar": {
              "outlinewidth": 0,
              "ticks": ""
             }
            },
            "type": "scattercarpet"
           }
          ],
          "scattergeo": [
           {
            "marker": {
             "colorbar": {
              "outlinewidth": 0,
              "ticks": ""
             }
            },
            "type": "scattergeo"
           }
          ],
          "scattergl": [
           {
            "marker": {
             "colorbar": {
              "outlinewidth": 0,
              "ticks": ""
             }
            },
            "type": "scattergl"
           }
          ],
          "scattermap": [
           {
            "marker": {
             "colorbar": {
              "outlinewidth": 0,
              "ticks": ""
             }
            },
            "type": "scattermap"
           }
          ],
          "scattermapbox": [
           {
            "marker": {
             "colorbar": {
              "outlinewidth": 0,
              "ticks": ""
             }
            },
            "type": "scattermapbox"
           }
          ],
          "scatterpolar": [
           {
            "marker": {
             "colorbar": {
              "outlinewidth": 0,
              "ticks": ""
             }
            },
            "type": "scatterpolar"
           }
          ],
          "scatterpolargl": [
           {
            "marker": {
             "colorbar": {
              "outlinewidth": 0,
              "ticks": ""
             }
            },
            "type": "scatterpolargl"
           }
          ],
          "scatterternary": [
           {
            "marker": {
             "colorbar": {
              "outlinewidth": 0,
              "ticks": ""
             }
            },
            "type": "scatterternary"
           }
          ],
          "surface": [
           {
            "colorbar": {
             "outlinewidth": 0,
             "ticks": ""
            },
            "colorscale": [
             [
              0,
              "#0d0887"
             ],
             [
              0.1111111111111111,
              "#46039f"
             ],
             [
              0.2222222222222222,
              "#7201a8"
             ],
             [
              0.3333333333333333,
              "#9c179e"
             ],
             [
              0.4444444444444444,
              "#bd3786"
             ],
             [
              0.5555555555555556,
              "#d8576b"
             ],
             [
              0.6666666666666666,
              "#ed7953"
             ],
             [
              0.7777777777777778,
              "#fb9f3a"
             ],
             [
              0.8888888888888888,
              "#fdca26"
             ],
             [
              1,
              "#f0f921"
             ]
            ],
            "type": "surface"
           }
          ],
          "table": [
           {
            "cells": {
             "fill": {
              "color": "#EBF0F8"
             },
             "line": {
              "color": "white"
             }
            },
            "header": {
             "fill": {
              "color": "#C8D4E3"
             },
             "line": {
              "color": "white"
             }
            },
            "type": "table"
           }
          ]
         },
         "layout": {
          "annotationdefaults": {
           "arrowcolor": "#2a3f5f",
           "arrowhead": 0,
           "arrowwidth": 1
          },
          "autotypenumbers": "strict",
          "coloraxis": {
           "colorbar": {
            "outlinewidth": 0,
            "ticks": ""
           }
          },
          "colorscale": {
           "diverging": [
            [
             0,
             "#8e0152"
            ],
            [
             0.1,
             "#c51b7d"
            ],
            [
             0.2,
             "#de77ae"
            ],
            [
             0.3,
             "#f1b6da"
            ],
            [
             0.4,
             "#fde0ef"
            ],
            [
             0.5,
             "#f7f7f7"
            ],
            [
             0.6,
             "#e6f5d0"
            ],
            [
             0.7,
             "#b8e186"
            ],
            [
             0.8,
             "#7fbc41"
            ],
            [
             0.9,
             "#4d9221"
            ],
            [
             1,
             "#276419"
            ]
           ],
           "sequential": [
            [
             0,
             "#0d0887"
            ],
            [
             0.1111111111111111,
             "#46039f"
            ],
            [
             0.2222222222222222,
             "#7201a8"
            ],
            [
             0.3333333333333333,
             "#9c179e"
            ],
            [
             0.4444444444444444,
             "#bd3786"
            ],
            [
             0.5555555555555556,
             "#d8576b"
            ],
            [
             0.6666666666666666,
             "#ed7953"
            ],
            [
             0.7777777777777778,
             "#fb9f3a"
            ],
            [
             0.8888888888888888,
             "#fdca26"
            ],
            [
             1,
             "#f0f921"
            ]
           ],
           "sequentialminus": [
            [
             0,
             "#0d0887"
            ],
            [
             0.1111111111111111,
             "#46039f"
            ],
            [
             0.2222222222222222,
             "#7201a8"
            ],
            [
             0.3333333333333333,
             "#9c179e"
            ],
            [
             0.4444444444444444,
             "#bd3786"
            ],
            [
             0.5555555555555556,
             "#d8576b"
            ],
            [
             0.6666666666666666,
             "#ed7953"
            ],
            [
             0.7777777777777778,
             "#fb9f3a"
            ],
            [
             0.8888888888888888,
             "#fdca26"
            ],
            [
             1,
             "#f0f921"
            ]
           ]
          },
          "colorway": [
           "#636efa",
           "#EF553B",
           "#00cc96",
           "#ab63fa",
           "#FFA15A",
           "#19d3f3",
           "#FF6692",
           "#B6E880",
           "#FF97FF",
           "#FECB52"
          ],
          "font": {
           "color": "#2a3f5f"
          },
          "geo": {
           "bgcolor": "white",
           "lakecolor": "white",
           "landcolor": "white",
           "showlakes": true,
           "showland": true,
           "subunitcolor": "#C8D4E3"
          },
          "hoverlabel": {
           "align": "left"
          },
          "hovermode": "closest",
          "mapbox": {
           "style": "light"
          },
          "paper_bgcolor": "white",
          "plot_bgcolor": "white",
          "polar": {
           "angularaxis": {
            "gridcolor": "#EBF0F8",
            "linecolor": "#EBF0F8",
            "ticks": ""
           },
           "bgcolor": "white",
           "radialaxis": {
            "gridcolor": "#EBF0F8",
            "linecolor": "#EBF0F8",
            "ticks": ""
           }
          },
          "scene": {
           "xaxis": {
            "backgroundcolor": "white",
            "gridcolor": "#DFE8F3",
            "gridwidth": 2,
            "linecolor": "#EBF0F8",
            "showbackground": true,
            "ticks": "",
            "zerolinecolor": "#EBF0F8"
           },
           "yaxis": {
            "backgroundcolor": "white",
            "gridcolor": "#DFE8F3",
            "gridwidth": 2,
            "linecolor": "#EBF0F8",
            "showbackground": true,
            "ticks": "",
            "zerolinecolor": "#EBF0F8"
           },
           "zaxis": {
            "backgroundcolor": "white",
            "gridcolor": "#DFE8F3",
            "gridwidth": 2,
            "linecolor": "#EBF0F8",
            "showbackground": true,
            "ticks": "",
            "zerolinecolor": "#EBF0F8"
           }
          },
          "shapedefaults": {
           "line": {
            "color": "#2a3f5f"
           }
          },
          "ternary": {
           "aaxis": {
            "gridcolor": "#DFE8F3",
            "linecolor": "#A2B1C6",
            "ticks": ""
           },
           "baxis": {
            "gridcolor": "#DFE8F3",
            "linecolor": "#A2B1C6",
            "ticks": ""
           },
           "bgcolor": "white",
           "caxis": {
            "gridcolor": "#DFE8F3",
            "linecolor": "#A2B1C6",
            "ticks": ""
           }
          },
          "title": {
           "x": 0.05
          },
          "xaxis": {
           "automargin": true,
           "gridcolor": "#EBF0F8",
           "linecolor": "#EBF0F8",
           "ticks": "",
           "title": {
            "standoff": 15
           },
           "zerolinecolor": "#EBF0F8",
           "zerolinewidth": 2
          },
          "yaxis": {
           "automargin": true,
           "gridcolor": "#EBF0F8",
           "linecolor": "#EBF0F8",
           "ticks": "",
           "title": {
            "standoff": 15
           },
           "zerolinecolor": "#EBF0F8",
           "zerolinewidth": 2
          }
         }
        },
        "title": {
         "text": "Churn Distribution by MultipleLines (%)"
        },
        "xaxis": {
         "anchor": "y",
         "domain": [
          0,
          1
         ],
         "showgrid": false,
         "title": {
          "text": ""
         }
        },
        "yaxis": {
         "anchor": "x",
         "domain": [
          0,
          1
         ],
         "showgrid": false,
         "title": {
          "text": "Percentage (%)"
         }
        }
       }
      }
     },
     "metadata": {},
     "output_type": "display_data"
    },
    {
     "data": {
      "application/vnd.plotly.v1+json": {
       "config": {
        "plotlyServerURL": "https://plot.ly"
       },
       "data": [
        {
         "hovertemplate": "Churn=No<br>InternetService=%{x}<br>percentage=%{y}<br>label=%{text}<extra></extra>",
         "legendgroup": "No",
         "marker": {
          "color": "#636efa",
          "opacity": 0.8,
          "pattern": {
           "shape": ""
          }
         },
         "name": "No",
         "orientation": "v",
         "showlegend": true,
         "text": [
          "1765 (80.9%)",
          "1620 (58.2%)",
          "1271 (92.6%)"
         ],
         "textangle": 0,
         "textposition": "inside",
         "type": "bar",
         "x": [
          "DSL",
          "Fiber optic",
          "No"
         ],
         "xaxis": "x",
         "y": {
          "bdata": "mpmZmZk5VECamZmZmRlNQGZmZmZmJldA",
          "dtype": "f8"
         },
         "yaxis": "y"
        },
        {
         "hovertemplate": "Churn=Yes<br>InternetService=%{x}<br>percentage=%{y}<br>label=%{text}<extra></extra>",
         "legendgroup": "Yes",
         "marker": {
          "color": "#EF553B",
          "opacity": 0.8,
          "pattern": {
           "shape": ""
          }
         },
         "name": "Yes",
         "orientation": "v",
         "showlegend": true,
         "text": [
          "418 (19.1%)",
          "1162 (41.8%)",
          "102 (7.4%)"
         ],
         "textangle": 0,
         "textposition": "inside",
         "type": "bar",
         "x": [
          "DSL",
          "Fiber optic",
          "No"
         ],
         "xaxis": "x",
         "y": {
          "bdata": "mpmZmZkZM0BmZmZmZuZEQJqZmZmZmR1A",
          "dtype": "f8"
         },
         "yaxis": "y"
        }
       ],
       "layout": {
        "bargap": 0.1,
        "barmode": "relative",
        "legend": {
         "title": {
          "text": "Churn"
         },
         "tracegroupgap": 0
        },
        "margin": {
         "t": 60
        },
        "template": {
         "data": {
          "bar": [
           {
            "error_x": {
             "color": "#2a3f5f"
            },
            "error_y": {
             "color": "#2a3f5f"
            },
            "marker": {
             "line": {
              "color": "white",
              "width": 0.5
             },
             "pattern": {
              "fillmode": "overlay",
              "size": 10,
              "solidity": 0.2
             }
            },
            "type": "bar"
           }
          ],
          "barpolar": [
           {
            "marker": {
             "line": {
              "color": "white",
              "width": 0.5
             },
             "pattern": {
              "fillmode": "overlay",
              "size": 10,
              "solidity": 0.2
             }
            },
            "type": "barpolar"
           }
          ],
          "carpet": [
           {
            "aaxis": {
             "endlinecolor": "#2a3f5f",
             "gridcolor": "#C8D4E3",
             "linecolor": "#C8D4E3",
             "minorgridcolor": "#C8D4E3",
             "startlinecolor": "#2a3f5f"
            },
            "baxis": {
             "endlinecolor": "#2a3f5f",
             "gridcolor": "#C8D4E3",
             "linecolor": "#C8D4E3",
             "minorgridcolor": "#C8D4E3",
             "startlinecolor": "#2a3f5f"
            },
            "type": "carpet"
           }
          ],
          "choropleth": [
           {
            "colorbar": {
             "outlinewidth": 0,
             "ticks": ""
            },
            "type": "choropleth"
           }
          ],
          "contour": [
           {
            "colorbar": {
             "outlinewidth": 0,
             "ticks": ""
            },
            "colorscale": [
             [
              0,
              "#0d0887"
             ],
             [
              0.1111111111111111,
              "#46039f"
             ],
             [
              0.2222222222222222,
              "#7201a8"
             ],
             [
              0.3333333333333333,
              "#9c179e"
             ],
             [
              0.4444444444444444,
              "#bd3786"
             ],
             [
              0.5555555555555556,
              "#d8576b"
             ],
             [
              0.6666666666666666,
              "#ed7953"
             ],
             [
              0.7777777777777778,
              "#fb9f3a"
             ],
             [
              0.8888888888888888,
              "#fdca26"
             ],
             [
              1,
              "#f0f921"
             ]
            ],
            "type": "contour"
           }
          ],
          "contourcarpet": [
           {
            "colorbar": {
             "outlinewidth": 0,
             "ticks": ""
            },
            "type": "contourcarpet"
           }
          ],
          "heatmap": [
           {
            "colorbar": {
             "outlinewidth": 0,
             "ticks": ""
            },
            "colorscale": [
             [
              0,
              "#0d0887"
             ],
             [
              0.1111111111111111,
              "#46039f"
             ],
             [
              0.2222222222222222,
              "#7201a8"
             ],
             [
              0.3333333333333333,
              "#9c179e"
             ],
             [
              0.4444444444444444,
              "#bd3786"
             ],
             [
              0.5555555555555556,
              "#d8576b"
             ],
             [
              0.6666666666666666,
              "#ed7953"
             ],
             [
              0.7777777777777778,
              "#fb9f3a"
             ],
             [
              0.8888888888888888,
              "#fdca26"
             ],
             [
              1,
              "#f0f921"
             ]
            ],
            "type": "heatmap"
           }
          ],
          "histogram": [
           {
            "marker": {
             "pattern": {
              "fillmode": "overlay",
              "size": 10,
              "solidity": 0.2
             }
            },
            "type": "histogram"
           }
          ],
          "histogram2d": [
           {
            "colorbar": {
             "outlinewidth": 0,
             "ticks": ""
            },
            "colorscale": [
             [
              0,
              "#0d0887"
             ],
             [
              0.1111111111111111,
              "#46039f"
             ],
             [
              0.2222222222222222,
              "#7201a8"
             ],
             [
              0.3333333333333333,
              "#9c179e"
             ],
             [
              0.4444444444444444,
              "#bd3786"
             ],
             [
              0.5555555555555556,
              "#d8576b"
             ],
             [
              0.6666666666666666,
              "#ed7953"
             ],
             [
              0.7777777777777778,
              "#fb9f3a"
             ],
             [
              0.8888888888888888,
              "#fdca26"
             ],
             [
              1,
              "#f0f921"
             ]
            ],
            "type": "histogram2d"
           }
          ],
          "histogram2dcontour": [
           {
            "colorbar": {
             "outlinewidth": 0,
             "ticks": ""
            },
            "colorscale": [
             [
              0,
              "#0d0887"
             ],
             [
              0.1111111111111111,
              "#46039f"
             ],
             [
              0.2222222222222222,
              "#7201a8"
             ],
             [
              0.3333333333333333,
              "#9c179e"
             ],
             [
              0.4444444444444444,
              "#bd3786"
             ],
             [
              0.5555555555555556,
              "#d8576b"
             ],
             [
              0.6666666666666666,
              "#ed7953"
             ],
             [
              0.7777777777777778,
              "#fb9f3a"
             ],
             [
              0.8888888888888888,
              "#fdca26"
             ],
             [
              1,
              "#f0f921"
             ]
            ],
            "type": "histogram2dcontour"
           }
          ],
          "mesh3d": [
           {
            "colorbar": {
             "outlinewidth": 0,
             "ticks": ""
            },
            "type": "mesh3d"
           }
          ],
          "parcoords": [
           {
            "line": {
             "colorbar": {
              "outlinewidth": 0,
              "ticks": ""
             }
            },
            "type": "parcoords"
           }
          ],
          "pie": [
           {
            "automargin": true,
            "type": "pie"
           }
          ],
          "scatter": [
           {
            "fillpattern": {
             "fillmode": "overlay",
             "size": 10,
             "solidity": 0.2
            },
            "type": "scatter"
           }
          ],
          "scatter3d": [
           {
            "line": {
             "colorbar": {
              "outlinewidth": 0,
              "ticks": ""
             }
            },
            "marker": {
             "colorbar": {
              "outlinewidth": 0,
              "ticks": ""
             }
            },
            "type": "scatter3d"
           }
          ],
          "scattercarpet": [
           {
            "marker": {
             "colorbar": {
              "outlinewidth": 0,
              "ticks": ""
             }
            },
            "type": "scattercarpet"
           }
          ],
          "scattergeo": [
           {
            "marker": {
             "colorbar": {
              "outlinewidth": 0,
              "ticks": ""
             }
            },
            "type": "scattergeo"
           }
          ],
          "scattergl": [
           {
            "marker": {
             "colorbar": {
              "outlinewidth": 0,
              "ticks": ""
             }
            },
            "type": "scattergl"
           }
          ],
          "scattermap": [
           {
            "marker": {
             "colorbar": {
              "outlinewidth": 0,
              "ticks": ""
             }
            },
            "type": "scattermap"
           }
          ],
          "scattermapbox": [
           {
            "marker": {
             "colorbar": {
              "outlinewidth": 0,
              "ticks": ""
             }
            },
            "type": "scattermapbox"
           }
          ],
          "scatterpolar": [
           {
            "marker": {
             "colorbar": {
              "outlinewidth": 0,
              "ticks": ""
             }
            },
            "type": "scatterpolar"
           }
          ],
          "scatterpolargl": [
           {
            "marker": {
             "colorbar": {
              "outlinewidth": 0,
              "ticks": ""
             }
            },
            "type": "scatterpolargl"
           }
          ],
          "scatterternary": [
           {
            "marker": {
             "colorbar": {
              "outlinewidth": 0,
              "ticks": ""
             }
            },
            "type": "scatterternary"
           }
          ],
          "surface": [
           {
            "colorbar": {
             "outlinewidth": 0,
             "ticks": ""
            },
            "colorscale": [
             [
              0,
              "#0d0887"
             ],
             [
              0.1111111111111111,
              "#46039f"
             ],
             [
              0.2222222222222222,
              "#7201a8"
             ],
             [
              0.3333333333333333,
              "#9c179e"
             ],
             [
              0.4444444444444444,
              "#bd3786"
             ],
             [
              0.5555555555555556,
              "#d8576b"
             ],
             [
              0.6666666666666666,
              "#ed7953"
             ],
             [
              0.7777777777777778,
              "#fb9f3a"
             ],
             [
              0.8888888888888888,
              "#fdca26"
             ],
             [
              1,
              "#f0f921"
             ]
            ],
            "type": "surface"
           }
          ],
          "table": [
           {
            "cells": {
             "fill": {
              "color": "#EBF0F8"
             },
             "line": {
              "color": "white"
             }
            },
            "header": {
             "fill": {
              "color": "#C8D4E3"
             },
             "line": {
              "color": "white"
             }
            },
            "type": "table"
           }
          ]
         },
         "layout": {
          "annotationdefaults": {
           "arrowcolor": "#2a3f5f",
           "arrowhead": 0,
           "arrowwidth": 1
          },
          "autotypenumbers": "strict",
          "coloraxis": {
           "colorbar": {
            "outlinewidth": 0,
            "ticks": ""
           }
          },
          "colorscale": {
           "diverging": [
            [
             0,
             "#8e0152"
            ],
            [
             0.1,
             "#c51b7d"
            ],
            [
             0.2,
             "#de77ae"
            ],
            [
             0.3,
             "#f1b6da"
            ],
            [
             0.4,
             "#fde0ef"
            ],
            [
             0.5,
             "#f7f7f7"
            ],
            [
             0.6,
             "#e6f5d0"
            ],
            [
             0.7,
             "#b8e186"
            ],
            [
             0.8,
             "#7fbc41"
            ],
            [
             0.9,
             "#4d9221"
            ],
            [
             1,
             "#276419"
            ]
           ],
           "sequential": [
            [
             0,
             "#0d0887"
            ],
            [
             0.1111111111111111,
             "#46039f"
            ],
            [
             0.2222222222222222,
             "#7201a8"
            ],
            [
             0.3333333333333333,
             "#9c179e"
            ],
            [
             0.4444444444444444,
             "#bd3786"
            ],
            [
             0.5555555555555556,
             "#d8576b"
            ],
            [
             0.6666666666666666,
             "#ed7953"
            ],
            [
             0.7777777777777778,
             "#fb9f3a"
            ],
            [
             0.8888888888888888,
             "#fdca26"
            ],
            [
             1,
             "#f0f921"
            ]
           ],
           "sequentialminus": [
            [
             0,
             "#0d0887"
            ],
            [
             0.1111111111111111,
             "#46039f"
            ],
            [
             0.2222222222222222,
             "#7201a8"
            ],
            [
             0.3333333333333333,
             "#9c179e"
            ],
            [
             0.4444444444444444,
             "#bd3786"
            ],
            [
             0.5555555555555556,
             "#d8576b"
            ],
            [
             0.6666666666666666,
             "#ed7953"
            ],
            [
             0.7777777777777778,
             "#fb9f3a"
            ],
            [
             0.8888888888888888,
             "#fdca26"
            ],
            [
             1,
             "#f0f921"
            ]
           ]
          },
          "colorway": [
           "#636efa",
           "#EF553B",
           "#00cc96",
           "#ab63fa",
           "#FFA15A",
           "#19d3f3",
           "#FF6692",
           "#B6E880",
           "#FF97FF",
           "#FECB52"
          ],
          "font": {
           "color": "#2a3f5f"
          },
          "geo": {
           "bgcolor": "white",
           "lakecolor": "white",
           "landcolor": "white",
           "showlakes": true,
           "showland": true,
           "subunitcolor": "#C8D4E3"
          },
          "hoverlabel": {
           "align": "left"
          },
          "hovermode": "closest",
          "mapbox": {
           "style": "light"
          },
          "paper_bgcolor": "white",
          "plot_bgcolor": "white",
          "polar": {
           "angularaxis": {
            "gridcolor": "#EBF0F8",
            "linecolor": "#EBF0F8",
            "ticks": ""
           },
           "bgcolor": "white",
           "radialaxis": {
            "gridcolor": "#EBF0F8",
            "linecolor": "#EBF0F8",
            "ticks": ""
           }
          },
          "scene": {
           "xaxis": {
            "backgroundcolor": "white",
            "gridcolor": "#DFE8F3",
            "gridwidth": 2,
            "linecolor": "#EBF0F8",
            "showbackground": true,
            "ticks": "",
            "zerolinecolor": "#EBF0F8"
           },
           "yaxis": {
            "backgroundcolor": "white",
            "gridcolor": "#DFE8F3",
            "gridwidth": 2,
            "linecolor": "#EBF0F8",
            "showbackground": true,
            "ticks": "",
            "zerolinecolor": "#EBF0F8"
           },
           "zaxis": {
            "backgroundcolor": "white",
            "gridcolor": "#DFE8F3",
            "gridwidth": 2,
            "linecolor": "#EBF0F8",
            "showbackground": true,
            "ticks": "",
            "zerolinecolor": "#EBF0F8"
           }
          },
          "shapedefaults": {
           "line": {
            "color": "#2a3f5f"
           }
          },
          "ternary": {
           "aaxis": {
            "gridcolor": "#DFE8F3",
            "linecolor": "#A2B1C6",
            "ticks": ""
           },
           "baxis": {
            "gridcolor": "#DFE8F3",
            "linecolor": "#A2B1C6",
            "ticks": ""
           },
           "bgcolor": "white",
           "caxis": {
            "gridcolor": "#DFE8F3",
            "linecolor": "#A2B1C6",
            "ticks": ""
           }
          },
          "title": {
           "x": 0.05
          },
          "xaxis": {
           "automargin": true,
           "gridcolor": "#EBF0F8",
           "linecolor": "#EBF0F8",
           "ticks": "",
           "title": {
            "standoff": 15
           },
           "zerolinecolor": "#EBF0F8",
           "zerolinewidth": 2
          },
          "yaxis": {
           "automargin": true,
           "gridcolor": "#EBF0F8",
           "linecolor": "#EBF0F8",
           "ticks": "",
           "title": {
            "standoff": 15
           },
           "zerolinecolor": "#EBF0F8",
           "zerolinewidth": 2
          }
         }
        },
        "title": {
         "text": "Churn Distribution by InternetService (%)"
        },
        "xaxis": {
         "anchor": "y",
         "domain": [
          0,
          1
         ],
         "showgrid": false,
         "title": {
          "text": ""
         }
        },
        "yaxis": {
         "anchor": "x",
         "domain": [
          0,
          1
         ],
         "showgrid": false,
         "title": {
          "text": "Percentage (%)"
         }
        }
       }
      }
     },
     "metadata": {},
     "output_type": "display_data"
    },
    {
     "data": {
      "application/vnd.plotly.v1+json": {
       "config": {
        "plotlyServerURL": "https://plot.ly"
       },
       "data": [
        {
         "hovertemplate": "Churn=No<br>OnlineSecurity=%{x}<br>percentage=%{y}<br>label=%{text}<extra></extra>",
         "legendgroup": "No",
         "marker": {
          "color": "#636efa",
          "opacity": 0.8,
          "pattern": {
           "shape": ""
          }
         },
         "name": "No",
         "orientation": "v",
         "showlegend": true,
         "text": [
          "1844 (58.3%)",
          "1271 (92.6%)",
          "1541 (85.5%)"
         ],
         "textangle": 0,
         "textposition": "inside",
         "type": "bar",
         "x": [
          "No",
          "No internet service",
          "Yes"
         ],
         "xaxis": "x",
         "y": {
          "bdata": "ZmZmZmYmTUBmZmZmZiZXQAAAAAAAYFVA",
          "dtype": "f8"
         },
         "yaxis": "y"
        },
        {
         "hovertemplate": "Churn=Yes<br>OnlineSecurity=%{x}<br>percentage=%{y}<br>label=%{text}<extra></extra>",
         "legendgroup": "Yes",
         "marker": {
          "color": "#EF553B",
          "opacity": 0.8,
          "pattern": {
           "shape": ""
          }
         },
         "name": "Yes",
         "orientation": "v",
         "showlegend": true,
         "text": [
          "1319 (41.7%)",
          "102 (7.4%)",
          "261 (14.5%)"
         ],
         "textangle": 0,
         "textposition": "inside",
         "type": "bar",
         "x": [
          "No",
          "No internet service",
          "Yes"
         ],
         "xaxis": "x",
         "y": {
          "bdata": "mpmZmZnZRECamZmZmZkdQAAAAAAAAC1A",
          "dtype": "f8"
         },
         "yaxis": "y"
        }
       ],
       "layout": {
        "bargap": 0.1,
        "barmode": "relative",
        "legend": {
         "title": {
          "text": "Churn"
         },
         "tracegroupgap": 0
        },
        "margin": {
         "t": 60
        },
        "template": {
         "data": {
          "bar": [
           {
            "error_x": {
             "color": "#2a3f5f"
            },
            "error_y": {
             "color": "#2a3f5f"
            },
            "marker": {
             "line": {
              "color": "white",
              "width": 0.5
             },
             "pattern": {
              "fillmode": "overlay",
              "size": 10,
              "solidity": 0.2
             }
            },
            "type": "bar"
           }
          ],
          "barpolar": [
           {
            "marker": {
             "line": {
              "color": "white",
              "width": 0.5
             },
             "pattern": {
              "fillmode": "overlay",
              "size": 10,
              "solidity": 0.2
             }
            },
            "type": "barpolar"
           }
          ],
          "carpet": [
           {
            "aaxis": {
             "endlinecolor": "#2a3f5f",
             "gridcolor": "#C8D4E3",
             "linecolor": "#C8D4E3",
             "minorgridcolor": "#C8D4E3",
             "startlinecolor": "#2a3f5f"
            },
            "baxis": {
             "endlinecolor": "#2a3f5f",
             "gridcolor": "#C8D4E3",
             "linecolor": "#C8D4E3",
             "minorgridcolor": "#C8D4E3",
             "startlinecolor": "#2a3f5f"
            },
            "type": "carpet"
           }
          ],
          "choropleth": [
           {
            "colorbar": {
             "outlinewidth": 0,
             "ticks": ""
            },
            "type": "choropleth"
           }
          ],
          "contour": [
           {
            "colorbar": {
             "outlinewidth": 0,
             "ticks": ""
            },
            "colorscale": [
             [
              0,
              "#0d0887"
             ],
             [
              0.1111111111111111,
              "#46039f"
             ],
             [
              0.2222222222222222,
              "#7201a8"
             ],
             [
              0.3333333333333333,
              "#9c179e"
             ],
             [
              0.4444444444444444,
              "#bd3786"
             ],
             [
              0.5555555555555556,
              "#d8576b"
             ],
             [
              0.6666666666666666,
              "#ed7953"
             ],
             [
              0.7777777777777778,
              "#fb9f3a"
             ],
             [
              0.8888888888888888,
              "#fdca26"
             ],
             [
              1,
              "#f0f921"
             ]
            ],
            "type": "contour"
           }
          ],
          "contourcarpet": [
           {
            "colorbar": {
             "outlinewidth": 0,
             "ticks": ""
            },
            "type": "contourcarpet"
           }
          ],
          "heatmap": [
           {
            "colorbar": {
             "outlinewidth": 0,
             "ticks": ""
            },
            "colorscale": [
             [
              0,
              "#0d0887"
             ],
             [
              0.1111111111111111,
              "#46039f"
             ],
             [
              0.2222222222222222,
              "#7201a8"
             ],
             [
              0.3333333333333333,
              "#9c179e"
             ],
             [
              0.4444444444444444,
              "#bd3786"
             ],
             [
              0.5555555555555556,
              "#d8576b"
             ],
             [
              0.6666666666666666,
              "#ed7953"
             ],
             [
              0.7777777777777778,
              "#fb9f3a"
             ],
             [
              0.8888888888888888,
              "#fdca26"
             ],
             [
              1,
              "#f0f921"
             ]
            ],
            "type": "heatmap"
           }
          ],
          "histogram": [
           {
            "marker": {
             "pattern": {
              "fillmode": "overlay",
              "size": 10,
              "solidity": 0.2
             }
            },
            "type": "histogram"
           }
          ],
          "histogram2d": [
           {
            "colorbar": {
             "outlinewidth": 0,
             "ticks": ""
            },
            "colorscale": [
             [
              0,
              "#0d0887"
             ],
             [
              0.1111111111111111,
              "#46039f"
             ],
             [
              0.2222222222222222,
              "#7201a8"
             ],
             [
              0.3333333333333333,
              "#9c179e"
             ],
             [
              0.4444444444444444,
              "#bd3786"
             ],
             [
              0.5555555555555556,
              "#d8576b"
             ],
             [
              0.6666666666666666,
              "#ed7953"
             ],
             [
              0.7777777777777778,
              "#fb9f3a"
             ],
             [
              0.8888888888888888,
              "#fdca26"
             ],
             [
              1,
              "#f0f921"
             ]
            ],
            "type": "histogram2d"
           }
          ],
          "histogram2dcontour": [
           {
            "colorbar": {
             "outlinewidth": 0,
             "ticks": ""
            },
            "colorscale": [
             [
              0,
              "#0d0887"
             ],
             [
              0.1111111111111111,
              "#46039f"
             ],
             [
              0.2222222222222222,
              "#7201a8"
             ],
             [
              0.3333333333333333,
              "#9c179e"
             ],
             [
              0.4444444444444444,
              "#bd3786"
             ],
             [
              0.5555555555555556,
              "#d8576b"
             ],
             [
              0.6666666666666666,
              "#ed7953"
             ],
             [
              0.7777777777777778,
              "#fb9f3a"
             ],
             [
              0.8888888888888888,
              "#fdca26"
             ],
             [
              1,
              "#f0f921"
             ]
            ],
            "type": "histogram2dcontour"
           }
          ],
          "mesh3d": [
           {
            "colorbar": {
             "outlinewidth": 0,
             "ticks": ""
            },
            "type": "mesh3d"
           }
          ],
          "parcoords": [
           {
            "line": {
             "colorbar": {
              "outlinewidth": 0,
              "ticks": ""
             }
            },
            "type": "parcoords"
           }
          ],
          "pie": [
           {
            "automargin": true,
            "type": "pie"
           }
          ],
          "scatter": [
           {
            "fillpattern": {
             "fillmode": "overlay",
             "size": 10,
             "solidity": 0.2
            },
            "type": "scatter"
           }
          ],
          "scatter3d": [
           {
            "line": {
             "colorbar": {
              "outlinewidth": 0,
              "ticks": ""
             }
            },
            "marker": {
             "colorbar": {
              "outlinewidth": 0,
              "ticks": ""
             }
            },
            "type": "scatter3d"
           }
          ],
          "scattercarpet": [
           {
            "marker": {
             "colorbar": {
              "outlinewidth": 0,
              "ticks": ""
             }
            },
            "type": "scattercarpet"
           }
          ],
          "scattergeo": [
           {
            "marker": {
             "colorbar": {
              "outlinewidth": 0,
              "ticks": ""
             }
            },
            "type": "scattergeo"
           }
          ],
          "scattergl": [
           {
            "marker": {
             "colorbar": {
              "outlinewidth": 0,
              "ticks": ""
             }
            },
            "type": "scattergl"
           }
          ],
          "scattermap": [
           {
            "marker": {
             "colorbar": {
              "outlinewidth": 0,
              "ticks": ""
             }
            },
            "type": "scattermap"
           }
          ],
          "scattermapbox": [
           {
            "marker": {
             "colorbar": {
              "outlinewidth": 0,
              "ticks": ""
             }
            },
            "type": "scattermapbox"
           }
          ],
          "scatterpolar": [
           {
            "marker": {
             "colorbar": {
              "outlinewidth": 0,
              "ticks": ""
             }
            },
            "type": "scatterpolar"
           }
          ],
          "scatterpolargl": [
           {
            "marker": {
             "colorbar": {
              "outlinewidth": 0,
              "ticks": ""
             }
            },
            "type": "scatterpolargl"
           }
          ],
          "scatterternary": [
           {
            "marker": {
             "colorbar": {
              "outlinewidth": 0,
              "ticks": ""
             }
            },
            "type": "scatterternary"
           }
          ],
          "surface": [
           {
            "colorbar": {
             "outlinewidth": 0,
             "ticks": ""
            },
            "colorscale": [
             [
              0,
              "#0d0887"
             ],
             [
              0.1111111111111111,
              "#46039f"
             ],
             [
              0.2222222222222222,
              "#7201a8"
             ],
             [
              0.3333333333333333,
              "#9c179e"
             ],
             [
              0.4444444444444444,
              "#bd3786"
             ],
             [
              0.5555555555555556,
              "#d8576b"
             ],
             [
              0.6666666666666666,
              "#ed7953"
             ],
             [
              0.7777777777777778,
              "#fb9f3a"
             ],
             [
              0.8888888888888888,
              "#fdca26"
             ],
             [
              1,
              "#f0f921"
             ]
            ],
            "type": "surface"
           }
          ],
          "table": [
           {
            "cells": {
             "fill": {
              "color": "#EBF0F8"
             },
             "line": {
              "color": "white"
             }
            },
            "header": {
             "fill": {
              "color": "#C8D4E3"
             },
             "line": {
              "color": "white"
             }
            },
            "type": "table"
           }
          ]
         },
         "layout": {
          "annotationdefaults": {
           "arrowcolor": "#2a3f5f",
           "arrowhead": 0,
           "arrowwidth": 1
          },
          "autotypenumbers": "strict",
          "coloraxis": {
           "colorbar": {
            "outlinewidth": 0,
            "ticks": ""
           }
          },
          "colorscale": {
           "diverging": [
            [
             0,
             "#8e0152"
            ],
            [
             0.1,
             "#c51b7d"
            ],
            [
             0.2,
             "#de77ae"
            ],
            [
             0.3,
             "#f1b6da"
            ],
            [
             0.4,
             "#fde0ef"
            ],
            [
             0.5,
             "#f7f7f7"
            ],
            [
             0.6,
             "#e6f5d0"
            ],
            [
             0.7,
             "#b8e186"
            ],
            [
             0.8,
             "#7fbc41"
            ],
            [
             0.9,
             "#4d9221"
            ],
            [
             1,
             "#276419"
            ]
           ],
           "sequential": [
            [
             0,
             "#0d0887"
            ],
            [
             0.1111111111111111,
             "#46039f"
            ],
            [
             0.2222222222222222,
             "#7201a8"
            ],
            [
             0.3333333333333333,
             "#9c179e"
            ],
            [
             0.4444444444444444,
             "#bd3786"
            ],
            [
             0.5555555555555556,
             "#d8576b"
            ],
            [
             0.6666666666666666,
             "#ed7953"
            ],
            [
             0.7777777777777778,
             "#fb9f3a"
            ],
            [
             0.8888888888888888,
             "#fdca26"
            ],
            [
             1,
             "#f0f921"
            ]
           ],
           "sequentialminus": [
            [
             0,
             "#0d0887"
            ],
            [
             0.1111111111111111,
             "#46039f"
            ],
            [
             0.2222222222222222,
             "#7201a8"
            ],
            [
             0.3333333333333333,
             "#9c179e"
            ],
            [
             0.4444444444444444,
             "#bd3786"
            ],
            [
             0.5555555555555556,
             "#d8576b"
            ],
            [
             0.6666666666666666,
             "#ed7953"
            ],
            [
             0.7777777777777778,
             "#fb9f3a"
            ],
            [
             0.8888888888888888,
             "#fdca26"
            ],
            [
             1,
             "#f0f921"
            ]
           ]
          },
          "colorway": [
           "#636efa",
           "#EF553B",
           "#00cc96",
           "#ab63fa",
           "#FFA15A",
           "#19d3f3",
           "#FF6692",
           "#B6E880",
           "#FF97FF",
           "#FECB52"
          ],
          "font": {
           "color": "#2a3f5f"
          },
          "geo": {
           "bgcolor": "white",
           "lakecolor": "white",
           "landcolor": "white",
           "showlakes": true,
           "showland": true,
           "subunitcolor": "#C8D4E3"
          },
          "hoverlabel": {
           "align": "left"
          },
          "hovermode": "closest",
          "mapbox": {
           "style": "light"
          },
          "paper_bgcolor": "white",
          "plot_bgcolor": "white",
          "polar": {
           "angularaxis": {
            "gridcolor": "#EBF0F8",
            "linecolor": "#EBF0F8",
            "ticks": ""
           },
           "bgcolor": "white",
           "radialaxis": {
            "gridcolor": "#EBF0F8",
            "linecolor": "#EBF0F8",
            "ticks": ""
           }
          },
          "scene": {
           "xaxis": {
            "backgroundcolor": "white",
            "gridcolor": "#DFE8F3",
            "gridwidth": 2,
            "linecolor": "#EBF0F8",
            "showbackground": true,
            "ticks": "",
            "zerolinecolor": "#EBF0F8"
           },
           "yaxis": {
            "backgroundcolor": "white",
            "gridcolor": "#DFE8F3",
            "gridwidth": 2,
            "linecolor": "#EBF0F8",
            "showbackground": true,
            "ticks": "",
            "zerolinecolor": "#EBF0F8"
           },
           "zaxis": {
            "backgroundcolor": "white",
            "gridcolor": "#DFE8F3",
            "gridwidth": 2,
            "linecolor": "#EBF0F8",
            "showbackground": true,
            "ticks": "",
            "zerolinecolor": "#EBF0F8"
           }
          },
          "shapedefaults": {
           "line": {
            "color": "#2a3f5f"
           }
          },
          "ternary": {
           "aaxis": {
            "gridcolor": "#DFE8F3",
            "linecolor": "#A2B1C6",
            "ticks": ""
           },
           "baxis": {
            "gridcolor": "#DFE8F3",
            "linecolor": "#A2B1C6",
            "ticks": ""
           },
           "bgcolor": "white",
           "caxis": {
            "gridcolor": "#DFE8F3",
            "linecolor": "#A2B1C6",
            "ticks": ""
           }
          },
          "title": {
           "x": 0.05
          },
          "xaxis": {
           "automargin": true,
           "gridcolor": "#EBF0F8",
           "linecolor": "#EBF0F8",
           "ticks": "",
           "title": {
            "standoff": 15
           },
           "zerolinecolor": "#EBF0F8",
           "zerolinewidth": 2
          },
          "yaxis": {
           "automargin": true,
           "gridcolor": "#EBF0F8",
           "linecolor": "#EBF0F8",
           "ticks": "",
           "title": {
            "standoff": 15
           },
           "zerolinecolor": "#EBF0F8",
           "zerolinewidth": 2
          }
         }
        },
        "title": {
         "text": "Churn Distribution by OnlineSecurity (%)"
        },
        "xaxis": {
         "anchor": "y",
         "domain": [
          0,
          1
         ],
         "showgrid": false,
         "title": {
          "text": ""
         }
        },
        "yaxis": {
         "anchor": "x",
         "domain": [
          0,
          1
         ],
         "showgrid": false,
         "title": {
          "text": "Percentage (%)"
         }
        }
       }
      }
     },
     "metadata": {},
     "output_type": "display_data"
    },
    {
     "data": {
      "application/vnd.plotly.v1+json": {
       "config": {
        "plotlyServerURL": "https://plot.ly"
       },
       "data": [
        {
         "hovertemplate": "Churn=No<br>OnlineBackup=%{x}<br>percentage=%{y}<br>label=%{text}<extra></extra>",
         "legendgroup": "No",
         "marker": {
          "color": "#636efa",
          "opacity": 0.8,
          "pattern": {
           "shape": ""
          }
         },
         "name": "No",
         "orientation": "v",
         "showlegend": true,
         "text": [
          "1668 (60.2%)",
          "1271 (92.6%)",
          "1717 (78.3%)"
         ],
         "textangle": 0,
         "textposition": "inside",
         "type": "bar",
         "x": [
          "No",
          "No internet service",
          "Yes"
         ],
         "xaxis": "x",
         "y": {
          "bdata": "mpmZmZkZTkBmZmZmZiZXQDMzMzMzk1NA",
          "dtype": "f8"
         },
         "yaxis": "y"
        },
        {
         "hovertemplate": "Churn=Yes<br>OnlineBackup=%{x}<br>percentage=%{y}<br>label=%{text}<extra></extra>",
         "legendgroup": "Yes",
         "marker": {
          "color": "#EF553B",
          "opacity": 0.8,
          "pattern": {
           "shape": ""
          }
         },
         "name": "Yes",
         "orientation": "v",
         "showlegend": true,
         "text": [
          "1104 (39.8%)",
          "102 (7.4%)",
          "476 (21.7%)"
         ],
         "textangle": 0,
         "textposition": "inside",
         "type": "bar",
         "x": [
          "No",
          "No internet service",
          "Yes"
         ],
         "xaxis": "x",
         "y": {
          "bdata": "ZmZmZmbmQ0CamZmZmZkdQDMzMzMzszVA",
          "dtype": "f8"
         },
         "yaxis": "y"
        }
       ],
       "layout": {
        "bargap": 0.1,
        "barmode": "relative",
        "legend": {
         "title": {
          "text": "Churn"
         },
         "tracegroupgap": 0
        },
        "margin": {
         "t": 60
        },
        "template": {
         "data": {
          "bar": [
           {
            "error_x": {
             "color": "#2a3f5f"
            },
            "error_y": {
             "color": "#2a3f5f"
            },
            "marker": {
             "line": {
              "color": "white",
              "width": 0.5
             },
             "pattern": {
              "fillmode": "overlay",
              "size": 10,
              "solidity": 0.2
             }
            },
            "type": "bar"
           }
          ],
          "barpolar": [
           {
            "marker": {
             "line": {
              "color": "white",
              "width": 0.5
             },
             "pattern": {
              "fillmode": "overlay",
              "size": 10,
              "solidity": 0.2
             }
            },
            "type": "barpolar"
           }
          ],
          "carpet": [
           {
            "aaxis": {
             "endlinecolor": "#2a3f5f",
             "gridcolor": "#C8D4E3",
             "linecolor": "#C8D4E3",
             "minorgridcolor": "#C8D4E3",
             "startlinecolor": "#2a3f5f"
            },
            "baxis": {
             "endlinecolor": "#2a3f5f",
             "gridcolor": "#C8D4E3",
             "linecolor": "#C8D4E3",
             "minorgridcolor": "#C8D4E3",
             "startlinecolor": "#2a3f5f"
            },
            "type": "carpet"
           }
          ],
          "choropleth": [
           {
            "colorbar": {
             "outlinewidth": 0,
             "ticks": ""
            },
            "type": "choropleth"
           }
          ],
          "contour": [
           {
            "colorbar": {
             "outlinewidth": 0,
             "ticks": ""
            },
            "colorscale": [
             [
              0,
              "#0d0887"
             ],
             [
              0.1111111111111111,
              "#46039f"
             ],
             [
              0.2222222222222222,
              "#7201a8"
             ],
             [
              0.3333333333333333,
              "#9c179e"
             ],
             [
              0.4444444444444444,
              "#bd3786"
             ],
             [
              0.5555555555555556,
              "#d8576b"
             ],
             [
              0.6666666666666666,
              "#ed7953"
             ],
             [
              0.7777777777777778,
              "#fb9f3a"
             ],
             [
              0.8888888888888888,
              "#fdca26"
             ],
             [
              1,
              "#f0f921"
             ]
            ],
            "type": "contour"
           }
          ],
          "contourcarpet": [
           {
            "colorbar": {
             "outlinewidth": 0,
             "ticks": ""
            },
            "type": "contourcarpet"
           }
          ],
          "heatmap": [
           {
            "colorbar": {
             "outlinewidth": 0,
             "ticks": ""
            },
            "colorscale": [
             [
              0,
              "#0d0887"
             ],
             [
              0.1111111111111111,
              "#46039f"
             ],
             [
              0.2222222222222222,
              "#7201a8"
             ],
             [
              0.3333333333333333,
              "#9c179e"
             ],
             [
              0.4444444444444444,
              "#bd3786"
             ],
             [
              0.5555555555555556,
              "#d8576b"
             ],
             [
              0.6666666666666666,
              "#ed7953"
             ],
             [
              0.7777777777777778,
              "#fb9f3a"
             ],
             [
              0.8888888888888888,
              "#fdca26"
             ],
             [
              1,
              "#f0f921"
             ]
            ],
            "type": "heatmap"
           }
          ],
          "histogram": [
           {
            "marker": {
             "pattern": {
              "fillmode": "overlay",
              "size": 10,
              "solidity": 0.2
             }
            },
            "type": "histogram"
           }
          ],
          "histogram2d": [
           {
            "colorbar": {
             "outlinewidth": 0,
             "ticks": ""
            },
            "colorscale": [
             [
              0,
              "#0d0887"
             ],
             [
              0.1111111111111111,
              "#46039f"
             ],
             [
              0.2222222222222222,
              "#7201a8"
             ],
             [
              0.3333333333333333,
              "#9c179e"
             ],
             [
              0.4444444444444444,
              "#bd3786"
             ],
             [
              0.5555555555555556,
              "#d8576b"
             ],
             [
              0.6666666666666666,
              "#ed7953"
             ],
             [
              0.7777777777777778,
              "#fb9f3a"
             ],
             [
              0.8888888888888888,
              "#fdca26"
             ],
             [
              1,
              "#f0f921"
             ]
            ],
            "type": "histogram2d"
           }
          ],
          "histogram2dcontour": [
           {
            "colorbar": {
             "outlinewidth": 0,
             "ticks": ""
            },
            "colorscale": [
             [
              0,
              "#0d0887"
             ],
             [
              0.1111111111111111,
              "#46039f"
             ],
             [
              0.2222222222222222,
              "#7201a8"
             ],
             [
              0.3333333333333333,
              "#9c179e"
             ],
             [
              0.4444444444444444,
              "#bd3786"
             ],
             [
              0.5555555555555556,
              "#d8576b"
             ],
             [
              0.6666666666666666,
              "#ed7953"
             ],
             [
              0.7777777777777778,
              "#fb9f3a"
             ],
             [
              0.8888888888888888,
              "#fdca26"
             ],
             [
              1,
              "#f0f921"
             ]
            ],
            "type": "histogram2dcontour"
           }
          ],
          "mesh3d": [
           {
            "colorbar": {
             "outlinewidth": 0,
             "ticks": ""
            },
            "type": "mesh3d"
           }
          ],
          "parcoords": [
           {
            "line": {
             "colorbar": {
              "outlinewidth": 0,
              "ticks": ""
             }
            },
            "type": "parcoords"
           }
          ],
          "pie": [
           {
            "automargin": true,
            "type": "pie"
           }
          ],
          "scatter": [
           {
            "fillpattern": {
             "fillmode": "overlay",
             "size": 10,
             "solidity": 0.2
            },
            "type": "scatter"
           }
          ],
          "scatter3d": [
           {
            "line": {
             "colorbar": {
              "outlinewidth": 0,
              "ticks": ""
             }
            },
            "marker": {
             "colorbar": {
              "outlinewidth": 0,
              "ticks": ""
             }
            },
            "type": "scatter3d"
           }
          ],
          "scattercarpet": [
           {
            "marker": {
             "colorbar": {
              "outlinewidth": 0,
              "ticks": ""
             }
            },
            "type": "scattercarpet"
           }
          ],
          "scattergeo": [
           {
            "marker": {
             "colorbar": {
              "outlinewidth": 0,
              "ticks": ""
             }
            },
            "type": "scattergeo"
           }
          ],
          "scattergl": [
           {
            "marker": {
             "colorbar": {
              "outlinewidth": 0,
              "ticks": ""
             }
            },
            "type": "scattergl"
           }
          ],
          "scattermap": [
           {
            "marker": {
             "colorbar": {
              "outlinewidth": 0,
              "ticks": ""
             }
            },
            "type": "scattermap"
           }
          ],
          "scattermapbox": [
           {
            "marker": {
             "colorbar": {
              "outlinewidth": 0,
              "ticks": ""
             }
            },
            "type": "scattermapbox"
           }
          ],
          "scatterpolar": [
           {
            "marker": {
             "colorbar": {
              "outlinewidth": 0,
              "ticks": ""
             }
            },
            "type": "scatterpolar"
           }
          ],
          "scatterpolargl": [
           {
            "marker": {
             "colorbar": {
              "outlinewidth": 0,
              "ticks": ""
             }
            },
            "type": "scatterpolargl"
           }
          ],
          "scatterternary": [
           {
            "marker": {
             "colorbar": {
              "outlinewidth": 0,
              "ticks": ""
             }
            },
            "type": "scatterternary"
           }
          ],
          "surface": [
           {
            "colorbar": {
             "outlinewidth": 0,
             "ticks": ""
            },
            "colorscale": [
             [
              0,
              "#0d0887"
             ],
             [
              0.1111111111111111,
              "#46039f"
             ],
             [
              0.2222222222222222,
              "#7201a8"
             ],
             [
              0.3333333333333333,
              "#9c179e"
             ],
             [
              0.4444444444444444,
              "#bd3786"
             ],
             [
              0.5555555555555556,
              "#d8576b"
             ],
             [
              0.6666666666666666,
              "#ed7953"
             ],
             [
              0.7777777777777778,
              "#fb9f3a"
             ],
             [
              0.8888888888888888,
              "#fdca26"
             ],
             [
              1,
              "#f0f921"
             ]
            ],
            "type": "surface"
           }
          ],
          "table": [
           {
            "cells": {
             "fill": {
              "color": "#EBF0F8"
             },
             "line": {
              "color": "white"
             }
            },
            "header": {
             "fill": {
              "color": "#C8D4E3"
             },
             "line": {
              "color": "white"
             }
            },
            "type": "table"
           }
          ]
         },
         "layout": {
          "annotationdefaults": {
           "arrowcolor": "#2a3f5f",
           "arrowhead": 0,
           "arrowwidth": 1
          },
          "autotypenumbers": "strict",
          "coloraxis": {
           "colorbar": {
            "outlinewidth": 0,
            "ticks": ""
           }
          },
          "colorscale": {
           "diverging": [
            [
             0,
             "#8e0152"
            ],
            [
             0.1,
             "#c51b7d"
            ],
            [
             0.2,
             "#de77ae"
            ],
            [
             0.3,
             "#f1b6da"
            ],
            [
             0.4,
             "#fde0ef"
            ],
            [
             0.5,
             "#f7f7f7"
            ],
            [
             0.6,
             "#e6f5d0"
            ],
            [
             0.7,
             "#b8e186"
            ],
            [
             0.8,
             "#7fbc41"
            ],
            [
             0.9,
             "#4d9221"
            ],
            [
             1,
             "#276419"
            ]
           ],
           "sequential": [
            [
             0,
             "#0d0887"
            ],
            [
             0.1111111111111111,
             "#46039f"
            ],
            [
             0.2222222222222222,
             "#7201a8"
            ],
            [
             0.3333333333333333,
             "#9c179e"
            ],
            [
             0.4444444444444444,
             "#bd3786"
            ],
            [
             0.5555555555555556,
             "#d8576b"
            ],
            [
             0.6666666666666666,
             "#ed7953"
            ],
            [
             0.7777777777777778,
             "#fb9f3a"
            ],
            [
             0.8888888888888888,
             "#fdca26"
            ],
            [
             1,
             "#f0f921"
            ]
           ],
           "sequentialminus": [
            [
             0,
             "#0d0887"
            ],
            [
             0.1111111111111111,
             "#46039f"
            ],
            [
             0.2222222222222222,
             "#7201a8"
            ],
            [
             0.3333333333333333,
             "#9c179e"
            ],
            [
             0.4444444444444444,
             "#bd3786"
            ],
            [
             0.5555555555555556,
             "#d8576b"
            ],
            [
             0.6666666666666666,
             "#ed7953"
            ],
            [
             0.7777777777777778,
             "#fb9f3a"
            ],
            [
             0.8888888888888888,
             "#fdca26"
            ],
            [
             1,
             "#f0f921"
            ]
           ]
          },
          "colorway": [
           "#636efa",
           "#EF553B",
           "#00cc96",
           "#ab63fa",
           "#FFA15A",
           "#19d3f3",
           "#FF6692",
           "#B6E880",
           "#FF97FF",
           "#FECB52"
          ],
          "font": {
           "color": "#2a3f5f"
          },
          "geo": {
           "bgcolor": "white",
           "lakecolor": "white",
           "landcolor": "white",
           "showlakes": true,
           "showland": true,
           "subunitcolor": "#C8D4E3"
          },
          "hoverlabel": {
           "align": "left"
          },
          "hovermode": "closest",
          "mapbox": {
           "style": "light"
          },
          "paper_bgcolor": "white",
          "plot_bgcolor": "white",
          "polar": {
           "angularaxis": {
            "gridcolor": "#EBF0F8",
            "linecolor": "#EBF0F8",
            "ticks": ""
           },
           "bgcolor": "white",
           "radialaxis": {
            "gridcolor": "#EBF0F8",
            "linecolor": "#EBF0F8",
            "ticks": ""
           }
          },
          "scene": {
           "xaxis": {
            "backgroundcolor": "white",
            "gridcolor": "#DFE8F3",
            "gridwidth": 2,
            "linecolor": "#EBF0F8",
            "showbackground": true,
            "ticks": "",
            "zerolinecolor": "#EBF0F8"
           },
           "yaxis": {
            "backgroundcolor": "white",
            "gridcolor": "#DFE8F3",
            "gridwidth": 2,
            "linecolor": "#EBF0F8",
            "showbackground": true,
            "ticks": "",
            "zerolinecolor": "#EBF0F8"
           },
           "zaxis": {
            "backgroundcolor": "white",
            "gridcolor": "#DFE8F3",
            "gridwidth": 2,
            "linecolor": "#EBF0F8",
            "showbackground": true,
            "ticks": "",
            "zerolinecolor": "#EBF0F8"
           }
          },
          "shapedefaults": {
           "line": {
            "color": "#2a3f5f"
           }
          },
          "ternary": {
           "aaxis": {
            "gridcolor": "#DFE8F3",
            "linecolor": "#A2B1C6",
            "ticks": ""
           },
           "baxis": {
            "gridcolor": "#DFE8F3",
            "linecolor": "#A2B1C6",
            "ticks": ""
           },
           "bgcolor": "white",
           "caxis": {
            "gridcolor": "#DFE8F3",
            "linecolor": "#A2B1C6",
            "ticks": ""
           }
          },
          "title": {
           "x": 0.05
          },
          "xaxis": {
           "automargin": true,
           "gridcolor": "#EBF0F8",
           "linecolor": "#EBF0F8",
           "ticks": "",
           "title": {
            "standoff": 15
           },
           "zerolinecolor": "#EBF0F8",
           "zerolinewidth": 2
          },
          "yaxis": {
           "automargin": true,
           "gridcolor": "#EBF0F8",
           "linecolor": "#EBF0F8",
           "ticks": "",
           "title": {
            "standoff": 15
           },
           "zerolinecolor": "#EBF0F8",
           "zerolinewidth": 2
          }
         }
        },
        "title": {
         "text": "Churn Distribution by OnlineBackup (%)"
        },
        "xaxis": {
         "anchor": "y",
         "domain": [
          0,
          1
         ],
         "showgrid": false,
         "title": {
          "text": ""
         }
        },
        "yaxis": {
         "anchor": "x",
         "domain": [
          0,
          1
         ],
         "showgrid": false,
         "title": {
          "text": "Percentage (%)"
         }
        }
       }
      }
     },
     "metadata": {},
     "output_type": "display_data"
    },
    {
     "data": {
      "application/vnd.plotly.v1+json": {
       "config": {
        "plotlyServerURL": "https://plot.ly"
       },
       "data": [
        {
         "hovertemplate": "Churn=No<br>DeviceProtection=%{x}<br>percentage=%{y}<br>label=%{text}<extra></extra>",
         "legendgroup": "No",
         "marker": {
          "color": "#636efa",
          "opacity": 0.8,
          "pattern": {
           "shape": ""
          }
         },
         "name": "No",
         "orientation": "v",
         "showlegend": true,
         "text": [
          "1699 (60.9%)",
          "1271 (92.6%)",
          "1686 (77.5%)"
         ],
         "textangle": 0,
         "textposition": "inside",
         "type": "bar",
         "x": [
          "No",
          "No internet service",
          "Yes"
         ],
         "xaxis": "x",
         "y": {
          "bdata": "MzMzMzNzTkBmZmZmZiZXQAAAAAAAYFNA",
          "dtype": "f8"
         },
         "yaxis": "y"
        },
        {
         "hovertemplate": "Churn=Yes<br>DeviceProtection=%{x}<br>percentage=%{y}<br>label=%{text}<extra></extra>",
         "legendgroup": "Yes",
         "marker": {
          "color": "#EF553B",
          "opacity": 0.8,
          "pattern": {
           "shape": ""
          }
         },
         "name": "Yes",
         "orientation": "v",
         "showlegend": true,
         "text": [
          "1090 (39.1%)",
          "102 (7.4%)",
          "490 (22.5%)"
         ],
         "textangle": 0,
         "textposition": "inside",
         "type": "bar",
         "x": [
          "No",
          "No internet service",
          "Yes"
         ],
         "xaxis": "x",
         "y": {
          "bdata": "zczMzMyMQ0CamZmZmZkdQAAAAAAAgDZA",
          "dtype": "f8"
         },
         "yaxis": "y"
        }
       ],
       "layout": {
        "bargap": 0.1,
        "barmode": "relative",
        "legend": {
         "title": {
          "text": "Churn"
         },
         "tracegroupgap": 0
        },
        "margin": {
         "t": 60
        },
        "template": {
         "data": {
          "bar": [
           {
            "error_x": {
             "color": "#2a3f5f"
            },
            "error_y": {
             "color": "#2a3f5f"
            },
            "marker": {
             "line": {
              "color": "white",
              "width": 0.5
             },
             "pattern": {
              "fillmode": "overlay",
              "size": 10,
              "solidity": 0.2
             }
            },
            "type": "bar"
           }
          ],
          "barpolar": [
           {
            "marker": {
             "line": {
              "color": "white",
              "width": 0.5
             },
             "pattern": {
              "fillmode": "overlay",
              "size": 10,
              "solidity": 0.2
             }
            },
            "type": "barpolar"
           }
          ],
          "carpet": [
           {
            "aaxis": {
             "endlinecolor": "#2a3f5f",
             "gridcolor": "#C8D4E3",
             "linecolor": "#C8D4E3",
             "minorgridcolor": "#C8D4E3",
             "startlinecolor": "#2a3f5f"
            },
            "baxis": {
             "endlinecolor": "#2a3f5f",
             "gridcolor": "#C8D4E3",
             "linecolor": "#C8D4E3",
             "minorgridcolor": "#C8D4E3",
             "startlinecolor": "#2a3f5f"
            },
            "type": "carpet"
           }
          ],
          "choropleth": [
           {
            "colorbar": {
             "outlinewidth": 0,
             "ticks": ""
            },
            "type": "choropleth"
           }
          ],
          "contour": [
           {
            "colorbar": {
             "outlinewidth": 0,
             "ticks": ""
            },
            "colorscale": [
             [
              0,
              "#0d0887"
             ],
             [
              0.1111111111111111,
              "#46039f"
             ],
             [
              0.2222222222222222,
              "#7201a8"
             ],
             [
              0.3333333333333333,
              "#9c179e"
             ],
             [
              0.4444444444444444,
              "#bd3786"
             ],
             [
              0.5555555555555556,
              "#d8576b"
             ],
             [
              0.6666666666666666,
              "#ed7953"
             ],
             [
              0.7777777777777778,
              "#fb9f3a"
             ],
             [
              0.8888888888888888,
              "#fdca26"
             ],
             [
              1,
              "#f0f921"
             ]
            ],
            "type": "contour"
           }
          ],
          "contourcarpet": [
           {
            "colorbar": {
             "outlinewidth": 0,
             "ticks": ""
            },
            "type": "contourcarpet"
           }
          ],
          "heatmap": [
           {
            "colorbar": {
             "outlinewidth": 0,
             "ticks": ""
            },
            "colorscale": [
             [
              0,
              "#0d0887"
             ],
             [
              0.1111111111111111,
              "#46039f"
             ],
             [
              0.2222222222222222,
              "#7201a8"
             ],
             [
              0.3333333333333333,
              "#9c179e"
             ],
             [
              0.4444444444444444,
              "#bd3786"
             ],
             [
              0.5555555555555556,
              "#d8576b"
             ],
             [
              0.6666666666666666,
              "#ed7953"
             ],
             [
              0.7777777777777778,
              "#fb9f3a"
             ],
             [
              0.8888888888888888,
              "#fdca26"
             ],
             [
              1,
              "#f0f921"
             ]
            ],
            "type": "heatmap"
           }
          ],
          "histogram": [
           {
            "marker": {
             "pattern": {
              "fillmode": "overlay",
              "size": 10,
              "solidity": 0.2
             }
            },
            "type": "histogram"
           }
          ],
          "histogram2d": [
           {
            "colorbar": {
             "outlinewidth": 0,
             "ticks": ""
            },
            "colorscale": [
             [
              0,
              "#0d0887"
             ],
             [
              0.1111111111111111,
              "#46039f"
             ],
             [
              0.2222222222222222,
              "#7201a8"
             ],
             [
              0.3333333333333333,
              "#9c179e"
             ],
             [
              0.4444444444444444,
              "#bd3786"
             ],
             [
              0.5555555555555556,
              "#d8576b"
             ],
             [
              0.6666666666666666,
              "#ed7953"
             ],
             [
              0.7777777777777778,
              "#fb9f3a"
             ],
             [
              0.8888888888888888,
              "#fdca26"
             ],
             [
              1,
              "#f0f921"
             ]
            ],
            "type": "histogram2d"
           }
          ],
          "histogram2dcontour": [
           {
            "colorbar": {
             "outlinewidth": 0,
             "ticks": ""
            },
            "colorscale": [
             [
              0,
              "#0d0887"
             ],
             [
              0.1111111111111111,
              "#46039f"
             ],
             [
              0.2222222222222222,
              "#7201a8"
             ],
             [
              0.3333333333333333,
              "#9c179e"
             ],
             [
              0.4444444444444444,
              "#bd3786"
             ],
             [
              0.5555555555555556,
              "#d8576b"
             ],
             [
              0.6666666666666666,
              "#ed7953"
             ],
             [
              0.7777777777777778,
              "#fb9f3a"
             ],
             [
              0.8888888888888888,
              "#fdca26"
             ],
             [
              1,
              "#f0f921"
             ]
            ],
            "type": "histogram2dcontour"
           }
          ],
          "mesh3d": [
           {
            "colorbar": {
             "outlinewidth": 0,
             "ticks": ""
            },
            "type": "mesh3d"
           }
          ],
          "parcoords": [
           {
            "line": {
             "colorbar": {
              "outlinewidth": 0,
              "ticks": ""
             }
            },
            "type": "parcoords"
           }
          ],
          "pie": [
           {
            "automargin": true,
            "type": "pie"
           }
          ],
          "scatter": [
           {
            "fillpattern": {
             "fillmode": "overlay",
             "size": 10,
             "solidity": 0.2
            },
            "type": "scatter"
           }
          ],
          "scatter3d": [
           {
            "line": {
             "colorbar": {
              "outlinewidth": 0,
              "ticks": ""
             }
            },
            "marker": {
             "colorbar": {
              "outlinewidth": 0,
              "ticks": ""
             }
            },
            "type": "scatter3d"
           }
          ],
          "scattercarpet": [
           {
            "marker": {
             "colorbar": {
              "outlinewidth": 0,
              "ticks": ""
             }
            },
            "type": "scattercarpet"
           }
          ],
          "scattergeo": [
           {
            "marker": {
             "colorbar": {
              "outlinewidth": 0,
              "ticks": ""
             }
            },
            "type": "scattergeo"
           }
          ],
          "scattergl": [
           {
            "marker": {
             "colorbar": {
              "outlinewidth": 0,
              "ticks": ""
             }
            },
            "type": "scattergl"
           }
          ],
          "scattermap": [
           {
            "marker": {
             "colorbar": {
              "outlinewidth": 0,
              "ticks": ""
             }
            },
            "type": "scattermap"
           }
          ],
          "scattermapbox": [
           {
            "marker": {
             "colorbar": {
              "outlinewidth": 0,
              "ticks": ""
             }
            },
            "type": "scattermapbox"
           }
          ],
          "scatterpolar": [
           {
            "marker": {
             "colorbar": {
              "outlinewidth": 0,
              "ticks": ""
             }
            },
            "type": "scatterpolar"
           }
          ],
          "scatterpolargl": [
           {
            "marker": {
             "colorbar": {
              "outlinewidth": 0,
              "ticks": ""
             }
            },
            "type": "scatterpolargl"
           }
          ],
          "scatterternary": [
           {
            "marker": {
             "colorbar": {
              "outlinewidth": 0,
              "ticks": ""
             }
            },
            "type": "scatterternary"
           }
          ],
          "surface": [
           {
            "colorbar": {
             "outlinewidth": 0,
             "ticks": ""
            },
            "colorscale": [
             [
              0,
              "#0d0887"
             ],
             [
              0.1111111111111111,
              "#46039f"
             ],
             [
              0.2222222222222222,
              "#7201a8"
             ],
             [
              0.3333333333333333,
              "#9c179e"
             ],
             [
              0.4444444444444444,
              "#bd3786"
             ],
             [
              0.5555555555555556,
              "#d8576b"
             ],
             [
              0.6666666666666666,
              "#ed7953"
             ],
             [
              0.7777777777777778,
              "#fb9f3a"
             ],
             [
              0.8888888888888888,
              "#fdca26"
             ],
             [
              1,
              "#f0f921"
             ]
            ],
            "type": "surface"
           }
          ],
          "table": [
           {
            "cells": {
             "fill": {
              "color": "#EBF0F8"
             },
             "line": {
              "color": "white"
             }
            },
            "header": {
             "fill": {
              "color": "#C8D4E3"
             },
             "line": {
              "color": "white"
             }
            },
            "type": "table"
           }
          ]
         },
         "layout": {
          "annotationdefaults": {
           "arrowcolor": "#2a3f5f",
           "arrowhead": 0,
           "arrowwidth": 1
          },
          "autotypenumbers": "strict",
          "coloraxis": {
           "colorbar": {
            "outlinewidth": 0,
            "ticks": ""
           }
          },
          "colorscale": {
           "diverging": [
            [
             0,
             "#8e0152"
            ],
            [
             0.1,
             "#c51b7d"
            ],
            [
             0.2,
             "#de77ae"
            ],
            [
             0.3,
             "#f1b6da"
            ],
            [
             0.4,
             "#fde0ef"
            ],
            [
             0.5,
             "#f7f7f7"
            ],
            [
             0.6,
             "#e6f5d0"
            ],
            [
             0.7,
             "#b8e186"
            ],
            [
             0.8,
             "#7fbc41"
            ],
            [
             0.9,
             "#4d9221"
            ],
            [
             1,
             "#276419"
            ]
           ],
           "sequential": [
            [
             0,
             "#0d0887"
            ],
            [
             0.1111111111111111,
             "#46039f"
            ],
            [
             0.2222222222222222,
             "#7201a8"
            ],
            [
             0.3333333333333333,
             "#9c179e"
            ],
            [
             0.4444444444444444,
             "#bd3786"
            ],
            [
             0.5555555555555556,
             "#d8576b"
            ],
            [
             0.6666666666666666,
             "#ed7953"
            ],
            [
             0.7777777777777778,
             "#fb9f3a"
            ],
            [
             0.8888888888888888,
             "#fdca26"
            ],
            [
             1,
             "#f0f921"
            ]
           ],
           "sequentialminus": [
            [
             0,
             "#0d0887"
            ],
            [
             0.1111111111111111,
             "#46039f"
            ],
            [
             0.2222222222222222,
             "#7201a8"
            ],
            [
             0.3333333333333333,
             "#9c179e"
            ],
            [
             0.4444444444444444,
             "#bd3786"
            ],
            [
             0.5555555555555556,
             "#d8576b"
            ],
            [
             0.6666666666666666,
             "#ed7953"
            ],
            [
             0.7777777777777778,
             "#fb9f3a"
            ],
            [
             0.8888888888888888,
             "#fdca26"
            ],
            [
             1,
             "#f0f921"
            ]
           ]
          },
          "colorway": [
           "#636efa",
           "#EF553B",
           "#00cc96",
           "#ab63fa",
           "#FFA15A",
           "#19d3f3",
           "#FF6692",
           "#B6E880",
           "#FF97FF",
           "#FECB52"
          ],
          "font": {
           "color": "#2a3f5f"
          },
          "geo": {
           "bgcolor": "white",
           "lakecolor": "white",
           "landcolor": "white",
           "showlakes": true,
           "showland": true,
           "subunitcolor": "#C8D4E3"
          },
          "hoverlabel": {
           "align": "left"
          },
          "hovermode": "closest",
          "mapbox": {
           "style": "light"
          },
          "paper_bgcolor": "white",
          "plot_bgcolor": "white",
          "polar": {
           "angularaxis": {
            "gridcolor": "#EBF0F8",
            "linecolor": "#EBF0F8",
            "ticks": ""
           },
           "bgcolor": "white",
           "radialaxis": {
            "gridcolor": "#EBF0F8",
            "linecolor": "#EBF0F8",
            "ticks": ""
           }
          },
          "scene": {
           "xaxis": {
            "backgroundcolor": "white",
            "gridcolor": "#DFE8F3",
            "gridwidth": 2,
            "linecolor": "#EBF0F8",
            "showbackground": true,
            "ticks": "",
            "zerolinecolor": "#EBF0F8"
           },
           "yaxis": {
            "backgroundcolor": "white",
            "gridcolor": "#DFE8F3",
            "gridwidth": 2,
            "linecolor": "#EBF0F8",
            "showbackground": true,
            "ticks": "",
            "zerolinecolor": "#EBF0F8"
           },
           "zaxis": {
            "backgroundcolor": "white",
            "gridcolor": "#DFE8F3",
            "gridwidth": 2,
            "linecolor": "#EBF0F8",
            "showbackground": true,
            "ticks": "",
            "zerolinecolor": "#EBF0F8"
           }
          },
          "shapedefaults": {
           "line": {
            "color": "#2a3f5f"
           }
          },
          "ternary": {
           "aaxis": {
            "gridcolor": "#DFE8F3",
            "linecolor": "#A2B1C6",
            "ticks": ""
           },
           "baxis": {
            "gridcolor": "#DFE8F3",
            "linecolor": "#A2B1C6",
            "ticks": ""
           },
           "bgcolor": "white",
           "caxis": {
            "gridcolor": "#DFE8F3",
            "linecolor": "#A2B1C6",
            "ticks": ""
           }
          },
          "title": {
           "x": 0.05
          },
          "xaxis": {
           "automargin": true,
           "gridcolor": "#EBF0F8",
           "linecolor": "#EBF0F8",
           "ticks": "",
           "title": {
            "standoff": 15
           },
           "zerolinecolor": "#EBF0F8",
           "zerolinewidth": 2
          },
          "yaxis": {
           "automargin": true,
           "gridcolor": "#EBF0F8",
           "linecolor": "#EBF0F8",
           "ticks": "",
           "title": {
            "standoff": 15
           },
           "zerolinecolor": "#EBF0F8",
           "zerolinewidth": 2
          }
         }
        },
        "title": {
         "text": "Churn Distribution by DeviceProtection (%)"
        },
        "xaxis": {
         "anchor": "y",
         "domain": [
          0,
          1
         ],
         "showgrid": false,
         "title": {
          "text": ""
         }
        },
        "yaxis": {
         "anchor": "x",
         "domain": [
          0,
          1
         ],
         "showgrid": false,
         "title": {
          "text": "Percentage (%)"
         }
        }
       }
      }
     },
     "metadata": {},
     "output_type": "display_data"
    },
    {
     "data": {
      "application/vnd.plotly.v1+json": {
       "config": {
        "plotlyServerURL": "https://plot.ly"
       },
       "data": [
        {
         "hovertemplate": "Churn=No<br>TechSupport=%{x}<br>percentage=%{y}<br>label=%{text}<extra></extra>",
         "legendgroup": "No",
         "marker": {
          "color": "#636efa",
          "opacity": 0.8,
          "pattern": {
           "shape": ""
          }
         },
         "name": "No",
         "orientation": "v",
         "showlegend": true,
         "text": [
          "1816 (58.2%)",
          "1271 (92.6%)",
          "1569 (85.0%)"
         ],
         "textangle": 0,
         "textposition": "inside",
         "type": "bar",
         "x": [
          "No",
          "No internet service",
          "Yes"
         ],
         "xaxis": "x",
         "y": {
          "bdata": "mpmZmZkZTUBmZmZmZiZXQAAAAAAAQFVA",
          "dtype": "f8"
         },
         "yaxis": "y"
        },
        {
         "hovertemplate": "Churn=Yes<br>TechSupport=%{x}<br>percentage=%{y}<br>label=%{text}<extra></extra>",
         "legendgroup": "Yes",
         "marker": {
          "color": "#EF553B",
          "opacity": 0.8,
          "pattern": {
           "shape": ""
          }
         },
         "name": "Yes",
         "orientation": "v",
         "showlegend": true,
         "text": [
          "1303 (41.8%)",
          "102 (7.4%)",
          "277 (15.0%)"
         ],
         "textangle": 0,
         "textposition": "inside",
         "type": "bar",
         "x": [
          "No",
          "No internet service",
          "Yes"
         ],
         "xaxis": "x",
         "y": {
          "bdata": "ZmZmZmbmRECamZmZmZkdQAAAAAAAAC5A",
          "dtype": "f8"
         },
         "yaxis": "y"
        }
       ],
       "layout": {
        "bargap": 0.1,
        "barmode": "relative",
        "legend": {
         "title": {
          "text": "Churn"
         },
         "tracegroupgap": 0
        },
        "margin": {
         "t": 60
        },
        "template": {
         "data": {
          "bar": [
           {
            "error_x": {
             "color": "#2a3f5f"
            },
            "error_y": {
             "color": "#2a3f5f"
            },
            "marker": {
             "line": {
              "color": "white",
              "width": 0.5
             },
             "pattern": {
              "fillmode": "overlay",
              "size": 10,
              "solidity": 0.2
             }
            },
            "type": "bar"
           }
          ],
          "barpolar": [
           {
            "marker": {
             "line": {
              "color": "white",
              "width": 0.5
             },
             "pattern": {
              "fillmode": "overlay",
              "size": 10,
              "solidity": 0.2
             }
            },
            "type": "barpolar"
           }
          ],
          "carpet": [
           {
            "aaxis": {
             "endlinecolor": "#2a3f5f",
             "gridcolor": "#C8D4E3",
             "linecolor": "#C8D4E3",
             "minorgridcolor": "#C8D4E3",
             "startlinecolor": "#2a3f5f"
            },
            "baxis": {
             "endlinecolor": "#2a3f5f",
             "gridcolor": "#C8D4E3",
             "linecolor": "#C8D4E3",
             "minorgridcolor": "#C8D4E3",
             "startlinecolor": "#2a3f5f"
            },
            "type": "carpet"
           }
          ],
          "choropleth": [
           {
            "colorbar": {
             "outlinewidth": 0,
             "ticks": ""
            },
            "type": "choropleth"
           }
          ],
          "contour": [
           {
            "colorbar": {
             "outlinewidth": 0,
             "ticks": ""
            },
            "colorscale": [
             [
              0,
              "#0d0887"
             ],
             [
              0.1111111111111111,
              "#46039f"
             ],
             [
              0.2222222222222222,
              "#7201a8"
             ],
             [
              0.3333333333333333,
              "#9c179e"
             ],
             [
              0.4444444444444444,
              "#bd3786"
             ],
             [
              0.5555555555555556,
              "#d8576b"
             ],
             [
              0.6666666666666666,
              "#ed7953"
             ],
             [
              0.7777777777777778,
              "#fb9f3a"
             ],
             [
              0.8888888888888888,
              "#fdca26"
             ],
             [
              1,
              "#f0f921"
             ]
            ],
            "type": "contour"
           }
          ],
          "contourcarpet": [
           {
            "colorbar": {
             "outlinewidth": 0,
             "ticks": ""
            },
            "type": "contourcarpet"
           }
          ],
          "heatmap": [
           {
            "colorbar": {
             "outlinewidth": 0,
             "ticks": ""
            },
            "colorscale": [
             [
              0,
              "#0d0887"
             ],
             [
              0.1111111111111111,
              "#46039f"
             ],
             [
              0.2222222222222222,
              "#7201a8"
             ],
             [
              0.3333333333333333,
              "#9c179e"
             ],
             [
              0.4444444444444444,
              "#bd3786"
             ],
             [
              0.5555555555555556,
              "#d8576b"
             ],
             [
              0.6666666666666666,
              "#ed7953"
             ],
             [
              0.7777777777777778,
              "#fb9f3a"
             ],
             [
              0.8888888888888888,
              "#fdca26"
             ],
             [
              1,
              "#f0f921"
             ]
            ],
            "type": "heatmap"
           }
          ],
          "histogram": [
           {
            "marker": {
             "pattern": {
              "fillmode": "overlay",
              "size": 10,
              "solidity": 0.2
             }
            },
            "type": "histogram"
           }
          ],
          "histogram2d": [
           {
            "colorbar": {
             "outlinewidth": 0,
             "ticks": ""
            },
            "colorscale": [
             [
              0,
              "#0d0887"
             ],
             [
              0.1111111111111111,
              "#46039f"
             ],
             [
              0.2222222222222222,
              "#7201a8"
             ],
             [
              0.3333333333333333,
              "#9c179e"
             ],
             [
              0.4444444444444444,
              "#bd3786"
             ],
             [
              0.5555555555555556,
              "#d8576b"
             ],
             [
              0.6666666666666666,
              "#ed7953"
             ],
             [
              0.7777777777777778,
              "#fb9f3a"
             ],
             [
              0.8888888888888888,
              "#fdca26"
             ],
             [
              1,
              "#f0f921"
             ]
            ],
            "type": "histogram2d"
           }
          ],
          "histogram2dcontour": [
           {
            "colorbar": {
             "outlinewidth": 0,
             "ticks": ""
            },
            "colorscale": [
             [
              0,
              "#0d0887"
             ],
             [
              0.1111111111111111,
              "#46039f"
             ],
             [
              0.2222222222222222,
              "#7201a8"
             ],
             [
              0.3333333333333333,
              "#9c179e"
             ],
             [
              0.4444444444444444,
              "#bd3786"
             ],
             [
              0.5555555555555556,
              "#d8576b"
             ],
             [
              0.6666666666666666,
              "#ed7953"
             ],
             [
              0.7777777777777778,
              "#fb9f3a"
             ],
             [
              0.8888888888888888,
              "#fdca26"
             ],
             [
              1,
              "#f0f921"
             ]
            ],
            "type": "histogram2dcontour"
           }
          ],
          "mesh3d": [
           {
            "colorbar": {
             "outlinewidth": 0,
             "ticks": ""
            },
            "type": "mesh3d"
           }
          ],
          "parcoords": [
           {
            "line": {
             "colorbar": {
              "outlinewidth": 0,
              "ticks": ""
             }
            },
            "type": "parcoords"
           }
          ],
          "pie": [
           {
            "automargin": true,
            "type": "pie"
           }
          ],
          "scatter": [
           {
            "fillpattern": {
             "fillmode": "overlay",
             "size": 10,
             "solidity": 0.2
            },
            "type": "scatter"
           }
          ],
          "scatter3d": [
           {
            "line": {
             "colorbar": {
              "outlinewidth": 0,
              "ticks": ""
             }
            },
            "marker": {
             "colorbar": {
              "outlinewidth": 0,
              "ticks": ""
             }
            },
            "type": "scatter3d"
           }
          ],
          "scattercarpet": [
           {
            "marker": {
             "colorbar": {
              "outlinewidth": 0,
              "ticks": ""
             }
            },
            "type": "scattercarpet"
           }
          ],
          "scattergeo": [
           {
            "marker": {
             "colorbar": {
              "outlinewidth": 0,
              "ticks": ""
             }
            },
            "type": "scattergeo"
           }
          ],
          "scattergl": [
           {
            "marker": {
             "colorbar": {
              "outlinewidth": 0,
              "ticks": ""
             }
            },
            "type": "scattergl"
           }
          ],
          "scattermap": [
           {
            "marker": {
             "colorbar": {
              "outlinewidth": 0,
              "ticks": ""
             }
            },
            "type": "scattermap"
           }
          ],
          "scattermapbox": [
           {
            "marker": {
             "colorbar": {
              "outlinewidth": 0,
              "ticks": ""
             }
            },
            "type": "scattermapbox"
           }
          ],
          "scatterpolar": [
           {
            "marker": {
             "colorbar": {
              "outlinewidth": 0,
              "ticks": ""
             }
            },
            "type": "scatterpolar"
           }
          ],
          "scatterpolargl": [
           {
            "marker": {
             "colorbar": {
              "outlinewidth": 0,
              "ticks": ""
             }
            },
            "type": "scatterpolargl"
           }
          ],
          "scatterternary": [
           {
            "marker": {
             "colorbar": {
              "outlinewidth": 0,
              "ticks": ""
             }
            },
            "type": "scatterternary"
           }
          ],
          "surface": [
           {
            "colorbar": {
             "outlinewidth": 0,
             "ticks": ""
            },
            "colorscale": [
             [
              0,
              "#0d0887"
             ],
             [
              0.1111111111111111,
              "#46039f"
             ],
             [
              0.2222222222222222,
              "#7201a8"
             ],
             [
              0.3333333333333333,
              "#9c179e"
             ],
             [
              0.4444444444444444,
              "#bd3786"
             ],
             [
              0.5555555555555556,
              "#d8576b"
             ],
             [
              0.6666666666666666,
              "#ed7953"
             ],
             [
              0.7777777777777778,
              "#fb9f3a"
             ],
             [
              0.8888888888888888,
              "#fdca26"
             ],
             [
              1,
              "#f0f921"
             ]
            ],
            "type": "surface"
           }
          ],
          "table": [
           {
            "cells": {
             "fill": {
              "color": "#EBF0F8"
             },
             "line": {
              "color": "white"
             }
            },
            "header": {
             "fill": {
              "color": "#C8D4E3"
             },
             "line": {
              "color": "white"
             }
            },
            "type": "table"
           }
          ]
         },
         "layout": {
          "annotationdefaults": {
           "arrowcolor": "#2a3f5f",
           "arrowhead": 0,
           "arrowwidth": 1
          },
          "autotypenumbers": "strict",
          "coloraxis": {
           "colorbar": {
            "outlinewidth": 0,
            "ticks": ""
           }
          },
          "colorscale": {
           "diverging": [
            [
             0,
             "#8e0152"
            ],
            [
             0.1,
             "#c51b7d"
            ],
            [
             0.2,
             "#de77ae"
            ],
            [
             0.3,
             "#f1b6da"
            ],
            [
             0.4,
             "#fde0ef"
            ],
            [
             0.5,
             "#f7f7f7"
            ],
            [
             0.6,
             "#e6f5d0"
            ],
            [
             0.7,
             "#b8e186"
            ],
            [
             0.8,
             "#7fbc41"
            ],
            [
             0.9,
             "#4d9221"
            ],
            [
             1,
             "#276419"
            ]
           ],
           "sequential": [
            [
             0,
             "#0d0887"
            ],
            [
             0.1111111111111111,
             "#46039f"
            ],
            [
             0.2222222222222222,
             "#7201a8"
            ],
            [
             0.3333333333333333,
             "#9c179e"
            ],
            [
             0.4444444444444444,
             "#bd3786"
            ],
            [
             0.5555555555555556,
             "#d8576b"
            ],
            [
             0.6666666666666666,
             "#ed7953"
            ],
            [
             0.7777777777777778,
             "#fb9f3a"
            ],
            [
             0.8888888888888888,
             "#fdca26"
            ],
            [
             1,
             "#f0f921"
            ]
           ],
           "sequentialminus": [
            [
             0,
             "#0d0887"
            ],
            [
             0.1111111111111111,
             "#46039f"
            ],
            [
             0.2222222222222222,
             "#7201a8"
            ],
            [
             0.3333333333333333,
             "#9c179e"
            ],
            [
             0.4444444444444444,
             "#bd3786"
            ],
            [
             0.5555555555555556,
             "#d8576b"
            ],
            [
             0.6666666666666666,
             "#ed7953"
            ],
            [
             0.7777777777777778,
             "#fb9f3a"
            ],
            [
             0.8888888888888888,
             "#fdca26"
            ],
            [
             1,
             "#f0f921"
            ]
           ]
          },
          "colorway": [
           "#636efa",
           "#EF553B",
           "#00cc96",
           "#ab63fa",
           "#FFA15A",
           "#19d3f3",
           "#FF6692",
           "#B6E880",
           "#FF97FF",
           "#FECB52"
          ],
          "font": {
           "color": "#2a3f5f"
          },
          "geo": {
           "bgcolor": "white",
           "lakecolor": "white",
           "landcolor": "white",
           "showlakes": true,
           "showland": true,
           "subunitcolor": "#C8D4E3"
          },
          "hoverlabel": {
           "align": "left"
          },
          "hovermode": "closest",
          "mapbox": {
           "style": "light"
          },
          "paper_bgcolor": "white",
          "plot_bgcolor": "white",
          "polar": {
           "angularaxis": {
            "gridcolor": "#EBF0F8",
            "linecolor": "#EBF0F8",
            "ticks": ""
           },
           "bgcolor": "white",
           "radialaxis": {
            "gridcolor": "#EBF0F8",
            "linecolor": "#EBF0F8",
            "ticks": ""
           }
          },
          "scene": {
           "xaxis": {
            "backgroundcolor": "white",
            "gridcolor": "#DFE8F3",
            "gridwidth": 2,
            "linecolor": "#EBF0F8",
            "showbackground": true,
            "ticks": "",
            "zerolinecolor": "#EBF0F8"
           },
           "yaxis": {
            "backgroundcolor": "white",
            "gridcolor": "#DFE8F3",
            "gridwidth": 2,
            "linecolor": "#EBF0F8",
            "showbackground": true,
            "ticks": "",
            "zerolinecolor": "#EBF0F8"
           },
           "zaxis": {
            "backgroundcolor": "white",
            "gridcolor": "#DFE8F3",
            "gridwidth": 2,
            "linecolor": "#EBF0F8",
            "showbackground": true,
            "ticks": "",
            "zerolinecolor": "#EBF0F8"
           }
          },
          "shapedefaults": {
           "line": {
            "color": "#2a3f5f"
           }
          },
          "ternary": {
           "aaxis": {
            "gridcolor": "#DFE8F3",
            "linecolor": "#A2B1C6",
            "ticks": ""
           },
           "baxis": {
            "gridcolor": "#DFE8F3",
            "linecolor": "#A2B1C6",
            "ticks": ""
           },
           "bgcolor": "white",
           "caxis": {
            "gridcolor": "#DFE8F3",
            "linecolor": "#A2B1C6",
            "ticks": ""
           }
          },
          "title": {
           "x": 0.05
          },
          "xaxis": {
           "automargin": true,
           "gridcolor": "#EBF0F8",
           "linecolor": "#EBF0F8",
           "ticks": "",
           "title": {
            "standoff": 15
           },
           "zerolinecolor": "#EBF0F8",
           "zerolinewidth": 2
          },
          "yaxis": {
           "automargin": true,
           "gridcolor": "#EBF0F8",
           "linecolor": "#EBF0F8",
           "ticks": "",
           "title": {
            "standoff": 15
           },
           "zerolinecolor": "#EBF0F8",
           "zerolinewidth": 2
          }
         }
        },
        "title": {
         "text": "Churn Distribution by TechSupport (%)"
        },
        "xaxis": {
         "anchor": "y",
         "domain": [
          0,
          1
         ],
         "showgrid": false,
         "title": {
          "text": ""
         }
        },
        "yaxis": {
         "anchor": "x",
         "domain": [
          0,
          1
         ],
         "showgrid": false,
         "title": {
          "text": "Percentage (%)"
         }
        }
       }
      }
     },
     "metadata": {},
     "output_type": "display_data"
    },
    {
     "data": {
      "application/vnd.plotly.v1+json": {
       "config": {
        "plotlyServerURL": "https://plot.ly"
       },
       "data": [
        {
         "hovertemplate": "Churn=No<br>StreamingTV=%{x}<br>percentage=%{y}<br>label=%{text}<extra></extra>",
         "legendgroup": "No",
         "marker": {
          "color": "#636efa",
          "opacity": 0.8,
          "pattern": {
           "shape": ""
          }
         },
         "name": "No",
         "orientation": "v",
         "showlegend": true,
         "text": [
          "1679 (66.5%)",
          "1271 (92.6%)",
          "1706 (69.9%)"
         ],
         "textangle": 0,
         "textposition": "inside",
         "type": "bar",
         "x": [
          "No",
          "No internet service",
          "Yes"
         ],
         "xaxis": "x",
         "y": {
          "bdata": "AAAAAACgUEBmZmZmZiZXQJqZmZmZeVFA",
          "dtype": "f8"
         },
         "yaxis": "y"
        },
        {
         "hovertemplate": "Churn=Yes<br>StreamingTV=%{x}<br>percentage=%{y}<br>label=%{text}<extra></extra>",
         "legendgroup": "Yes",
         "marker": {
          "color": "#EF553B",
          "opacity": 0.8,
          "pattern": {
           "shape": ""
          }
         },
         "name": "Yes",
         "orientation": "v",
         "showlegend": true,
         "text": [
          "846 (33.5%)",
          "102 (7.4%)",
          "734 (30.1%)"
         ],
         "textangle": 0,
         "textposition": "inside",
         "type": "bar",
         "x": [
          "No",
          "No internet service",
          "Yes"
         ],
         "xaxis": "x",
         "y": {
          "bdata": "AAAAAADAQECamZmZmZkdQJqZmZmZGT5A",
          "dtype": "f8"
         },
         "yaxis": "y"
        }
       ],
       "layout": {
        "bargap": 0.1,
        "barmode": "relative",
        "legend": {
         "title": {
          "text": "Churn"
         },
         "tracegroupgap": 0
        },
        "margin": {
         "t": 60
        },
        "template": {
         "data": {
          "bar": [
           {
            "error_x": {
             "color": "#2a3f5f"
            },
            "error_y": {
             "color": "#2a3f5f"
            },
            "marker": {
             "line": {
              "color": "white",
              "width": 0.5
             },
             "pattern": {
              "fillmode": "overlay",
              "size": 10,
              "solidity": 0.2
             }
            },
            "type": "bar"
           }
          ],
          "barpolar": [
           {
            "marker": {
             "line": {
              "color": "white",
              "width": 0.5
             },
             "pattern": {
              "fillmode": "overlay",
              "size": 10,
              "solidity": 0.2
             }
            },
            "type": "barpolar"
           }
          ],
          "carpet": [
           {
            "aaxis": {
             "endlinecolor": "#2a3f5f",
             "gridcolor": "#C8D4E3",
             "linecolor": "#C8D4E3",
             "minorgridcolor": "#C8D4E3",
             "startlinecolor": "#2a3f5f"
            },
            "baxis": {
             "endlinecolor": "#2a3f5f",
             "gridcolor": "#C8D4E3",
             "linecolor": "#C8D4E3",
             "minorgridcolor": "#C8D4E3",
             "startlinecolor": "#2a3f5f"
            },
            "type": "carpet"
           }
          ],
          "choropleth": [
           {
            "colorbar": {
             "outlinewidth": 0,
             "ticks": ""
            },
            "type": "choropleth"
           }
          ],
          "contour": [
           {
            "colorbar": {
             "outlinewidth": 0,
             "ticks": ""
            },
            "colorscale": [
             [
              0,
              "#0d0887"
             ],
             [
              0.1111111111111111,
              "#46039f"
             ],
             [
              0.2222222222222222,
              "#7201a8"
             ],
             [
              0.3333333333333333,
              "#9c179e"
             ],
             [
              0.4444444444444444,
              "#bd3786"
             ],
             [
              0.5555555555555556,
              "#d8576b"
             ],
             [
              0.6666666666666666,
              "#ed7953"
             ],
             [
              0.7777777777777778,
              "#fb9f3a"
             ],
             [
              0.8888888888888888,
              "#fdca26"
             ],
             [
              1,
              "#f0f921"
             ]
            ],
            "type": "contour"
           }
          ],
          "contourcarpet": [
           {
            "colorbar": {
             "outlinewidth": 0,
             "ticks": ""
            },
            "type": "contourcarpet"
           }
          ],
          "heatmap": [
           {
            "colorbar": {
             "outlinewidth": 0,
             "ticks": ""
            },
            "colorscale": [
             [
              0,
              "#0d0887"
             ],
             [
              0.1111111111111111,
              "#46039f"
             ],
             [
              0.2222222222222222,
              "#7201a8"
             ],
             [
              0.3333333333333333,
              "#9c179e"
             ],
             [
              0.4444444444444444,
              "#bd3786"
             ],
             [
              0.5555555555555556,
              "#d8576b"
             ],
             [
              0.6666666666666666,
              "#ed7953"
             ],
             [
              0.7777777777777778,
              "#fb9f3a"
             ],
             [
              0.8888888888888888,
              "#fdca26"
             ],
             [
              1,
              "#f0f921"
             ]
            ],
            "type": "heatmap"
           }
          ],
          "histogram": [
           {
            "marker": {
             "pattern": {
              "fillmode": "overlay",
              "size": 10,
              "solidity": 0.2
             }
            },
            "type": "histogram"
           }
          ],
          "histogram2d": [
           {
            "colorbar": {
             "outlinewidth": 0,
             "ticks": ""
            },
            "colorscale": [
             [
              0,
              "#0d0887"
             ],
             [
              0.1111111111111111,
              "#46039f"
             ],
             [
              0.2222222222222222,
              "#7201a8"
             ],
             [
              0.3333333333333333,
              "#9c179e"
             ],
             [
              0.4444444444444444,
              "#bd3786"
             ],
             [
              0.5555555555555556,
              "#d8576b"
             ],
             [
              0.6666666666666666,
              "#ed7953"
             ],
             [
              0.7777777777777778,
              "#fb9f3a"
             ],
             [
              0.8888888888888888,
              "#fdca26"
             ],
             [
              1,
              "#f0f921"
             ]
            ],
            "type": "histogram2d"
           }
          ],
          "histogram2dcontour": [
           {
            "colorbar": {
             "outlinewidth": 0,
             "ticks": ""
            },
            "colorscale": [
             [
              0,
              "#0d0887"
             ],
             [
              0.1111111111111111,
              "#46039f"
             ],
             [
              0.2222222222222222,
              "#7201a8"
             ],
             [
              0.3333333333333333,
              "#9c179e"
             ],
             [
              0.4444444444444444,
              "#bd3786"
             ],
             [
              0.5555555555555556,
              "#d8576b"
             ],
             [
              0.6666666666666666,
              "#ed7953"
             ],
             [
              0.7777777777777778,
              "#fb9f3a"
             ],
             [
              0.8888888888888888,
              "#fdca26"
             ],
             [
              1,
              "#f0f921"
             ]
            ],
            "type": "histogram2dcontour"
           }
          ],
          "mesh3d": [
           {
            "colorbar": {
             "outlinewidth": 0,
             "ticks": ""
            },
            "type": "mesh3d"
           }
          ],
          "parcoords": [
           {
            "line": {
             "colorbar": {
              "outlinewidth": 0,
              "ticks": ""
             }
            },
            "type": "parcoords"
           }
          ],
          "pie": [
           {
            "automargin": true,
            "type": "pie"
           }
          ],
          "scatter": [
           {
            "fillpattern": {
             "fillmode": "overlay",
             "size": 10,
             "solidity": 0.2
            },
            "type": "scatter"
           }
          ],
          "scatter3d": [
           {
            "line": {
             "colorbar": {
              "outlinewidth": 0,
              "ticks": ""
             }
            },
            "marker": {
             "colorbar": {
              "outlinewidth": 0,
              "ticks": ""
             }
            },
            "type": "scatter3d"
           }
          ],
          "scattercarpet": [
           {
            "marker": {
             "colorbar": {
              "outlinewidth": 0,
              "ticks": ""
             }
            },
            "type": "scattercarpet"
           }
          ],
          "scattergeo": [
           {
            "marker": {
             "colorbar": {
              "outlinewidth": 0,
              "ticks": ""
             }
            },
            "type": "scattergeo"
           }
          ],
          "scattergl": [
           {
            "marker": {
             "colorbar": {
              "outlinewidth": 0,
              "ticks": ""
             }
            },
            "type": "scattergl"
           }
          ],
          "scattermap": [
           {
            "marker": {
             "colorbar": {
              "outlinewidth": 0,
              "ticks": ""
             }
            },
            "type": "scattermap"
           }
          ],
          "scattermapbox": [
           {
            "marker": {
             "colorbar": {
              "outlinewidth": 0,
              "ticks": ""
             }
            },
            "type": "scattermapbox"
           }
          ],
          "scatterpolar": [
           {
            "marker": {
             "colorbar": {
              "outlinewidth": 0,
              "ticks": ""
             }
            },
            "type": "scatterpolar"
           }
          ],
          "scatterpolargl": [
           {
            "marker": {
             "colorbar": {
              "outlinewidth": 0,
              "ticks": ""
             }
            },
            "type": "scatterpolargl"
           }
          ],
          "scatterternary": [
           {
            "marker": {
             "colorbar": {
              "outlinewidth": 0,
              "ticks": ""
             }
            },
            "type": "scatterternary"
           }
          ],
          "surface": [
           {
            "colorbar": {
             "outlinewidth": 0,
             "ticks": ""
            },
            "colorscale": [
             [
              0,
              "#0d0887"
             ],
             [
              0.1111111111111111,
              "#46039f"
             ],
             [
              0.2222222222222222,
              "#7201a8"
             ],
             [
              0.3333333333333333,
              "#9c179e"
             ],
             [
              0.4444444444444444,
              "#bd3786"
             ],
             [
              0.5555555555555556,
              "#d8576b"
             ],
             [
              0.6666666666666666,
              "#ed7953"
             ],
             [
              0.7777777777777778,
              "#fb9f3a"
             ],
             [
              0.8888888888888888,
              "#fdca26"
             ],
             [
              1,
              "#f0f921"
             ]
            ],
            "type": "surface"
           }
          ],
          "table": [
           {
            "cells": {
             "fill": {
              "color": "#EBF0F8"
             },
             "line": {
              "color": "white"
             }
            },
            "header": {
             "fill": {
              "color": "#C8D4E3"
             },
             "line": {
              "color": "white"
             }
            },
            "type": "table"
           }
          ]
         },
         "layout": {
          "annotationdefaults": {
           "arrowcolor": "#2a3f5f",
           "arrowhead": 0,
           "arrowwidth": 1
          },
          "autotypenumbers": "strict",
          "coloraxis": {
           "colorbar": {
            "outlinewidth": 0,
            "ticks": ""
           }
          },
          "colorscale": {
           "diverging": [
            [
             0,
             "#8e0152"
            ],
            [
             0.1,
             "#c51b7d"
            ],
            [
             0.2,
             "#de77ae"
            ],
            [
             0.3,
             "#f1b6da"
            ],
            [
             0.4,
             "#fde0ef"
            ],
            [
             0.5,
             "#f7f7f7"
            ],
            [
             0.6,
             "#e6f5d0"
            ],
            [
             0.7,
             "#b8e186"
            ],
            [
             0.8,
             "#7fbc41"
            ],
            [
             0.9,
             "#4d9221"
            ],
            [
             1,
             "#276419"
            ]
           ],
           "sequential": [
            [
             0,
             "#0d0887"
            ],
            [
             0.1111111111111111,
             "#46039f"
            ],
            [
             0.2222222222222222,
             "#7201a8"
            ],
            [
             0.3333333333333333,
             "#9c179e"
            ],
            [
             0.4444444444444444,
             "#bd3786"
            ],
            [
             0.5555555555555556,
             "#d8576b"
            ],
            [
             0.6666666666666666,
             "#ed7953"
            ],
            [
             0.7777777777777778,
             "#fb9f3a"
            ],
            [
             0.8888888888888888,
             "#fdca26"
            ],
            [
             1,
             "#f0f921"
            ]
           ],
           "sequentialminus": [
            [
             0,
             "#0d0887"
            ],
            [
             0.1111111111111111,
             "#46039f"
            ],
            [
             0.2222222222222222,
             "#7201a8"
            ],
            [
             0.3333333333333333,
             "#9c179e"
            ],
            [
             0.4444444444444444,
             "#bd3786"
            ],
            [
             0.5555555555555556,
             "#d8576b"
            ],
            [
             0.6666666666666666,
             "#ed7953"
            ],
            [
             0.7777777777777778,
             "#fb9f3a"
            ],
            [
             0.8888888888888888,
             "#fdca26"
            ],
            [
             1,
             "#f0f921"
            ]
           ]
          },
          "colorway": [
           "#636efa",
           "#EF553B",
           "#00cc96",
           "#ab63fa",
           "#FFA15A",
           "#19d3f3",
           "#FF6692",
           "#B6E880",
           "#FF97FF",
           "#FECB52"
          ],
          "font": {
           "color": "#2a3f5f"
          },
          "geo": {
           "bgcolor": "white",
           "lakecolor": "white",
           "landcolor": "white",
           "showlakes": true,
           "showland": true,
           "subunitcolor": "#C8D4E3"
          },
          "hoverlabel": {
           "align": "left"
          },
          "hovermode": "closest",
          "mapbox": {
           "style": "light"
          },
          "paper_bgcolor": "white",
          "plot_bgcolor": "white",
          "polar": {
           "angularaxis": {
            "gridcolor": "#EBF0F8",
            "linecolor": "#EBF0F8",
            "ticks": ""
           },
           "bgcolor": "white",
           "radialaxis": {
            "gridcolor": "#EBF0F8",
            "linecolor": "#EBF0F8",
            "ticks": ""
           }
          },
          "scene": {
           "xaxis": {
            "backgroundcolor": "white",
            "gridcolor": "#DFE8F3",
            "gridwidth": 2,
            "linecolor": "#EBF0F8",
            "showbackground": true,
            "ticks": "",
            "zerolinecolor": "#EBF0F8"
           },
           "yaxis": {
            "backgroundcolor": "white",
            "gridcolor": "#DFE8F3",
            "gridwidth": 2,
            "linecolor": "#EBF0F8",
            "showbackground": true,
            "ticks": "",
            "zerolinecolor": "#EBF0F8"
           },
           "zaxis": {
            "backgroundcolor": "white",
            "gridcolor": "#DFE8F3",
            "gridwidth": 2,
            "linecolor": "#EBF0F8",
            "showbackground": true,
            "ticks": "",
            "zerolinecolor": "#EBF0F8"
           }
          },
          "shapedefaults": {
           "line": {
            "color": "#2a3f5f"
           }
          },
          "ternary": {
           "aaxis": {
            "gridcolor": "#DFE8F3",
            "linecolor": "#A2B1C6",
            "ticks": ""
           },
           "baxis": {
            "gridcolor": "#DFE8F3",
            "linecolor": "#A2B1C6",
            "ticks": ""
           },
           "bgcolor": "white",
           "caxis": {
            "gridcolor": "#DFE8F3",
            "linecolor": "#A2B1C6",
            "ticks": ""
           }
          },
          "title": {
           "x": 0.05
          },
          "xaxis": {
           "automargin": true,
           "gridcolor": "#EBF0F8",
           "linecolor": "#EBF0F8",
           "ticks": "",
           "title": {
            "standoff": 15
           },
           "zerolinecolor": "#EBF0F8",
           "zerolinewidth": 2
          },
          "yaxis": {
           "automargin": true,
           "gridcolor": "#EBF0F8",
           "linecolor": "#EBF0F8",
           "ticks": "",
           "title": {
            "standoff": 15
           },
           "zerolinecolor": "#EBF0F8",
           "zerolinewidth": 2
          }
         }
        },
        "title": {
         "text": "Churn Distribution by StreamingTV (%)"
        },
        "xaxis": {
         "anchor": "y",
         "domain": [
          0,
          1
         ],
         "showgrid": false,
         "title": {
          "text": ""
         }
        },
        "yaxis": {
         "anchor": "x",
         "domain": [
          0,
          1
         ],
         "showgrid": false,
         "title": {
          "text": "Percentage (%)"
         }
        }
       }
      }
     },
     "metadata": {},
     "output_type": "display_data"
    },
    {
     "data": {
      "application/vnd.plotly.v1+json": {
       "config": {
        "plotlyServerURL": "https://plot.ly"
       },
       "data": [
        {
         "hovertemplate": "Churn=No<br>StreamingMovies=%{x}<br>percentage=%{y}<br>label=%{text}<extra></extra>",
         "legendgroup": "No",
         "marker": {
          "color": "#636efa",
          "opacity": 0.8,
          "pattern": {
           "shape": ""
          }
         },
         "name": "No",
         "orientation": "v",
         "showlegend": true,
         "text": [
          "1650 (66.2%)",
          "1271 (92.6%)",
          "1735 (70.2%)"
         ],
         "textangle": 0,
         "textposition": "inside",
         "type": "bar",
         "x": [
          "No",
          "No internet service",
          "Yes"
         ],
         "xaxis": "x",
         "y": {
          "bdata": "zczMzMyMUEBmZmZmZiZXQM3MzMzMjFFA",
          "dtype": "f8"
         },
         "yaxis": "y"
        },
        {
         "hovertemplate": "Churn=Yes<br>StreamingMovies=%{x}<br>percentage=%{y}<br>label=%{text}<extra></extra>",
         "legendgroup": "Yes",
         "marker": {
          "color": "#EF553B",
          "opacity": 0.8,
          "pattern": {
           "shape": ""
          }
         },
         "name": "Yes",
         "orientation": "v",
         "showlegend": true,
         "text": [
          "843 (33.8%)",
          "102 (7.4%)",
          "737 (29.8%)"
         ],
         "textangle": 0,
         "textposition": "inside",
         "type": "bar",
         "x": [
          "No",
          "No internet service",
          "Yes"
         ],
         "xaxis": "x",
         "y": {
          "bdata": "ZmZmZmbmQECamZmZmZkdQM3MzMzMzD1A",
          "dtype": "f8"
         },
         "yaxis": "y"
        }
       ],
       "layout": {
        "bargap": 0.1,
        "barmode": "relative",
        "legend": {
         "title": {
          "text": "Churn"
         },
         "tracegroupgap": 0
        },
        "margin": {
         "t": 60
        },
        "template": {
         "data": {
          "bar": [
           {
            "error_x": {
             "color": "#2a3f5f"
            },
            "error_y": {
             "color": "#2a3f5f"
            },
            "marker": {
             "line": {
              "color": "white",
              "width": 0.5
             },
             "pattern": {
              "fillmode": "overlay",
              "size": 10,
              "solidity": 0.2
             }
            },
            "type": "bar"
           }
          ],
          "barpolar": [
           {
            "marker": {
             "line": {
              "color": "white",
              "width": 0.5
             },
             "pattern": {
              "fillmode": "overlay",
              "size": 10,
              "solidity": 0.2
             }
            },
            "type": "barpolar"
           }
          ],
          "carpet": [
           {
            "aaxis": {
             "endlinecolor": "#2a3f5f",
             "gridcolor": "#C8D4E3",
             "linecolor": "#C8D4E3",
             "minorgridcolor": "#C8D4E3",
             "startlinecolor": "#2a3f5f"
            },
            "baxis": {
             "endlinecolor": "#2a3f5f",
             "gridcolor": "#C8D4E3",
             "linecolor": "#C8D4E3",
             "minorgridcolor": "#C8D4E3",
             "startlinecolor": "#2a3f5f"
            },
            "type": "carpet"
           }
          ],
          "choropleth": [
           {
            "colorbar": {
             "outlinewidth": 0,
             "ticks": ""
            },
            "type": "choropleth"
           }
          ],
          "contour": [
           {
            "colorbar": {
             "outlinewidth": 0,
             "ticks": ""
            },
            "colorscale": [
             [
              0,
              "#0d0887"
             ],
             [
              0.1111111111111111,
              "#46039f"
             ],
             [
              0.2222222222222222,
              "#7201a8"
             ],
             [
              0.3333333333333333,
              "#9c179e"
             ],
             [
              0.4444444444444444,
              "#bd3786"
             ],
             [
              0.5555555555555556,
              "#d8576b"
             ],
             [
              0.6666666666666666,
              "#ed7953"
             ],
             [
              0.7777777777777778,
              "#fb9f3a"
             ],
             [
              0.8888888888888888,
              "#fdca26"
             ],
             [
              1,
              "#f0f921"
             ]
            ],
            "type": "contour"
           }
          ],
          "contourcarpet": [
           {
            "colorbar": {
             "outlinewidth": 0,
             "ticks": ""
            },
            "type": "contourcarpet"
           }
          ],
          "heatmap": [
           {
            "colorbar": {
             "outlinewidth": 0,
             "ticks": ""
            },
            "colorscale": [
             [
              0,
              "#0d0887"
             ],
             [
              0.1111111111111111,
              "#46039f"
             ],
             [
              0.2222222222222222,
              "#7201a8"
             ],
             [
              0.3333333333333333,
              "#9c179e"
             ],
             [
              0.4444444444444444,
              "#bd3786"
             ],
             [
              0.5555555555555556,
              "#d8576b"
             ],
             [
              0.6666666666666666,
              "#ed7953"
             ],
             [
              0.7777777777777778,
              "#fb9f3a"
             ],
             [
              0.8888888888888888,
              "#fdca26"
             ],
             [
              1,
              "#f0f921"
             ]
            ],
            "type": "heatmap"
           }
          ],
          "histogram": [
           {
            "marker": {
             "pattern": {
              "fillmode": "overlay",
              "size": 10,
              "solidity": 0.2
             }
            },
            "type": "histogram"
           }
          ],
          "histogram2d": [
           {
            "colorbar": {
             "outlinewidth": 0,
             "ticks": ""
            },
            "colorscale": [
             [
              0,
              "#0d0887"
             ],
             [
              0.1111111111111111,
              "#46039f"
             ],
             [
              0.2222222222222222,
              "#7201a8"
             ],
             [
              0.3333333333333333,
              "#9c179e"
             ],
             [
              0.4444444444444444,
              "#bd3786"
             ],
             [
              0.5555555555555556,
              "#d8576b"
             ],
             [
              0.6666666666666666,
              "#ed7953"
             ],
             [
              0.7777777777777778,
              "#fb9f3a"
             ],
             [
              0.8888888888888888,
              "#fdca26"
             ],
             [
              1,
              "#f0f921"
             ]
            ],
            "type": "histogram2d"
           }
          ],
          "histogram2dcontour": [
           {
            "colorbar": {
             "outlinewidth": 0,
             "ticks": ""
            },
            "colorscale": [
             [
              0,
              "#0d0887"
             ],
             [
              0.1111111111111111,
              "#46039f"
             ],
             [
              0.2222222222222222,
              "#7201a8"
             ],
             [
              0.3333333333333333,
              "#9c179e"
             ],
             [
              0.4444444444444444,
              "#bd3786"
             ],
             [
              0.5555555555555556,
              "#d8576b"
             ],
             [
              0.6666666666666666,
              "#ed7953"
             ],
             [
              0.7777777777777778,
              "#fb9f3a"
             ],
             [
              0.8888888888888888,
              "#fdca26"
             ],
             [
              1,
              "#f0f921"
             ]
            ],
            "type": "histogram2dcontour"
           }
          ],
          "mesh3d": [
           {
            "colorbar": {
             "outlinewidth": 0,
             "ticks": ""
            },
            "type": "mesh3d"
           }
          ],
          "parcoords": [
           {
            "line": {
             "colorbar": {
              "outlinewidth": 0,
              "ticks": ""
             }
            },
            "type": "parcoords"
           }
          ],
          "pie": [
           {
            "automargin": true,
            "type": "pie"
           }
          ],
          "scatter": [
           {
            "fillpattern": {
             "fillmode": "overlay",
             "size": 10,
             "solidity": 0.2
            },
            "type": "scatter"
           }
          ],
          "scatter3d": [
           {
            "line": {
             "colorbar": {
              "outlinewidth": 0,
              "ticks": ""
             }
            },
            "marker": {
             "colorbar": {
              "outlinewidth": 0,
              "ticks": ""
             }
            },
            "type": "scatter3d"
           }
          ],
          "scattercarpet": [
           {
            "marker": {
             "colorbar": {
              "outlinewidth": 0,
              "ticks": ""
             }
            },
            "type": "scattercarpet"
           }
          ],
          "scattergeo": [
           {
            "marker": {
             "colorbar": {
              "outlinewidth": 0,
              "ticks": ""
             }
            },
            "type": "scattergeo"
           }
          ],
          "scattergl": [
           {
            "marker": {
             "colorbar": {
              "outlinewidth": 0,
              "ticks": ""
             }
            },
            "type": "scattergl"
           }
          ],
          "scattermap": [
           {
            "marker": {
             "colorbar": {
              "outlinewidth": 0,
              "ticks": ""
             }
            },
            "type": "scattermap"
           }
          ],
          "scattermapbox": [
           {
            "marker": {
             "colorbar": {
              "outlinewidth": 0,
              "ticks": ""
             }
            },
            "type": "scattermapbox"
           }
          ],
          "scatterpolar": [
           {
            "marker": {
             "colorbar": {
              "outlinewidth": 0,
              "ticks": ""
             }
            },
            "type": "scatterpolar"
           }
          ],
          "scatterpolargl": [
           {
            "marker": {
             "colorbar": {
              "outlinewidth": 0,
              "ticks": ""
             }
            },
            "type": "scatterpolargl"
           }
          ],
          "scatterternary": [
           {
            "marker": {
             "colorbar": {
              "outlinewidth": 0,
              "ticks": ""
             }
            },
            "type": "scatterternary"
           }
          ],
          "surface": [
           {
            "colorbar": {
             "outlinewidth": 0,
             "ticks": ""
            },
            "colorscale": [
             [
              0,
              "#0d0887"
             ],
             [
              0.1111111111111111,
              "#46039f"
             ],
             [
              0.2222222222222222,
              "#7201a8"
             ],
             [
              0.3333333333333333,
              "#9c179e"
             ],
             [
              0.4444444444444444,
              "#bd3786"
             ],
             [
              0.5555555555555556,
              "#d8576b"
             ],
             [
              0.6666666666666666,
              "#ed7953"
             ],
             [
              0.7777777777777778,
              "#fb9f3a"
             ],
             [
              0.8888888888888888,
              "#fdca26"
             ],
             [
              1,
              "#f0f921"
             ]
            ],
            "type": "surface"
           }
          ],
          "table": [
           {
            "cells": {
             "fill": {
              "color": "#EBF0F8"
             },
             "line": {
              "color": "white"
             }
            },
            "header": {
             "fill": {
              "color": "#C8D4E3"
             },
             "line": {
              "color": "white"
             }
            },
            "type": "table"
           }
          ]
         },
         "layout": {
          "annotationdefaults": {
           "arrowcolor": "#2a3f5f",
           "arrowhead": 0,
           "arrowwidth": 1
          },
          "autotypenumbers": "strict",
          "coloraxis": {
           "colorbar": {
            "outlinewidth": 0,
            "ticks": ""
           }
          },
          "colorscale": {
           "diverging": [
            [
             0,
             "#8e0152"
            ],
            [
             0.1,
             "#c51b7d"
            ],
            [
             0.2,
             "#de77ae"
            ],
            [
             0.3,
             "#f1b6da"
            ],
            [
             0.4,
             "#fde0ef"
            ],
            [
             0.5,
             "#f7f7f7"
            ],
            [
             0.6,
             "#e6f5d0"
            ],
            [
             0.7,
             "#b8e186"
            ],
            [
             0.8,
             "#7fbc41"
            ],
            [
             0.9,
             "#4d9221"
            ],
            [
             1,
             "#276419"
            ]
           ],
           "sequential": [
            [
             0,
             "#0d0887"
            ],
            [
             0.1111111111111111,
             "#46039f"
            ],
            [
             0.2222222222222222,
             "#7201a8"
            ],
            [
             0.3333333333333333,
             "#9c179e"
            ],
            [
             0.4444444444444444,
             "#bd3786"
            ],
            [
             0.5555555555555556,
             "#d8576b"
            ],
            [
             0.6666666666666666,
             "#ed7953"
            ],
            [
             0.7777777777777778,
             "#fb9f3a"
            ],
            [
             0.8888888888888888,
             "#fdca26"
            ],
            [
             1,
             "#f0f921"
            ]
           ],
           "sequentialminus": [
            [
             0,
             "#0d0887"
            ],
            [
             0.1111111111111111,
             "#46039f"
            ],
            [
             0.2222222222222222,
             "#7201a8"
            ],
            [
             0.3333333333333333,
             "#9c179e"
            ],
            [
             0.4444444444444444,
             "#bd3786"
            ],
            [
             0.5555555555555556,
             "#d8576b"
            ],
            [
             0.6666666666666666,
             "#ed7953"
            ],
            [
             0.7777777777777778,
             "#fb9f3a"
            ],
            [
             0.8888888888888888,
             "#fdca26"
            ],
            [
             1,
             "#f0f921"
            ]
           ]
          },
          "colorway": [
           "#636efa",
           "#EF553B",
           "#00cc96",
           "#ab63fa",
           "#FFA15A",
           "#19d3f3",
           "#FF6692",
           "#B6E880",
           "#FF97FF",
           "#FECB52"
          ],
          "font": {
           "color": "#2a3f5f"
          },
          "geo": {
           "bgcolor": "white",
           "lakecolor": "white",
           "landcolor": "white",
           "showlakes": true,
           "showland": true,
           "subunitcolor": "#C8D4E3"
          },
          "hoverlabel": {
           "align": "left"
          },
          "hovermode": "closest",
          "mapbox": {
           "style": "light"
          },
          "paper_bgcolor": "white",
          "plot_bgcolor": "white",
          "polar": {
           "angularaxis": {
            "gridcolor": "#EBF0F8",
            "linecolor": "#EBF0F8",
            "ticks": ""
           },
           "bgcolor": "white",
           "radialaxis": {
            "gridcolor": "#EBF0F8",
            "linecolor": "#EBF0F8",
            "ticks": ""
           }
          },
          "scene": {
           "xaxis": {
            "backgroundcolor": "white",
            "gridcolor": "#DFE8F3",
            "gridwidth": 2,
            "linecolor": "#EBF0F8",
            "showbackground": true,
            "ticks": "",
            "zerolinecolor": "#EBF0F8"
           },
           "yaxis": {
            "backgroundcolor": "white",
            "gridcolor": "#DFE8F3",
            "gridwidth": 2,
            "linecolor": "#EBF0F8",
            "showbackground": true,
            "ticks": "",
            "zerolinecolor": "#EBF0F8"
           },
           "zaxis": {
            "backgroundcolor": "white",
            "gridcolor": "#DFE8F3",
            "gridwidth": 2,
            "linecolor": "#EBF0F8",
            "showbackground": true,
            "ticks": "",
            "zerolinecolor": "#EBF0F8"
           }
          },
          "shapedefaults": {
           "line": {
            "color": "#2a3f5f"
           }
          },
          "ternary": {
           "aaxis": {
            "gridcolor": "#DFE8F3",
            "linecolor": "#A2B1C6",
            "ticks": ""
           },
           "baxis": {
            "gridcolor": "#DFE8F3",
            "linecolor": "#A2B1C6",
            "ticks": ""
           },
           "bgcolor": "white",
           "caxis": {
            "gridcolor": "#DFE8F3",
            "linecolor": "#A2B1C6",
            "ticks": ""
           }
          },
          "title": {
           "x": 0.05
          },
          "xaxis": {
           "automargin": true,
           "gridcolor": "#EBF0F8",
           "linecolor": "#EBF0F8",
           "ticks": "",
           "title": {
            "standoff": 15
           },
           "zerolinecolor": "#EBF0F8",
           "zerolinewidth": 2
          },
          "yaxis": {
           "automargin": true,
           "gridcolor": "#EBF0F8",
           "linecolor": "#EBF0F8",
           "ticks": "",
           "title": {
            "standoff": 15
           },
           "zerolinecolor": "#EBF0F8",
           "zerolinewidth": 2
          }
         }
        },
        "title": {
         "text": "Churn Distribution by StreamingMovies (%)"
        },
        "xaxis": {
         "anchor": "y",
         "domain": [
          0,
          1
         ],
         "showgrid": false,
         "title": {
          "text": ""
         }
        },
        "yaxis": {
         "anchor": "x",
         "domain": [
          0,
          1
         ],
         "showgrid": false,
         "title": {
          "text": "Percentage (%)"
         }
        }
       }
      }
     },
     "metadata": {},
     "output_type": "display_data"
    },
    {
     "data": {
      "application/vnd.plotly.v1+json": {
       "config": {
        "plotlyServerURL": "https://plot.ly"
       },
       "data": [
        {
         "hovertemplate": "Churn=No<br>Contract=%{x}<br>percentage=%{y}<br>label=%{text}<extra></extra>",
         "legendgroup": "No",
         "marker": {
          "color": "#636efa",
          "opacity": 0.8,
          "pattern": {
           "shape": ""
          }
         },
         "name": "No",
         "orientation": "v",
         "showlegend": true,
         "text": [
          "1999 (57.2%)",
          "1182 (89.0%)",
          "1475 (97.2%)"
         ],
         "textangle": 0,
         "textposition": "inside",
         "type": "bar",
         "x": [
          "Month-to-month",
          "One year",
          "Two year"
         ],
         "xaxis": "x",
         "y": {
          "bdata": "mpmZmZmZTEAAAAAAAEBWQM3MzMzMTFhA",
          "dtype": "f8"
         },
         "yaxis": "y"
        },
        {
         "hovertemplate": "Churn=Yes<br>Contract=%{x}<br>percentage=%{y}<br>label=%{text}<extra></extra>",
         "legendgroup": "Yes",
         "marker": {
          "color": "#EF553B",
          "opacity": 0.8,
          "pattern": {
           "shape": ""
          }
         },
         "name": "Yes",
         "orientation": "v",
         "showlegend": true,
         "text": [
          "1493 (42.8%)",
          "146 (11.0%)",
          "43 (2.8%)"
         ],
         "textangle": 0,
         "textposition": "inside",
         "type": "bar",
         "x": [
          "Month-to-month",
          "One year",
          "Two year"
         ],
         "xaxis": "x",
         "y": {
          "bdata": "ZmZmZmZmRUAAAAAAAAAmQGZmZmZmZgZA",
          "dtype": "f8"
         },
         "yaxis": "y"
        }
       ],
       "layout": {
        "bargap": 0.1,
        "barmode": "relative",
        "legend": {
         "title": {
          "text": "Churn"
         },
         "tracegroupgap": 0
        },
        "margin": {
         "t": 60
        },
        "template": {
         "data": {
          "bar": [
           {
            "error_x": {
             "color": "#2a3f5f"
            },
            "error_y": {
             "color": "#2a3f5f"
            },
            "marker": {
             "line": {
              "color": "white",
              "width": 0.5
             },
             "pattern": {
              "fillmode": "overlay",
              "size": 10,
              "solidity": 0.2
             }
            },
            "type": "bar"
           }
          ],
          "barpolar": [
           {
            "marker": {
             "line": {
              "color": "white",
              "width": 0.5
             },
             "pattern": {
              "fillmode": "overlay",
              "size": 10,
              "solidity": 0.2
             }
            },
            "type": "barpolar"
           }
          ],
          "carpet": [
           {
            "aaxis": {
             "endlinecolor": "#2a3f5f",
             "gridcolor": "#C8D4E3",
             "linecolor": "#C8D4E3",
             "minorgridcolor": "#C8D4E3",
             "startlinecolor": "#2a3f5f"
            },
            "baxis": {
             "endlinecolor": "#2a3f5f",
             "gridcolor": "#C8D4E3",
             "linecolor": "#C8D4E3",
             "minorgridcolor": "#C8D4E3",
             "startlinecolor": "#2a3f5f"
            },
            "type": "carpet"
           }
          ],
          "choropleth": [
           {
            "colorbar": {
             "outlinewidth": 0,
             "ticks": ""
            },
            "type": "choropleth"
           }
          ],
          "contour": [
           {
            "colorbar": {
             "outlinewidth": 0,
             "ticks": ""
            },
            "colorscale": [
             [
              0,
              "#0d0887"
             ],
             [
              0.1111111111111111,
              "#46039f"
             ],
             [
              0.2222222222222222,
              "#7201a8"
             ],
             [
              0.3333333333333333,
              "#9c179e"
             ],
             [
              0.4444444444444444,
              "#bd3786"
             ],
             [
              0.5555555555555556,
              "#d8576b"
             ],
             [
              0.6666666666666666,
              "#ed7953"
             ],
             [
              0.7777777777777778,
              "#fb9f3a"
             ],
             [
              0.8888888888888888,
              "#fdca26"
             ],
             [
              1,
              "#f0f921"
             ]
            ],
            "type": "contour"
           }
          ],
          "contourcarpet": [
           {
            "colorbar": {
             "outlinewidth": 0,
             "ticks": ""
            },
            "type": "contourcarpet"
           }
          ],
          "heatmap": [
           {
            "colorbar": {
             "outlinewidth": 0,
             "ticks": ""
            },
            "colorscale": [
             [
              0,
              "#0d0887"
             ],
             [
              0.1111111111111111,
              "#46039f"
             ],
             [
              0.2222222222222222,
              "#7201a8"
             ],
             [
              0.3333333333333333,
              "#9c179e"
             ],
             [
              0.4444444444444444,
              "#bd3786"
             ],
             [
              0.5555555555555556,
              "#d8576b"
             ],
             [
              0.6666666666666666,
              "#ed7953"
             ],
             [
              0.7777777777777778,
              "#fb9f3a"
             ],
             [
              0.8888888888888888,
              "#fdca26"
             ],
             [
              1,
              "#f0f921"
             ]
            ],
            "type": "heatmap"
           }
          ],
          "histogram": [
           {
            "marker": {
             "pattern": {
              "fillmode": "overlay",
              "size": 10,
              "solidity": 0.2
             }
            },
            "type": "histogram"
           }
          ],
          "histogram2d": [
           {
            "colorbar": {
             "outlinewidth": 0,
             "ticks": ""
            },
            "colorscale": [
             [
              0,
              "#0d0887"
             ],
             [
              0.1111111111111111,
              "#46039f"
             ],
             [
              0.2222222222222222,
              "#7201a8"
             ],
             [
              0.3333333333333333,
              "#9c179e"
             ],
             [
              0.4444444444444444,
              "#bd3786"
             ],
             [
              0.5555555555555556,
              "#d8576b"
             ],
             [
              0.6666666666666666,
              "#ed7953"
             ],
             [
              0.7777777777777778,
              "#fb9f3a"
             ],
             [
              0.8888888888888888,
              "#fdca26"
             ],
             [
              1,
              "#f0f921"
             ]
            ],
            "type": "histogram2d"
           }
          ],
          "histogram2dcontour": [
           {
            "colorbar": {
             "outlinewidth": 0,
             "ticks": ""
            },
            "colorscale": [
             [
              0,
              "#0d0887"
             ],
             [
              0.1111111111111111,
              "#46039f"
             ],
             [
              0.2222222222222222,
              "#7201a8"
             ],
             [
              0.3333333333333333,
              "#9c179e"
             ],
             [
              0.4444444444444444,
              "#bd3786"
             ],
             [
              0.5555555555555556,
              "#d8576b"
             ],
             [
              0.6666666666666666,
              "#ed7953"
             ],
             [
              0.7777777777777778,
              "#fb9f3a"
             ],
             [
              0.8888888888888888,
              "#fdca26"
             ],
             [
              1,
              "#f0f921"
             ]
            ],
            "type": "histogram2dcontour"
           }
          ],
          "mesh3d": [
           {
            "colorbar": {
             "outlinewidth": 0,
             "ticks": ""
            },
            "type": "mesh3d"
           }
          ],
          "parcoords": [
           {
            "line": {
             "colorbar": {
              "outlinewidth": 0,
              "ticks": ""
             }
            },
            "type": "parcoords"
           }
          ],
          "pie": [
           {
            "automargin": true,
            "type": "pie"
           }
          ],
          "scatter": [
           {
            "fillpattern": {
             "fillmode": "overlay",
             "size": 10,
             "solidity": 0.2
            },
            "type": "scatter"
           }
          ],
          "scatter3d": [
           {
            "line": {
             "colorbar": {
              "outlinewidth": 0,
              "ticks": ""
             }
            },
            "marker": {
             "colorbar": {
              "outlinewidth": 0,
              "ticks": ""
             }
            },
            "type": "scatter3d"
           }
          ],
          "scattercarpet": [
           {
            "marker": {
             "colorbar": {
              "outlinewidth": 0,
              "ticks": ""
             }
            },
            "type": "scattercarpet"
           }
          ],
          "scattergeo": [
           {
            "marker": {
             "colorbar": {
              "outlinewidth": 0,
              "ticks": ""
             }
            },
            "type": "scattergeo"
           }
          ],
          "scattergl": [
           {
            "marker": {
             "colorbar": {
              "outlinewidth": 0,
              "ticks": ""
             }
            },
            "type": "scattergl"
           }
          ],
          "scattermap": [
           {
            "marker": {
             "colorbar": {
              "outlinewidth": 0,
              "ticks": ""
             }
            },
            "type": "scattermap"
           }
          ],
          "scattermapbox": [
           {
            "marker": {
             "colorbar": {
              "outlinewidth": 0,
              "ticks": ""
             }
            },
            "type": "scattermapbox"
           }
          ],
          "scatterpolar": [
           {
            "marker": {
             "colorbar": {
              "outlinewidth": 0,
              "ticks": ""
             }
            },
            "type": "scatterpolar"
           }
          ],
          "scatterpolargl": [
           {
            "marker": {
             "colorbar": {
              "outlinewidth": 0,
              "ticks": ""
             }
            },
            "type": "scatterpolargl"
           }
          ],
          "scatterternary": [
           {
            "marker": {
             "colorbar": {
              "outlinewidth": 0,
              "ticks": ""
             }
            },
            "type": "scatterternary"
           }
          ],
          "surface": [
           {
            "colorbar": {
             "outlinewidth": 0,
             "ticks": ""
            },
            "colorscale": [
             [
              0,
              "#0d0887"
             ],
             [
              0.1111111111111111,
              "#46039f"
             ],
             [
              0.2222222222222222,
              "#7201a8"
             ],
             [
              0.3333333333333333,
              "#9c179e"
             ],
             [
              0.4444444444444444,
              "#bd3786"
             ],
             [
              0.5555555555555556,
              "#d8576b"
             ],
             [
              0.6666666666666666,
              "#ed7953"
             ],
             [
              0.7777777777777778,
              "#fb9f3a"
             ],
             [
              0.8888888888888888,
              "#fdca26"
             ],
             [
              1,
              "#f0f921"
             ]
            ],
            "type": "surface"
           }
          ],
          "table": [
           {
            "cells": {
             "fill": {
              "color": "#EBF0F8"
             },
             "line": {
              "color": "white"
             }
            },
            "header": {
             "fill": {
              "color": "#C8D4E3"
             },
             "line": {
              "color": "white"
             }
            },
            "type": "table"
           }
          ]
         },
         "layout": {
          "annotationdefaults": {
           "arrowcolor": "#2a3f5f",
           "arrowhead": 0,
           "arrowwidth": 1
          },
          "autotypenumbers": "strict",
          "coloraxis": {
           "colorbar": {
            "outlinewidth": 0,
            "ticks": ""
           }
          },
          "colorscale": {
           "diverging": [
            [
             0,
             "#8e0152"
            ],
            [
             0.1,
             "#c51b7d"
            ],
            [
             0.2,
             "#de77ae"
            ],
            [
             0.3,
             "#f1b6da"
            ],
            [
             0.4,
             "#fde0ef"
            ],
            [
             0.5,
             "#f7f7f7"
            ],
            [
             0.6,
             "#e6f5d0"
            ],
            [
             0.7,
             "#b8e186"
            ],
            [
             0.8,
             "#7fbc41"
            ],
            [
             0.9,
             "#4d9221"
            ],
            [
             1,
             "#276419"
            ]
           ],
           "sequential": [
            [
             0,
             "#0d0887"
            ],
            [
             0.1111111111111111,
             "#46039f"
            ],
            [
             0.2222222222222222,
             "#7201a8"
            ],
            [
             0.3333333333333333,
             "#9c179e"
            ],
            [
             0.4444444444444444,
             "#bd3786"
            ],
            [
             0.5555555555555556,
             "#d8576b"
            ],
            [
             0.6666666666666666,
             "#ed7953"
            ],
            [
             0.7777777777777778,
             "#fb9f3a"
            ],
            [
             0.8888888888888888,
             "#fdca26"
            ],
            [
             1,
             "#f0f921"
            ]
           ],
           "sequentialminus": [
            [
             0,
             "#0d0887"
            ],
            [
             0.1111111111111111,
             "#46039f"
            ],
            [
             0.2222222222222222,
             "#7201a8"
            ],
            [
             0.3333333333333333,
             "#9c179e"
            ],
            [
             0.4444444444444444,
             "#bd3786"
            ],
            [
             0.5555555555555556,
             "#d8576b"
            ],
            [
             0.6666666666666666,
             "#ed7953"
            ],
            [
             0.7777777777777778,
             "#fb9f3a"
            ],
            [
             0.8888888888888888,
             "#fdca26"
            ],
            [
             1,
             "#f0f921"
            ]
           ]
          },
          "colorway": [
           "#636efa",
           "#EF553B",
           "#00cc96",
           "#ab63fa",
           "#FFA15A",
           "#19d3f3",
           "#FF6692",
           "#B6E880",
           "#FF97FF",
           "#FECB52"
          ],
          "font": {
           "color": "#2a3f5f"
          },
          "geo": {
           "bgcolor": "white",
           "lakecolor": "white",
           "landcolor": "white",
           "showlakes": true,
           "showland": true,
           "subunitcolor": "#C8D4E3"
          },
          "hoverlabel": {
           "align": "left"
          },
          "hovermode": "closest",
          "mapbox": {
           "style": "light"
          },
          "paper_bgcolor": "white",
          "plot_bgcolor": "white",
          "polar": {
           "angularaxis": {
            "gridcolor": "#EBF0F8",
            "linecolor": "#EBF0F8",
            "ticks": ""
           },
           "bgcolor": "white",
           "radialaxis": {
            "gridcolor": "#EBF0F8",
            "linecolor": "#EBF0F8",
            "ticks": ""
           }
          },
          "scene": {
           "xaxis": {
            "backgroundcolor": "white",
            "gridcolor": "#DFE8F3",
            "gridwidth": 2,
            "linecolor": "#EBF0F8",
            "showbackground": true,
            "ticks": "",
            "zerolinecolor": "#EBF0F8"
           },
           "yaxis": {
            "backgroundcolor": "white",
            "gridcolor": "#DFE8F3",
            "gridwidth": 2,
            "linecolor": "#EBF0F8",
            "showbackground": true,
            "ticks": "",
            "zerolinecolor": "#EBF0F8"
           },
           "zaxis": {
            "backgroundcolor": "white",
            "gridcolor": "#DFE8F3",
            "gridwidth": 2,
            "linecolor": "#EBF0F8",
            "showbackground": true,
            "ticks": "",
            "zerolinecolor": "#EBF0F8"
           }
          },
          "shapedefaults": {
           "line": {
            "color": "#2a3f5f"
           }
          },
          "ternary": {
           "aaxis": {
            "gridcolor": "#DFE8F3",
            "linecolor": "#A2B1C6",
            "ticks": ""
           },
           "baxis": {
            "gridcolor": "#DFE8F3",
            "linecolor": "#A2B1C6",
            "ticks": ""
           },
           "bgcolor": "white",
           "caxis": {
            "gridcolor": "#DFE8F3",
            "linecolor": "#A2B1C6",
            "ticks": ""
           }
          },
          "title": {
           "x": 0.05
          },
          "xaxis": {
           "automargin": true,
           "gridcolor": "#EBF0F8",
           "linecolor": "#EBF0F8",
           "ticks": "",
           "title": {
            "standoff": 15
           },
           "zerolinecolor": "#EBF0F8",
           "zerolinewidth": 2
          },
          "yaxis": {
           "automargin": true,
           "gridcolor": "#EBF0F8",
           "linecolor": "#EBF0F8",
           "ticks": "",
           "title": {
            "standoff": 15
           },
           "zerolinecolor": "#EBF0F8",
           "zerolinewidth": 2
          }
         }
        },
        "title": {
         "text": "Churn Distribution by Contract (%)"
        },
        "xaxis": {
         "anchor": "y",
         "domain": [
          0,
          1
         ],
         "showgrid": false,
         "title": {
          "text": ""
         }
        },
        "yaxis": {
         "anchor": "x",
         "domain": [
          0,
          1
         ],
         "showgrid": false,
         "title": {
          "text": "Percentage (%)"
         }
        }
       }
      }
     },
     "metadata": {},
     "output_type": "display_data"
    },
    {
     "data": {
      "application/vnd.plotly.v1+json": {
       "config": {
        "plotlyServerURL": "https://plot.ly"
       },
       "data": [
        {
         "hovertemplate": "Churn=No<br>PaperlessBilling=%{x}<br>percentage=%{y}<br>label=%{text}<extra></extra>",
         "legendgroup": "No",
         "marker": {
          "color": "#636efa",
          "opacity": 0.8,
          "pattern": {
           "shape": ""
          }
         },
         "name": "No",
         "orientation": "v",
         "showlegend": true,
         "text": [
          "2167 (83.7%)",
          "2489 (66.4%)"
         ],
         "textangle": 0,
         "textposition": "inside",
         "type": "bar",
         "x": [
          "No",
          "Yes"
         ],
         "xaxis": "x",
         "y": {
          "bdata": "zczMzMzsVECamZmZmZlQQA==",
          "dtype": "f8"
         },
         "yaxis": "y"
        },
        {
         "hovertemplate": "Churn=Yes<br>PaperlessBilling=%{x}<br>percentage=%{y}<br>label=%{text}<extra></extra>",
         "legendgroup": "Yes",
         "marker": {
          "color": "#EF553B",
          "opacity": 0.8,
          "pattern": {
           "shape": ""
          }
         },
         "name": "Yes",
         "orientation": "v",
         "showlegend": true,
         "text": [
          "422 (16.3%)",
          "1260 (33.6%)"
         ],
         "textangle": 0,
         "textposition": "inside",
         "type": "bar",
         "x": [
          "No",
          "Yes"
         ],
         "xaxis": "x",
         "y": {
          "bdata": "zczMzMxMMEDNzMzMzMxAQA==",
          "dtype": "f8"
         },
         "yaxis": "y"
        }
       ],
       "layout": {
        "bargap": 0.1,
        "barmode": "relative",
        "legend": {
         "title": {
          "text": "Churn"
         },
         "tracegroupgap": 0
        },
        "margin": {
         "t": 60
        },
        "template": {
         "data": {
          "bar": [
           {
            "error_x": {
             "color": "#2a3f5f"
            },
            "error_y": {
             "color": "#2a3f5f"
            },
            "marker": {
             "line": {
              "color": "white",
              "width": 0.5
             },
             "pattern": {
              "fillmode": "overlay",
              "size": 10,
              "solidity": 0.2
             }
            },
            "type": "bar"
           }
          ],
          "barpolar": [
           {
            "marker": {
             "line": {
              "color": "white",
              "width": 0.5
             },
             "pattern": {
              "fillmode": "overlay",
              "size": 10,
              "solidity": 0.2
             }
            },
            "type": "barpolar"
           }
          ],
          "carpet": [
           {
            "aaxis": {
             "endlinecolor": "#2a3f5f",
             "gridcolor": "#C8D4E3",
             "linecolor": "#C8D4E3",
             "minorgridcolor": "#C8D4E3",
             "startlinecolor": "#2a3f5f"
            },
            "baxis": {
             "endlinecolor": "#2a3f5f",
             "gridcolor": "#C8D4E3",
             "linecolor": "#C8D4E3",
             "minorgridcolor": "#C8D4E3",
             "startlinecolor": "#2a3f5f"
            },
            "type": "carpet"
           }
          ],
          "choropleth": [
           {
            "colorbar": {
             "outlinewidth": 0,
             "ticks": ""
            },
            "type": "choropleth"
           }
          ],
          "contour": [
           {
            "colorbar": {
             "outlinewidth": 0,
             "ticks": ""
            },
            "colorscale": [
             [
              0,
              "#0d0887"
             ],
             [
              0.1111111111111111,
              "#46039f"
             ],
             [
              0.2222222222222222,
              "#7201a8"
             ],
             [
              0.3333333333333333,
              "#9c179e"
             ],
             [
              0.4444444444444444,
              "#bd3786"
             ],
             [
              0.5555555555555556,
              "#d8576b"
             ],
             [
              0.6666666666666666,
              "#ed7953"
             ],
             [
              0.7777777777777778,
              "#fb9f3a"
             ],
             [
              0.8888888888888888,
              "#fdca26"
             ],
             [
              1,
              "#f0f921"
             ]
            ],
            "type": "contour"
           }
          ],
          "contourcarpet": [
           {
            "colorbar": {
             "outlinewidth": 0,
             "ticks": ""
            },
            "type": "contourcarpet"
           }
          ],
          "heatmap": [
           {
            "colorbar": {
             "outlinewidth": 0,
             "ticks": ""
            },
            "colorscale": [
             [
              0,
              "#0d0887"
             ],
             [
              0.1111111111111111,
              "#46039f"
             ],
             [
              0.2222222222222222,
              "#7201a8"
             ],
             [
              0.3333333333333333,
              "#9c179e"
             ],
             [
              0.4444444444444444,
              "#bd3786"
             ],
             [
              0.5555555555555556,
              "#d8576b"
             ],
             [
              0.6666666666666666,
              "#ed7953"
             ],
             [
              0.7777777777777778,
              "#fb9f3a"
             ],
             [
              0.8888888888888888,
              "#fdca26"
             ],
             [
              1,
              "#f0f921"
             ]
            ],
            "type": "heatmap"
           }
          ],
          "histogram": [
           {
            "marker": {
             "pattern": {
              "fillmode": "overlay",
              "size": 10,
              "solidity": 0.2
             }
            },
            "type": "histogram"
           }
          ],
          "histogram2d": [
           {
            "colorbar": {
             "outlinewidth": 0,
             "ticks": ""
            },
            "colorscale": [
             [
              0,
              "#0d0887"
             ],
             [
              0.1111111111111111,
              "#46039f"
             ],
             [
              0.2222222222222222,
              "#7201a8"
             ],
             [
              0.3333333333333333,
              "#9c179e"
             ],
             [
              0.4444444444444444,
              "#bd3786"
             ],
             [
              0.5555555555555556,
              "#d8576b"
             ],
             [
              0.6666666666666666,
              "#ed7953"
             ],
             [
              0.7777777777777778,
              "#fb9f3a"
             ],
             [
              0.8888888888888888,
              "#fdca26"
             ],
             [
              1,
              "#f0f921"
             ]
            ],
            "type": "histogram2d"
           }
          ],
          "histogram2dcontour": [
           {
            "colorbar": {
             "outlinewidth": 0,
             "ticks": ""
            },
            "colorscale": [
             [
              0,
              "#0d0887"
             ],
             [
              0.1111111111111111,
              "#46039f"
             ],
             [
              0.2222222222222222,
              "#7201a8"
             ],
             [
              0.3333333333333333,
              "#9c179e"
             ],
             [
              0.4444444444444444,
              "#bd3786"
             ],
             [
              0.5555555555555556,
              "#d8576b"
             ],
             [
              0.6666666666666666,
              "#ed7953"
             ],
             [
              0.7777777777777778,
              "#fb9f3a"
             ],
             [
              0.8888888888888888,
              "#fdca26"
             ],
             [
              1,
              "#f0f921"
             ]
            ],
            "type": "histogram2dcontour"
           }
          ],
          "mesh3d": [
           {
            "colorbar": {
             "outlinewidth": 0,
             "ticks": ""
            },
            "type": "mesh3d"
           }
          ],
          "parcoords": [
           {
            "line": {
             "colorbar": {
              "outlinewidth": 0,
              "ticks": ""
             }
            },
            "type": "parcoords"
           }
          ],
          "pie": [
           {
            "automargin": true,
            "type": "pie"
           }
          ],
          "scatter": [
           {
            "fillpattern": {
             "fillmode": "overlay",
             "size": 10,
             "solidity": 0.2
            },
            "type": "scatter"
           }
          ],
          "scatter3d": [
           {
            "line": {
             "colorbar": {
              "outlinewidth": 0,
              "ticks": ""
             }
            },
            "marker": {
             "colorbar": {
              "outlinewidth": 0,
              "ticks": ""
             }
            },
            "type": "scatter3d"
           }
          ],
          "scattercarpet": [
           {
            "marker": {
             "colorbar": {
              "outlinewidth": 0,
              "ticks": ""
             }
            },
            "type": "scattercarpet"
           }
          ],
          "scattergeo": [
           {
            "marker": {
             "colorbar": {
              "outlinewidth": 0,
              "ticks": ""
             }
            },
            "type": "scattergeo"
           }
          ],
          "scattergl": [
           {
            "marker": {
             "colorbar": {
              "outlinewidth": 0,
              "ticks": ""
             }
            },
            "type": "scattergl"
           }
          ],
          "scattermap": [
           {
            "marker": {
             "colorbar": {
              "outlinewidth": 0,
              "ticks": ""
             }
            },
            "type": "scattermap"
           }
          ],
          "scattermapbox": [
           {
            "marker": {
             "colorbar": {
              "outlinewidth": 0,
              "ticks": ""
             }
            },
            "type": "scattermapbox"
           }
          ],
          "scatterpolar": [
           {
            "marker": {
             "colorbar": {
              "outlinewidth": 0,
              "ticks": ""
             }
            },
            "type": "scatterpolar"
           }
          ],
          "scatterpolargl": [
           {
            "marker": {
             "colorbar": {
              "outlinewidth": 0,
              "ticks": ""
             }
            },
            "type": "scatterpolargl"
           }
          ],
          "scatterternary": [
           {
            "marker": {
             "colorbar": {
              "outlinewidth": 0,
              "ticks": ""
             }
            },
            "type": "scatterternary"
           }
          ],
          "surface": [
           {
            "colorbar": {
             "outlinewidth": 0,
             "ticks": ""
            },
            "colorscale": [
             [
              0,
              "#0d0887"
             ],
             [
              0.1111111111111111,
              "#46039f"
             ],
             [
              0.2222222222222222,
              "#7201a8"
             ],
             [
              0.3333333333333333,
              "#9c179e"
             ],
             [
              0.4444444444444444,
              "#bd3786"
             ],
             [
              0.5555555555555556,
              "#d8576b"
             ],
             [
              0.6666666666666666,
              "#ed7953"
             ],
             [
              0.7777777777777778,
              "#fb9f3a"
             ],
             [
              0.8888888888888888,
              "#fdca26"
             ],
             [
              1,
              "#f0f921"
             ]
            ],
            "type": "surface"
           }
          ],
          "table": [
           {
            "cells": {
             "fill": {
              "color": "#EBF0F8"
             },
             "line": {
              "color": "white"
             }
            },
            "header": {
             "fill": {
              "color": "#C8D4E3"
             },
             "line": {
              "color": "white"
             }
            },
            "type": "table"
           }
          ]
         },
         "layout": {
          "annotationdefaults": {
           "arrowcolor": "#2a3f5f",
           "arrowhead": 0,
           "arrowwidth": 1
          },
          "autotypenumbers": "strict",
          "coloraxis": {
           "colorbar": {
            "outlinewidth": 0,
            "ticks": ""
           }
          },
          "colorscale": {
           "diverging": [
            [
             0,
             "#8e0152"
            ],
            [
             0.1,
             "#c51b7d"
            ],
            [
             0.2,
             "#de77ae"
            ],
            [
             0.3,
             "#f1b6da"
            ],
            [
             0.4,
             "#fde0ef"
            ],
            [
             0.5,
             "#f7f7f7"
            ],
            [
             0.6,
             "#e6f5d0"
            ],
            [
             0.7,
             "#b8e186"
            ],
            [
             0.8,
             "#7fbc41"
            ],
            [
             0.9,
             "#4d9221"
            ],
            [
             1,
             "#276419"
            ]
           ],
           "sequential": [
            [
             0,
             "#0d0887"
            ],
            [
             0.1111111111111111,
             "#46039f"
            ],
            [
             0.2222222222222222,
             "#7201a8"
            ],
            [
             0.3333333333333333,
             "#9c179e"
            ],
            [
             0.4444444444444444,
             "#bd3786"
            ],
            [
             0.5555555555555556,
             "#d8576b"
            ],
            [
             0.6666666666666666,
             "#ed7953"
            ],
            [
             0.7777777777777778,
             "#fb9f3a"
            ],
            [
             0.8888888888888888,
             "#fdca26"
            ],
            [
             1,
             "#f0f921"
            ]
           ],
           "sequentialminus": [
            [
             0,
             "#0d0887"
            ],
            [
             0.1111111111111111,
             "#46039f"
            ],
            [
             0.2222222222222222,
             "#7201a8"
            ],
            [
             0.3333333333333333,
             "#9c179e"
            ],
            [
             0.4444444444444444,
             "#bd3786"
            ],
            [
             0.5555555555555556,
             "#d8576b"
            ],
            [
             0.6666666666666666,
             "#ed7953"
            ],
            [
             0.7777777777777778,
             "#fb9f3a"
            ],
            [
             0.8888888888888888,
             "#fdca26"
            ],
            [
             1,
             "#f0f921"
            ]
           ]
          },
          "colorway": [
           "#636efa",
           "#EF553B",
           "#00cc96",
           "#ab63fa",
           "#FFA15A",
           "#19d3f3",
           "#FF6692",
           "#B6E880",
           "#FF97FF",
           "#FECB52"
          ],
          "font": {
           "color": "#2a3f5f"
          },
          "geo": {
           "bgcolor": "white",
           "lakecolor": "white",
           "landcolor": "white",
           "showlakes": true,
           "showland": true,
           "subunitcolor": "#C8D4E3"
          },
          "hoverlabel": {
           "align": "left"
          },
          "hovermode": "closest",
          "mapbox": {
           "style": "light"
          },
          "paper_bgcolor": "white",
          "plot_bgcolor": "white",
          "polar": {
           "angularaxis": {
            "gridcolor": "#EBF0F8",
            "linecolor": "#EBF0F8",
            "ticks": ""
           },
           "bgcolor": "white",
           "radialaxis": {
            "gridcolor": "#EBF0F8",
            "linecolor": "#EBF0F8",
            "ticks": ""
           }
          },
          "scene": {
           "xaxis": {
            "backgroundcolor": "white",
            "gridcolor": "#DFE8F3",
            "gridwidth": 2,
            "linecolor": "#EBF0F8",
            "showbackground": true,
            "ticks": "",
            "zerolinecolor": "#EBF0F8"
           },
           "yaxis": {
            "backgroundcolor": "white",
            "gridcolor": "#DFE8F3",
            "gridwidth": 2,
            "linecolor": "#EBF0F8",
            "showbackground": true,
            "ticks": "",
            "zerolinecolor": "#EBF0F8"
           },
           "zaxis": {
            "backgroundcolor": "white",
            "gridcolor": "#DFE8F3",
            "gridwidth": 2,
            "linecolor": "#EBF0F8",
            "showbackground": true,
            "ticks": "",
            "zerolinecolor": "#EBF0F8"
           }
          },
          "shapedefaults": {
           "line": {
            "color": "#2a3f5f"
           }
          },
          "ternary": {
           "aaxis": {
            "gridcolor": "#DFE8F3",
            "linecolor": "#A2B1C6",
            "ticks": ""
           },
           "baxis": {
            "gridcolor": "#DFE8F3",
            "linecolor": "#A2B1C6",
            "ticks": ""
           },
           "bgcolor": "white",
           "caxis": {
            "gridcolor": "#DFE8F3",
            "linecolor": "#A2B1C6",
            "ticks": ""
           }
          },
          "title": {
           "x": 0.05
          },
          "xaxis": {
           "automargin": true,
           "gridcolor": "#EBF0F8",
           "linecolor": "#EBF0F8",
           "ticks": "",
           "title": {
            "standoff": 15
           },
           "zerolinecolor": "#EBF0F8",
           "zerolinewidth": 2
          },
          "yaxis": {
           "automargin": true,
           "gridcolor": "#EBF0F8",
           "linecolor": "#EBF0F8",
           "ticks": "",
           "title": {
            "standoff": 15
           },
           "zerolinecolor": "#EBF0F8",
           "zerolinewidth": 2
          }
         }
        },
        "title": {
         "text": "Churn Distribution by PaperlessBilling (%)"
        },
        "xaxis": {
         "anchor": "y",
         "domain": [
          0,
          1
         ],
         "showgrid": false,
         "title": {
          "text": ""
         }
        },
        "yaxis": {
         "anchor": "x",
         "domain": [
          0,
          1
         ],
         "showgrid": false,
         "title": {
          "text": "Percentage (%)"
         }
        }
       }
      }
     },
     "metadata": {},
     "output_type": "display_data"
    },
    {
     "data": {
      "application/vnd.plotly.v1+json": {
       "config": {
        "plotlyServerURL": "https://plot.ly"
       },
       "data": [
        {
         "hovertemplate": "Churn=No<br>PaymentMethod=%{x}<br>percentage=%{y}<br>label=%{text}<extra></extra>",
         "legendgroup": "No",
         "marker": {
          "color": "#636efa",
          "opacity": 0.8,
          "pattern": {
           "shape": ""
          }
         },
         "name": "No",
         "orientation": "v",
         "showlegend": true,
         "text": [
          "1153 (83.4%)",
          "1164 (85.3%)",
          "1163 (54.4%)",
          "1176 (80.9%)"
         ],
         "textangle": 0,
         "textposition": "inside",
         "type": "bar",
         "x": [
          "Bank transfer (automatic)",
          "Credit card (automatic)",
          "Electronic check",
          "Mailed check"
         ],
         "xaxis": "x",
         "y": {
          "bdata": "mpmZmZnZVEAzMzMzM1NVQDMzMzMzM0tAmpmZmZk5VEA=",
          "dtype": "f8"
         },
         "yaxis": "y"
        },
        {
         "hovertemplate": "Churn=Yes<br>PaymentMethod=%{x}<br>percentage=%{y}<br>label=%{text}<extra></extra>",
         "legendgroup": "Yes",
         "marker": {
          "color": "#EF553B",
          "opacity": 0.8,
          "pattern": {
           "shape": ""
          }
         },
         "name": "Yes",
         "orientation": "v",
         "showlegend": true,
         "text": [
          "230 (16.6%)",
          "201 (14.7%)",
          "973 (45.6%)",
          "278 (19.1%)"
         ],
         "textangle": 0,
         "textposition": "inside",
         "type": "bar",
         "x": [
          "Bank transfer (automatic)",
          "Credit card (automatic)",
          "Electronic check",
          "Mailed check"
         ],
         "xaxis": "x",
         "y": {
          "bdata": "mpmZmZmZMEBmZmZmZmYtQM3MzMzMzEZAmpmZmZkZM0A=",
          "dtype": "f8"
         },
         "yaxis": "y"
        }
       ],
       "layout": {
        "bargap": 0.1,
        "barmode": "relative",
        "legend": {
         "title": {
          "text": "Churn"
         },
         "tracegroupgap": 0
        },
        "margin": {
         "t": 60
        },
        "template": {
         "data": {
          "bar": [
           {
            "error_x": {
             "color": "#2a3f5f"
            },
            "error_y": {
             "color": "#2a3f5f"
            },
            "marker": {
             "line": {
              "color": "white",
              "width": 0.5
             },
             "pattern": {
              "fillmode": "overlay",
              "size": 10,
              "solidity": 0.2
             }
            },
            "type": "bar"
           }
          ],
          "barpolar": [
           {
            "marker": {
             "line": {
              "color": "white",
              "width": 0.5
             },
             "pattern": {
              "fillmode": "overlay",
              "size": 10,
              "solidity": 0.2
             }
            },
            "type": "barpolar"
           }
          ],
          "carpet": [
           {
            "aaxis": {
             "endlinecolor": "#2a3f5f",
             "gridcolor": "#C8D4E3",
             "linecolor": "#C8D4E3",
             "minorgridcolor": "#C8D4E3",
             "startlinecolor": "#2a3f5f"
            },
            "baxis": {
             "endlinecolor": "#2a3f5f",
             "gridcolor": "#C8D4E3",
             "linecolor": "#C8D4E3",
             "minorgridcolor": "#C8D4E3",
             "startlinecolor": "#2a3f5f"
            },
            "type": "carpet"
           }
          ],
          "choropleth": [
           {
            "colorbar": {
             "outlinewidth": 0,
             "ticks": ""
            },
            "type": "choropleth"
           }
          ],
          "contour": [
           {
            "colorbar": {
             "outlinewidth": 0,
             "ticks": ""
            },
            "colorscale": [
             [
              0,
              "#0d0887"
             ],
             [
              0.1111111111111111,
              "#46039f"
             ],
             [
              0.2222222222222222,
              "#7201a8"
             ],
             [
              0.3333333333333333,
              "#9c179e"
             ],
             [
              0.4444444444444444,
              "#bd3786"
             ],
             [
              0.5555555555555556,
              "#d8576b"
             ],
             [
              0.6666666666666666,
              "#ed7953"
             ],
             [
              0.7777777777777778,
              "#fb9f3a"
             ],
             [
              0.8888888888888888,
              "#fdca26"
             ],
             [
              1,
              "#f0f921"
             ]
            ],
            "type": "contour"
           }
          ],
          "contourcarpet": [
           {
            "colorbar": {
             "outlinewidth": 0,
             "ticks": ""
            },
            "type": "contourcarpet"
           }
          ],
          "heatmap": [
           {
            "colorbar": {
             "outlinewidth": 0,
             "ticks": ""
            },
            "colorscale": [
             [
              0,
              "#0d0887"
             ],
             [
              0.1111111111111111,
              "#46039f"
             ],
             [
              0.2222222222222222,
              "#7201a8"
             ],
             [
              0.3333333333333333,
              "#9c179e"
             ],
             [
              0.4444444444444444,
              "#bd3786"
             ],
             [
              0.5555555555555556,
              "#d8576b"
             ],
             [
              0.6666666666666666,
              "#ed7953"
             ],
             [
              0.7777777777777778,
              "#fb9f3a"
             ],
             [
              0.8888888888888888,
              "#fdca26"
             ],
             [
              1,
              "#f0f921"
             ]
            ],
            "type": "heatmap"
           }
          ],
          "histogram": [
           {
            "marker": {
             "pattern": {
              "fillmode": "overlay",
              "size": 10,
              "solidity": 0.2
             }
            },
            "type": "histogram"
           }
          ],
          "histogram2d": [
           {
            "colorbar": {
             "outlinewidth": 0,
             "ticks": ""
            },
            "colorscale": [
             [
              0,
              "#0d0887"
             ],
             [
              0.1111111111111111,
              "#46039f"
             ],
             [
              0.2222222222222222,
              "#7201a8"
             ],
             [
              0.3333333333333333,
              "#9c179e"
             ],
             [
              0.4444444444444444,
              "#bd3786"
             ],
             [
              0.5555555555555556,
              "#d8576b"
             ],
             [
              0.6666666666666666,
              "#ed7953"
             ],
             [
              0.7777777777777778,
              "#fb9f3a"
             ],
             [
              0.8888888888888888,
              "#fdca26"
             ],
             [
              1,
              "#f0f921"
             ]
            ],
            "type": "histogram2d"
           }
          ],
          "histogram2dcontour": [
           {
            "colorbar": {
             "outlinewidth": 0,
             "ticks": ""
            },
            "colorscale": [
             [
              0,
              "#0d0887"
             ],
             [
              0.1111111111111111,
              "#46039f"
             ],
             [
              0.2222222222222222,
              "#7201a8"
             ],
             [
              0.3333333333333333,
              "#9c179e"
             ],
             [
              0.4444444444444444,
              "#bd3786"
             ],
             [
              0.5555555555555556,
              "#d8576b"
             ],
             [
              0.6666666666666666,
              "#ed7953"
             ],
             [
              0.7777777777777778,
              "#fb9f3a"
             ],
             [
              0.8888888888888888,
              "#fdca26"
             ],
             [
              1,
              "#f0f921"
             ]
            ],
            "type": "histogram2dcontour"
           }
          ],
          "mesh3d": [
           {
            "colorbar": {
             "outlinewidth": 0,
             "ticks": ""
            },
            "type": "mesh3d"
           }
          ],
          "parcoords": [
           {
            "line": {
             "colorbar": {
              "outlinewidth": 0,
              "ticks": ""
             }
            },
            "type": "parcoords"
           }
          ],
          "pie": [
           {
            "automargin": true,
            "type": "pie"
           }
          ],
          "scatter": [
           {
            "fillpattern": {
             "fillmode": "overlay",
             "size": 10,
             "solidity": 0.2
            },
            "type": "scatter"
           }
          ],
          "scatter3d": [
           {
            "line": {
             "colorbar": {
              "outlinewidth": 0,
              "ticks": ""
             }
            },
            "marker": {
             "colorbar": {
              "outlinewidth": 0,
              "ticks": ""
             }
            },
            "type": "scatter3d"
           }
          ],
          "scattercarpet": [
           {
            "marker": {
             "colorbar": {
              "outlinewidth": 0,
              "ticks": ""
             }
            },
            "type": "scattercarpet"
           }
          ],
          "scattergeo": [
           {
            "marker": {
             "colorbar": {
              "outlinewidth": 0,
              "ticks": ""
             }
            },
            "type": "scattergeo"
           }
          ],
          "scattergl": [
           {
            "marker": {
             "colorbar": {
              "outlinewidth": 0,
              "ticks": ""
             }
            },
            "type": "scattergl"
           }
          ],
          "scattermap": [
           {
            "marker": {
             "colorbar": {
              "outlinewidth": 0,
              "ticks": ""
             }
            },
            "type": "scattermap"
           }
          ],
          "scattermapbox": [
           {
            "marker": {
             "colorbar": {
              "outlinewidth": 0,
              "ticks": ""
             }
            },
            "type": "scattermapbox"
           }
          ],
          "scatterpolar": [
           {
            "marker": {
             "colorbar": {
              "outlinewidth": 0,
              "ticks": ""
             }
            },
            "type": "scatterpolar"
           }
          ],
          "scatterpolargl": [
           {
            "marker": {
             "colorbar": {
              "outlinewidth": 0,
              "ticks": ""
             }
            },
            "type": "scatterpolargl"
           }
          ],
          "scatterternary": [
           {
            "marker": {
             "colorbar": {
              "outlinewidth": 0,
              "ticks": ""
             }
            },
            "type": "scatterternary"
           }
          ],
          "surface": [
           {
            "colorbar": {
             "outlinewidth": 0,
             "ticks": ""
            },
            "colorscale": [
             [
              0,
              "#0d0887"
             ],
             [
              0.1111111111111111,
              "#46039f"
             ],
             [
              0.2222222222222222,
              "#7201a8"
             ],
             [
              0.3333333333333333,
              "#9c179e"
             ],
             [
              0.4444444444444444,
              "#bd3786"
             ],
             [
              0.5555555555555556,
              "#d8576b"
             ],
             [
              0.6666666666666666,
              "#ed7953"
             ],
             [
              0.7777777777777778,
              "#fb9f3a"
             ],
             [
              0.8888888888888888,
              "#fdca26"
             ],
             [
              1,
              "#f0f921"
             ]
            ],
            "type": "surface"
           }
          ],
          "table": [
           {
            "cells": {
             "fill": {
              "color": "#EBF0F8"
             },
             "line": {
              "color": "white"
             }
            },
            "header": {
             "fill": {
              "color": "#C8D4E3"
             },
             "line": {
              "color": "white"
             }
            },
            "type": "table"
           }
          ]
         },
         "layout": {
          "annotationdefaults": {
           "arrowcolor": "#2a3f5f",
           "arrowhead": 0,
           "arrowwidth": 1
          },
          "autotypenumbers": "strict",
          "coloraxis": {
           "colorbar": {
            "outlinewidth": 0,
            "ticks": ""
           }
          },
          "colorscale": {
           "diverging": [
            [
             0,
             "#8e0152"
            ],
            [
             0.1,
             "#c51b7d"
            ],
            [
             0.2,
             "#de77ae"
            ],
            [
             0.3,
             "#f1b6da"
            ],
            [
             0.4,
             "#fde0ef"
            ],
            [
             0.5,
             "#f7f7f7"
            ],
            [
             0.6,
             "#e6f5d0"
            ],
            [
             0.7,
             "#b8e186"
            ],
            [
             0.8,
             "#7fbc41"
            ],
            [
             0.9,
             "#4d9221"
            ],
            [
             1,
             "#276419"
            ]
           ],
           "sequential": [
            [
             0,
             "#0d0887"
            ],
            [
             0.1111111111111111,
             "#46039f"
            ],
            [
             0.2222222222222222,
             "#7201a8"
            ],
            [
             0.3333333333333333,
             "#9c179e"
            ],
            [
             0.4444444444444444,
             "#bd3786"
            ],
            [
             0.5555555555555556,
             "#d8576b"
            ],
            [
             0.6666666666666666,
             "#ed7953"
            ],
            [
             0.7777777777777778,
             "#fb9f3a"
            ],
            [
             0.8888888888888888,
             "#fdca26"
            ],
            [
             1,
             "#f0f921"
            ]
           ],
           "sequentialminus": [
            [
             0,
             "#0d0887"
            ],
            [
             0.1111111111111111,
             "#46039f"
            ],
            [
             0.2222222222222222,
             "#7201a8"
            ],
            [
             0.3333333333333333,
             "#9c179e"
            ],
            [
             0.4444444444444444,
             "#bd3786"
            ],
            [
             0.5555555555555556,
             "#d8576b"
            ],
            [
             0.6666666666666666,
             "#ed7953"
            ],
            [
             0.7777777777777778,
             "#fb9f3a"
            ],
            [
             0.8888888888888888,
             "#fdca26"
            ],
            [
             1,
             "#f0f921"
            ]
           ]
          },
          "colorway": [
           "#636efa",
           "#EF553B",
           "#00cc96",
           "#ab63fa",
           "#FFA15A",
           "#19d3f3",
           "#FF6692",
           "#B6E880",
           "#FF97FF",
           "#FECB52"
          ],
          "font": {
           "color": "#2a3f5f"
          },
          "geo": {
           "bgcolor": "white",
           "lakecolor": "white",
           "landcolor": "white",
           "showlakes": true,
           "showland": true,
           "subunitcolor": "#C8D4E3"
          },
          "hoverlabel": {
           "align": "left"
          },
          "hovermode": "closest",
          "mapbox": {
           "style": "light"
          },
          "paper_bgcolor": "white",
          "plot_bgcolor": "white",
          "polar": {
           "angularaxis": {
            "gridcolor": "#EBF0F8",
            "linecolor": "#EBF0F8",
            "ticks": ""
           },
           "bgcolor": "white",
           "radialaxis": {
            "gridcolor": "#EBF0F8",
            "linecolor": "#EBF0F8",
            "ticks": ""
           }
          },
          "scene": {
           "xaxis": {
            "backgroundcolor": "white",
            "gridcolor": "#DFE8F3",
            "gridwidth": 2,
            "linecolor": "#EBF0F8",
            "showbackground": true,
            "ticks": "",
            "zerolinecolor": "#EBF0F8"
           },
           "yaxis": {
            "backgroundcolor": "white",
            "gridcolor": "#DFE8F3",
            "gridwidth": 2,
            "linecolor": "#EBF0F8",
            "showbackground": true,
            "ticks": "",
            "zerolinecolor": "#EBF0F8"
           },
           "zaxis": {
            "backgroundcolor": "white",
            "gridcolor": "#DFE8F3",
            "gridwidth": 2,
            "linecolor": "#EBF0F8",
            "showbackground": true,
            "ticks": "",
            "zerolinecolor": "#EBF0F8"
           }
          },
          "shapedefaults": {
           "line": {
            "color": "#2a3f5f"
           }
          },
          "ternary": {
           "aaxis": {
            "gridcolor": "#DFE8F3",
            "linecolor": "#A2B1C6",
            "ticks": ""
           },
           "baxis": {
            "gridcolor": "#DFE8F3",
            "linecolor": "#A2B1C6",
            "ticks": ""
           },
           "bgcolor": "white",
           "caxis": {
            "gridcolor": "#DFE8F3",
            "linecolor": "#A2B1C6",
            "ticks": ""
           }
          },
          "title": {
           "x": 0.05
          },
          "xaxis": {
           "automargin": true,
           "gridcolor": "#EBF0F8",
           "linecolor": "#EBF0F8",
           "ticks": "",
           "title": {
            "standoff": 15
           },
           "zerolinecolor": "#EBF0F8",
           "zerolinewidth": 2
          },
          "yaxis": {
           "automargin": true,
           "gridcolor": "#EBF0F8",
           "linecolor": "#EBF0F8",
           "ticks": "",
           "title": {
            "standoff": 15
           },
           "zerolinecolor": "#EBF0F8",
           "zerolinewidth": 2
          }
         }
        },
        "title": {
         "text": "Churn Distribution by PaymentMethod (%)"
        },
        "xaxis": {
         "anchor": "y",
         "domain": [
          0,
          1
         ],
         "showgrid": false,
         "title": {
          "text": ""
         }
        },
        "yaxis": {
         "anchor": "x",
         "domain": [
          0,
          1
         ],
         "showgrid": false,
         "title": {
          "text": "Percentage (%)"
         }
        }
       }
      }
     },
     "metadata": {},
     "output_type": "display_data"
    },
    {
     "data": {
      "application/vnd.plotly.v1+json": {
       "config": {
        "plotlyServerURL": "https://plot.ly"
       },
       "data": [
        {
         "hovertemplate": "Churn=No<br>SeniorCitizen=%{x}<br>percentage=%{y}<br>label=%{text}<extra></extra>",
         "legendgroup": "No",
         "marker": {
          "color": "#636efa",
          "opacity": 0.8,
          "pattern": {
           "shape": ""
          }
         },
         "name": "No",
         "orientation": "v",
         "showlegend": true,
         "text": [
          "4050 (76.3%)",
          "606 (58.9%)"
         ],
         "textangle": 0,
         "textposition": "inside",
         "type": "bar",
         "x": {
          "bdata": "AAE=",
          "dtype": "i1"
         },
         "xaxis": "x",
         "y": {
          "bdata": "MzMzMzMTU0AzMzMzM3NNQA==",
          "dtype": "f8"
         },
         "yaxis": "y"
        },
        {
         "hovertemplate": "Churn=Yes<br>SeniorCitizen=%{x}<br>percentage=%{y}<br>label=%{text}<extra></extra>",
         "legendgroup": "Yes",
         "marker": {
          "color": "#EF553B",
          "opacity": 0.8,
          "pattern": {
           "shape": ""
          }
         },
         "name": "Yes",
         "orientation": "v",
         "showlegend": true,
         "text": [
          "1260 (23.7%)",
          "422 (41.1%)"
         ],
         "textangle": 0,
         "textposition": "inside",
         "type": "bar",
         "x": {
          "bdata": "AAE=",
          "dtype": "i1"
         },
         "xaxis": "x",
         "y": {
          "bdata": "MzMzMzOzN0DNzMzMzIxEQA==",
          "dtype": "f8"
         },
         "yaxis": "y"
        }
       ],
       "layout": {
        "bargap": 0.1,
        "barmode": "relative",
        "legend": {
         "title": {
          "text": "Churn"
         },
         "tracegroupgap": 0
        },
        "margin": {
         "t": 60
        },
        "template": {
         "data": {
          "bar": [
           {
            "error_x": {
             "color": "#2a3f5f"
            },
            "error_y": {
             "color": "#2a3f5f"
            },
            "marker": {
             "line": {
              "color": "white",
              "width": 0.5
             },
             "pattern": {
              "fillmode": "overlay",
              "size": 10,
              "solidity": 0.2
             }
            },
            "type": "bar"
           }
          ],
          "barpolar": [
           {
            "marker": {
             "line": {
              "color": "white",
              "width": 0.5
             },
             "pattern": {
              "fillmode": "overlay",
              "size": 10,
              "solidity": 0.2
             }
            },
            "type": "barpolar"
           }
          ],
          "carpet": [
           {
            "aaxis": {
             "endlinecolor": "#2a3f5f",
             "gridcolor": "#C8D4E3",
             "linecolor": "#C8D4E3",
             "minorgridcolor": "#C8D4E3",
             "startlinecolor": "#2a3f5f"
            },
            "baxis": {
             "endlinecolor": "#2a3f5f",
             "gridcolor": "#C8D4E3",
             "linecolor": "#C8D4E3",
             "minorgridcolor": "#C8D4E3",
             "startlinecolor": "#2a3f5f"
            },
            "type": "carpet"
           }
          ],
          "choropleth": [
           {
            "colorbar": {
             "outlinewidth": 0,
             "ticks": ""
            },
            "type": "choropleth"
           }
          ],
          "contour": [
           {
            "colorbar": {
             "outlinewidth": 0,
             "ticks": ""
            },
            "colorscale": [
             [
              0,
              "#0d0887"
             ],
             [
              0.1111111111111111,
              "#46039f"
             ],
             [
              0.2222222222222222,
              "#7201a8"
             ],
             [
              0.3333333333333333,
              "#9c179e"
             ],
             [
              0.4444444444444444,
              "#bd3786"
             ],
             [
              0.5555555555555556,
              "#d8576b"
             ],
             [
              0.6666666666666666,
              "#ed7953"
             ],
             [
              0.7777777777777778,
              "#fb9f3a"
             ],
             [
              0.8888888888888888,
              "#fdca26"
             ],
             [
              1,
              "#f0f921"
             ]
            ],
            "type": "contour"
           }
          ],
          "contourcarpet": [
           {
            "colorbar": {
             "outlinewidth": 0,
             "ticks": ""
            },
            "type": "contourcarpet"
           }
          ],
          "heatmap": [
           {
            "colorbar": {
             "outlinewidth": 0,
             "ticks": ""
            },
            "colorscale": [
             [
              0,
              "#0d0887"
             ],
             [
              0.1111111111111111,
              "#46039f"
             ],
             [
              0.2222222222222222,
              "#7201a8"
             ],
             [
              0.3333333333333333,
              "#9c179e"
             ],
             [
              0.4444444444444444,
              "#bd3786"
             ],
             [
              0.5555555555555556,
              "#d8576b"
             ],
             [
              0.6666666666666666,
              "#ed7953"
             ],
             [
              0.7777777777777778,
              "#fb9f3a"
             ],
             [
              0.8888888888888888,
              "#fdca26"
             ],
             [
              1,
              "#f0f921"
             ]
            ],
            "type": "heatmap"
           }
          ],
          "histogram": [
           {
            "marker": {
             "pattern": {
              "fillmode": "overlay",
              "size": 10,
              "solidity": 0.2
             }
            },
            "type": "histogram"
           }
          ],
          "histogram2d": [
           {
            "colorbar": {
             "outlinewidth": 0,
             "ticks": ""
            },
            "colorscale": [
             [
              0,
              "#0d0887"
             ],
             [
              0.1111111111111111,
              "#46039f"
             ],
             [
              0.2222222222222222,
              "#7201a8"
             ],
             [
              0.3333333333333333,
              "#9c179e"
             ],
             [
              0.4444444444444444,
              "#bd3786"
             ],
             [
              0.5555555555555556,
              "#d8576b"
             ],
             [
              0.6666666666666666,
              "#ed7953"
             ],
             [
              0.7777777777777778,
              "#fb9f3a"
             ],
             [
              0.8888888888888888,
              "#fdca26"
             ],
             [
              1,
              "#f0f921"
             ]
            ],
            "type": "histogram2d"
           }
          ],
          "histogram2dcontour": [
           {
            "colorbar": {
             "outlinewidth": 0,
             "ticks": ""
            },
            "colorscale": [
             [
              0,
              "#0d0887"
             ],
             [
              0.1111111111111111,
              "#46039f"
             ],
             [
              0.2222222222222222,
              "#7201a8"
             ],
             [
              0.3333333333333333,
              "#9c179e"
             ],
             [
              0.4444444444444444,
              "#bd3786"
             ],
             [
              0.5555555555555556,
              "#d8576b"
             ],
             [
              0.6666666666666666,
              "#ed7953"
             ],
             [
              0.7777777777777778,
              "#fb9f3a"
             ],
             [
              0.8888888888888888,
              "#fdca26"
             ],
             [
              1,
              "#f0f921"
             ]
            ],
            "type": "histogram2dcontour"
           }
          ],
          "mesh3d": [
           {
            "colorbar": {
             "outlinewidth": 0,
             "ticks": ""
            },
            "type": "mesh3d"
           }
          ],
          "parcoords": [
           {
            "line": {
             "colorbar": {
              "outlinewidth": 0,
              "ticks": ""
             }
            },
            "type": "parcoords"
           }
          ],
          "pie": [
           {
            "automargin": true,
            "type": "pie"
           }
          ],
          "scatter": [
           {
            "fillpattern": {
             "fillmode": "overlay",
             "size": 10,
             "solidity": 0.2
            },
            "type": "scatter"
           }
          ],
          "scatter3d": [
           {
            "line": {
             "colorbar": {
              "outlinewidth": 0,
              "ticks": ""
             }
            },
            "marker": {
             "colorbar": {
              "outlinewidth": 0,
              "ticks": ""
             }
            },
            "type": "scatter3d"
           }
          ],
          "scattercarpet": [
           {
            "marker": {
             "colorbar": {
              "outlinewidth": 0,
              "ticks": ""
             }
            },
            "type": "scattercarpet"
           }
          ],
          "scattergeo": [
           {
            "marker": {
             "colorbar": {
              "outlinewidth": 0,
              "ticks": ""
             }
            },
            "type": "scattergeo"
           }
          ],
          "scattergl": [
           {
            "marker": {
             "colorbar": {
              "outlinewidth": 0,
              "ticks": ""
             }
            },
            "type": "scattergl"
           }
          ],
          "scattermap": [
           {
            "marker": {
             "colorbar": {
              "outlinewidth": 0,
              "ticks": ""
             }
            },
            "type": "scattermap"
           }
          ],
          "scattermapbox": [
           {
            "marker": {
             "colorbar": {
              "outlinewidth": 0,
              "ticks": ""
             }
            },
            "type": "scattermapbox"
           }
          ],
          "scatterpolar": [
           {
            "marker": {
             "colorbar": {
              "outlinewidth": 0,
              "ticks": ""
             }
            },
            "type": "scatterpolar"
           }
          ],
          "scatterpolargl": [
           {
            "marker": {
             "colorbar": {
              "outlinewidth": 0,
              "ticks": ""
             }
            },
            "type": "scatterpolargl"
           }
          ],
          "scatterternary": [
           {
            "marker": {
             "colorbar": {
              "outlinewidth": 0,
              "ticks": ""
             }
            },
            "type": "scatterternary"
           }
          ],
          "surface": [
           {
            "colorbar": {
             "outlinewidth": 0,
             "ticks": ""
            },
            "colorscale": [
             [
              0,
              "#0d0887"
             ],
             [
              0.1111111111111111,
              "#46039f"
             ],
             [
              0.2222222222222222,
              "#7201a8"
             ],
             [
              0.3333333333333333,
              "#9c179e"
             ],
             [
              0.4444444444444444,
              "#bd3786"
             ],
             [
              0.5555555555555556,
              "#d8576b"
             ],
             [
              0.6666666666666666,
              "#ed7953"
             ],
             [
              0.7777777777777778,
              "#fb9f3a"
             ],
             [
              0.8888888888888888,
              "#fdca26"
             ],
             [
              1,
              "#f0f921"
             ]
            ],
            "type": "surface"
           }
          ],
          "table": [
           {
            "cells": {
             "fill": {
              "color": "#EBF0F8"
             },
             "line": {
              "color": "white"
             }
            },
            "header": {
             "fill": {
              "color": "#C8D4E3"
             },
             "line": {
              "color": "white"
             }
            },
            "type": "table"
           }
          ]
         },
         "layout": {
          "annotationdefaults": {
           "arrowcolor": "#2a3f5f",
           "arrowhead": 0,
           "arrowwidth": 1
          },
          "autotypenumbers": "strict",
          "coloraxis": {
           "colorbar": {
            "outlinewidth": 0,
            "ticks": ""
           }
          },
          "colorscale": {
           "diverging": [
            [
             0,
             "#8e0152"
            ],
            [
             0.1,
             "#c51b7d"
            ],
            [
             0.2,
             "#de77ae"
            ],
            [
             0.3,
             "#f1b6da"
            ],
            [
             0.4,
             "#fde0ef"
            ],
            [
             0.5,
             "#f7f7f7"
            ],
            [
             0.6,
             "#e6f5d0"
            ],
            [
             0.7,
             "#b8e186"
            ],
            [
             0.8,
             "#7fbc41"
            ],
            [
             0.9,
             "#4d9221"
            ],
            [
             1,
             "#276419"
            ]
           ],
           "sequential": [
            [
             0,
             "#0d0887"
            ],
            [
             0.1111111111111111,
             "#46039f"
            ],
            [
             0.2222222222222222,
             "#7201a8"
            ],
            [
             0.3333333333333333,
             "#9c179e"
            ],
            [
             0.4444444444444444,
             "#bd3786"
            ],
            [
             0.5555555555555556,
             "#d8576b"
            ],
            [
             0.6666666666666666,
             "#ed7953"
            ],
            [
             0.7777777777777778,
             "#fb9f3a"
            ],
            [
             0.8888888888888888,
             "#fdca26"
            ],
            [
             1,
             "#f0f921"
            ]
           ],
           "sequentialminus": [
            [
             0,
             "#0d0887"
            ],
            [
             0.1111111111111111,
             "#46039f"
            ],
            [
             0.2222222222222222,
             "#7201a8"
            ],
            [
             0.3333333333333333,
             "#9c179e"
            ],
            [
             0.4444444444444444,
             "#bd3786"
            ],
            [
             0.5555555555555556,
             "#d8576b"
            ],
            [
             0.6666666666666666,
             "#ed7953"
            ],
            [
             0.7777777777777778,
             "#fb9f3a"
            ],
            [
             0.8888888888888888,
             "#fdca26"
            ],
            [
             1,
             "#f0f921"
            ]
           ]
          },
          "colorway": [
           "#636efa",
           "#EF553B",
           "#00cc96",
           "#ab63fa",
           "#FFA15A",
           "#19d3f3",
           "#FF6692",
           "#B6E880",
           "#FF97FF",
           "#FECB52"
          ],
          "font": {
           "color": "#2a3f5f"
          },
          "geo": {
           "bgcolor": "white",
           "lakecolor": "white",
           "landcolor": "white",
           "showlakes": true,
           "showland": true,
           "subunitcolor": "#C8D4E3"
          },
          "hoverlabel": {
           "align": "left"
          },
          "hovermode": "closest",
          "mapbox": {
           "style": "light"
          },
          "paper_bgcolor": "white",
          "plot_bgcolor": "white",
          "polar": {
           "angularaxis": {
            "gridcolor": "#EBF0F8",
            "linecolor": "#EBF0F8",
            "ticks": ""
           },
           "bgcolor": "white",
           "radialaxis": {
            "gridcolor": "#EBF0F8",
            "linecolor": "#EBF0F8",
            "ticks": ""
           }
          },
          "scene": {
           "xaxis": {
            "backgroundcolor": "white",
            "gridcolor": "#DFE8F3",
            "gridwidth": 2,
            "linecolor": "#EBF0F8",
            "showbackground": true,
            "ticks": "",
            "zerolinecolor": "#EBF0F8"
           },
           "yaxis": {
            "backgroundcolor": "white",
            "gridcolor": "#DFE8F3",
            "gridwidth": 2,
            "linecolor": "#EBF0F8",
            "showbackground": true,
            "ticks": "",
            "zerolinecolor": "#EBF0F8"
           },
           "zaxis": {
            "backgroundcolor": "white",
            "gridcolor": "#DFE8F3",
            "gridwidth": 2,
            "linecolor": "#EBF0F8",
            "showbackground": true,
            "ticks": "",
            "zerolinecolor": "#EBF0F8"
           }
          },
          "shapedefaults": {
           "line": {
            "color": "#2a3f5f"
           }
          },
          "ternary": {
           "aaxis": {
            "gridcolor": "#DFE8F3",
            "linecolor": "#A2B1C6",
            "ticks": ""
           },
           "baxis": {
            "gridcolor": "#DFE8F3",
            "linecolor": "#A2B1C6",
            "ticks": ""
           },
           "bgcolor": "white",
           "caxis": {
            "gridcolor": "#DFE8F3",
            "linecolor": "#A2B1C6",
            "ticks": ""
           }
          },
          "title": {
           "x": 0.05
          },
          "xaxis": {
           "automargin": true,
           "gridcolor": "#EBF0F8",
           "linecolor": "#EBF0F8",
           "ticks": "",
           "title": {
            "standoff": 15
           },
           "zerolinecolor": "#EBF0F8",
           "zerolinewidth": 2
          },
          "yaxis": {
           "automargin": true,
           "gridcolor": "#EBF0F8",
           "linecolor": "#EBF0F8",
           "ticks": "",
           "title": {
            "standoff": 15
           },
           "zerolinecolor": "#EBF0F8",
           "zerolinewidth": 2
          }
         }
        },
        "title": {
         "text": "Churn Distribution by SeniorCitizen (%)"
        },
        "xaxis": {
         "anchor": "y",
         "domain": [
          0,
          1
         ],
         "showgrid": false,
         "title": {
          "text": ""
         }
        },
        "yaxis": {
         "anchor": "x",
         "domain": [
          0,
          1
         ],
         "showgrid": false,
         "title": {
          "text": "Percentage (%)"
         }
        }
       }
      }
     },
     "metadata": {},
     "output_type": "display_data"
    }
   ],
   "source": [
    "category_cols = train.head(1).select_dtypes(include = 'object').drop(columns = ['customerID', 'Churn', 'TotalCharges']).columns.tolist()\n",
    "\n",
    "for col in category_cols + ['SeniorCitizen']:\n",
    "    \n",
    "    df_counts = train.groupby([col, 'Churn']).size().reset_index(name='count')\n",
    "    \n",
    "    category_totals = df_counts.groupby(col)['count'].sum().reset_index()\n",
    "    category_totals.rename(columns={'count': 'total'}, inplace=True)\n",
    "    \n",
    "    df_normalized = pd.merge(df_counts, category_totals, on=col)\n",
    "    \n",
    "    df_normalized['percentage'] = (df_normalized['count'] / df_normalized['total'] * 100).round(1)\n",
    "    \n",
    "    df_normalized['label'] = df_normalized['count'].astype(str) + ' (' + df_normalized['percentage'].astype(str) + '%)'\n",
    "    \n",
    "    fig = px.bar(\n",
    "        data_frame=df_normalized,\n",
    "        x=col,\n",
    "        y='percentage',  \n",
    "        color='Churn',\n",
    "        template='plotly_white',\n",
    "        opacity=0.8,\n",
    "        text='label'  \n",
    "    )\n",
    "\n",
    "    fig.update_layout(\n",
    "        title=f\"Churn Distribution by {col} (%)\",\n",
    "        xaxis_title=\"\",\n",
    "        yaxis_title=\"Percentage (%)\",\n",
    "        bargap=0.1,\n",
    "        xaxis=dict(showgrid=False),\n",
    "        yaxis=dict(showgrid=False),\n",
    "        legend_title=\"Churn\"\n",
    "    )\n",
    "    \n",
    "    \n",
    "    fig.update_traces(textposition='inside', textangle=0)\n",
    "    \n",
    "    fig.show()"
   ]
  },
  {
   "cell_type": "markdown",
   "metadata": {},
   "source": [
    "### 3.2. Numerical variables"
   ]
  },
  {
   "cell_type": "code",
   "execution_count": 7,
   "metadata": {},
   "outputs": [],
   "source": [
    "train['TotalCharges'] = np.where(train['TotalCharges'] == \" \", 0, train['TotalCharges'])\n",
    "train['TotalCharges'] = train['TotalCharges'].astype(float)"
   ]
  },
  {
   "cell_type": "code",
   "execution_count": 8,
   "metadata": {},
   "outputs": [
    {
     "data": {
      "application/vnd.plotly.v1+json": {
       "config": {
        "plotlyServerURL": "https://plot.ly"
       },
       "data": [
        {
         "bingroup": "x",
         "hovertemplate": "Churn=No<br>tenure=%{x}<br>count=%{y}<extra></extra>",
         "legendgroup": "No",
         "marker": {
          "color": "#636efa",
          "opacity": 0.8,
          "pattern": {
           "shape": ""
          }
         },
         "name": "No",
         "orientation": "v",
         "showlegend": true,
         "type": "histogram",
         "x": {
          "bdata": "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",
          "dtype": "i1"
         },
         "xaxis": "x",
         "yaxis": "y"
        },
        {
         "bingroup": "x",
         "hovertemplate": "Churn=Yes<br>tenure=%{x}<br>count=%{y}<extra></extra>",
         "legendgroup": "Yes",
         "marker": {
          "color": "#EF553B",
          "opacity": 0.8,
          "pattern": {
           "shape": ""
          }
         },
         "name": "Yes",
         "orientation": "v",
         "showlegend": true,
         "type": "histogram",
         "x": {
          "bdata": "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",
          "dtype": "i1"
         },
         "xaxis": "x",
         "yaxis": "y"
        }
       ],
       "layout": {
        "bargap": 0.1,
        "barmode": "relative",
        "legend": {
         "title": {
          "text": "Churn"
         },
         "tracegroupgap": 0
        },
        "margin": {
         "t": 60
        },
        "template": {
         "data": {
          "bar": [
           {
            "error_x": {
             "color": "#2a3f5f"
            },
            "error_y": {
             "color": "#2a3f5f"
            },
            "marker": {
             "line": {
              "color": "white",
              "width": 0.5
             },
             "pattern": {
              "fillmode": "overlay",
              "size": 10,
              "solidity": 0.2
             }
            },
            "type": "bar"
           }
          ],
          "barpolar": [
           {
            "marker": {
             "line": {
              "color": "white",
              "width": 0.5
             },
             "pattern": {
              "fillmode": "overlay",
              "size": 10,
              "solidity": 0.2
             }
            },
            "type": "barpolar"
           }
          ],
          "carpet": [
           {
            "aaxis": {
             "endlinecolor": "#2a3f5f",
             "gridcolor": "#C8D4E3",
             "linecolor": "#C8D4E3",
             "minorgridcolor": "#C8D4E3",
             "startlinecolor": "#2a3f5f"
            },
            "baxis": {
             "endlinecolor": "#2a3f5f",
             "gridcolor": "#C8D4E3",
             "linecolor": "#C8D4E3",
             "minorgridcolor": "#C8D4E3",
             "startlinecolor": "#2a3f5f"
            },
            "type": "carpet"
           }
          ],
          "choropleth": [
           {
            "colorbar": {
             "outlinewidth": 0,
             "ticks": ""
            },
            "type": "choropleth"
           }
          ],
          "contour": [
           {
            "colorbar": {
             "outlinewidth": 0,
             "ticks": ""
            },
            "colorscale": [
             [
              0,
              "#0d0887"
             ],
             [
              0.1111111111111111,
              "#46039f"
             ],
             [
              0.2222222222222222,
              "#7201a8"
             ],
             [
              0.3333333333333333,
              "#9c179e"
             ],
             [
              0.4444444444444444,
              "#bd3786"
             ],
             [
              0.5555555555555556,
              "#d8576b"
             ],
             [
              0.6666666666666666,
              "#ed7953"
             ],
             [
              0.7777777777777778,
              "#fb9f3a"
             ],
             [
              0.8888888888888888,
              "#fdca26"
             ],
             [
              1,
              "#f0f921"
             ]
            ],
            "type": "contour"
           }
          ],
          "contourcarpet": [
           {
            "colorbar": {
             "outlinewidth": 0,
             "ticks": ""
            },
            "type": "contourcarpet"
           }
          ],
          "heatmap": [
           {
            "colorbar": {
             "outlinewidth": 0,
             "ticks": ""
            },
            "colorscale": [
             [
              0,
              "#0d0887"
             ],
             [
              0.1111111111111111,
              "#46039f"
             ],
             [
              0.2222222222222222,
              "#7201a8"
             ],
             [
              0.3333333333333333,
              "#9c179e"
             ],
             [
              0.4444444444444444,
              "#bd3786"
             ],
             [
              0.5555555555555556,
              "#d8576b"
             ],
             [
              0.6666666666666666,
              "#ed7953"
             ],
             [
              0.7777777777777778,
              "#fb9f3a"
             ],
             [
              0.8888888888888888,
              "#fdca26"
             ],
             [
              1,
              "#f0f921"
             ]
            ],
            "type": "heatmap"
           }
          ],
          "histogram": [
           {
            "marker": {
             "pattern": {
              "fillmode": "overlay",
              "size": 10,
              "solidity": 0.2
             }
            },
            "type": "histogram"
           }
          ],
          "histogram2d": [
           {
            "colorbar": {
             "outlinewidth": 0,
             "ticks": ""
            },
            "colorscale": [
             [
              0,
              "#0d0887"
             ],
             [
              0.1111111111111111,
              "#46039f"
             ],
             [
              0.2222222222222222,
              "#7201a8"
             ],
             [
              0.3333333333333333,
              "#9c179e"
             ],
             [
              0.4444444444444444,
              "#bd3786"
             ],
             [
              0.5555555555555556,
              "#d8576b"
             ],
             [
              0.6666666666666666,
              "#ed7953"
             ],
             [
              0.7777777777777778,
              "#fb9f3a"
             ],
             [
              0.8888888888888888,
              "#fdca26"
             ],
             [
              1,
              "#f0f921"
             ]
            ],
            "type": "histogram2d"
           }
          ],
          "histogram2dcontour": [
           {
            "colorbar": {
             "outlinewidth": 0,
             "ticks": ""
            },
            "colorscale": [
             [
              0,
              "#0d0887"
             ],
             [
              0.1111111111111111,
              "#46039f"
             ],
             [
              0.2222222222222222,
              "#7201a8"
             ],
             [
              0.3333333333333333,
              "#9c179e"
             ],
             [
              0.4444444444444444,
              "#bd3786"
             ],
             [
              0.5555555555555556,
              "#d8576b"
             ],
             [
              0.6666666666666666,
              "#ed7953"
             ],
             [
              0.7777777777777778,
              "#fb9f3a"
             ],
             [
              0.8888888888888888,
              "#fdca26"
             ],
             [
              1,
              "#f0f921"
             ]
            ],
            "type": "histogram2dcontour"
           }
          ],
          "mesh3d": [
           {
            "colorbar": {
             "outlinewidth": 0,
             "ticks": ""
            },
            "type": "mesh3d"
           }
          ],
          "parcoords": [
           {
            "line": {
             "colorbar": {
              "outlinewidth": 0,
              "ticks": ""
             }
            },
            "type": "parcoords"
           }
          ],
          "pie": [
           {
            "automargin": true,
            "type": "pie"
           }
          ],
          "scatter": [
           {
            "fillpattern": {
             "fillmode": "overlay",
             "size": 10,
             "solidity": 0.2
            },
            "type": "scatter"
           }
          ],
          "scatter3d": [
           {
            "line": {
             "colorbar": {
              "outlinewidth": 0,
              "ticks": ""
             }
            },
            "marker": {
             "colorbar": {
              "outlinewidth": 0,
              "ticks": ""
             }
            },
            "type": "scatter3d"
           }
          ],
          "scattercarpet": [
           {
            "marker": {
             "colorbar": {
              "outlinewidth": 0,
              "ticks": ""
             }
            },
            "type": "scattercarpet"
           }
          ],
          "scattergeo": [
           {
            "marker": {
             "colorbar": {
              "outlinewidth": 0,
              "ticks": ""
             }
            },
            "type": "scattergeo"
           }
          ],
          "scattergl": [
           {
            "marker": {
             "colorbar": {
              "outlinewidth": 0,
              "ticks": ""
             }
            },
            "type": "scattergl"
           }
          ],
          "scattermap": [
           {
            "marker": {
             "colorbar": {
              "outlinewidth": 0,
              "ticks": ""
             }
            },
            "type": "scattermap"
           }
          ],
          "scattermapbox": [
           {
            "marker": {
             "colorbar": {
              "outlinewidth": 0,
              "ticks": ""
             }
            },
            "type": "scattermapbox"
           }
          ],
          "scatterpolar": [
           {
            "marker": {
             "colorbar": {
              "outlinewidth": 0,
              "ticks": ""
             }
            },
            "type": "scatterpolar"
           }
          ],
          "scatterpolargl": [
           {
            "marker": {
             "colorbar": {
              "outlinewidth": 0,
              "ticks": ""
             }
            },
            "type": "scatterpolargl"
           }
          ],
          "scatterternary": [
           {
            "marker": {
             "colorbar": {
              "outlinewidth": 0,
              "ticks": ""
             }
            },
            "type": "scatterternary"
           }
          ],
          "surface": [
           {
            "colorbar": {
             "outlinewidth": 0,
             "ticks": ""
            },
            "colorscale": [
             [
              0,
              "#0d0887"
             ],
             [
              0.1111111111111111,
              "#46039f"
             ],
             [
              0.2222222222222222,
              "#7201a8"
             ],
             [
              0.3333333333333333,
              "#9c179e"
             ],
             [
              0.4444444444444444,
              "#bd3786"
             ],
             [
              0.5555555555555556,
              "#d8576b"
             ],
             [
              0.6666666666666666,
              "#ed7953"
             ],
             [
              0.7777777777777778,
              "#fb9f3a"
             ],
             [
              0.8888888888888888,
              "#fdca26"
             ],
             [
              1,
              "#f0f921"
             ]
            ],
            "type": "surface"
           }
          ],
          "table": [
           {
            "cells": {
             "fill": {
              "color": "#EBF0F8"
             },
             "line": {
              "color": "white"
             }
            },
            "header": {
             "fill": {
              "color": "#C8D4E3"
             },
             "line": {
              "color": "white"
             }
            },
            "type": "table"
           }
          ]
         },
         "layout": {
          "annotationdefaults": {
           "arrowcolor": "#2a3f5f",
           "arrowhead": 0,
           "arrowwidth": 1
          },
          "autotypenumbers": "strict",
          "coloraxis": {
           "colorbar": {
            "outlinewidth": 0,
            "ticks": ""
           }
          },
          "colorscale": {
           "diverging": [
            [
             0,
             "#8e0152"
            ],
            [
             0.1,
             "#c51b7d"
            ],
            [
             0.2,
             "#de77ae"
            ],
            [
             0.3,
             "#f1b6da"
            ],
            [
             0.4,
             "#fde0ef"
            ],
            [
             0.5,
             "#f7f7f7"
            ],
            [
             0.6,
             "#e6f5d0"
            ],
            [
             0.7,
             "#b8e186"
            ],
            [
             0.8,
             "#7fbc41"
            ],
            [
             0.9,
             "#4d9221"
            ],
            [
             1,
             "#276419"
            ]
           ],
           "sequential": [
            [
             0,
             "#0d0887"
            ],
            [
             0.1111111111111111,
             "#46039f"
            ],
            [
             0.2222222222222222,
             "#7201a8"
            ],
            [
             0.3333333333333333,
             "#9c179e"
            ],
            [
             0.4444444444444444,
             "#bd3786"
            ],
            [
             0.5555555555555556,
             "#d8576b"
            ],
            [
             0.6666666666666666,
             "#ed7953"
            ],
            [
             0.7777777777777778,
             "#fb9f3a"
            ],
            [
             0.8888888888888888,
             "#fdca26"
            ],
            [
             1,
             "#f0f921"
            ]
           ],
           "sequentialminus": [
            [
             0,
             "#0d0887"
            ],
            [
             0.1111111111111111,
             "#46039f"
            ],
            [
             0.2222222222222222,
             "#7201a8"
            ],
            [
             0.3333333333333333,
             "#9c179e"
            ],
            [
             0.4444444444444444,
             "#bd3786"
            ],
            [
             0.5555555555555556,
             "#d8576b"
            ],
            [
             0.6666666666666666,
             "#ed7953"
            ],
            [
             0.7777777777777778,
             "#fb9f3a"
            ],
            [
             0.8888888888888888,
             "#fdca26"
            ],
            [
             1,
             "#f0f921"
            ]
           ]
          },
          "colorway": [
           "#636efa",
           "#EF553B",
           "#00cc96",
           "#ab63fa",
           "#FFA15A",
           "#19d3f3",
           "#FF6692",
           "#B6E880",
           "#FF97FF",
           "#FECB52"
          ],
          "font": {
           "color": "#2a3f5f"
          },
          "geo": {
           "bgcolor": "white",
           "lakecolor": "white",
           "landcolor": "white",
           "showlakes": true,
           "showland": true,
           "subunitcolor": "#C8D4E3"
          },
          "hoverlabel": {
           "align": "left"
          },
          "hovermode": "closest",
          "mapbox": {
           "style": "light"
          },
          "paper_bgcolor": "white",
          "plot_bgcolor": "white",
          "polar": {
           "angularaxis": {
            "gridcolor": "#EBF0F8",
            "linecolor": "#EBF0F8",
            "ticks": ""
           },
           "bgcolor": "white",
           "radialaxis": {
            "gridcolor": "#EBF0F8",
            "linecolor": "#EBF0F8",
            "ticks": ""
           }
          },
          "scene": {
           "xaxis": {
            "backgroundcolor": "white",
            "gridcolor": "#DFE8F3",
            "gridwidth": 2,
            "linecolor": "#EBF0F8",
            "showbackground": true,
            "ticks": "",
            "zerolinecolor": "#EBF0F8"
           },
           "yaxis": {
            "backgroundcolor": "white",
            "gridcolor": "#DFE8F3",
            "gridwidth": 2,
            "linecolor": "#EBF0F8",
            "showbackground": true,
            "ticks": "",
            "zerolinecolor": "#EBF0F8"
           },
           "zaxis": {
            "backgroundcolor": "white",
            "gridcolor": "#DFE8F3",
            "gridwidth": 2,
            "linecolor": "#EBF0F8",
            "showbackground": true,
            "ticks": "",
            "zerolinecolor": "#EBF0F8"
           }
          },
          "shapedefaults": {
           "line": {
            "color": "#2a3f5f"
           }
          },
          "ternary": {
           "aaxis": {
            "gridcolor": "#DFE8F3",
            "linecolor": "#A2B1C6",
            "ticks": ""
           },
           "baxis": {
            "gridcolor": "#DFE8F3",
            "linecolor": "#A2B1C6",
            "ticks": ""
           },
           "bgcolor": "white",
           "caxis": {
            "gridcolor": "#DFE8F3",
            "linecolor": "#A2B1C6",
            "ticks": ""
           }
          },
          "title": {
           "x": 0.05
          },
          "xaxis": {
           "automargin": true,
           "gridcolor": "#EBF0F8",
           "linecolor": "#EBF0F8",
           "ticks": "",
           "title": {
            "standoff": 15
           },
           "zerolinecolor": "#EBF0F8",
           "zerolinewidth": 2
          },
          "yaxis": {
           "automargin": true,
           "gridcolor": "#EBF0F8",
           "linecolor": "#EBF0F8",
           "ticks": "",
           "title": {
            "standoff": 15
           },
           "zerolinecolor": "#EBF0F8",
           "zerolinewidth": 2
          }
         }
        },
        "title": {
         "text": "Churn Distribution by tenure"
        },
        "xaxis": {
         "anchor": "y",
         "domain": [
          0,
          1
         ],
         "showgrid": false,
         "title": {
          "text": ""
         }
        },
        "yaxis": {
         "anchor": "x",
         "domain": [
          0,
          1
         ],
         "showgrid": false,
         "title": {
          "text": "Count"
         }
        }
       }
      }
     },
     "metadata": {},
     "output_type": "display_data"
    },
    {
     "data": {
      "application/vnd.plotly.v1+json": {
       "config": {
        "plotlyServerURL": "https://plot.ly"
       },
       "data": [
        {
         "bingroup": "x",
         "hovertemplate": "Churn=No<br>MonthlyCharges=%{x}<br>count=%{y}<extra></extra>",
         "legendgroup": "No",
         "marker": {
          "color": "#636efa",
          "opacity": 0.8,
          "pattern": {
           "shape": ""
          }
         },
         "name": "No",
         "orientation": "v",
         "showlegend": true,
         "type": "histogram",
         "x": {
          "bdata": "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",
          "dtype": "f8"
         },
         "xaxis": "x",
         "yaxis": "y"
        },
        {
         "bingroup": "x",
         "hovertemplate": "Churn=Yes<br>MonthlyCharges=%{x}<br>count=%{y}<extra></extra>",
         "legendgroup": "Yes",
         "marker": {
          "color": "#EF553B",
          "opacity": 0.8,
          "pattern": {
           "shape": ""
          }
         },
         "name": "Yes",
         "orientation": "v",
         "showlegend": true,
         "type": "histogram",
         "x": {
          "bdata": "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",
          "dtype": "f8"
         },
         "xaxis": "x",
         "yaxis": "y"
        }
       ],
       "layout": {
        "bargap": 0.1,
        "barmode": "relative",
        "legend": {
         "title": {
          "text": "Churn"
         },
         "tracegroupgap": 0
        },
        "margin": {
         "t": 60
        },
        "template": {
         "data": {
          "bar": [
           {
            "error_x": {
             "color": "#2a3f5f"
            },
            "error_y": {
             "color": "#2a3f5f"
            },
            "marker": {
             "line": {
              "color": "white",
              "width": 0.5
             },
             "pattern": {
              "fillmode": "overlay",
              "size": 10,
              "solidity": 0.2
             }
            },
            "type": "bar"
           }
          ],
          "barpolar": [
           {
            "marker": {
             "line": {
              "color": "white",
              "width": 0.5
             },
             "pattern": {
              "fillmode": "overlay",
              "size": 10,
              "solidity": 0.2
             }
            },
            "type": "barpolar"
           }
          ],
          "carpet": [
           {
            "aaxis": {
             "endlinecolor": "#2a3f5f",
             "gridcolor": "#C8D4E3",
             "linecolor": "#C8D4E3",
             "minorgridcolor": "#C8D4E3",
             "startlinecolor": "#2a3f5f"
            },
            "baxis": {
             "endlinecolor": "#2a3f5f",
             "gridcolor": "#C8D4E3",
             "linecolor": "#C8D4E3",
             "minorgridcolor": "#C8D4E3",
             "startlinecolor": "#2a3f5f"
            },
            "type": "carpet"
           }
          ],
          "choropleth": [
           {
            "colorbar": {
             "outlinewidth": 0,
             "ticks": ""
            },
            "type": "choropleth"
           }
          ],
          "contour": [
           {
            "colorbar": {
             "outlinewidth": 0,
             "ticks": ""
            },
            "colorscale": [
             [
              0,
              "#0d0887"
             ],
             [
              0.1111111111111111,
              "#46039f"
             ],
             [
              0.2222222222222222,
              "#7201a8"
             ],
             [
              0.3333333333333333,
              "#9c179e"
             ],
             [
              0.4444444444444444,
              "#bd3786"
             ],
             [
              0.5555555555555556,
              "#d8576b"
             ],
             [
              0.6666666666666666,
              "#ed7953"
             ],
             [
              0.7777777777777778,
              "#fb9f3a"
             ],
             [
              0.8888888888888888,
              "#fdca26"
             ],
             [
              1,
              "#f0f921"
             ]
            ],
            "type": "contour"
           }
          ],
          "contourcarpet": [
           {
            "colorbar": {
             "outlinewidth": 0,
             "ticks": ""
            },
            "type": "contourcarpet"
           }
          ],
          "heatmap": [
           {
            "colorbar": {
             "outlinewidth": 0,
             "ticks": ""
            },
            "colorscale": [
             [
              0,
              "#0d0887"
             ],
             [
              0.1111111111111111,
              "#46039f"
             ],
             [
              0.2222222222222222,
              "#7201a8"
             ],
             [
              0.3333333333333333,
              "#9c179e"
             ],
             [
              0.4444444444444444,
              "#bd3786"
             ],
             [
              0.5555555555555556,
              "#d8576b"
             ],
             [
              0.6666666666666666,
              "#ed7953"
             ],
             [
              0.7777777777777778,
              "#fb9f3a"
             ],
             [
              0.8888888888888888,
              "#fdca26"
             ],
             [
              1,
              "#f0f921"
             ]
            ],
            "type": "heatmap"
           }
          ],
          "histogram": [
           {
            "marker": {
             "pattern": {
              "fillmode": "overlay",
              "size": 10,
              "solidity": 0.2
             }
            },
            "type": "histogram"
           }
          ],
          "histogram2d": [
           {
            "colorbar": {
             "outlinewidth": 0,
             "ticks": ""
            },
            "colorscale": [
             [
              0,
              "#0d0887"
             ],
             [
              0.1111111111111111,
              "#46039f"
             ],
             [
              0.2222222222222222,
              "#7201a8"
             ],
             [
              0.3333333333333333,
              "#9c179e"
             ],
             [
              0.4444444444444444,
              "#bd3786"
             ],
             [
              0.5555555555555556,
              "#d8576b"
             ],
             [
              0.6666666666666666,
              "#ed7953"
             ],
             [
              0.7777777777777778,
              "#fb9f3a"
             ],
             [
              0.8888888888888888,
              "#fdca26"
             ],
             [
              1,
              "#f0f921"
             ]
            ],
            "type": "histogram2d"
           }
          ],
          "histogram2dcontour": [
           {
            "colorbar": {
             "outlinewidth": 0,
             "ticks": ""
            },
            "colorscale": [
             [
              0,
              "#0d0887"
             ],
             [
              0.1111111111111111,
              "#46039f"
             ],
             [
              0.2222222222222222,
              "#7201a8"
             ],
             [
              0.3333333333333333,
              "#9c179e"
             ],
             [
              0.4444444444444444,
              "#bd3786"
             ],
             [
              0.5555555555555556,
              "#d8576b"
             ],
             [
              0.6666666666666666,
              "#ed7953"
             ],
             [
              0.7777777777777778,
              "#fb9f3a"
             ],
             [
              0.8888888888888888,
              "#fdca26"
             ],
             [
              1,
              "#f0f921"
             ]
            ],
            "type": "histogram2dcontour"
           }
          ],
          "mesh3d": [
           {
            "colorbar": {
             "outlinewidth": 0,
             "ticks": ""
            },
            "type": "mesh3d"
           }
          ],
          "parcoords": [
           {
            "line": {
             "colorbar": {
              "outlinewidth": 0,
              "ticks": ""
             }
            },
            "type": "parcoords"
           }
          ],
          "pie": [
           {
            "automargin": true,
            "type": "pie"
           }
          ],
          "scatter": [
           {
            "fillpattern": {
             "fillmode": "overlay",
             "size": 10,
             "solidity": 0.2
            },
            "type": "scatter"
           }
          ],
          "scatter3d": [
           {
            "line": {
             "colorbar": {
              "outlinewidth": 0,
              "ticks": ""
             }
            },
            "marker": {
             "colorbar": {
              "outlinewidth": 0,
              "ticks": ""
             }
            },
            "type": "scatter3d"
           }
          ],
          "scattercarpet": [
           {
            "marker": {
             "colorbar": {
              "outlinewidth": 0,
              "ticks": ""
             }
            },
            "type": "scattercarpet"
           }
          ],
          "scattergeo": [
           {
            "marker": {
             "colorbar": {
              "outlinewidth": 0,
              "ticks": ""
             }
            },
            "type": "scattergeo"
           }
          ],
          "scattergl": [
           {
            "marker": {
             "colorbar": {
              "outlinewidth": 0,
              "ticks": ""
             }
            },
            "type": "scattergl"
           }
          ],
          "scattermap": [
           {
            "marker": {
             "colorbar": {
              "outlinewidth": 0,
              "ticks": ""
             }
            },
            "type": "scattermap"
           }
          ],
          "scattermapbox": [
           {
            "marker": {
             "colorbar": {
              "outlinewidth": 0,
              "ticks": ""
             }
            },
            "type": "scattermapbox"
           }
          ],
          "scatterpolar": [
           {
            "marker": {
             "colorbar": {
              "outlinewidth": 0,
              "ticks": ""
             }
            },
            "type": "scatterpolar"
           }
          ],
          "scatterpolargl": [
           {
            "marker": {
             "colorbar": {
              "outlinewidth": 0,
              "ticks": ""
             }
            },
            "type": "scatterpolargl"
           }
          ],
          "scatterternary": [
           {
            "marker": {
             "colorbar": {
              "outlinewidth": 0,
              "ticks": ""
             }
            },
            "type": "scatterternary"
           }
          ],
          "surface": [
           {
            "colorbar": {
             "outlinewidth": 0,
             "ticks": ""
            },
            "colorscale": [
             [
              0,
              "#0d0887"
             ],
             [
              0.1111111111111111,
              "#46039f"
             ],
             [
              0.2222222222222222,
              "#7201a8"
             ],
             [
              0.3333333333333333,
              "#9c179e"
             ],
             [
              0.4444444444444444,
              "#bd3786"
             ],
             [
              0.5555555555555556,
              "#d8576b"
             ],
             [
              0.6666666666666666,
              "#ed7953"
             ],
             [
              0.7777777777777778,
              "#fb9f3a"
             ],
             [
              0.8888888888888888,
              "#fdca26"
             ],
             [
              1,
              "#f0f921"
             ]
            ],
            "type": "surface"
           }
          ],
          "table": [
           {
            "cells": {
             "fill": {
              "color": "#EBF0F8"
             },
             "line": {
              "color": "white"
             }
            },
            "header": {
             "fill": {
              "color": "#C8D4E3"
             },
             "line": {
              "color": "white"
             }
            },
            "type": "table"
           }
          ]
         },
         "layout": {
          "annotationdefaults": {
           "arrowcolor": "#2a3f5f",
           "arrowhead": 0,
           "arrowwidth": 1
          },
          "autotypenumbers": "strict",
          "coloraxis": {
           "colorbar": {
            "outlinewidth": 0,
            "ticks": ""
           }
          },
          "colorscale": {
           "diverging": [
            [
             0,
             "#8e0152"
            ],
            [
             0.1,
             "#c51b7d"
            ],
            [
             0.2,
             "#de77ae"
            ],
            [
             0.3,
             "#f1b6da"
            ],
            [
             0.4,
             "#fde0ef"
            ],
            [
             0.5,
             "#f7f7f7"
            ],
            [
             0.6,
             "#e6f5d0"
            ],
            [
             0.7,
             "#b8e186"
            ],
            [
             0.8,
             "#7fbc41"
            ],
            [
             0.9,
             "#4d9221"
            ],
            [
             1,
             "#276419"
            ]
           ],
           "sequential": [
            [
             0,
             "#0d0887"
            ],
            [
             0.1111111111111111,
             "#46039f"
            ],
            [
             0.2222222222222222,
             "#7201a8"
            ],
            [
             0.3333333333333333,
             "#9c179e"
            ],
            [
             0.4444444444444444,
             "#bd3786"
            ],
            [
             0.5555555555555556,
             "#d8576b"
            ],
            [
             0.6666666666666666,
             "#ed7953"
            ],
            [
             0.7777777777777778,
             "#fb9f3a"
            ],
            [
             0.8888888888888888,
             "#fdca26"
            ],
            [
             1,
             "#f0f921"
            ]
           ],
           "sequentialminus": [
            [
             0,
             "#0d0887"
            ],
            [
             0.1111111111111111,
             "#46039f"
            ],
            [
             0.2222222222222222,
             "#7201a8"
            ],
            [
             0.3333333333333333,
             "#9c179e"
            ],
            [
             0.4444444444444444,
             "#bd3786"
            ],
            [
             0.5555555555555556,
             "#d8576b"
            ],
            [
             0.6666666666666666,
             "#ed7953"
            ],
            [
             0.7777777777777778,
             "#fb9f3a"
            ],
            [
             0.8888888888888888,
             "#fdca26"
            ],
            [
             1,
             "#f0f921"
            ]
           ]
          },
          "colorway": [
           "#636efa",
           "#EF553B",
           "#00cc96",
           "#ab63fa",
           "#FFA15A",
           "#19d3f3",
           "#FF6692",
           "#B6E880",
           "#FF97FF",
           "#FECB52"
          ],
          "font": {
           "color": "#2a3f5f"
          },
          "geo": {
           "bgcolor": "white",
           "lakecolor": "white",
           "landcolor": "white",
           "showlakes": true,
           "showland": true,
           "subunitcolor": "#C8D4E3"
          },
          "hoverlabel": {
           "align": "left"
          },
          "hovermode": "closest",
          "mapbox": {
           "style": "light"
          },
          "paper_bgcolor": "white",
          "plot_bgcolor": "white",
          "polar": {
           "angularaxis": {
            "gridcolor": "#EBF0F8",
            "linecolor": "#EBF0F8",
            "ticks": ""
           },
           "bgcolor": "white",
           "radialaxis": {
            "gridcolor": "#EBF0F8",
            "linecolor": "#EBF0F8",
            "ticks": ""
           }
          },
          "scene": {
           "xaxis": {
            "backgroundcolor": "white",
            "gridcolor": "#DFE8F3",
            "gridwidth": 2,
            "linecolor": "#EBF0F8",
            "showbackground": true,
            "ticks": "",
            "zerolinecolor": "#EBF0F8"
           },
           "yaxis": {
            "backgroundcolor": "white",
            "gridcolor": "#DFE8F3",
            "gridwidth": 2,
            "linecolor": "#EBF0F8",
            "showbackground": true,
            "ticks": "",
            "zerolinecolor": "#EBF0F8"
           },
           "zaxis": {
            "backgroundcolor": "white",
            "gridcolor": "#DFE8F3",
            "gridwidth": 2,
            "linecolor": "#EBF0F8",
            "showbackground": true,
            "ticks": "",
            "zerolinecolor": "#EBF0F8"
           }
          },
          "shapedefaults": {
           "line": {
            "color": "#2a3f5f"
           }
          },
          "ternary": {
           "aaxis": {
            "gridcolor": "#DFE8F3",
            "linecolor": "#A2B1C6",
            "ticks": ""
           },
           "baxis": {
            "gridcolor": "#DFE8F3",
            "linecolor": "#A2B1C6",
            "ticks": ""
           },
           "bgcolor": "white",
           "caxis": {
            "gridcolor": "#DFE8F3",
            "linecolor": "#A2B1C6",
            "ticks": ""
           }
          },
          "title": {
           "x": 0.05
          },
          "xaxis": {
           "automargin": true,
           "gridcolor": "#EBF0F8",
           "linecolor": "#EBF0F8",
           "ticks": "",
           "title": {
            "standoff": 15
           },
           "zerolinecolor": "#EBF0F8",
           "zerolinewidth": 2
          },
          "yaxis": {
           "automargin": true,
           "gridcolor": "#EBF0F8",
           "linecolor": "#EBF0F8",
           "ticks": "",
           "title": {
            "standoff": 15
           },
           "zerolinecolor": "#EBF0F8",
           "zerolinewidth": 2
          }
         }
        },
        "title": {
         "text": "Churn Distribution by MonthlyCharges"
        },
        "xaxis": {
         "anchor": "y",
         "domain": [
          0,
          1
         ],
         "showgrid": false,
         "title": {
          "text": ""
         }
        },
        "yaxis": {
         "anchor": "x",
         "domain": [
          0,
          1
         ],
         "showgrid": false,
         "title": {
          "text": "Count"
         }
        }
       }
      }
     },
     "metadata": {},
     "output_type": "display_data"
    },
    {
     "data": {
      "application/vnd.plotly.v1+json": {
       "config": {
        "plotlyServerURL": "https://plot.ly"
       },
       "data": [
        {
         "bingroup": "x",
         "hovertemplate": "Churn=No<br>TotalCharges=%{x}<br>count=%{y}<extra></extra>",
         "legendgroup": "No",
         "marker": {
          "color": "#636efa",
          "opacity": 0.8,
          "pattern": {
           "shape": ""
          }
         },
         "name": "No",
         "orientation": "v",
         "showlegend": true,
         "type": "histogram",
         "x": {
          "bdata": "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",
          "dtype": "f8"
         },
         "xaxis": "x",
         "yaxis": "y"
        },
        {
         "bingroup": "x",
         "hovertemplate": "Churn=Yes<br>TotalCharges=%{x}<br>count=%{y}<extra></extra>",
         "legendgroup": "Yes",
         "marker": {
          "color": "#EF553B",
          "opacity": 0.8,
          "pattern": {
           "shape": ""
          }
         },
         "name": "Yes",
         "orientation": "v",
         "showlegend": true,
         "type": "histogram",
         "x": {
          "bdata": "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",
          "dtype": "f8"
         },
         "xaxis": "x",
         "yaxis": "y"
        }
       ],
       "layout": {
        "bargap": 0.1,
        "barmode": "relative",
        "legend": {
         "title": {
          "text": "Churn"
         },
         "tracegroupgap": 0
        },
        "margin": {
         "t": 60
        },
        "template": {
         "data": {
          "bar": [
           {
            "error_x": {
             "color": "#2a3f5f"
            },
            "error_y": {
             "color": "#2a3f5f"
            },
            "marker": {
             "line": {
              "color": "white",
              "width": 0.5
             },
             "pattern": {
              "fillmode": "overlay",
              "size": 10,
              "solidity": 0.2
             }
            },
            "type": "bar"
           }
          ],
          "barpolar": [
           {
            "marker": {
             "line": {
              "color": "white",
              "width": 0.5
             },
             "pattern": {
              "fillmode": "overlay",
              "size": 10,
              "solidity": 0.2
             }
            },
            "type": "barpolar"
           }
          ],
          "carpet": [
           {
            "aaxis": {
             "endlinecolor": "#2a3f5f",
             "gridcolor": "#C8D4E3",
             "linecolor": "#C8D4E3",
             "minorgridcolor": "#C8D4E3",
             "startlinecolor": "#2a3f5f"
            },
            "baxis": {
             "endlinecolor": "#2a3f5f",
             "gridcolor": "#C8D4E3",
             "linecolor": "#C8D4E3",
             "minorgridcolor": "#C8D4E3",
             "startlinecolor": "#2a3f5f"
            },
            "type": "carpet"
           }
          ],
          "choropleth": [
           {
            "colorbar": {
             "outlinewidth": 0,
             "ticks": ""
            },
            "type": "choropleth"
           }
          ],
          "contour": [
           {
            "colorbar": {
             "outlinewidth": 0,
             "ticks": ""
            },
            "colorscale": [
             [
              0,
              "#0d0887"
             ],
             [
              0.1111111111111111,
              "#46039f"
             ],
             [
              0.2222222222222222,
              "#7201a8"
             ],
             [
              0.3333333333333333,
              "#9c179e"
             ],
             [
              0.4444444444444444,
              "#bd3786"
             ],
             [
              0.5555555555555556,
              "#d8576b"
             ],
             [
              0.6666666666666666,
              "#ed7953"
             ],
             [
              0.7777777777777778,
              "#fb9f3a"
             ],
             [
              0.8888888888888888,
              "#fdca26"
             ],
             [
              1,
              "#f0f921"
             ]
            ],
            "type": "contour"
           }
          ],
          "contourcarpet": [
           {
            "colorbar": {
             "outlinewidth": 0,
             "ticks": ""
            },
            "type": "contourcarpet"
           }
          ],
          "heatmap": [
           {
            "colorbar": {
             "outlinewidth": 0,
             "ticks": ""
            },
            "colorscale": [
             [
              0,
              "#0d0887"
             ],
             [
              0.1111111111111111,
              "#46039f"
             ],
             [
              0.2222222222222222,
              "#7201a8"
             ],
             [
              0.3333333333333333,
              "#9c179e"
             ],
             [
              0.4444444444444444,
              "#bd3786"
             ],
             [
              0.5555555555555556,
              "#d8576b"
             ],
             [
              0.6666666666666666,
              "#ed7953"
             ],
             [
              0.7777777777777778,
              "#fb9f3a"
             ],
             [
              0.8888888888888888,
              "#fdca26"
             ],
             [
              1,
              "#f0f921"
             ]
            ],
            "type": "heatmap"
           }
          ],
          "histogram": [
           {
            "marker": {
             "pattern": {
              "fillmode": "overlay",
              "size": 10,
              "solidity": 0.2
             }
            },
            "type": "histogram"
           }
          ],
          "histogram2d": [
           {
            "colorbar": {
             "outlinewidth": 0,
             "ticks": ""
            },
            "colorscale": [
             [
              0,
              "#0d0887"
             ],
             [
              0.1111111111111111,
              "#46039f"
             ],
             [
              0.2222222222222222,
              "#7201a8"
             ],
             [
              0.3333333333333333,
              "#9c179e"
             ],
             [
              0.4444444444444444,
              "#bd3786"
             ],
             [
              0.5555555555555556,
              "#d8576b"
             ],
             [
              0.6666666666666666,
              "#ed7953"
             ],
             [
              0.7777777777777778,
              "#fb9f3a"
             ],
             [
              0.8888888888888888,
              "#fdca26"
             ],
             [
              1,
              "#f0f921"
             ]
            ],
            "type": "histogram2d"
           }
          ],
          "histogram2dcontour": [
           {
            "colorbar": {
             "outlinewidth": 0,
             "ticks": ""
            },
            "colorscale": [
             [
              0,
              "#0d0887"
             ],
             [
              0.1111111111111111,
              "#46039f"
             ],
             [
              0.2222222222222222,
              "#7201a8"
             ],
             [
              0.3333333333333333,
              "#9c179e"
             ],
             [
              0.4444444444444444,
              "#bd3786"
             ],
             [
              0.5555555555555556,
              "#d8576b"
             ],
             [
              0.6666666666666666,
              "#ed7953"
             ],
             [
              0.7777777777777778,
              "#fb9f3a"
             ],
             [
              0.8888888888888888,
              "#fdca26"
             ],
             [
              1,
              "#f0f921"
             ]
            ],
            "type": "histogram2dcontour"
           }
          ],
          "mesh3d": [
           {
            "colorbar": {
             "outlinewidth": 0,
             "ticks": ""
            },
            "type": "mesh3d"
           }
          ],
          "parcoords": [
           {
            "line": {
             "colorbar": {
              "outlinewidth": 0,
              "ticks": ""
             }
            },
            "type": "parcoords"
           }
          ],
          "pie": [
           {
            "automargin": true,
            "type": "pie"
           }
          ],
          "scatter": [
           {
            "fillpattern": {
             "fillmode": "overlay",
             "size": 10,
             "solidity": 0.2
            },
            "type": "scatter"
           }
          ],
          "scatter3d": [
           {
            "line": {
             "colorbar": {
              "outlinewidth": 0,
              "ticks": ""
             }
            },
            "marker": {
             "colorbar": {
              "outlinewidth": 0,
              "ticks": ""
             }
            },
            "type": "scatter3d"
           }
          ],
          "scattercarpet": [
           {
            "marker": {
             "colorbar": {
              "outlinewidth": 0,
              "ticks": ""
             }
            },
            "type": "scattercarpet"
           }
          ],
          "scattergeo": [
           {
            "marker": {
             "colorbar": {
              "outlinewidth": 0,
              "ticks": ""
             }
            },
            "type": "scattergeo"
           }
          ],
          "scattergl": [
           {
            "marker": {
             "colorbar": {
              "outlinewidth": 0,
              "ticks": ""
             }
            },
            "type": "scattergl"
           }
          ],
          "scattermap": [
           {
            "marker": {
             "colorbar": {
              "outlinewidth": 0,
              "ticks": ""
             }
            },
            "type": "scattermap"
           }
          ],
          "scattermapbox": [
           {
            "marker": {
             "colorbar": {
              "outlinewidth": 0,
              "ticks": ""
             }
            },
            "type": "scattermapbox"
           }
          ],
          "scatterpolar": [
           {
            "marker": {
             "colorbar": {
              "outlinewidth": 0,
              "ticks": ""
             }
            },
            "type": "scatterpolar"
           }
          ],
          "scatterpolargl": [
           {
            "marker": {
             "colorbar": {
              "outlinewidth": 0,
              "ticks": ""
             }
            },
            "type": "scatterpolargl"
           }
          ],
          "scatterternary": [
           {
            "marker": {
             "colorbar": {
              "outlinewidth": 0,
              "ticks": ""
             }
            },
            "type": "scatterternary"
           }
          ],
          "surface": [
           {
            "colorbar": {
             "outlinewidth": 0,
             "ticks": ""
            },
            "colorscale": [
             [
              0,
              "#0d0887"
             ],
             [
              0.1111111111111111,
              "#46039f"
             ],
             [
              0.2222222222222222,
              "#7201a8"
             ],
             [
              0.3333333333333333,
              "#9c179e"
             ],
             [
              0.4444444444444444,
              "#bd3786"
             ],
             [
              0.5555555555555556,
              "#d8576b"
             ],
             [
              0.6666666666666666,
              "#ed7953"
             ],
             [
              0.7777777777777778,
              "#fb9f3a"
             ],
             [
              0.8888888888888888,
              "#fdca26"
             ],
             [
              1,
              "#f0f921"
             ]
            ],
            "type": "surface"
           }
          ],
          "table": [
           {
            "cells": {
             "fill": {
              "color": "#EBF0F8"
             },
             "line": {
              "color": "white"
             }
            },
            "header": {
             "fill": {
              "color": "#C8D4E3"
             },
             "line": {
              "color": "white"
             }
            },
            "type": "table"
           }
          ]
         },
         "layout": {
          "annotationdefaults": {
           "arrowcolor": "#2a3f5f",
           "arrowhead": 0,
           "arrowwidth": 1
          },
          "autotypenumbers": "strict",
          "coloraxis": {
           "colorbar": {
            "outlinewidth": 0,
            "ticks": ""
           }
          },
          "colorscale": {
           "diverging": [
            [
             0,
             "#8e0152"
            ],
            [
             0.1,
             "#c51b7d"
            ],
            [
             0.2,
             "#de77ae"
            ],
            [
             0.3,
             "#f1b6da"
            ],
            [
             0.4,
             "#fde0ef"
            ],
            [
             0.5,
             "#f7f7f7"
            ],
            [
             0.6,
             "#e6f5d0"
            ],
            [
             0.7,
             "#b8e186"
            ],
            [
             0.8,
             "#7fbc41"
            ],
            [
             0.9,
             "#4d9221"
            ],
            [
             1,
             "#276419"
            ]
           ],
           "sequential": [
            [
             0,
             "#0d0887"
            ],
            [
             0.1111111111111111,
             "#46039f"
            ],
            [
             0.2222222222222222,
             "#7201a8"
            ],
            [
             0.3333333333333333,
             "#9c179e"
            ],
            [
             0.4444444444444444,
             "#bd3786"
            ],
            [
             0.5555555555555556,
             "#d8576b"
            ],
            [
             0.6666666666666666,
             "#ed7953"
            ],
            [
             0.7777777777777778,
             "#fb9f3a"
            ],
            [
             0.8888888888888888,
             "#fdca26"
            ],
            [
             1,
             "#f0f921"
            ]
           ],
           "sequentialminus": [
            [
             0,
             "#0d0887"
            ],
            [
             0.1111111111111111,
             "#46039f"
            ],
            [
             0.2222222222222222,
             "#7201a8"
            ],
            [
             0.3333333333333333,
             "#9c179e"
            ],
            [
             0.4444444444444444,
             "#bd3786"
            ],
            [
             0.5555555555555556,
             "#d8576b"
            ],
            [
             0.6666666666666666,
             "#ed7953"
            ],
            [
             0.7777777777777778,
             "#fb9f3a"
            ],
            [
             0.8888888888888888,
             "#fdca26"
            ],
            [
             1,
             "#f0f921"
            ]
           ]
          },
          "colorway": [
           "#636efa",
           "#EF553B",
           "#00cc96",
           "#ab63fa",
           "#FFA15A",
           "#19d3f3",
           "#FF6692",
           "#B6E880",
           "#FF97FF",
           "#FECB52"
          ],
          "font": {
           "color": "#2a3f5f"
          },
          "geo": {
           "bgcolor": "white",
           "lakecolor": "white",
           "landcolor": "white",
           "showlakes": true,
           "showland": true,
           "subunitcolor": "#C8D4E3"
          },
          "hoverlabel": {
           "align": "left"
          },
          "hovermode": "closest",
          "mapbox": {
           "style": "light"
          },
          "paper_bgcolor": "white",
          "plot_bgcolor": "white",
          "polar": {
           "angularaxis": {
            "gridcolor": "#EBF0F8",
            "linecolor": "#EBF0F8",
            "ticks": ""
           },
           "bgcolor": "white",
           "radialaxis": {
            "gridcolor": "#EBF0F8",
            "linecolor": "#EBF0F8",
            "ticks": ""
           }
          },
          "scene": {
           "xaxis": {
            "backgroundcolor": "white",
            "gridcolor": "#DFE8F3",
            "gridwidth": 2,
            "linecolor": "#EBF0F8",
            "showbackground": true,
            "ticks": "",
            "zerolinecolor": "#EBF0F8"
           },
           "yaxis": {
            "backgroundcolor": "white",
            "gridcolor": "#DFE8F3",
            "gridwidth": 2,
            "linecolor": "#EBF0F8",
            "showbackground": true,
            "ticks": "",
            "zerolinecolor": "#EBF0F8"
           },
           "zaxis": {
            "backgroundcolor": "white",
            "gridcolor": "#DFE8F3",
            "gridwidth": 2,
            "linecolor": "#EBF0F8",
            "showbackground": true,
            "ticks": "",
            "zerolinecolor": "#EBF0F8"
           }
          },
          "shapedefaults": {
           "line": {
            "color": "#2a3f5f"
           }
          },
          "ternary": {
           "aaxis": {
            "gridcolor": "#DFE8F3",
            "linecolor": "#A2B1C6",
            "ticks": ""
           },
           "baxis": {
            "gridcolor": "#DFE8F3",
            "linecolor": "#A2B1C6",
            "ticks": ""
           },
           "bgcolor": "white",
           "caxis": {
            "gridcolor": "#DFE8F3",
            "linecolor": "#A2B1C6",
            "ticks": ""
           }
          },
          "title": {
           "x": 0.05
          },
          "xaxis": {
           "automargin": true,
           "gridcolor": "#EBF0F8",
           "linecolor": "#EBF0F8",
           "ticks": "",
           "title": {
            "standoff": 15
           },
           "zerolinecolor": "#EBF0F8",
           "zerolinewidth": 2
          },
          "yaxis": {
           "automargin": true,
           "gridcolor": "#EBF0F8",
           "linecolor": "#EBF0F8",
           "ticks": "",
           "title": {
            "standoff": 15
           },
           "zerolinecolor": "#EBF0F8",
           "zerolinewidth": 2
          }
         }
        },
        "title": {
         "text": "Churn Distribution by TotalCharges"
        },
        "xaxis": {
         "anchor": "y",
         "domain": [
          0,
          1
         ],
         "showgrid": false,
         "title": {
          "text": ""
         }
        },
        "yaxis": {
         "anchor": "x",
         "domain": [
          0,
          1
         ],
         "showgrid": false,
         "title": {
          "text": "Count"
         }
        }
       }
      }
     },
     "metadata": {},
     "output_type": "display_data"
    }
   ],
   "source": [
    "numeric_cols = ['tenure', 'MonthlyCharges', 'TotalCharges']\n",
    "\n",
    "for col in numeric_cols:\n",
    "    \n",
    "    fig = px.histogram(\n",
    "        data_frame=train,\n",
    "        x=col,\n",
    "        color='Churn',\n",
    "        template='plotly_white',\n",
    "        opacity=0.8\n",
    "    )\n",
    "\n",
    "    fig.update_layout(\n",
    "        title=f\"Churn Distribution by {col}\",\n",
    "        xaxis_title=\"\",\n",
    "        yaxis_title=\"Count\",\n",
    "        bargap=0.1,\n",
    "        xaxis=dict(showgrid=False),\n",
    "        yaxis=dict(showgrid=False),\n",
    "        legend_title=\"Churn\"\n",
    "    )\n",
    "\n",
    "    fig.show()"
   ]
  }
 ],
 "metadata": {
  "kernelspec": {
   "display_name": "venv",
   "language": "python",
   "name": "python3"
  },
  "language_info": {
   "codemirror_mode": {
    "name": "ipython",
    "version": 3
   },
   "file_extension": ".py",
   "mimetype": "text/x-python",
   "name": "python",
   "nbconvert_exporter": "python",
   "pygments_lexer": "ipython3",
   "version": "3.10.12"
  }
 },
 "nbformat": 4,
 "nbformat_minor": 2
}
